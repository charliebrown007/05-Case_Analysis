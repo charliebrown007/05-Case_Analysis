{
 "cells": [
  {
   "cell_type": "markdown",
   "id": "17cc73ac",
   "metadata": {
    "toc": true
   },
   "source": [
    "<h1>Table of Contents<span class=\"tocSkip\"></span></h1>\n",
    "<div class=\"toc\"><ul class=\"toc-item\"><li><span><a href=\"#EDA-Large-videogame-companies\" data-toc-modified-id=\"EDA-Large-videogame-companies-1\">EDA Large videogame companies</a></span><ul class=\"toc-item\"><li><span><a href=\"#Etapa-1:-Formulación-del-problema-general\" data-toc-modified-id=\"Etapa-1:-Formulación-del-problema-general-1.1\"><font color=\"#006767\">Etapa 1: Formulación del problema general</font></a></span></li><li><span><a href=\"#Etapa-2:-Barrido-general-de-datos\" data-toc-modified-id=\"Etapa-2:-Barrido-general-de-datos-1.2\"><font color=\"#006767\">Etapa 2: Barrido general de datos</font></a></span></li><li><span><a href=\"#Etapa-3:-Reconocer-los-tipos-de-datos-disponibles-y-su-escala-de-medición\" data-toc-modified-id=\"Etapa-3:-Reconocer-los-tipos-de-datos-disponibles-y-su-escala-de-medición-1.3\"><font color=\"#006767\">Etapa 3: Reconocer los tipos de datos disponibles y su escala de medición</font></a></span></li><li><span><a href=\"#Etapa-4:-Data-Wrangling\" data-toc-modified-id=\"Etapa-4:-Data-Wrangling-1.4\"><font color=\"#006767\">Etapa 4: Data Wrangling</font></a></span></li><li><span><a href=\"#Etapa-5:-Selección-de-estadísticos-y-gráficos\" data-toc-modified-id=\"Etapa-5:-Selección-de-estadísticos-y-gráficos-1.5\"><font color=\"#006767\">Etapa 5: Selección de estadísticos y gráficos</font></a></span></li><li><span><a href=\"#Etapa-6:-Resumen-de-datos-por-agrupación\" data-toc-modified-id=\"Etapa-6:-Resumen-de-datos-por-agrupación-1.6\"><font color=\"#006767\">Etapa 6: Resumen de datos por agrupación</font></a></span></li></ul></li></ul></div>"
   ]
  },
  {
   "cell_type": "markdown",
   "id": "fabee292",
   "metadata": {},
   "source": [
    "## EDA Large videogame companies"
   ]
  },
  {
   "cell_type": "markdown",
   "id": "453b7f98",
   "metadata": {},
   "source": [
    "**Carga de librerías**"
   ]
  },
  {
   "cell_type": "code",
   "execution_count": 86,
   "id": "000a216d",
   "metadata": {},
   "outputs": [],
   "source": [
    "import pandas as pd\n",
    "import numpy as np\n",
    "import seaborn as sns"
   ]
  },
  {
   "cell_type": "markdown",
   "id": "9dd50244",
   "metadata": {},
   "source": [
    "**Otras consideraciones**"
   ]
  },
  {
   "cell_type": "code",
   "execution_count": 29,
   "id": "1d2a118f",
   "metadata": {},
   "outputs": [],
   "source": [
    "# Cambiar la notación científica por un formato nuemral con 2 decimales \n",
    "pd.options.display.float_format = '{:.2f}'.format\n",
    "# Restablecer los cambios\n",
    "#pd.reset_option('^display.', silent=True)"
   ]
  },
  {
   "cell_type": "markdown",
   "id": "c42c9511",
   "metadata": {},
   "source": [
    "**Importado de datos**"
   ]
  },
  {
   "cell_type": "code",
   "execution_count": 3,
   "id": "af03bd1f",
   "metadata": {},
   "outputs": [],
   "source": [
    "df = pd.read_csv('GamingCompanies-Main.csv', sep = \",\")"
   ]
  },
  {
   "cell_type": "markdown",
   "id": "8b86890d",
   "metadata": {},
   "source": [
    "### <font color=#006767>Etapa 1: Formulación del problema general"
   ]
  },
  {
   "cell_type": "markdown",
   "id": "106bd882",
   "metadata": {},
   "source": [
    "*Sintetizar la información disponible del dataset adoptando un enfoque descriptivo*"
   ]
  },
  {
   "cell_type": "markdown",
   "id": "c81caa10",
   "metadata": {},
   "source": [
    "### <font color=#006767>Etapa 2: Barrido general de datos"
   ]
  },
  {
   "cell_type": "code",
   "execution_count": 4,
   "id": "02462002",
   "metadata": {
    "scrolled": true
   },
   "outputs": [
    {
     "name": "stdout",
     "output_type": "stream",
     "text": [
      "<class 'pandas.core.frame.DataFrame'>\n",
      "RangeIndex: 79 entries, 0 to 78\n",
      "Data columns (total 8 columns):\n",
      " #   Column           Non-Null Count  Dtype  \n",
      "---  ------           --------------  -----  \n",
      " 0   Name             79 non-null     object \n",
      " 1   marketcap        79 non-null     float64\n",
      " 2   earnings         79 non-null     int64  \n",
      " 3   employeeCount    79 non-null     int64  \n",
      " 4   OperatingMargin  78 non-null     float64\n",
      " 5   PERatio          79 non-null     float64\n",
      " 6   Revenue          79 non-null     float64\n",
      " 7   country          79 non-null     object \n",
      "dtypes: float64(4), int64(2), object(2)\n",
      "memory usage: 5.1+ KB\n"
     ]
    }
   ],
   "source": [
    "df.info(verbose = True, show_counts = True)"
   ]
  },
  {
   "cell_type": "code",
   "execution_count": 5,
   "id": "c3e5cfe8",
   "metadata": {
    "scrolled": true
   },
   "outputs": [
    {
     "data": {
      "text/html": [
       "<div>\n",
       "<style scoped>\n",
       "    .dataframe tbody tr th:only-of-type {\n",
       "        vertical-align: middle;\n",
       "    }\n",
       "\n",
       "    .dataframe tbody tr th {\n",
       "        vertical-align: top;\n",
       "    }\n",
       "\n",
       "    .dataframe thead th {\n",
       "        text-align: right;\n",
       "    }\n",
       "</style>\n",
       "<table border=\"1\" class=\"dataframe\">\n",
       "  <thead>\n",
       "    <tr style=\"text-align: right;\">\n",
       "      <th></th>\n",
       "      <th>Name</th>\n",
       "      <th>marketcap</th>\n",
       "      <th>earnings</th>\n",
       "      <th>employeeCount</th>\n",
       "      <th>OperatingMargin</th>\n",
       "      <th>PERatio</th>\n",
       "      <th>Revenue</th>\n",
       "      <th>country</th>\n",
       "    </tr>\n",
       "  </thead>\n",
       "  <tbody>\n",
       "    <tr>\n",
       "      <th>0</th>\n",
       "      <td>11 bit studios</td>\n",
       "      <td>2.600171e+08</td>\n",
       "      <td>8147710</td>\n",
       "      <td>192</td>\n",
       "      <td>4583.070</td>\n",
       "      <td>40.8881</td>\n",
       "      <td>1.777785e+07</td>\n",
       "      <td>Poland</td>\n",
       "    </tr>\n",
       "    <tr>\n",
       "      <th>1</th>\n",
       "      <td>Activision Blizzard</td>\n",
       "      <td>5.835960e+10</td>\n",
       "      <td>2972000000</td>\n",
       "      <td>9500</td>\n",
       "      <td>3582.020</td>\n",
       "      <td>23.4717</td>\n",
       "      <td>8.297000e+09</td>\n",
       "      <td>United States</td>\n",
       "    </tr>\n",
       "    <tr>\n",
       "      <th>2</th>\n",
       "      <td>Appirits</td>\n",
       "      <td>3.008261e+07</td>\n",
       "      <td>1591300</td>\n",
       "      <td>411</td>\n",
       "      <td>372.253</td>\n",
       "      <td>31.0000</td>\n",
       "      <td>4.274776e+07</td>\n",
       "      <td>Japan</td>\n",
       "    </tr>\n",
       "    <tr>\n",
       "      <th>3</th>\n",
       "      <td>Aristocrat</td>\n",
       "      <td>1.551363e+10</td>\n",
       "      <td>778411000</td>\n",
       "      <td>7000</td>\n",
       "      <td>2266.820</td>\n",
       "      <td>14.2970</td>\n",
       "      <td>3.433941e+09</td>\n",
       "      <td>Australia</td>\n",
       "    </tr>\n",
       "    <tr>\n",
       "      <th>4</th>\n",
       "      <td>ATARI</td>\n",
       "      <td>4.923000e+07</td>\n",
       "      <td>-13476800</td>\n",
       "      <td>26</td>\n",
       "      <td>-6296.300</td>\n",
       "      <td>-3.0000</td>\n",
       "      <td>2.140430e+07</td>\n",
       "      <td>France</td>\n",
       "    </tr>\n",
       "  </tbody>\n",
       "</table>\n",
       "</div>"
      ],
      "text/plain": [
       "                  Name     marketcap    earnings  employeeCount  \\\n",
       "0       11 bit studios  2.600171e+08     8147710            192   \n",
       "1  Activision Blizzard  5.835960e+10  2972000000           9500   \n",
       "2             Appirits  3.008261e+07     1591300            411   \n",
       "3           Aristocrat  1.551363e+10   778411000           7000   \n",
       "4                ATARI  4.923000e+07   -13476800             26   \n",
       "\n",
       "   OperatingMargin  PERatio       Revenue        country  \n",
       "0         4583.070  40.8881  1.777785e+07         Poland  \n",
       "1         3582.020  23.4717  8.297000e+09  United States  \n",
       "2          372.253  31.0000  4.274776e+07          Japan  \n",
       "3         2266.820  14.2970  3.433941e+09      Australia  \n",
       "4        -6296.300  -3.0000  2.140430e+07         France  "
      ]
     },
     "execution_count": 5,
     "metadata": {},
     "output_type": "execute_result"
    }
   ],
   "source": [
    "df.head()"
   ]
  },
  {
   "cell_type": "markdown",
   "id": "cbeb28bf",
   "metadata": {},
   "source": [
    "**1.** Existen valores vacíos.\n",
    "\n",
    "**2.** Se puede ajustar el tipo de variable según los valores de las columnas.\n",
    "\n",
    "**3.** El dataset usa el cero (0) como un dato faltante, por lo que es psoible transofrmarlo en NaN para no corrompoer los cálculos estadísticos."
   ]
  },
  {
   "cell_type": "markdown",
   "id": "f3d2cf07",
   "metadata": {},
   "source": [
    "### <font color=#006767>Etapa 3: Reconocer los tipos de datos disponibles y su escala de medición"
   ]
  },
  {
   "cell_type": "markdown",
   "id": "4d239dd7",
   "metadata": {},
   "source": [
    "Las variables marketcap y Revenue deben ser de tipo entero"
   ]
  },
  {
   "cell_type": "code",
   "execution_count": 6,
   "id": "cf5110a4",
   "metadata": {},
   "outputs": [
    {
     "data": {
      "text/plain": [
       "Name                object\n",
       "marketcap          float64\n",
       "earnings             int64\n",
       "employeeCount        int64\n",
       "OperatingMargin    float64\n",
       "PERatio            float64\n",
       "Revenue            float64\n",
       "country             object\n",
       "dtype: object"
      ]
     },
     "execution_count": 6,
     "metadata": {},
     "output_type": "execute_result"
    }
   ],
   "source": [
    "df.dtypes"
   ]
  },
  {
   "cell_type": "markdown",
   "id": "ec5c159e",
   "metadata": {},
   "source": [
    "### <font color=#006767>Etapa 4: Data Wrangling"
   ]
  },
  {
   "cell_type": "code",
   "execution_count": 7,
   "id": "62051371",
   "metadata": {
    "scrolled": true
   },
   "outputs": [
    {
     "name": "stdout",
     "output_type": "stream",
     "text": [
      "<class 'pandas.core.frame.DataFrame'>\n",
      "RangeIndex: 79 entries, 0 to 78\n",
      "Data columns (total 8 columns):\n",
      " #   Column           Non-Null Count  Dtype  \n",
      "---  ------           --------------  -----  \n",
      " 0   Name             79 non-null     object \n",
      " 1   employeeCount    62 non-null     Int64  \n",
      " 2   OperatingMargin  74 non-null     Float64\n",
      " 3   PERatio          74 non-null     Float64\n",
      " 4   country          79 non-null     object \n",
      " 5   Marketcap [M]    79 non-null     Float64\n",
      " 6   Earnings [M]     74 non-null     Float64\n",
      " 7   Revenue [M]      74 non-null     Float64\n",
      "dtypes: Float64(5), Int64(1), object(2)\n",
      "memory usage: 5.5+ KB\n"
     ]
    }
   ],
   "source": [
    "df1 = df.copy()\n",
    "\n",
    "# Las grades cifras de las columnas 'marketcap', 'earnings' y 'revenue' serán\n",
    "# reducidas mediante la división entre múltipplos de 10.\n",
    "df1['Marketcap [M]'] = df1['marketcap'] / (10**6)\n",
    "df1['Earnings [M]'] = df1['earnings'] / (10**6)\n",
    "df1['Revenue [M]'] = df1['Revenue'] / (10**6)\n",
    "df1 = df1.drop(['marketcap','earnings','Revenue'], axis = 1)\n",
    "\n",
    "# Reemplazo de 0 por NaN\n",
    "df1 = df1.replace(0,pd.NA)\n",
    "\n",
    "# Cambio del tipo de variable\n",
    "df1 = df1.astype({'employeeCount': 'Int64',\n",
    "                  'OperatingMargin': 'Float64',\n",
    "                  'PERatio': 'Float64',\n",
    "                  'Marketcap [M]': 'Float64',\n",
    "                  'Earnings [M]': 'Float64',\n",
    "                  'Revenue [M]': 'Float64'})\n",
    "\n",
    "df1.info()"
   ]
  },
  {
   "cell_type": "code",
   "execution_count": 8,
   "id": "4525cd8d",
   "metadata": {},
   "outputs": [
    {
     "data": {
      "text/html": [
       "<div>\n",
       "<style scoped>\n",
       "    .dataframe tbody tr th:only-of-type {\n",
       "        vertical-align: middle;\n",
       "    }\n",
       "\n",
       "    .dataframe tbody tr th {\n",
       "        vertical-align: top;\n",
       "    }\n",
       "\n",
       "    .dataframe thead th {\n",
       "        text-align: right;\n",
       "    }\n",
       "</style>\n",
       "<table border=\"1\" class=\"dataframe\">\n",
       "  <thead>\n",
       "    <tr style=\"text-align: right;\">\n",
       "      <th></th>\n",
       "      <th>Name</th>\n",
       "      <th>employeeCount</th>\n",
       "      <th>OperatingMargin</th>\n",
       "      <th>PERatio</th>\n",
       "      <th>country</th>\n",
       "      <th>Marketcap [M]</th>\n",
       "      <th>Earnings [M]</th>\n",
       "      <th>Revenue [M]</th>\n",
       "    </tr>\n",
       "  </thead>\n",
       "  <tbody>\n",
       "    <tr>\n",
       "      <th>12</th>\n",
       "      <td>Com2uS</td>\n",
       "      <td>&lt;NA&gt;</td>\n",
       "      <td>&lt;NA&gt;</td>\n",
       "      <td>&lt;NA&gt;</td>\n",
       "      <td>South Korea</td>\n",
       "      <td>774.362851</td>\n",
       "      <td>&lt;NA&gt;</td>\n",
       "      <td>&lt;NA&gt;</td>\n",
       "    </tr>\n",
       "    <tr>\n",
       "      <th>43</th>\n",
       "      <td>Neowiz Games</td>\n",
       "      <td>&lt;NA&gt;</td>\n",
       "      <td>&lt;NA&gt;</td>\n",
       "      <td>&lt;NA&gt;</td>\n",
       "      <td>South Korea</td>\n",
       "      <td>413.029801</td>\n",
       "      <td>&lt;NA&gt;</td>\n",
       "      <td>&lt;NA&gt;</td>\n",
       "    </tr>\n",
       "    <tr>\n",
       "      <th>50</th>\n",
       "      <td>Pearl Abyss</td>\n",
       "      <td>&lt;NA&gt;</td>\n",
       "      <td>&lt;NA&gt;</td>\n",
       "      <td>&lt;NA&gt;</td>\n",
       "      <td>South Korea</td>\n",
       "      <td>567.673846</td>\n",
       "      <td>&lt;NA&gt;</td>\n",
       "      <td>&lt;NA&gt;</td>\n",
       "    </tr>\n",
       "    <tr>\n",
       "      <th>76</th>\n",
       "      <td>Webzen</td>\n",
       "      <td>&lt;NA&gt;</td>\n",
       "      <td>&lt;NA&gt;</td>\n",
       "      <td>&lt;NA&gt;</td>\n",
       "      <td>South Korea</td>\n",
       "      <td>500.747702</td>\n",
       "      <td>&lt;NA&gt;</td>\n",
       "      <td>&lt;NA&gt;</td>\n",
       "    </tr>\n",
       "    <tr>\n",
       "      <th>77</th>\n",
       "      <td>Wemade</td>\n",
       "      <td>&lt;NA&gt;</td>\n",
       "      <td>&lt;NA&gt;</td>\n",
       "      <td>&lt;NA&gt;</td>\n",
       "      <td>South Korea</td>\n",
       "      <td>868.679469</td>\n",
       "      <td>&lt;NA&gt;</td>\n",
       "      <td>&lt;NA&gt;</td>\n",
       "    </tr>\n",
       "  </tbody>\n",
       "</table>\n",
       "</div>"
      ],
      "text/plain": [
       "            Name  employeeCount  OperatingMargin  PERatio      country  \\\n",
       "12        Com2uS           <NA>             <NA>     <NA>  South Korea   \n",
       "43  Neowiz Games           <NA>             <NA>     <NA>  South Korea   \n",
       "50   Pearl Abyss           <NA>             <NA>     <NA>  South Korea   \n",
       "76        Webzen           <NA>             <NA>     <NA>  South Korea   \n",
       "77        Wemade           <NA>             <NA>     <NA>  South Korea   \n",
       "\n",
       "    Marketcap [M]  Earnings [M]  Revenue [M]  \n",
       "12     774.362851          <NA>         <NA>  \n",
       "43     413.029801          <NA>         <NA>  \n",
       "50     567.673846          <NA>         <NA>  \n",
       "76     500.747702          <NA>         <NA>  \n",
       "77     868.679469          <NA>         <NA>  "
      ]
     },
     "execution_count": 8,
     "metadata": {},
     "output_type": "execute_result"
    }
   ],
   "source": [
    "df1[df1['OperatingMargin'].isna()]"
   ]
  },
  {
   "cell_type": "code",
   "execution_count": 9,
   "id": "21e09886",
   "metadata": {},
   "outputs": [],
   "source": [
    "# Verificación\n",
    "#count = (df1 == 0).sum()\n",
    "#count\n",
    "\n",
    "#df1.isna().sum()\n",
    "\n",
    "#df1.isnull().sum()\n",
    "#df1[df1.OperatingMargin.isnull()]\n",
    "\n",
    "\n",
    "#df1.head()"
   ]
  },
  {
   "cell_type": "markdown",
   "id": "f8bab578",
   "metadata": {},
   "source": [
    "### <font color=#006767>Etapa 5: Selección de estadísticos y gráficos"
   ]
  },
  {
   "cell_type": "code",
   "execution_count": 10,
   "id": "a7321b2d",
   "metadata": {},
   "outputs": [
    {
     "name": "stdout",
     "output_type": "stream",
     "text": [
      "10170.725806451614\n",
      "29814.81936844102\n"
     ]
    }
   ],
   "source": [
    "print(df1['employeeCount'].mean())\n",
    "print(df1['employeeCount'].std())"
   ]
  },
  {
   "cell_type": "markdown",
   "id": "622ed9e0",
   "metadata": {},
   "source": [
    "El método describe excluye automáticamente los valores faltantes"
   ]
  },
  {
   "cell_type": "code",
   "execution_count": 11,
   "id": "679e10b5",
   "metadata": {},
   "outputs": [
    {
     "data": {
      "text/html": [
       "<div>\n",
       "<style scoped>\n",
       "    .dataframe tbody tr th:only-of-type {\n",
       "        vertical-align: middle;\n",
       "    }\n",
       "\n",
       "    .dataframe tbody tr th {\n",
       "        vertical-align: top;\n",
       "    }\n",
       "\n",
       "    .dataframe thead th {\n",
       "        text-align: right;\n",
       "    }\n",
       "</style>\n",
       "<table border=\"1\" class=\"dataframe\">\n",
       "  <thead>\n",
       "    <tr style=\"text-align: right;\">\n",
       "      <th></th>\n",
       "      <th>Name</th>\n",
       "      <th>country</th>\n",
       "    </tr>\n",
       "  </thead>\n",
       "  <tbody>\n",
       "    <tr>\n",
       "      <th>count</th>\n",
       "      <td>79</td>\n",
       "      <td>79</td>\n",
       "    </tr>\n",
       "    <tr>\n",
       "      <th>unique</th>\n",
       "      <td>79</td>\n",
       "      <td>18</td>\n",
       "    </tr>\n",
       "    <tr>\n",
       "      <th>top</th>\n",
       "      <td>11 bit studios</td>\n",
       "      <td>Japan</td>\n",
       "    </tr>\n",
       "    <tr>\n",
       "      <th>freq</th>\n",
       "      <td>1</td>\n",
       "      <td>24</td>\n",
       "    </tr>\n",
       "  </tbody>\n",
       "</table>\n",
       "</div>"
      ],
      "text/plain": [
       "                  Name country\n",
       "count               79      79\n",
       "unique              79      18\n",
       "top     11 bit studios   Japan\n",
       "freq                 1      24"
      ]
     },
     "execution_count": 11,
     "metadata": {},
     "output_type": "execute_result"
    }
   ],
   "source": [
    "df1.describe(include='object')"
   ]
  },
  {
   "cell_type": "code",
   "execution_count": 12,
   "id": "4f08b005",
   "metadata": {
    "scrolled": true
   },
   "outputs": [
    {
     "data": {
      "text/html": [
       "<div>\n",
       "<style scoped>\n",
       "    .dataframe tbody tr th:only-of-type {\n",
       "        vertical-align: middle;\n",
       "    }\n",
       "\n",
       "    .dataframe tbody tr th {\n",
       "        vertical-align: top;\n",
       "    }\n",
       "\n",
       "    .dataframe thead th {\n",
       "        text-align: right;\n",
       "    }\n",
       "</style>\n",
       "<table border=\"1\" class=\"dataframe\">\n",
       "  <thead>\n",
       "    <tr style=\"text-align: right;\">\n",
       "      <th></th>\n",
       "      <th>employeeCount</th>\n",
       "      <th>OperatingMargin</th>\n",
       "      <th>PERatio</th>\n",
       "      <th>Marketcap [M]</th>\n",
       "      <th>Earnings [M]</th>\n",
       "      <th>Revenue [M]</th>\n",
       "    </tr>\n",
       "  </thead>\n",
       "  <tbody>\n",
       "    <tr>\n",
       "      <th>count</th>\n",
       "      <td>62.000000</td>\n",
       "      <td>74.000000</td>\n",
       "      <td>74.000000</td>\n",
       "      <td>7.900000e+01</td>\n",
       "      <td>74.000000</td>\n",
       "      <td>74.000000</td>\n",
       "    </tr>\n",
       "    <tr>\n",
       "      <th>mean</th>\n",
       "      <td>10170.725806</td>\n",
       "      <td>-1441.566096</td>\n",
       "      <td>338.201060</td>\n",
       "      <td>3.645219e+04</td>\n",
       "      <td>2118.322146</td>\n",
       "      <td>6723.677747</td>\n",
       "    </tr>\n",
       "    <tr>\n",
       "      <th>std</th>\n",
       "      <td>29814.819368</td>\n",
       "      <td>18666.687786</td>\n",
       "      <td>1698.012263</td>\n",
       "      <td>2.114950e+05</td>\n",
       "      <td>10858.041528</td>\n",
       "      <td>26066.451541</td>\n",
       "    </tr>\n",
       "    <tr>\n",
       "      <th>min</th>\n",
       "      <td>26.000000</td>\n",
       "      <td>-153192.000000</td>\n",
       "      <td>-495.024000</td>\n",
       "      <td>8.222565e+00</td>\n",
       "      <td>-1576.240000</td>\n",
       "      <td>0.753678</td>\n",
       "    </tr>\n",
       "    <tr>\n",
       "      <th>25%</th>\n",
       "      <td>336.750000</td>\n",
       "      <td>347.170000</td>\n",
       "      <td>6.052735</td>\n",
       "      <td>3.350410e+02</td>\n",
       "      <td>2.241895</td>\n",
       "      <td>147.804626</td>\n",
       "    </tr>\n",
       "    <tr>\n",
       "      <th>50%</th>\n",
       "      <td>1392.000000</td>\n",
       "      <td>1578.110000</td>\n",
       "      <td>14.913150</td>\n",
       "      <td>1.056105e+03</td>\n",
       "      <td>47.266600</td>\n",
       "      <td>600.867093</td>\n",
       "    </tr>\n",
       "    <tr>\n",
       "      <th>75%</th>\n",
       "      <td>6554.250000</td>\n",
       "      <td>2598.562500</td>\n",
       "      <td>26.135325</td>\n",
       "      <td>6.084565e+03</td>\n",
       "      <td>469.936500</td>\n",
       "      <td>2361.810870</td>\n",
       "    </tr>\n",
       "    <tr>\n",
       "      <th>max</th>\n",
       "      <td>181000.000000</td>\n",
       "      <td>6696.980000</td>\n",
       "      <td>12392.800000</td>\n",
       "      <td>1.828550e+06</td>\n",
       "      <td>84754.000000</td>\n",
       "      <td>192557.000000</td>\n",
       "    </tr>\n",
       "  </tbody>\n",
       "</table>\n",
       "</div>"
      ],
      "text/plain": [
       "       employeeCount  OperatingMargin       PERatio  Marketcap [M]  \\\n",
       "count      62.000000        74.000000     74.000000   7.900000e+01   \n",
       "mean    10170.725806     -1441.566096    338.201060   3.645219e+04   \n",
       "std     29814.819368     18666.687786   1698.012263   2.114950e+05   \n",
       "min        26.000000   -153192.000000   -495.024000   8.222565e+00   \n",
       "25%       336.750000       347.170000      6.052735   3.350410e+02   \n",
       "50%      1392.000000      1578.110000     14.913150   1.056105e+03   \n",
       "75%      6554.250000      2598.562500     26.135325   6.084565e+03   \n",
       "max    181000.000000      6696.980000  12392.800000   1.828550e+06   \n",
       "\n",
       "       Earnings [M]    Revenue [M]  \n",
       "count     74.000000      74.000000  \n",
       "mean    2118.322146    6723.677747  \n",
       "std    10858.041528   26066.451541  \n",
       "min    -1576.240000       0.753678  \n",
       "25%        2.241895     147.804626  \n",
       "50%       47.266600     600.867093  \n",
       "75%      469.936500    2361.810870  \n",
       "max    84754.000000  192557.000000  "
      ]
     },
     "execution_count": 12,
     "metadata": {},
     "output_type": "execute_result"
    }
   ],
   "source": [
    "df1.describe()"
   ]
  },
  {
   "cell_type": "markdown",
   "id": "8937bc85",
   "metadata": {},
   "source": [
    "**Hallazgos parciales**\n",
    "1. Existen valores faltantes en la mayoría de las variables de estudio.\n",
    "2. Las desviaciones estándar son mayores que la media y los valores máximos están muy alejados del percentil 75. Esto puede indicar que la mediana es una mejor medida de tendencia central y que existen valores atíícos (outliers).\n",
    "3. Los datos de la columna 'Name' no son criterios de agrupamiento ya que solo funcionan como identificador."
   ]
  },
  {
   "cell_type": "code",
   "execution_count": 13,
   "id": "d77186e7",
   "metadata": {},
   "outputs": [],
   "source": [
    "# Tabla de frecuencias e histogramas"
   ]
  },
  {
   "cell_type": "markdown",
   "id": "4c31dad8",
   "metadata": {},
   "source": [
    "**Hallazgos parciales**"
   ]
  },
  {
   "cell_type": "code",
   "execution_count": null,
   "id": "5e489028",
   "metadata": {},
   "outputs": [],
   "source": [
    "# Estudios por país\n",
    "#pd.pivot_table(data = df1, index = ['country'], values = ['Name'],aggfunc = [len])\n",
    "pd.DataFrame(df1['country'].value_counts()).reset_index()"
   ]
  },
  {
   "cell_type": "markdown",
   "id": "4e82adca",
   "metadata": {},
   "source": [
    "### <font color=#006767>Etapa 6: Resumen de datos por agrupación"
   ]
  },
  {
   "cell_type": "code",
   "execution_count": 16,
   "id": "ac8879bb",
   "metadata": {},
   "outputs": [
    {
     "data": {
      "text/html": [
       "<div>\n",
       "<style scoped>\n",
       "    .dataframe tbody tr th:only-of-type {\n",
       "        vertical-align: middle;\n",
       "    }\n",
       "\n",
       "    .dataframe tbody tr th {\n",
       "        vertical-align: top;\n",
       "    }\n",
       "\n",
       "    .dataframe thead th {\n",
       "        text-align: right;\n",
       "    }\n",
       "</style>\n",
       "<table border=\"1\" class=\"dataframe\">\n",
       "  <thead>\n",
       "    <tr style=\"text-align: right;\">\n",
       "      <th></th>\n",
       "      <th>Name</th>\n",
       "      <th>employeeCount</th>\n",
       "      <th>OperatingMargin</th>\n",
       "      <th>PERatio</th>\n",
       "      <th>country</th>\n",
       "      <th>Marketcap [M]</th>\n",
       "      <th>Earnings [M]</th>\n",
       "      <th>Revenue [M]</th>\n",
       "    </tr>\n",
       "  </thead>\n",
       "  <tbody>\n",
       "    <tr>\n",
       "      <th>0</th>\n",
       "      <td>11 bit studios</td>\n",
       "      <td>192</td>\n",
       "      <td>4583.07</td>\n",
       "      <td>40.8881</td>\n",
       "      <td>Poland</td>\n",
       "      <td>260.017093</td>\n",
       "      <td>8.14771</td>\n",
       "      <td>17.777847</td>\n",
       "    </tr>\n",
       "    <tr>\n",
       "      <th>1</th>\n",
       "      <td>Activision Blizzard</td>\n",
       "      <td>9500</td>\n",
       "      <td>3582.02</td>\n",
       "      <td>23.4717</td>\n",
       "      <td>United States</td>\n",
       "      <td>58359.599104</td>\n",
       "      <td>2972.0</td>\n",
       "      <td>8297.0</td>\n",
       "    </tr>\n",
       "    <tr>\n",
       "      <th>2</th>\n",
       "      <td>Appirits</td>\n",
       "      <td>411</td>\n",
       "      <td>372.253</td>\n",
       "      <td>31.0</td>\n",
       "      <td>Japan</td>\n",
       "      <td>30.082613</td>\n",
       "      <td>1.5913</td>\n",
       "      <td>42.747761</td>\n",
       "    </tr>\n",
       "    <tr>\n",
       "      <th>3</th>\n",
       "      <td>Aristocrat</td>\n",
       "      <td>7000</td>\n",
       "      <td>2266.82</td>\n",
       "      <td>14.297</td>\n",
       "      <td>Australia</td>\n",
       "      <td>15513.627256</td>\n",
       "      <td>778.411</td>\n",
       "      <td>3433.941253</td>\n",
       "    </tr>\n",
       "    <tr>\n",
       "      <th>4</th>\n",
       "      <td>ATARI</td>\n",
       "      <td>26</td>\n",
       "      <td>-6296.3</td>\n",
       "      <td>-3.0</td>\n",
       "      <td>France</td>\n",
       "      <td>49.230001</td>\n",
       "      <td>-13.4768</td>\n",
       "      <td>21.404304</td>\n",
       "    </tr>\n",
       "  </tbody>\n",
       "</table>\n",
       "</div>"
      ],
      "text/plain": [
       "                  Name  employeeCount  OperatingMargin  PERatio  \\\n",
       "0       11 bit studios            192          4583.07  40.8881   \n",
       "1  Activision Blizzard           9500          3582.02  23.4717   \n",
       "2             Appirits            411          372.253     31.0   \n",
       "3           Aristocrat           7000          2266.82   14.297   \n",
       "4                ATARI             26          -6296.3     -3.0   \n",
       "\n",
       "         country  Marketcap [M]  Earnings [M]  Revenue [M]  \n",
       "0         Poland     260.017093       8.14771    17.777847  \n",
       "1  United States   58359.599104        2972.0       8297.0  \n",
       "2          Japan      30.082613        1.5913    42.747761  \n",
       "3      Australia   15513.627256       778.411  3433.941253  \n",
       "4         France      49.230001      -13.4768    21.404304  "
      ]
     },
     "execution_count": 16,
     "metadata": {},
     "output_type": "execute_result"
    }
   ],
   "source": [
    "df1.head()"
   ]
  },
  {
   "cell_type": "markdown",
   "id": "4ba7238e",
   "metadata": {},
   "source": [
    "Todas las variables del dataset muestran un indicador de desempeño para cada compañía de videojuegos. Es por ello que los agrupamientos considerarán uno o varios de estos indicadores junto con otras dimensiones de interés, como la cantidad de empleados y el país de procedencia."
   ]
  },
  {
   "cell_type": "markdown",
   "id": "70ddf3f3",
   "metadata": {},
   "source": [
    "**Criterio de análisis 1: Situación financiera promedio por país**"
   ]
  },
  {
   "cell_type": "markdown",
   "id": "a4c48f72",
   "metadata": {},
   "source": [
    "¿Por qué las cifras de OperatingMargin son tan pequeñas en comparación con las demás? ¿Acaso están medidas en millones?\n",
    "El análisis omitirá al margen operativo hasta obtener mayor información sobre sus unidades de medición.\n",
    "\n",
    "1. Se puede calcular el margen de utilidades para cada compañía.\n",
    "2. Crear un gráfico que exploque las ganancias e ingresos de una compañía promedio por país.\n",
    "3. Hacer un diagrama de dispersión con el la cuenta de las compañías, ingresos y ganancias para evaluar la eficiencia de todas las compañías pro país."
   ]
  },
  {
   "cell_type": "code",
   "execution_count": 108,
   "id": "69e434db",
   "metadata": {},
   "outputs": [
    {
     "ename": "ImportError",
     "evalue": "cannot import name 'FilePath' from 'pandas._typing' (C:\\Users\\Carlos\\anaconda3\\envs\\DS-Env\\lib\\site-packages\\pandas\\_typing.py)",
     "output_type": "error",
     "traceback": [
      "\u001b[1;31m---------------------------------------------------------------------------\u001b[0m",
      "\u001b[1;31mImportError\u001b[0m                               Traceback (most recent call last)",
      "\u001b[1;32m~\\AppData\\Local\\Temp/ipykernel_1724/1664462496.py\u001b[0m in \u001b[0;36m<module>\u001b[1;34m\u001b[0m\n\u001b[0;32m      8\u001b[0m        \u001b[0mreset_index\u001b[0m\u001b[1;33m(\u001b[0m\u001b[1;33m)\u001b[0m\u001b[1;33m[\u001b[0m\u001b[1;33m[\u001b[0m\u001b[1;34m'country'\u001b[0m\u001b[1;33m,\u001b[0m\u001b[1;34m'Name'\u001b[0m\u001b[1;33m,\u001b[0m\u001b[1;34m'Marketcap [M]'\u001b[0m\u001b[1;33m,\u001b[0m\u001b[1;34m'Revenue [M]'\u001b[0m\u001b[1;33m,\u001b[0m\u001b[1;34m'Earnings [M]'\u001b[0m\u001b[1;33m]\u001b[0m\u001b[1;33m]\u001b[0m\u001b[1;33m.\u001b[0m\u001b[1;33m\u001b[0m\u001b[1;33m\u001b[0m\u001b[0m\n\u001b[0;32m      9\u001b[0m        sort_values(by = 'Revenue [M]', inplace = False, ascending = False).reset_index(drop = True))\n\u001b[1;32m---> 10\u001b[1;33m \u001b[0mca1\u001b[0m\u001b[1;33m.\u001b[0m\u001b[0mto_csv\u001b[0m\u001b[1;33m(\u001b[0m\u001b[1;34m'ca1.csv'\u001b[0m\u001b[1;33m)\u001b[0m\u001b[1;33m\u001b[0m\u001b[1;33m\u001b[0m\u001b[0m\n\u001b[0m\u001b[0;32m     11\u001b[0m \u001b[1;31m#ca1.head()\u001b[0m\u001b[1;33m\u001b[0m\u001b[1;33m\u001b[0m\u001b[0m\n",
      "\u001b[1;32m~\\anaconda3\\envs\\DS-Env\\lib\\site-packages\\pandas\\core\\generic.py\u001b[0m in \u001b[0;36mto_csv\u001b[1;34m(self, path_or_buf, sep, na_rep, float_format, columns, header, index, index_label, mode, encoding, compression, quoting, quotechar, line_terminator, chunksize, date_format, doublequote, escapechar, decimal, errors, storage_options)\u001b[0m\n\u001b[0;32m   3464\u001b[0m \u001b[1;33m\u001b[0m\u001b[0m\n\u001b[0;32m   3465\u001b[0m                 \u001b[0mPrevious\u001b[0m \u001b[0mversions\u001b[0m \u001b[0mforwarded\u001b[0m \u001b[0mdict\u001b[0m \u001b[0mentries\u001b[0m \u001b[1;32mfor\u001b[0m \u001b[1;34m'gzip'\u001b[0m \u001b[0mto\u001b[0m\u001b[1;33m\u001b[0m\u001b[1;33m\u001b[0m\u001b[0m\n\u001b[1;32m-> 3466\u001b[1;33m                 \u001b[0;31m`\u001b[0m\u001b[0mgzip\u001b[0m\u001b[1;33m.\u001b[0m\u001b[0mopen\u001b[0m\u001b[0;31m`\u001b[0m \u001b[0minstead\u001b[0m \u001b[0mof\u001b[0m\u001b[0;31m \u001b[0m\u001b[0;31m`\u001b[0m\u001b[0mgzip\u001b[0m\u001b[1;33m.\u001b[0m\u001b[0mGzipFile\u001b[0m\u001b[0;31m`\u001b[0m \u001b[0mwhich\u001b[0m \u001b[0mprevented\u001b[0m\u001b[1;33m\u001b[0m\u001b[1;33m\u001b[0m\u001b[0m\n\u001b[0m\u001b[0;32m   3467\u001b[0m                 \u001b[0msetting\u001b[0m\u001b[0;31m \u001b[0m\u001b[0;31m`\u001b[0m\u001b[0mmtime\u001b[0m\u001b[0;31m`\u001b[0m\u001b[1;33m.\u001b[0m\u001b[1;33m\u001b[0m\u001b[1;33m\u001b[0m\u001b[0m\n\u001b[0;32m   3468\u001b[0m \u001b[1;33m\u001b[0m\u001b[0m\n",
      "\u001b[1;32m~\\anaconda3\\envs\\DS-Env\\lib\\site-packages\\pandas\\io\\formats\\format.py\u001b[0m in \u001b[0;36mto_csv\u001b[1;34m(self, path_or_buf, encoding, sep, columns, index_label, mode, compression, quoting, quotechar, line_terminator, chunksize, date_format, doublequote, escapechar, errors, storage_options)\u001b[0m\n\u001b[0;32m   1076\u001b[0m             \u001b[0mclasses\u001b[0m \u001b[0mto\u001b[0m \u001b[0minclude\u001b[0m \u001b[1;32min\u001b[0m \u001b[0mthe\u001b[0m\u001b[0;31m \u001b[0m\u001b[0;31m`\u001b[0m\u001b[1;32mclass\u001b[0m\u001b[0;31m`\u001b[0m \u001b[0mattribute\u001b[0m \u001b[0mof\u001b[0m \u001b[0mthe\u001b[0m \u001b[0mopening\u001b[0m\u001b[1;33m\u001b[0m\u001b[1;33m\u001b[0m\u001b[0m\n\u001b[0;32m   1077\u001b[0m             \u001b[0;31m`\u001b[0m\u001b[0;31m`\u001b[0m\u001b[1;33m<\u001b[0m\u001b[0mtable\u001b[0m\u001b[1;33m>\u001b[0m\u001b[0;31m`\u001b[0m\u001b[0;31m`\u001b[0m \u001b[0mtag\u001b[0m\u001b[1;33m,\u001b[0m \u001b[1;32min\u001b[0m \u001b[0maddition\u001b[0m \u001b[0mto\u001b[0m \u001b[0mthe\u001b[0m \u001b[0mdefault\u001b[0m \u001b[1;34m\"dataframe\"\u001b[0m\u001b[1;33m.\u001b[0m\u001b[1;33m\u001b[0m\u001b[1;33m\u001b[0m\u001b[0m\n\u001b[1;32m-> 1078\u001b[1;33m         \u001b[0mnotebook\u001b[0m \u001b[1;33m:\u001b[0m \u001b[1;33m{\u001b[0m\u001b[1;32mTrue\u001b[0m\u001b[1;33m,\u001b[0m \u001b[1;32mFalse\u001b[0m\u001b[1;33m}\u001b[0m\u001b[1;33m,\u001b[0m \u001b[0moptional\u001b[0m\u001b[1;33m,\u001b[0m \u001b[0mdefault\u001b[0m \u001b[1;32mFalse\u001b[0m\u001b[1;33m\u001b[0m\u001b[1;33m\u001b[0m\u001b[0m\n\u001b[0m\u001b[0;32m   1079\u001b[0m             \u001b[0mWhether\u001b[0m \u001b[0mthe\u001b[0m \u001b[0mgenerated\u001b[0m \u001b[0mHTML\u001b[0m \u001b[1;32mis\u001b[0m \u001b[1;32mfor\u001b[0m \u001b[0mIPython\u001b[0m \u001b[0mNotebook\u001b[0m\u001b[1;33m.\u001b[0m\u001b[1;33m\u001b[0m\u001b[1;33m\u001b[0m\u001b[0m\n\u001b[0;32m   1080\u001b[0m         \u001b[0mborder\u001b[0m \u001b[1;33m:\u001b[0m \u001b[0mint\u001b[0m\u001b[1;33m\u001b[0m\u001b[1;33m\u001b[0m\u001b[0m\n",
      "\u001b[1;32m~\\anaconda3\\envs\\DS-Env\\lib\\site-packages\\pandas\\io\\formats\\csvs.py\u001b[0m in \u001b[0;36m<module>\u001b[1;34m\u001b[0m\n\u001b[0;32m     19\u001b[0m \u001b[1;33m\u001b[0m\u001b[0m\n\u001b[0;32m     20\u001b[0m \u001b[1;32mfrom\u001b[0m \u001b[0mpandas\u001b[0m\u001b[1;33m.\u001b[0m\u001b[0m_libs\u001b[0m \u001b[1;32mimport\u001b[0m \u001b[0mwriters\u001b[0m \u001b[1;32mas\u001b[0m \u001b[0mlibwriters\u001b[0m\u001b[1;33m\u001b[0m\u001b[1;33m\u001b[0m\u001b[0m\n\u001b[1;32m---> 21\u001b[1;33m from pandas._typing import (\n\u001b[0m\u001b[0;32m     22\u001b[0m     \u001b[0mCompressionOptions\u001b[0m\u001b[1;33m,\u001b[0m\u001b[1;33m\u001b[0m\u001b[1;33m\u001b[0m\u001b[0m\n\u001b[0;32m     23\u001b[0m     \u001b[0mFilePath\u001b[0m\u001b[1;33m,\u001b[0m\u001b[1;33m\u001b[0m\u001b[1;33m\u001b[0m\u001b[0m\n",
      "\u001b[1;31mImportError\u001b[0m: cannot import name 'FilePath' from 'pandas._typing' (C:\\Users\\Carlos\\anaconda3\\envs\\DS-Env\\lib\\site-packages\\pandas\\_typing.py)"
     ]
    }
   ],
   "source": [
    "# Margen de ganancias\n",
    "ca1 = (pd.pivot_table(df1, index = ['country'],\n",
    "                     values = ['Marketcap [M]','Earnings [M]','Revenue [M]','Name'],\n",
    "                     aggfunc ={'Marketcap [M]':np.mean,\n",
    "                               'Earnings [M]':np.mean,\n",
    "                               'Revenue [M]':np.mean,\n",
    "                               'Name':len}).\n",
    "       reset_index()[['country','Name','Marketcap [M]','Revenue [M]','Earnings [M]']].\n",
    "       sort_values(by = 'Revenue [M]', inplace = False, ascending = False).reset_index(drop = True))\n",
    "ca1.to_csv('ca1.csv')\n",
    "#ca1.head()"
   ]
  },
  {
   "cell_type": "code",
   "execution_count": 102,
   "id": "e2102fa3",
   "metadata": {},
   "outputs": [
    {
     "data": {
      "text/plain": [
       "<AxesSubplot:xlabel='country', ylabel='Revenue [M]'>"
      ]
     },
     "execution_count": 102,
     "metadata": {},
     "output_type": "execute_result"
    },
    {
     "data": {
      "image/png": "[encoded data removed]",
      "text/plain": [
       "<Figure size 432x288 with 1 Axes>"
      ]
     },
     "metadata": {
      "needs_background": "light"
     },
     "output_type": "display_data"
    }
   ],
   "source": [
    "# Graficando los primeros 6 datos\n",
    "ndata = ca1.iloc[0:7,]\n",
    "sns.barplot(x = 'country', y = 'Revenue [M]', data=ndata, palette=\"ch:.95\")"
   ]
  },
  {
   "cell_type": "markdown",
   "id": "0103288c",
   "metadata": {},
   "source": [
    "**Criterio de análisis 2: Expectativa de de ganancia sobre inversión**"
   ]
  },
  {
   "cell_type": "code",
   "execution_count": 33,
   "id": "0e82d6c9",
   "metadata": {},
   "outputs": [
    {
     "data": {
      "text/html": [
       "<div>\n",
       "<style scoped>\n",
       "    .dataframe tbody tr th:only-of-type {\n",
       "        vertical-align: middle;\n",
       "    }\n",
       "\n",
       "    .dataframe tbody tr th {\n",
       "        vertical-align: top;\n",
       "    }\n",
       "\n",
       "    .dataframe thead th {\n",
       "        text-align: right;\n",
       "    }\n",
       "</style>\n",
       "<table border=\"1\" class=\"dataframe\">\n",
       "  <thead>\n",
       "    <tr style=\"text-align: right;\">\n",
       "      <th></th>\n",
       "      <th>PERatio</th>\n",
       "    </tr>\n",
       "    <tr>\n",
       "      <th>country</th>\n",
       "      <th></th>\n",
       "    </tr>\n",
       "  </thead>\n",
       "  <tbody>\n",
       "    <tr>\n",
       "      <th>Ireland</th>\n",
       "      <td>7478.30</td>\n",
       "    </tr>\n",
       "    <tr>\n",
       "      <th>Isle of Man</th>\n",
       "      <td>5948.89</td>\n",
       "    </tr>\n",
       "    <tr>\n",
       "      <th>United Kingdom</th>\n",
       "      <td>2122.93</td>\n",
       "    </tr>\n",
       "    <tr>\n",
       "      <th>India</th>\n",
       "      <td>120.92</td>\n",
       "    </tr>\n",
       "    <tr>\n",
       "      <th>Japan</th>\n",
       "      <td>27.33</td>\n",
       "    </tr>\n",
       "    <tr>\n",
       "      <th>France</th>\n",
       "      <td>25.28</td>\n",
       "    </tr>\n",
       "    <tr>\n",
       "      <th>South Korea</th>\n",
       "      <td>24.54</td>\n",
       "    </tr>\n",
       "    <tr>\n",
       "      <th>China</th>\n",
       "      <td>22.05</td>\n",
       "    </tr>\n",
       "    <tr>\n",
       "      <th>Poland</th>\n",
       "      <td>21.48</td>\n",
       "    </tr>\n",
       "    <tr>\n",
       "      <th>Finland</th>\n",
       "      <td>16.55</td>\n",
       "    </tr>\n",
       "    <tr>\n",
       "      <th>Israel</th>\n",
       "      <td>15.40</td>\n",
       "    </tr>\n",
       "    <tr>\n",
       "      <th>Australia</th>\n",
       "      <td>14.30</td>\n",
       "    </tr>\n",
       "    <tr>\n",
       "      <th>Italy</th>\n",
       "      <td>9.90</td>\n",
       "    </tr>\n",
       "    <tr>\n",
       "      <th>United States</th>\n",
       "      <td>8.53</td>\n",
       "    </tr>\n",
       "    <tr>\n",
       "      <th>Sweden</th>\n",
       "      <td>7.32</td>\n",
       "    </tr>\n",
       "    <tr>\n",
       "      <th>Canada</th>\n",
       "      <td>-0.82</td>\n",
       "    </tr>\n",
       "    <tr>\n",
       "      <th>Cyprus</th>\n",
       "      <td>-8.19</td>\n",
       "    </tr>\n",
       "    <tr>\n",
       "      <th>Singapore</th>\n",
       "      <td>-20.93</td>\n",
       "    </tr>\n",
       "  </tbody>\n",
       "</table>\n",
       "</div>"
      ],
      "text/plain": [
       "                PERatio\n",
       "country                \n",
       "Ireland         7478.30\n",
       "Isle of Man     5948.89\n",
       "United Kingdom  2122.93\n",
       "India            120.92\n",
       "Japan             27.33\n",
       "France            25.28\n",
       "South Korea       24.54\n",
       "China             22.05\n",
       "Poland            21.48\n",
       "Finland           16.55\n",
       "Israel            15.40\n",
       "Australia         14.30\n",
       "Italy              9.90\n",
       "United States      8.53\n",
       "Sweden             7.32\n",
       "Canada            -0.82\n",
       "Cyprus            -8.19\n",
       "Singapore        -20.93"
      ]
     },
     "execution_count": 33,
     "metadata": {},
     "output_type": "execute_result"
    }
   ],
   "source": [
    "(pd.DataFrame(df1.groupby(by = 'country').mean()['PERatio']).\n",
    "sort_values(by = 'PERatio', inplace = False, ascending = False).round(decimals = 2))"
   ]
  },
  {
   "cell_type": "code",
   "execution_count": null,
   "id": "02e48d54",
   "metadata": {},
   "outputs": [],
   "source": []
  }
 ],
 "metadata": {
  "kernelspec": {
   "display_name": "Python 3 (ipykernel)",
   "language": "python",
   "name": "python3"
  },
  "language_info": {
   "codemirror_mode": {
    "name": "ipython",
    "version": 3
   },
   "file_extension": ".py",
   "mimetype": "text/x-python",
   "name": "python",
   "nbconvert_exporter": "python",
   "pygments_lexer": "ipython3",
   "version": "3.9.7"
  },
  "toc": {
   "base_numbering": 1,
   "nav_menu": {},
   "number_sections": false,
   "sideBar": true,
   "skip_h1_title": false,
   "title_cell": "Table of Contents",
   "title_sidebar": "Contents",
   "toc_cell": true,
   "toc_position": {},
   "toc_section_display": true,
   "toc_window_display": false
  },
  "varInspector": {
   "cols": {
    "lenName": 16,
    "lenType": 16,
    "lenVar": 40
   },
   "kernels_config": {
    "python": {
     "delete_cmd_postfix": "",
     "delete_cmd_prefix": "del ",
     "library": "var_list.py",
     "varRefreshCmd": "print(var_dic_list())"
    },
    "r": {
     "delete_cmd_postfix": ") ",
     "delete_cmd_prefix": "rm(",
     "library": "var_list.r",
     "varRefreshCmd": "cat(var_dic_list()) "
    }
   },
   "types_to_exclude": [
    "module",
    "function",
    "builtin_function_or_method",
    "instance",
    "_Feature"
   ],
   "window_display": false
  }
 },
 "nbformat": 4,
 "nbformat_minor": 5
}
