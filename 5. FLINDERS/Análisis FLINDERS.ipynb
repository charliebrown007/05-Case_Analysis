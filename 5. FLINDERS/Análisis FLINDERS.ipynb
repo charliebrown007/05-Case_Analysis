{
 "cells": [
  {
   "cell_type": "markdown",
   "id": "f2dbd9c4",
   "metadata": {},
   "source": [
    "## Análisis de datos - Flinders"
   ]
  },
  {
   "cell_type": "markdown",
   "id": "11642b0d",
   "metadata": {},
   "source": [
    "### Librerías"
   ]
  },
  {
   "cell_type": "code",
   "execution_count": 1,
   "id": "640ddd15",
   "metadata": {},
   "outputs": [],
   "source": [
    "# Librerías comunes\n",
    "import pandas as pd, numpy as np, matplotlib.pyplot as plt, seaborn as sns, os\n",
    "\n",
    "# Librería para calcular la moda\n",
    "from statistics import mode"
   ]
  },
  {
   "cell_type": "markdown",
   "id": "a6761fbb",
   "metadata": {
    "heading_collapsed": true
   },
   "source": [
    "### Carga de datos"
   ]
  },
  {
   "cell_type": "code",
   "execution_count": 2,
   "id": "180c4ea9",
   "metadata": {
    "hidden": true
   },
   "outputs": [],
   "source": [
    "path = 'https://github.com/charliebrown007/Datasets/blob/main/'\n",
    "file = 'Flinders_converted.csv'\n",
    "\n",
    "f = lambda x: 'No' not in x and 'TOTAL' not in x\n",
    "\n",
    "df = pd.read_csv(filepath_or_buffer = os.path.join(path,file + '?raw=true'), sep = ';', usecols = f)"
   ]
  },
  {
   "cell_type": "markdown",
   "id": "ba6c1d01",
   "metadata": {
    "heading_collapsed": true
   },
   "source": [
    "### Etapa 1: Formulación del problema general"
   ]
  },
  {
   "cell_type": "markdown",
   "id": "9bd1b402",
   "metadata": {
    "hidden": true
   },
   "source": [
    "Existe un conjunto de datos con nombre “df” y cuyos registros guardan los ciclos de evaluación de varios individuos referente a una prueba ADMQ. En tal sentido, el problema se formula de la siguiente manera:\n",
    "¿Qué características tienen las respuestas registradas en el dataset y cuál es su relación con otras variables?"
   ]
  },
  {
   "cell_type": "code",
   "execution_count": 3,
   "id": "3cfd3c3c",
   "metadata": {
    "hidden": true
   },
   "outputs": [
    {
     "data": {
      "text/html": [
       "<div>\n",
       "<style scoped>\n",
       "    .dataframe tbody tr th:only-of-type {\n",
       "        vertical-align: middle;\n",
       "    }\n",
       "\n",
       "    .dataframe tbody tr th {\n",
       "        vertical-align: top;\n",
       "    }\n",
       "\n",
       "    .dataframe thead th {\n",
       "        text-align: right;\n",
       "    }\n",
       "</style>\n",
       "<table border=\"1\" class=\"dataframe\">\n",
       "  <thead>\n",
       "    <tr style=\"text-align: right;\">\n",
       "      <th></th>\n",
       "      <th>edad</th>\n",
       "      <th>sexo</th>\n",
       "      <th>v1</th>\n",
       "      <th>v2</th>\n",
       "      <th>v3</th>\n",
       "      <th>v4</th>\n",
       "      <th>v5</th>\n",
       "      <th>v6</th>\n",
       "      <th>v7</th>\n",
       "      <th>v8</th>\n",
       "      <th>...</th>\n",
       "      <th>v22</th>\n",
       "      <th>v23</th>\n",
       "      <th>v24</th>\n",
       "      <th>v25</th>\n",
       "      <th>v26</th>\n",
       "      <th>v27</th>\n",
       "      <th>v28</th>\n",
       "      <th>v29</th>\n",
       "      <th>v30</th>\n",
       "      <th>v31</th>\n",
       "    </tr>\n",
       "  </thead>\n",
       "  <tbody>\n",
       "    <tr>\n",
       "      <th>0</th>\n",
       "      <td>21.0</td>\n",
       "      <td>1.0</td>\n",
       "      <td>2.0</td>\n",
       "      <td>2.0</td>\n",
       "      <td>4.0</td>\n",
       "      <td>2.0</td>\n",
       "      <td>1.0</td>\n",
       "      <td>2.0</td>\n",
       "      <td>3.0</td>\n",
       "      <td>2.0</td>\n",
       "      <td>...</td>\n",
       "      <td>2.0</td>\n",
       "      <td>3.0</td>\n",
       "      <td>4.0</td>\n",
       "      <td>3.0</td>\n",
       "      <td>3.0</td>\n",
       "      <td>3.0</td>\n",
       "      <td>2.0</td>\n",
       "      <td>3.0</td>\n",
       "      <td>3.0</td>\n",
       "      <td>4.0</td>\n",
       "    </tr>\n",
       "    <tr>\n",
       "      <th>1</th>\n",
       "      <td>23.0</td>\n",
       "      <td>1.0</td>\n",
       "      <td>2.0</td>\n",
       "      <td>2.0</td>\n",
       "      <td>2.0</td>\n",
       "      <td>1.0</td>\n",
       "      <td>1.0</td>\n",
       "      <td>1.0</td>\n",
       "      <td>1.0</td>\n",
       "      <td>1.0</td>\n",
       "      <td>...</td>\n",
       "      <td>2.0</td>\n",
       "      <td>1.0</td>\n",
       "      <td>2.0</td>\n",
       "      <td>2.0</td>\n",
       "      <td>2.0</td>\n",
       "      <td>1.0</td>\n",
       "      <td>4.0</td>\n",
       "      <td>2.0</td>\n",
       "      <td>1.0</td>\n",
       "      <td>1.0</td>\n",
       "    </tr>\n",
       "    <tr>\n",
       "      <th>2</th>\n",
       "      <td>20.0</td>\n",
       "      <td>1.0</td>\n",
       "      <td>2.0</td>\n",
       "      <td>1.0</td>\n",
       "      <td>4.0</td>\n",
       "      <td>2.0</td>\n",
       "      <td>2.0</td>\n",
       "      <td>3.0</td>\n",
       "      <td>3.0</td>\n",
       "      <td>1.0</td>\n",
       "      <td>...</td>\n",
       "      <td>3.0</td>\n",
       "      <td>1.0</td>\n",
       "      <td>4.0</td>\n",
       "      <td>3.0</td>\n",
       "      <td>3.0</td>\n",
       "      <td>2.0</td>\n",
       "      <td>2.0</td>\n",
       "      <td>3.0</td>\n",
       "      <td>4.0</td>\n",
       "      <td>3.0</td>\n",
       "    </tr>\n",
       "    <tr>\n",
       "      <th>3</th>\n",
       "      <td>21.0</td>\n",
       "      <td>1.0</td>\n",
       "      <td>2.0</td>\n",
       "      <td>3.0</td>\n",
       "      <td>1.0</td>\n",
       "      <td>2.0</td>\n",
       "      <td>1.0</td>\n",
       "      <td>2.0</td>\n",
       "      <td>1.0</td>\n",
       "      <td>1.0</td>\n",
       "      <td>...</td>\n",
       "      <td>1.0</td>\n",
       "      <td>1.0</td>\n",
       "      <td>4.0</td>\n",
       "      <td>2.0</td>\n",
       "      <td>4.0</td>\n",
       "      <td>1.0</td>\n",
       "      <td>3.0</td>\n",
       "      <td>2.0</td>\n",
       "      <td>1.0</td>\n",
       "      <td>1.0</td>\n",
       "    </tr>\n",
       "    <tr>\n",
       "      <th>4</th>\n",
       "      <td>21.0</td>\n",
       "      <td>1.0</td>\n",
       "      <td>2.0</td>\n",
       "      <td>3.0</td>\n",
       "      <td>3.0</td>\n",
       "      <td>3.0</td>\n",
       "      <td>1.0</td>\n",
       "      <td>2.0</td>\n",
       "      <td>4.0</td>\n",
       "      <td>2.0</td>\n",
       "      <td>...</td>\n",
       "      <td>2.0</td>\n",
       "      <td>3.0</td>\n",
       "      <td>4.0</td>\n",
       "      <td>3.0</td>\n",
       "      <td>4.0</td>\n",
       "      <td>2.0</td>\n",
       "      <td>2.0</td>\n",
       "      <td>3.0</td>\n",
       "      <td>2.0</td>\n",
       "      <td>2.0</td>\n",
       "    </tr>\n",
       "  </tbody>\n",
       "</table>\n",
       "<p>5 rows × 33 columns</p>\n",
       "</div>"
      ],
      "text/plain": [
       "   edad  sexo   v1   v2   v3   v4   v5   v6   v7   v8  ...  v22  v23  v24  \\\n",
       "0  21.0   1.0  2.0  2.0  4.0  2.0  1.0  2.0  3.0  2.0  ...  2.0  3.0  4.0   \n",
       "1  23.0   1.0  2.0  2.0  2.0  1.0  1.0  1.0  1.0  1.0  ...  2.0  1.0  2.0   \n",
       "2  20.0   1.0  2.0  1.0  4.0  2.0  2.0  3.0  3.0  1.0  ...  3.0  1.0  4.0   \n",
       "3  21.0   1.0  2.0  3.0  1.0  2.0  1.0  2.0  1.0  1.0  ...  1.0  1.0  4.0   \n",
       "4  21.0   1.0  2.0  3.0  3.0  3.0  1.0  2.0  4.0  2.0  ...  2.0  3.0  4.0   \n",
       "\n",
       "   v25  v26  v27  v28  v29  v30  v31  \n",
       "0  3.0  3.0  3.0  2.0  3.0  3.0  4.0  \n",
       "1  2.0  2.0  1.0  4.0  2.0  1.0  1.0  \n",
       "2  3.0  3.0  2.0  2.0  3.0  4.0  3.0  \n",
       "3  2.0  4.0  1.0  3.0  2.0  1.0  1.0  \n",
       "4  3.0  4.0  2.0  2.0  3.0  2.0  2.0  \n",
       "\n",
       "[5 rows x 33 columns]"
      ]
     },
     "execution_count": 3,
     "metadata": {},
     "output_type": "execute_result"
    }
   ],
   "source": [
    "df.head()"
   ]
  },
  {
   "cell_type": "markdown",
   "id": "bed60c81",
   "metadata": {
    "heading_collapsed": true
   },
   "source": [
    "### Etapa 2: Generalidades de la base de datos"
   ]
  },
  {
   "cell_type": "markdown",
   "id": "bd6e07e4",
   "metadata": {
    "hidden": true
   },
   "source": [
    "No fue necesario realizar ningún proceso de extracción, transformación y carga adicional porque todos los datos están consolidados en un archivo.\n",
    "\n",
    "Cada registro representa a **una respuesta de cada individuo según las variables del dataset en un escala del 0 al 5**. Se dispone de 34 variables y 205 registros sin elmentos vacíos."
   ]
  },
  {
   "cell_type": "code",
   "execution_count": 4,
   "id": "2e3477cf",
   "metadata": {
    "hidden": true
   },
   "outputs": [
    {
     "data": {
      "text/plain": [
       "(205, 33)"
      ]
     },
     "execution_count": 4,
     "metadata": {},
     "output_type": "execute_result"
    }
   ],
   "source": [
    "df.shape"
   ]
  },
  {
   "cell_type": "code",
   "execution_count": 5,
   "id": "8975f7cb",
   "metadata": {
    "hidden": true
   },
   "outputs": [
    {
     "data": {
      "text/plain": [
       "0"
      ]
     },
     "execution_count": 5,
     "metadata": {},
     "output_type": "execute_result"
    }
   ],
   "source": [
    "df.isna().sum().sum()"
   ]
  },
  {
   "cell_type": "code",
   "execution_count": 6,
   "id": "2c468fe3",
   "metadata": {
    "hidden": true
   },
   "outputs": [
    {
     "data": {
      "text/plain": [
       "False"
      ]
     },
     "execution_count": 6,
     "metadata": {},
     "output_type": "execute_result"
    }
   ],
   "source": [
    "df.isnull().values.any()"
   ]
  },
  {
   "cell_type": "markdown",
   "id": "d2624ad5",
   "metadata": {
    "heading_collapsed": true
   },
   "source": [
    "### Etapa 3: Identificación de tipos de variables"
   ]
  },
  {
   "cell_type": "markdown",
   "id": "7c7d2a28",
   "metadata": {
    "hidden": true
   },
   "source": [
    "Existen 33 variables. La primera es la asignación de un número correlativo sobre los registros disponibles en la base de datos, las dos siguientes son variables categóricas o factores relativas a la edad y sexo. Las variables restantes manifiestan, en una escala del 1 al 5, las respuestas a cada pregunta que componen la prueba de Flinders."
   ]
  },
  {
   "cell_type": "code",
   "execution_count": 7,
   "id": "35941cde",
   "metadata": {
    "hidden": true
   },
   "outputs": [
    {
     "name": "stdout",
     "output_type": "stream",
     "text": [
      "<class 'pandas.core.frame.DataFrame'>\n",
      "RangeIndex: 205 entries, 0 to 204\n",
      "Data columns (total 33 columns):\n",
      " #   Column  Non-Null Count  Dtype  \n",
      "---  ------  --------------  -----  \n",
      " 0   edad    205 non-null    float64\n",
      " 1   sexo    205 non-null    float64\n",
      " 2   v1      205 non-null    float64\n",
      " 3   v2      205 non-null    float64\n",
      " 4   v3      205 non-null    float64\n",
      " 5   v4      205 non-null    float64\n",
      " 6   v5      205 non-null    float64\n",
      " 7   v6      205 non-null    float64\n",
      " 8   v7      205 non-null    float64\n",
      " 9   v8      205 non-null    float64\n",
      " 10  v9      205 non-null    float64\n",
      " 11  v10     205 non-null    float64\n",
      " 12  v11     205 non-null    float64\n",
      " 13  v12     205 non-null    float64\n",
      " 14  v13     205 non-null    float64\n",
      " 15  v14     205 non-null    float64\n",
      " 16  v15     205 non-null    float64\n",
      " 17  v16     205 non-null    float64\n",
      " 18  v17     205 non-null    float64\n",
      " 19  v18     205 non-null    float64\n",
      " 20  v19     205 non-null    float64\n",
      " 21  v20     205 non-null    float64\n",
      " 22  v21     205 non-null    float64\n",
      " 23  v22     205 non-null    float64\n",
      " 24  v23     205 non-null    float64\n",
      " 25  v24     205 non-null    float64\n",
      " 26  v25     205 non-null    float64\n",
      " 27  v26     205 non-null    float64\n",
      " 28  v27     205 non-null    float64\n",
      " 29  v28     205 non-null    float64\n",
      " 30  v29     205 non-null    float64\n",
      " 31  v30     205 non-null    float64\n",
      " 32  v31     205 non-null    float64\n",
      "dtypes: float64(33)\n",
      "memory usage: 53.0 KB\n"
     ]
    }
   ],
   "source": [
    "df.info()"
   ]
  },
  {
   "cell_type": "markdown",
   "id": "76a58a8d",
   "metadata": {
    "heading_collapsed": true
   },
   "source": [
    "### Etapa 4: Transformaciones"
   ]
  },
  {
   "cell_type": "markdown",
   "id": "3abe0db5",
   "metadata": {
    "hidden": true
   },
   "source": [
    "Podemos usar las columnas que fueron calculadas al momento de cargar el dataset si confiamos en la claidad de los resultados, si este no fuera el caso, es mejor hacer los cálculos durante las transformaciones"
   ]
  },
  {
   "cell_type": "code",
   "execution_count": 8,
   "id": "37703bc7",
   "metadata": {
    "hidden": true
   },
   "outputs": [],
   "source": [
    "# 1. trasformación de variables\n",
    "\n",
    "df_columns_list = [i for i in df.columns if 'v' in i]\n",
    "df[df_columns_list] = df[df_columns_list].astype('int')\n",
    "df = df.astype({'sexo': 'category', 'edad': int})\n",
    "#df = df.astype({'sexo': 'string', 'edad': int})\n",
    "\n",
    "\n",
    "# 2. Puntuación total obtenida para cada registro\n",
    "df['Total'] = df.loc[:,'v1':'v31'].sum(axis = 1)\n",
    "\n",
    "\n",
    "# 3. Remoción de filas cuya edad es igual a 0\n",
    "df = df.loc[df['edad'] > 0]\n",
    "\n",
    "# Verificación\n",
    "#df.info()"
   ]
  },
  {
   "cell_type": "code",
   "execution_count": 9,
   "id": "48c17344",
   "metadata": {
    "hidden": true,
    "scrolled": true
   },
   "outputs": [
    {
     "data": {
      "text/html": [
       "<div>\n",
       "<style scoped>\n",
       "    .dataframe tbody tr th:only-of-type {\n",
       "        vertical-align: middle;\n",
       "    }\n",
       "\n",
       "    .dataframe tbody tr th {\n",
       "        vertical-align: top;\n",
       "    }\n",
       "\n",
       "    .dataframe thead th {\n",
       "        text-align: right;\n",
       "    }\n",
       "</style>\n",
       "<table border=\"1\" class=\"dataframe\">\n",
       "  <thead>\n",
       "    <tr style=\"text-align: right;\">\n",
       "      <th></th>\n",
       "      <th>edad</th>\n",
       "      <th>sexo</th>\n",
       "      <th>v1</th>\n",
       "      <th>v2</th>\n",
       "      <th>v3</th>\n",
       "      <th>v4</th>\n",
       "      <th>v5</th>\n",
       "      <th>v6</th>\n",
       "      <th>v7</th>\n",
       "      <th>v8</th>\n",
       "      <th>...</th>\n",
       "      <th>v23</th>\n",
       "      <th>v24</th>\n",
       "      <th>v25</th>\n",
       "      <th>v26</th>\n",
       "      <th>v27</th>\n",
       "      <th>v28</th>\n",
       "      <th>v29</th>\n",
       "      <th>v30</th>\n",
       "      <th>v31</th>\n",
       "      <th>Total</th>\n",
       "    </tr>\n",
       "  </thead>\n",
       "  <tbody>\n",
       "    <tr>\n",
       "      <th>0</th>\n",
       "      <td>21</td>\n",
       "      <td>1.0</td>\n",
       "      <td>2</td>\n",
       "      <td>2</td>\n",
       "      <td>4</td>\n",
       "      <td>2</td>\n",
       "      <td>1</td>\n",
       "      <td>2</td>\n",
       "      <td>3</td>\n",
       "      <td>2</td>\n",
       "      <td>...</td>\n",
       "      <td>3</td>\n",
       "      <td>4</td>\n",
       "      <td>3</td>\n",
       "      <td>3</td>\n",
       "      <td>3</td>\n",
       "      <td>2</td>\n",
       "      <td>3</td>\n",
       "      <td>3</td>\n",
       "      <td>4</td>\n",
       "      <td>80</td>\n",
       "    </tr>\n",
       "    <tr>\n",
       "      <th>1</th>\n",
       "      <td>23</td>\n",
       "      <td>1.0</td>\n",
       "      <td>2</td>\n",
       "      <td>2</td>\n",
       "      <td>2</td>\n",
       "      <td>1</td>\n",
       "      <td>1</td>\n",
       "      <td>1</td>\n",
       "      <td>1</td>\n",
       "      <td>1</td>\n",
       "      <td>...</td>\n",
       "      <td>1</td>\n",
       "      <td>2</td>\n",
       "      <td>2</td>\n",
       "      <td>2</td>\n",
       "      <td>1</td>\n",
       "      <td>4</td>\n",
       "      <td>2</td>\n",
       "      <td>1</td>\n",
       "      <td>1</td>\n",
       "      <td>50</td>\n",
       "    </tr>\n",
       "    <tr>\n",
       "      <th>2</th>\n",
       "      <td>20</td>\n",
       "      <td>1.0</td>\n",
       "      <td>2</td>\n",
       "      <td>1</td>\n",
       "      <td>4</td>\n",
       "      <td>2</td>\n",
       "      <td>2</td>\n",
       "      <td>3</td>\n",
       "      <td>3</td>\n",
       "      <td>1</td>\n",
       "      <td>...</td>\n",
       "      <td>1</td>\n",
       "      <td>4</td>\n",
       "      <td>3</td>\n",
       "      <td>3</td>\n",
       "      <td>2</td>\n",
       "      <td>2</td>\n",
       "      <td>3</td>\n",
       "      <td>4</td>\n",
       "      <td>3</td>\n",
       "      <td>79</td>\n",
       "    </tr>\n",
       "    <tr>\n",
       "      <th>3</th>\n",
       "      <td>21</td>\n",
       "      <td>1.0</td>\n",
       "      <td>2</td>\n",
       "      <td>3</td>\n",
       "      <td>1</td>\n",
       "      <td>2</td>\n",
       "      <td>1</td>\n",
       "      <td>2</td>\n",
       "      <td>1</td>\n",
       "      <td>1</td>\n",
       "      <td>...</td>\n",
       "      <td>1</td>\n",
       "      <td>4</td>\n",
       "      <td>2</td>\n",
       "      <td>4</td>\n",
       "      <td>1</td>\n",
       "      <td>3</td>\n",
       "      <td>2</td>\n",
       "      <td>1</td>\n",
       "      <td>1</td>\n",
       "      <td>62</td>\n",
       "    </tr>\n",
       "    <tr>\n",
       "      <th>4</th>\n",
       "      <td>21</td>\n",
       "      <td>1.0</td>\n",
       "      <td>2</td>\n",
       "      <td>3</td>\n",
       "      <td>3</td>\n",
       "      <td>3</td>\n",
       "      <td>1</td>\n",
       "      <td>2</td>\n",
       "      <td>4</td>\n",
       "      <td>2</td>\n",
       "      <td>...</td>\n",
       "      <td>3</td>\n",
       "      <td>4</td>\n",
       "      <td>3</td>\n",
       "      <td>4</td>\n",
       "      <td>2</td>\n",
       "      <td>2</td>\n",
       "      <td>3</td>\n",
       "      <td>2</td>\n",
       "      <td>2</td>\n",
       "      <td>83</td>\n",
       "    </tr>\n",
       "  </tbody>\n",
       "</table>\n",
       "<p>5 rows × 34 columns</p>\n",
       "</div>"
      ],
      "text/plain": [
       "   edad sexo  v1  v2  v3  v4  v5  v6  v7  v8  ...  v23  v24  v25  v26  v27  \\\n",
       "0    21  1.0   2   2   4   2   1   2   3   2  ...    3    4    3    3    3   \n",
       "1    23  1.0   2   2   2   1   1   1   1   1  ...    1    2    2    2    1   \n",
       "2    20  1.0   2   1   4   2   2   3   3   1  ...    1    4    3    3    2   \n",
       "3    21  1.0   2   3   1   2   1   2   1   1  ...    1    4    2    4    1   \n",
       "4    21  1.0   2   3   3   3   1   2   4   2  ...    3    4    3    4    2   \n",
       "\n",
       "   v28  v29  v30  v31  Total  \n",
       "0    2    3    3    4     80  \n",
       "1    4    2    1    1     50  \n",
       "2    2    3    4    3     79  \n",
       "3    3    2    1    1     62  \n",
       "4    2    3    2    2     83  \n",
       "\n",
       "[5 rows x 34 columns]"
      ]
     },
     "execution_count": 9,
     "metadata": {},
     "output_type": "execute_result"
    }
   ],
   "source": [
    "df.head()"
   ]
  },
  {
   "cell_type": "markdown",
   "id": "0b6ce50b",
   "metadata": {},
   "source": [
    "### Etapa 5: Análisis general"
   ]
  },
  {
   "cell_type": "markdown",
   "id": "112df9d6",
   "metadata": {},
   "source": [
    "#### Estadísticas generales para variables cuantitativas"
   ]
  },
  {
   "cell_type": "code",
   "execution_count": 10,
   "id": "11705208",
   "metadata": {},
   "outputs": [
    {
     "data": {
      "text/html": [
       "<div>\n",
       "<style scoped>\n",
       "    .dataframe tbody tr th:only-of-type {\n",
       "        vertical-align: middle;\n",
       "    }\n",
       "\n",
       "    .dataframe tbody tr th {\n",
       "        vertical-align: top;\n",
       "    }\n",
       "\n",
       "    .dataframe thead th {\n",
       "        text-align: right;\n",
       "    }\n",
       "</style>\n",
       "<table border=\"1\" class=\"dataframe\">\n",
       "  <thead>\n",
       "    <tr style=\"text-align: right;\">\n",
       "      <th></th>\n",
       "      <th>Variable</th>\n",
       "      <th>Mean</th>\n",
       "      <th>Median</th>\n",
       "      <th>Count</th>\n",
       "      <th>DF_size</th>\n",
       "      <th>NA Count</th>\n",
       "      <th>Max</th>\n",
       "      <th>Min</th>\n",
       "      <th>Range</th>\n",
       "      <th>Std</th>\n",
       "      <th>CV</th>\n",
       "    </tr>\n",
       "  </thead>\n",
       "  <tbody>\n",
       "    <tr>\n",
       "      <th>0</th>\n",
       "      <td>edad</td>\n",
       "      <td>25.921569</td>\n",
       "      <td>24.0</td>\n",
       "      <td>204</td>\n",
       "      <td>204</td>\n",
       "      <td>0</td>\n",
       "      <td>58</td>\n",
       "      <td>16</td>\n",
       "      <td>42</td>\n",
       "      <td>6.913593</td>\n",
       "      <td>0.266712</td>\n",
       "    </tr>\n",
       "    <tr>\n",
       "      <th>1</th>\n",
       "      <td>v1</td>\n",
       "      <td>2.205882</td>\n",
       "      <td>2.0</td>\n",
       "      <td>204</td>\n",
       "      <td>204</td>\n",
       "      <td>0</td>\n",
       "      <td>4</td>\n",
       "      <td>1</td>\n",
       "      <td>3</td>\n",
       "      <td>0.690811</td>\n",
       "      <td>0.313168</td>\n",
       "    </tr>\n",
       "    <tr>\n",
       "      <th>2</th>\n",
       "      <td>v2</td>\n",
       "      <td>2.044118</td>\n",
       "      <td>2.0</td>\n",
       "      <td>204</td>\n",
       "      <td>204</td>\n",
       "      <td>0</td>\n",
       "      <td>4</td>\n",
       "      <td>0</td>\n",
       "      <td>4</td>\n",
       "      <td>0.722885</td>\n",
       "      <td>0.353642</td>\n",
       "    </tr>\n",
       "    <tr>\n",
       "      <th>3</th>\n",
       "      <td>v3</td>\n",
       "      <td>3.196078</td>\n",
       "      <td>3.0</td>\n",
       "      <td>204</td>\n",
       "      <td>204</td>\n",
       "      <td>0</td>\n",
       "      <td>4</td>\n",
       "      <td>0</td>\n",
       "      <td>4</td>\n",
       "      <td>0.828881</td>\n",
       "      <td>0.259343</td>\n",
       "    </tr>\n",
       "    <tr>\n",
       "      <th>4</th>\n",
       "      <td>v4</td>\n",
       "      <td>1.877451</td>\n",
       "      <td>2.0</td>\n",
       "      <td>204</td>\n",
       "      <td>204</td>\n",
       "      <td>0</td>\n",
       "      <td>4</td>\n",
       "      <td>1</td>\n",
       "      <td>3</td>\n",
       "      <td>0.896443</td>\n",
       "      <td>0.477479</td>\n",
       "    </tr>\n",
       "  </tbody>\n",
       "</table>\n",
       "</div>"
      ],
      "text/plain": [
       "  Variable       Mean  Median  Count  DF_size  NA Count  Max  Min  Range  \\\n",
       "0     edad  25.921569    24.0    204      204         0   58   16     42   \n",
       "1       v1   2.205882     2.0    204      204         0    4    1      3   \n",
       "2       v2   2.044118     2.0    204      204         0    4    0      4   \n",
       "3       v3   3.196078     3.0    204      204         0    4    0      4   \n",
       "4       v4   1.877451     2.0    204      204         0    4    1      3   \n",
       "\n",
       "        Std        CV  \n",
       "0  6.913593  0.266712  \n",
       "1  0.690811  0.313168  \n",
       "2  0.722885  0.353642  \n",
       "3  0.828881  0.259343  \n",
       "4  0.896443  0.477479  "
      ]
     },
     "execution_count": 10,
     "metadata": {},
     "output_type": "execute_result"
    }
   ],
   "source": [
    "# Aislamiento de variables cuantitativas\n",
    "df_cuant = df.drop(labels = ['sexo'], axis = 1)\n",
    "\n",
    "# Creamos un diccionario de funciones\n",
    "stat_functions = {'Mean':'np.mean',\n",
    "                  'Median':'np.median',\n",
    "                  'Count':'lambda x: x.count()',\n",
    "                  'DF_size':'len',\n",
    "                  'NA Count':'lambda x: x.isna().sum()',\n",
    "                  'Max':'max',\n",
    "                  'Min':'min',\n",
    "                  'Range':'lambda x : max(x) - min(x)',\n",
    "                  'Std':'np.std', # Desviación estándar poblacional\n",
    "                  'CV':'lambda x: ((np.std(x, ddof = 0)) / (np.mean(x)))'}\n",
    "\n",
    "# Dentro de una estructura \"for\" se construirá la tabla usando el diccionario de funciones \n",
    "df_stats = pd.DataFrame()\n",
    "for i in stat_functions:\n",
    "    aux = df_cuant.apply(func = eval(stat_functions.get(i)), axis = 0)\n",
    "    df_stats = pd.concat(objs = [df_stats, aux], axis = 1)\n",
    "    \n",
    "df_stats.columns = list(stat_functions.keys())\n",
    "df_stats = df_stats.reset_index().rename(columns = {'index': 'Variable'})\n",
    "df_stats.head()"
   ]
  },
  {
   "cell_type": "markdown",
   "id": "b5221980",
   "metadata": {},
   "source": [
    "Distribución de la edad"
   ]
  },
  {
   "cell_type": "code",
   "execution_count": 24,
   "id": "cd155dbc",
   "metadata": {},
   "outputs": [
    {
     "data": {
      "image/png": "[encoded data removed]",
      "text/plain": [
       "<Figure size 900x400 with 1 Axes>"
      ]
     },
     "metadata": {},
     "output_type": "display_data"
    }
   ],
   "source": [
    "# Construcción de la tabla\n",
    "#selected_bins = range(10,60,5)\n",
    "selected_bins = np.arange(10,60,5)\n",
    "plot_table = df['edad'].value_counts(bins = selected_bins, sort = False).reset_index()\n",
    "\n",
    "# Gráfico de barras\n",
    "\n",
    "sns.set_theme(style = \"darkgrid\",font_scale = 0.9)\n",
    "\n",
    "fig, ax = plt.subplots(figsize=(9, 4))\n",
    "\n",
    "(sns.barplot(data = plot_table, x = 'index', y = 'edad',\n",
    "            estimator = sum, color='#69b3a2', width = 1, ax = ax).set(xlabel = '', ylabel = ''))\n",
    "\n",
    "plt.title(label = 'Distribución de la edad', loc = 'left');"
   ]
  },
  {
   "cell_type": "code",
   "execution_count": 49,
   "id": "a61824c5",
   "metadata": {},
   "outputs": [
    {
     "data": {
      "text/plain": [
       "[10, 20)     23\n",
       "[20, 30)    137\n",
       "[30, 40)     33\n",
       "[40, 50)      9\n",
       "Name: edad, dtype: int64"
      ]
     },
     "execution_count": 49,
     "metadata": {},
     "output_type": "execute_result"
    }
   ],
   "source": [
    "# El método cut ayuda a elimianar los decimales dle primer número\n",
    "selected_bins = np.arange(10,60,10)\n",
    "out = pd.cut(x = df['edad'], bins=selected_bins, include_lowest = True, right = False)\n",
    "out.value_counts().sort_index()"
   ]
  },
  {
   "cell_type": "code",
   "execution_count": 99,
   "id": "b9462b01",
   "metadata": {},
   "outputs": [
    {
     "data": {
      "image/png": "[encoded data removed]",
      "text/plain": [
       "<Figure size 560x400 with 1 Axes>"
      ]
     },
     "metadata": {},
     "output_type": "display_data"
    }
   ],
   "source": [
    "# set plot style: grey grid in the background:\n",
    "sns.set(style = \"ticks\")\n",
    "\n",
    "# displot\n",
    "selected_bins = range(10,60,5)\n",
    "sns.displot(data = df, x = 'edad', bins = selected_bins, edgecolor = None, kde = False,\n",
    "            aspect = 1.4, height = 4).set(xlabel = '', ylabel = '');\n",
    "\n",
    "font = {'family': 'serif', # Se puede colocar el nombre de la fuente\n",
    "        'color':  'black',\n",
    "        'weight': 'normal',\n",
    "        'size': 12}\n",
    "\n",
    "plt.ylim(0,100)\n",
    "plt.xlim(0,60)\n",
    "\n",
    "plt.title(label = 'Distribución de la edad', fontdict = font, loc = 'left')\n",
    "sns.despine(offset = 5, trim = True, bottom = False)"
   ]
  },
  {
   "cell_type": "markdown",
   "id": "7646164c",
   "metadata": {},
   "source": [
    "#### Estadísticas generales para variables cualitativas"
   ]
  },
  {
   "cell_type": "code",
   "execution_count": 11,
   "id": "32fb74d5",
   "metadata": {},
   "outputs": [
    {
     "data": {
      "text/plain": [
       "2.0    117\n",
       "1.0     87\n",
       "Name: sexo, dtype: int64"
      ]
     },
     "execution_count": 11,
     "metadata": {},
     "output_type": "execute_result"
    }
   ],
   "source": [
    "# Aislamiento de variables cuantitativas\n",
    "df['sexo'].value_counts(dropna = False)"
   ]
  },
  {
   "cell_type": "markdown",
   "id": "4fbf1289",
   "metadata": {},
   "source": [
    "Gráfico para la variable 'sexo'"
   ]
  },
  {
   "cell_type": "code",
   "execution_count": 91,
   "id": "9310bece",
   "metadata": {},
   "outputs": [
    {
     "data": {
      "image/png": "[encoded data removed]",
      "text/plain": [
       "<Figure size 455x350 with 1 Axes>"
      ]
     },
     "metadata": {},
     "output_type": "display_data"
    }
   ],
   "source": [
    "# set plot style: grey grid in the background:\n",
    "sns.set(style = \"ticks\")\n",
    "\n",
    "# catplot (en este caso de trata de una variable categórica)\n",
    "sns.catplot(data = df, x = 'sexo', edgecolor = 'gray', kind = 'count', aspect = 1.3, height = 3.5, palette = \"PuBu\")\n",
    "sns.despine(offset = 5, trim = True, bottom = True)"
   ]
  },
  {
   "cell_type": "markdown",
   "id": "78b7bed1",
   "metadata": {},
   "source": [
    "#### Correlación entre variables"
   ]
  },
  {
   "cell_type": "code",
   "execution_count": 190,
   "id": "b85447e2",
   "metadata": {},
   "outputs": [
    {
     "data": {
      "text/html": [
       "<div>\n",
       "<style scoped>\n",
       "    .dataframe tbody tr th:only-of-type {\n",
       "        vertical-align: middle;\n",
       "    }\n",
       "\n",
       "    .dataframe tbody tr th {\n",
       "        vertical-align: top;\n",
       "    }\n",
       "\n",
       "    .dataframe thead th {\n",
       "        text-align: right;\n",
       "    }\n",
       "</style>\n",
       "<table border=\"1\" class=\"dataframe\">\n",
       "  <thead>\n",
       "    <tr style=\"text-align: right;\">\n",
       "      <th></th>\n",
       "      <th>edad</th>\n",
       "      <th>sexo</th>\n",
       "      <th>v1</th>\n",
       "      <th>v2</th>\n",
       "      <th>v3</th>\n",
       "      <th>v4</th>\n",
       "      <th>v5</th>\n",
       "      <th>v6</th>\n",
       "      <th>v7</th>\n",
       "      <th>v8</th>\n",
       "      <th>...</th>\n",
       "      <th>v23</th>\n",
       "      <th>v24</th>\n",
       "      <th>v25</th>\n",
       "      <th>v26</th>\n",
       "      <th>v27</th>\n",
       "      <th>v28</th>\n",
       "      <th>v29</th>\n",
       "      <th>v30</th>\n",
       "      <th>v31</th>\n",
       "      <th>Total</th>\n",
       "    </tr>\n",
       "  </thead>\n",
       "  <tbody>\n",
       "    <tr>\n",
       "      <th>0</th>\n",
       "      <td>21</td>\n",
       "      <td>1.0</td>\n",
       "      <td>2</td>\n",
       "      <td>2</td>\n",
       "      <td>4</td>\n",
       "      <td>2</td>\n",
       "      <td>1</td>\n",
       "      <td>2</td>\n",
       "      <td>3</td>\n",
       "      <td>2</td>\n",
       "      <td>...</td>\n",
       "      <td>3</td>\n",
       "      <td>4</td>\n",
       "      <td>3</td>\n",
       "      <td>3</td>\n",
       "      <td>3</td>\n",
       "      <td>2</td>\n",
       "      <td>3</td>\n",
       "      <td>3</td>\n",
       "      <td>4</td>\n",
       "      <td>80</td>\n",
       "    </tr>\n",
       "    <tr>\n",
       "      <th>1</th>\n",
       "      <td>23</td>\n",
       "      <td>1.0</td>\n",
       "      <td>2</td>\n",
       "      <td>2</td>\n",
       "      <td>2</td>\n",
       "      <td>1</td>\n",
       "      <td>1</td>\n",
       "      <td>1</td>\n",
       "      <td>1</td>\n",
       "      <td>1</td>\n",
       "      <td>...</td>\n",
       "      <td>1</td>\n",
       "      <td>2</td>\n",
       "      <td>2</td>\n",
       "      <td>2</td>\n",
       "      <td>1</td>\n",
       "      <td>4</td>\n",
       "      <td>2</td>\n",
       "      <td>1</td>\n",
       "      <td>1</td>\n",
       "      <td>50</td>\n",
       "    </tr>\n",
       "    <tr>\n",
       "      <th>2</th>\n",
       "      <td>20</td>\n",
       "      <td>1.0</td>\n",
       "      <td>2</td>\n",
       "      <td>1</td>\n",
       "      <td>4</td>\n",
       "      <td>2</td>\n",
       "      <td>2</td>\n",
       "      <td>3</td>\n",
       "      <td>3</td>\n",
       "      <td>1</td>\n",
       "      <td>...</td>\n",
       "      <td>1</td>\n",
       "      <td>4</td>\n",
       "      <td>3</td>\n",
       "      <td>3</td>\n",
       "      <td>2</td>\n",
       "      <td>2</td>\n",
       "      <td>3</td>\n",
       "      <td>4</td>\n",
       "      <td>3</td>\n",
       "      <td>79</td>\n",
       "    </tr>\n",
       "    <tr>\n",
       "      <th>3</th>\n",
       "      <td>21</td>\n",
       "      <td>1.0</td>\n",
       "      <td>2</td>\n",
       "      <td>3</td>\n",
       "      <td>1</td>\n",
       "      <td>2</td>\n",
       "      <td>1</td>\n",
       "      <td>2</td>\n",
       "      <td>1</td>\n",
       "      <td>1</td>\n",
       "      <td>...</td>\n",
       "      <td>1</td>\n",
       "      <td>4</td>\n",
       "      <td>2</td>\n",
       "      <td>4</td>\n",
       "      <td>1</td>\n",
       "      <td>3</td>\n",
       "      <td>2</td>\n",
       "      <td>1</td>\n",
       "      <td>1</td>\n",
       "      <td>62</td>\n",
       "    </tr>\n",
       "    <tr>\n",
       "      <th>4</th>\n",
       "      <td>21</td>\n",
       "      <td>1.0</td>\n",
       "      <td>2</td>\n",
       "      <td>3</td>\n",
       "      <td>3</td>\n",
       "      <td>3</td>\n",
       "      <td>1</td>\n",
       "      <td>2</td>\n",
       "      <td>4</td>\n",
       "      <td>2</td>\n",
       "      <td>...</td>\n",
       "      <td>3</td>\n",
       "      <td>4</td>\n",
       "      <td>3</td>\n",
       "      <td>4</td>\n",
       "      <td>2</td>\n",
       "      <td>2</td>\n",
       "      <td>3</td>\n",
       "      <td>2</td>\n",
       "      <td>2</td>\n",
       "      <td>83</td>\n",
       "    </tr>\n",
       "  </tbody>\n",
       "</table>\n",
       "<p>5 rows × 34 columns</p>\n",
       "</div>"
      ],
      "text/plain": [
       "   edad sexo  v1  v2  v3  v4  v5  v6  v7  v8  ...  v23  v24  v25  v26  v27  \\\n",
       "0    21  1.0   2   2   4   2   1   2   3   2  ...    3    4    3    3    3   \n",
       "1    23  1.0   2   2   2   1   1   1   1   1  ...    1    2    2    2    1   \n",
       "2    20  1.0   2   1   4   2   2   3   3   1  ...    1    4    3    3    2   \n",
       "3    21  1.0   2   3   1   2   1   2   1   1  ...    1    4    2    4    1   \n",
       "4    21  1.0   2   3   3   3   1   2   4   2  ...    3    4    3    4    2   \n",
       "\n",
       "   v28  v29  v30  v31  Total  \n",
       "0    2    3    3    4     80  \n",
       "1    4    2    1    1     50  \n",
       "2    2    3    4    3     79  \n",
       "3    3    2    1    1     62  \n",
       "4    2    3    2    2     83  \n",
       "\n",
       "[5 rows x 34 columns]"
      ]
     },
     "execution_count": 190,
     "metadata": {},
     "output_type": "execute_result"
    }
   ],
   "source": [
    "df.head()"
   ]
  },
  {
   "cell_type": "code",
   "execution_count": 106,
   "id": "6f44dca1",
   "metadata": {},
   "outputs": [
    {
     "data": {
      "image/png": "[encoded data removed]",
      "text/plain": [
       "<Figure size 640x480 with 2 Axes>"
      ]
     },
     "metadata": {},
     "output_type": "display_data"
    }
   ],
   "source": [
    "plt = sns.heatmap(matrix, annot = False, cmap = 'YlGnBu_r')"
   ]
  },
  {
   "cell_type": "code",
   "execution_count": 169,
   "id": "5482069e",
   "metadata": {},
   "outputs": [
    {
     "data": {
      "text/html": [
       "<div>\n",
       "<style scoped>\n",
       "    .dataframe tbody tr th:only-of-type {\n",
       "        vertical-align: middle;\n",
       "    }\n",
       "\n",
       "    .dataframe tbody tr th {\n",
       "        vertical-align: top;\n",
       "    }\n",
       "\n",
       "    .dataframe thead th {\n",
       "        text-align: right;\n",
       "    }\n",
       "</style>\n",
       "<table border=\"1\" class=\"dataframe\">\n",
       "  <thead>\n",
       "    <tr style=\"text-align: right;\">\n",
       "      <th></th>\n",
       "      <th>variable_1</th>\n",
       "      <th>variable_2</th>\n",
       "      <th>value</th>\n",
       "    </tr>\n",
       "  </thead>\n",
       "  <tbody>\n",
       "    <tr>\n",
       "      <th>0</th>\n",
       "      <td>v28</td>\n",
       "      <td>v22</td>\n",
       "      <td>0.569301</td>\n",
       "    </tr>\n",
       "    <tr>\n",
       "      <th>1</th>\n",
       "      <td>v15</td>\n",
       "      <td>v5</td>\n",
       "      <td>0.566677</td>\n",
       "    </tr>\n",
       "    <tr>\n",
       "      <th>2</th>\n",
       "      <td>v31</td>\n",
       "      <td>v27</td>\n",
       "      <td>0.562900</td>\n",
       "    </tr>\n",
       "    <tr>\n",
       "      <th>3</th>\n",
       "      <td>v30</td>\n",
       "      <td>v31</td>\n",
       "      <td>0.547902</td>\n",
       "    </tr>\n",
       "    <tr>\n",
       "      <th>4</th>\n",
       "      <td>v5</td>\n",
       "      <td>v22</td>\n",
       "      <td>0.539037</td>\n",
       "    </tr>\n",
       "    <tr>\n",
       "      <th>5</th>\n",
       "      <td>v31</td>\n",
       "      <td>v29</td>\n",
       "      <td>0.519875</td>\n",
       "    </tr>\n",
       "    <tr>\n",
       "      <th>6</th>\n",
       "      <td>v27</td>\n",
       "      <td>v30</td>\n",
       "      <td>0.502408</td>\n",
       "    </tr>\n",
       "    <tr>\n",
       "      <th>7</th>\n",
       "      <td>v5</td>\n",
       "      <td>v28</td>\n",
       "      <td>0.496137</td>\n",
       "    </tr>\n",
       "    <tr>\n",
       "      <th>8</th>\n",
       "      <td>v27</td>\n",
       "      <td>v29</td>\n",
       "      <td>0.486183</td>\n",
       "    </tr>\n",
       "    <tr>\n",
       "      <th>9</th>\n",
       "      <td>v22</td>\n",
       "      <td>v15</td>\n",
       "      <td>0.465719</td>\n",
       "    </tr>\n",
       "  </tbody>\n",
       "</table>\n",
       "</div>"
      ],
      "text/plain": [
       "  variable_1 variable_2     value\n",
       "0        v28        v22  0.569301\n",
       "1        v15         v5  0.566677\n",
       "2        v31        v27  0.562900\n",
       "3        v30        v31  0.547902\n",
       "4         v5        v22  0.539037\n",
       "5        v31        v29  0.519875\n",
       "6        v27        v30  0.502408\n",
       "7         v5        v28  0.496137\n",
       "8        v27        v29  0.486183\n",
       "9        v22        v15  0.465719"
      ]
     },
     "execution_count": 169,
     "metadata": {},
     "output_type": "execute_result"
    }
   ],
   "source": [
    "matrix = df.drop(labels = ['Total'], axis = 1).corr(method = 'pearson', numeric_only = True)\n",
    "# Mejores correlaciones respecto a una variable\n",
    "# matrix['edad'].sort_values(ascending = True).head(10)\n",
    "\n",
    "# Mejores correlaciones en general\n",
    "matrix_2 = (matrix.\n",
    "            reset_index().rename(columns={'index': 'variable_1'}).\n",
    "            melt(id_vars = ['variable_1'], var_name = 'variable_2'))\n",
    "\n",
    "matrix_2['Same_col'] = np.where(matrix_2['variable_1'] == matrix_2['variable_2'], True, False)\n",
    "\n",
    "matrix_2 = (matrix_2.loc[~matrix_2['Same_col']].\n",
    "            drop(labels = ['Same_col'], axis = 1).\n",
    "            sort_values(by = ['value'], ascending = False).\n",
    "            drop_duplicates(subset = 'value', keep = 'first', ignore_index = True))\n",
    " \n",
    "matrix_2.head(10)"
   ]
  },
  {
   "cell_type": "markdown",
   "id": "2ef4cab4",
   "metadata": {},
   "source": [
    "Crear un gráfico con las mejores variables"
   ]
  },
  {
   "cell_type": "code",
   "execution_count": 191,
   "id": "fa1fcac0",
   "metadata": {},
   "outputs": [
    {
     "data": {
      "image/png": "[encoded data removed]",
      "text/plain": [
       "<Figure size 1750x1750 with 35 Axes>"
      ]
     },
     "metadata": {},
     "output_type": "display_data"
    }
   ],
   "source": [
    "# Mejores variables\n",
    "matrix_3 = (pd.concat([matrix_2.head()['variable_1'],matrix_2.head()['variable_2']],ignore_index = True).\n",
    "            unique().\n",
    "            tolist())\n",
    "# Estilo del gráfico\n",
    "sns.set_theme(context = 'paper', style = 'ticks')\n",
    "\n",
    "# Gráifco\n",
    "sns.pairplot(data = df[matrix_3], height = 2.5,\n",
    "             plot_kws = {'color':'#82ad32','edgecolor':'black'},\n",
    "             corner = True, diag_kws = {'color': '#82ad32'});"
   ]
  }
 ],
 "metadata": {
  "kernelspec": {
   "display_name": "Python 3 (ipykernel)",
   "language": "python",
   "name": "python3"
  },
  "language_info": {
   "codemirror_mode": {
    "name": "ipython",
    "version": 3
   },
   "file_extension": ".py",
   "mimetype": "text/x-python",
   "name": "python",
   "nbconvert_exporter": "python",
   "pygments_lexer": "ipython3",
   "version": "3.10.8"
  },
  "toc": {
   "base_numbering": 1,
   "nav_menu": {},
   "number_sections": false,
   "sideBar": true,
   "skip_h1_title": false,
   "title_cell": "Table of Contents",
   "title_sidebar": "Contents",
   "toc_cell": false,
   "toc_position": {},
   "toc_section_display": true,
   "toc_window_display": false
  }
 },
 "nbformat": 4,
 "nbformat_minor": 5
}
