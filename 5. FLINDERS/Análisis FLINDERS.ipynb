{
 "cells": [
  {
   "cell_type": "markdown",
   "id": "f2dbd9c4",
   "metadata": {},
   "source": [
    "## Análisis de datos - Flinders"
   ]
  },
  {
   "cell_type": "markdown",
   "id": "11642b0d",
   "metadata": {},
   "source": [
    "### 1. Librerías"
   ]
  },
  {
   "cell_type": "code",
   "execution_count": 1,
   "id": "640ddd15",
   "metadata": {},
   "outputs": [],
   "source": [
    "import pandas as pd, numpy as np, matplotlib.pyplot as plt, seaborn as sns, os"
   ]
  },
  {
   "cell_type": "markdown",
   "id": "a6761fbb",
   "metadata": {},
   "source": [
    "### 2. Carga de datos"
   ]
  },
  {
   "cell_type": "code",
   "execution_count": 16,
   "id": "180c4ea9",
   "metadata": {},
   "outputs": [],
   "source": [
    "path = r'C:\\Users\\DELL\\OneDrive\\Formación\\Python\\Taller'\n",
    "file = 'Flinders.sav'\n",
    "df = pd.read_spss(path = os.path.join(path,file),convert_categoricals = True).drop(['No'], axis = 1)"
   ]
  },
  {
   "cell_type": "markdown",
   "id": "ba6c1d01",
   "metadata": {},
   "source": [
    "### 3. Revisión preliminar"
   ]
  },
  {
   "cell_type": "code",
   "execution_count": 17,
   "id": "3cfd3c3c",
   "metadata": {},
   "outputs": [
    {
     "data": {
      "text/html": [
       "<div>\n",
       "<style scoped>\n",
       "    .dataframe tbody tr th:only-of-type {\n",
       "        vertical-align: middle;\n",
       "    }\n",
       "\n",
       "    .dataframe tbody tr th {\n",
       "        vertical-align: top;\n",
       "    }\n",
       "\n",
       "    .dataframe thead th {\n",
       "        text-align: right;\n",
       "    }\n",
       "</style>\n",
       "<table border=\"1\" class=\"dataframe\">\n",
       "  <thead>\n",
       "    <tr style=\"text-align: right;\">\n",
       "      <th></th>\n",
       "      <th>edad</th>\n",
       "      <th>sexo</th>\n",
       "      <th>v1</th>\n",
       "      <th>v2</th>\n",
       "      <th>v3</th>\n",
       "      <th>v4</th>\n",
       "      <th>v5</th>\n",
       "      <th>v6</th>\n",
       "      <th>v7</th>\n",
       "      <th>v8</th>\n",
       "      <th>...</th>\n",
       "      <th>v23</th>\n",
       "      <th>v24</th>\n",
       "      <th>v25</th>\n",
       "      <th>v26</th>\n",
       "      <th>v27</th>\n",
       "      <th>v28</th>\n",
       "      <th>v29</th>\n",
       "      <th>v30</th>\n",
       "      <th>v31</th>\n",
       "      <th>FDMQTOTAL</th>\n",
       "    </tr>\n",
       "  </thead>\n",
       "  <tbody>\n",
       "    <tr>\n",
       "      <th>0</th>\n",
       "      <td>21.0</td>\n",
       "      <td>1.0</td>\n",
       "      <td>2.0</td>\n",
       "      <td>2.0</td>\n",
       "      <td>4.0</td>\n",
       "      <td>2.0</td>\n",
       "      <td>1.0</td>\n",
       "      <td>2.0</td>\n",
       "      <td>3.0</td>\n",
       "      <td>2.0</td>\n",
       "      <td>...</td>\n",
       "      <td>3.0</td>\n",
       "      <td>4.0</td>\n",
       "      <td>3.0</td>\n",
       "      <td>3.0</td>\n",
       "      <td>3.0</td>\n",
       "      <td>2.0</td>\n",
       "      <td>3.0</td>\n",
       "      <td>3.0</td>\n",
       "      <td>4.0</td>\n",
       "      <td>80.0</td>\n",
       "    </tr>\n",
       "    <tr>\n",
       "      <th>1</th>\n",
       "      <td>23.0</td>\n",
       "      <td>1.0</td>\n",
       "      <td>2.0</td>\n",
       "      <td>2.0</td>\n",
       "      <td>2.0</td>\n",
       "      <td>1.0</td>\n",
       "      <td>1.0</td>\n",
       "      <td>1.0</td>\n",
       "      <td>1.0</td>\n",
       "      <td>1.0</td>\n",
       "      <td>...</td>\n",
       "      <td>1.0</td>\n",
       "      <td>2.0</td>\n",
       "      <td>2.0</td>\n",
       "      <td>2.0</td>\n",
       "      <td>1.0</td>\n",
       "      <td>4.0</td>\n",
       "      <td>2.0</td>\n",
       "      <td>1.0</td>\n",
       "      <td>1.0</td>\n",
       "      <td>50.0</td>\n",
       "    </tr>\n",
       "    <tr>\n",
       "      <th>2</th>\n",
       "      <td>20.0</td>\n",
       "      <td>1.0</td>\n",
       "      <td>2.0</td>\n",
       "      <td>1.0</td>\n",
       "      <td>4.0</td>\n",
       "      <td>2.0</td>\n",
       "      <td>2.0</td>\n",
       "      <td>3.0</td>\n",
       "      <td>3.0</td>\n",
       "      <td>1.0</td>\n",
       "      <td>...</td>\n",
       "      <td>1.0</td>\n",
       "      <td>4.0</td>\n",
       "      <td>3.0</td>\n",
       "      <td>3.0</td>\n",
       "      <td>2.0</td>\n",
       "      <td>2.0</td>\n",
       "      <td>3.0</td>\n",
       "      <td>4.0</td>\n",
       "      <td>3.0</td>\n",
       "      <td>79.0</td>\n",
       "    </tr>\n",
       "    <tr>\n",
       "      <th>3</th>\n",
       "      <td>21.0</td>\n",
       "      <td>1.0</td>\n",
       "      <td>2.0</td>\n",
       "      <td>3.0</td>\n",
       "      <td>1.0</td>\n",
       "      <td>2.0</td>\n",
       "      <td>1.0</td>\n",
       "      <td>2.0</td>\n",
       "      <td>1.0</td>\n",
       "      <td>1.0</td>\n",
       "      <td>...</td>\n",
       "      <td>1.0</td>\n",
       "      <td>4.0</td>\n",
       "      <td>2.0</td>\n",
       "      <td>4.0</td>\n",
       "      <td>1.0</td>\n",
       "      <td>3.0</td>\n",
       "      <td>2.0</td>\n",
       "      <td>1.0</td>\n",
       "      <td>1.0</td>\n",
       "      <td>62.0</td>\n",
       "    </tr>\n",
       "    <tr>\n",
       "      <th>4</th>\n",
       "      <td>21.0</td>\n",
       "      <td>1.0</td>\n",
       "      <td>2.0</td>\n",
       "      <td>3.0</td>\n",
       "      <td>3.0</td>\n",
       "      <td>3.0</td>\n",
       "      <td>1.0</td>\n",
       "      <td>2.0</td>\n",
       "      <td>4.0</td>\n",
       "      <td>2.0</td>\n",
       "      <td>...</td>\n",
       "      <td>3.0</td>\n",
       "      <td>4.0</td>\n",
       "      <td>3.0</td>\n",
       "      <td>4.0</td>\n",
       "      <td>2.0</td>\n",
       "      <td>2.0</td>\n",
       "      <td>3.0</td>\n",
       "      <td>2.0</td>\n",
       "      <td>2.0</td>\n",
       "      <td>83.0</td>\n",
       "    </tr>\n",
       "  </tbody>\n",
       "</table>\n",
       "<p>5 rows × 34 columns</p>\n",
       "</div>"
      ],
      "text/plain": [
       "   edad  sexo   v1   v2   v3   v4   v5   v6   v7   v8  ...  v23  v24  v25  \\\n",
       "0  21.0   1.0  2.0  2.0  4.0  2.0  1.0  2.0  3.0  2.0  ...  3.0  4.0  3.0   \n",
       "1  23.0   1.0  2.0  2.0  2.0  1.0  1.0  1.0  1.0  1.0  ...  1.0  2.0  2.0   \n",
       "2  20.0   1.0  2.0  1.0  4.0  2.0  2.0  3.0  3.0  1.0  ...  1.0  4.0  3.0   \n",
       "3  21.0   1.0  2.0  3.0  1.0  2.0  1.0  2.0  1.0  1.0  ...  1.0  4.0  2.0   \n",
       "4  21.0   1.0  2.0  3.0  3.0  3.0  1.0  2.0  4.0  2.0  ...  3.0  4.0  3.0   \n",
       "\n",
       "   v26  v27  v28  v29  v30  v31  FDMQTOTAL  \n",
       "0  3.0  3.0  2.0  3.0  3.0  4.0       80.0  \n",
       "1  2.0  1.0  4.0  2.0  1.0  1.0       50.0  \n",
       "2  3.0  2.0  2.0  3.0  4.0  3.0       79.0  \n",
       "3  4.0  1.0  3.0  2.0  1.0  1.0       62.0  \n",
       "4  4.0  2.0  2.0  3.0  2.0  2.0       83.0  \n",
       "\n",
       "[5 rows x 34 columns]"
      ]
     },
     "execution_count": 17,
     "metadata": {},
     "output_type": "execute_result"
    }
   ],
   "source": [
    "df.head()"
   ]
  },
  {
   "cell_type": "markdown",
   "id": "46aa5f53",
   "metadata": {},
   "source": [
    "Distribución de la edad"
   ]
  },
  {
   "cell_type": "code",
   "execution_count": 26,
   "id": "d20ef61e",
   "metadata": {},
   "outputs": [
    {
     "data": {
      "text/plain": [
       "(19.333, 29.0]                    137\n",
       "(29.0, 38.667]                     33\n",
       "(9.667, 19.333]                    23\n",
       "(38.667, 48.333]                    8\n",
       "(48.333, 58.0]                      3\n",
       "(-0.059000000000000004, 9.667]      1\n",
       "Name: edad, dtype: int64"
      ]
     },
     "execution_count": 26,
     "metadata": {},
     "output_type": "execute_result"
    }
   ],
   "source": [
    "df['edad'].value_counts(dropna = False, bins = 6)"
   ]
  },
  {
   "cell_type": "code",
   "execution_count": 7,
   "id": "094c9b0e",
   "metadata": {},
   "outputs": [
    {
     "name": "stdout",
     "output_type": "stream",
     "text": [
      "<class 'pandas.core.frame.DataFrame'>\n",
      "RangeIndex: 205 entries, 0 to 204\n",
      "Data columns (total 35 columns):\n",
      " #   Column     Non-Null Count  Dtype  \n",
      "---  ------     --------------  -----  \n",
      " 0   No         205 non-null    float64\n",
      " 1   edad       205 non-null    float64\n",
      " 2   sexo       205 non-null    float64\n",
      " 3   v1         205 non-null    float64\n",
      " 4   v2         205 non-null    float64\n",
      " 5   v3         205 non-null    float64\n",
      " 6   v4         205 non-null    float64\n",
      " 7   v5         205 non-null    float64\n",
      " 8   v6         205 non-null    float64\n",
      " 9   v7         205 non-null    float64\n",
      " 10  v8         205 non-null    float64\n",
      " 11  v9         205 non-null    float64\n",
      " 12  v10        205 non-null    float64\n",
      " 13  v11        205 non-null    float64\n",
      " 14  v12        205 non-null    float64\n",
      " 15  v13        205 non-null    float64\n",
      " 16  v14        205 non-null    float64\n",
      " 17  v15        205 non-null    float64\n",
      " 18  v16        205 non-null    float64\n",
      " 19  v17        205 non-null    float64\n",
      " 20  v18        205 non-null    float64\n",
      " 21  v19        205 non-null    float64\n",
      " 22  v20        205 non-null    float64\n",
      " 23  v21        205 non-null    float64\n",
      " 24  v22        205 non-null    float64\n",
      " 25  v23        205 non-null    float64\n",
      " 26  v24        205 non-null    float64\n",
      " 27  v25        205 non-null    float64\n",
      " 28  v26        205 non-null    float64\n",
      " 29  v27        205 non-null    float64\n",
      " 30  v28        205 non-null    float64\n",
      " 31  v29        205 non-null    float64\n",
      " 32  v30        205 non-null    float64\n",
      " 33  v31        205 non-null    float64\n",
      " 34  FDMQTOTAL  205 non-null    float64\n",
      "dtypes: float64(35)\n",
      "memory usage: 56.2 KB\n"
     ]
    }
   ],
   "source": [
    "df.info()"
   ]
  }
 ],
 "metadata": {
  "kernelspec": {
   "display_name": "Python 3 (ipykernel)",
   "language": "python",
   "name": "python3"
  },
  "language_info": {
   "codemirror_mode": {
    "name": "ipython",
    "version": 3
   },
   "file_extension": ".py",
   "mimetype": "text/x-python",
   "name": "python",
   "nbconvert_exporter": "python",
   "pygments_lexer": "ipython3",
   "version": "3.10.8"
  },
  "toc": {
   "base_numbering": 1,
   "nav_menu": {},
   "number_sections": false,
   "sideBar": true,
   "skip_h1_title": false,
   "title_cell": "Table of Contents",
   "title_sidebar": "Contents",
   "toc_cell": false,
   "toc_position": {},
   "toc_section_display": true,
   "toc_window_display": false
  }
 },
 "nbformat": 4,
 "nbformat_minor": 5
}
