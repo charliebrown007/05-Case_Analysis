{
 "cells": [
  {
   "cell_type": "markdown",
   "id": "2ba9c261",
   "metadata": {},
   "source": [
    "# <font color=#000080>Análisis de ventas 2"
   ]
  },
  {
   "cell_type": "markdown",
   "id": "22615628",
   "metadata": {
    "heading_collapsed": true
   },
   "source": [
    "## <font color=#000080>Librerías"
   ]
  },
  {
   "cell_type": "code",
   "execution_count": 55,
   "id": "c9c35b42",
   "metadata": {
    "hidden": true
   },
   "outputs": [],
   "source": [
    "# Análisis de datos\n",
    "import pandas as pd\n",
    "import numpy as np\n",
    "\n",
    "# Direcciones\n",
    "import os\n",
    "\n",
    "# Gráficos\n",
    "import matplotlib.pyplot as plt\n",
    "import seaborn as sns\n",
    "\n",
    "# Gestión de libros de Excel\n",
    "#import xlwings as xw\n",
    "#import lxml as lx"
   ]
  },
  {
   "cell_type": "markdown",
   "id": "06ad39eb",
   "metadata": {},
   "source": [
    "## <font color=#000080>Carga de datos\n",
    "- El caracter r será usado cuando se copien y peguen direcciones en Windows con barras incliniadas a la izquierda (**\\**)\n",
    "- Se cargaron datos que no tienen un formato de tabla en el libro de excel"
   ]
  },
  {
   "cell_type": "code",
   "execution_count": 61,
   "id": "d86f8544",
   "metadata": {},
   "outputs": [],
   "source": [
    "main_path = r'C:\\Users\\DELL\\OneDrive\\Formación\\Python\\Repositorios\\Case_Analysis\\Data'\n",
    "df1 = pd.read_excel(io = os.path.join(main_path,'categoria-1.xlsx'),sheet_name = 'Computadoras')\n",
    "df2 = pd.read_excel(io = os.path.join(main_path,'categoria-2.xlsx'),sheet_name = 'Consolas')"
   ]
  },
  {
   "cell_type": "markdown",
   "id": "213aa0fc",
   "metadata": {},
   "source": [
    "## <font color=#000080>Visualización preliminar de datos"
   ]
  },
  {
   "cell_type": "markdown",
   "id": "96db7342",
   "metadata": {},
   "source": [
    "### Información general\n",
    "Se deben verificar la dimensión (filas y columas) del dataframe, asi como la ubicación y tipo de variables."
   ]
  },
  {
   "cell_type": "code",
   "execution_count": 85,
   "id": "c0665bda",
   "metadata": {},
   "outputs": [
    {
     "data": {
      "text/html": [
       "<div>\n",
       "<style scoped>\n",
       "    .dataframe tbody tr th:only-of-type {\n",
       "        vertical-align: middle;\n",
       "    }\n",
       "\n",
       "    .dataframe tbody tr th {\n",
       "        vertical-align: top;\n",
       "    }\n",
       "\n",
       "    .dataframe thead th {\n",
       "        text-align: right;\n",
       "    }\n",
       "</style>\n",
       "<table border=\"1\" class=\"dataframe\">\n",
       "  <thead>\n",
       "    <tr style=\"text-align: right;\">\n",
       "      <th></th>\n",
       "      <th>Fecha</th>\n",
       "      <th>Estado</th>\n",
       "      <th>Vendedor</th>\n",
       "      <th>Categoría</th>\n",
       "      <th>Producto</th>\n",
       "      <th>Cantidad</th>\n",
       "      <th>Precio Unitario</th>\n",
       "      <th>Total venta</th>\n",
       "    </tr>\n",
       "  </thead>\n",
       "  <tbody>\n",
       "    <tr>\n",
       "      <th>0</th>\n",
       "      <td>2020-01-01</td>\n",
       "      <td>California</td>\n",
       "      <td>Mario Martínez</td>\n",
       "      <td>Consolas Videojuegos</td>\n",
       "      <td>Game Boy</td>\n",
       "      <td>8</td>\n",
       "      <td>89.95</td>\n",
       "      <td>719.60</td>\n",
       "    </tr>\n",
       "    <tr>\n",
       "      <th>1</th>\n",
       "      <td>2020-01-01</td>\n",
       "      <td>Nueva York</td>\n",
       "      <td>Mariana Báez</td>\n",
       "      <td>Consolas Videojuegos</td>\n",
       "      <td>PlayStation 4</td>\n",
       "      <td>10</td>\n",
       "      <td>349.99</td>\n",
       "      <td>3499.90</td>\n",
       "    </tr>\n",
       "    <tr>\n",
       "      <th>2</th>\n",
       "      <td>2020-01-01</td>\n",
       "      <td>Florida</td>\n",
       "      <td>Rubén Rondón</td>\n",
       "      <td>Consolas Videojuegos</td>\n",
       "      <td>Wii</td>\n",
       "      <td>6</td>\n",
       "      <td>99.99</td>\n",
       "      <td>599.94</td>\n",
       "    </tr>\n",
       "    <tr>\n",
       "      <th>3</th>\n",
       "      <td>2020-01-01</td>\n",
       "      <td>Arizona</td>\n",
       "      <td>Elizabeth Smith</td>\n",
       "      <td>Consolas Videojuegos</td>\n",
       "      <td>PlayStation 3</td>\n",
       "      <td>10</td>\n",
       "      <td>135.99</td>\n",
       "      <td>1359.90</td>\n",
       "    </tr>\n",
       "    <tr>\n",
       "      <th>4</th>\n",
       "      <td>2020-01-01</td>\n",
       "      <td>California</td>\n",
       "      <td>Mario Martínez</td>\n",
       "      <td>Consolas Videojuegos</td>\n",
       "      <td>Game Boy Advance</td>\n",
       "      <td>10</td>\n",
       "      <td>299.99</td>\n",
       "      <td>2999.90</td>\n",
       "    </tr>\n",
       "  </tbody>\n",
       "</table>\n",
       "</div>"
      ],
      "text/plain": [
       "       Fecha      Estado         Vendedor             Categoría  \\\n",
       "0 2020-01-01  California   Mario Martínez  Consolas Videojuegos   \n",
       "1 2020-01-01  Nueva York     Mariana Báez  Consolas Videojuegos   \n",
       "2 2020-01-01     Florida     Rubén Rondón  Consolas Videojuegos   \n",
       "3 2020-01-01     Arizona  Elizabeth Smith  Consolas Videojuegos   \n",
       "4 2020-01-01  California   Mario Martínez  Consolas Videojuegos   \n",
       "\n",
       "           Producto  Cantidad  Precio Unitario  Total venta  \n",
       "0          Game Boy         8            89.95       719.60  \n",
       "1     PlayStation 4        10           349.99      3499.90  \n",
       "2               Wii         6            99.99       599.94  \n",
       "3     PlayStation 3        10           135.99      1359.90  \n",
       "4  Game Boy Advance        10           299.99      2999.90  "
      ]
     },
     "execution_count": 85,
     "metadata": {},
     "output_type": "execute_result"
    }
   ],
   "source": [
    "df2.head()"
   ]
  },
  {
   "cell_type": "code",
   "execution_count": 86,
   "id": "71457a98",
   "metadata": {},
   "outputs": [
    {
     "data": {
      "text/html": [
       "<div>\n",
       "<style scoped>\n",
       "    .dataframe tbody tr th:only-of-type {\n",
       "        vertical-align: middle;\n",
       "    }\n",
       "\n",
       "    .dataframe tbody tr th {\n",
       "        vertical-align: top;\n",
       "    }\n",
       "\n",
       "    .dataframe thead th {\n",
       "        text-align: right;\n",
       "    }\n",
       "</style>\n",
       "<table border=\"1\" class=\"dataframe\">\n",
       "  <thead>\n",
       "    <tr style=\"text-align: right;\">\n",
       "      <th></th>\n",
       "      <th>Fecha</th>\n",
       "      <th>Estado</th>\n",
       "      <th>Vendedor</th>\n",
       "      <th>Categoría</th>\n",
       "      <th>Producto</th>\n",
       "      <th>Cantidad</th>\n",
       "      <th>Precio Unitario</th>\n",
       "      <th>Total venta</th>\n",
       "    </tr>\n",
       "  </thead>\n",
       "  <tbody>\n",
       "    <tr>\n",
       "      <th>0</th>\n",
       "      <td>2020-01-01</td>\n",
       "      <td>Florida</td>\n",
       "      <td>Rubén Rondón</td>\n",
       "      <td>Computadoras</td>\n",
       "      <td>SAMSUMG</td>\n",
       "      <td>200</td>\n",
       "      <td>340</td>\n",
       "      <td>68000</td>\n",
       "    </tr>\n",
       "    <tr>\n",
       "      <th>1</th>\n",
       "      <td>2020-01-01</td>\n",
       "      <td>Arizona</td>\n",
       "      <td>Elizabeth Smith</td>\n",
       "      <td>Computadoras</td>\n",
       "      <td>HP</td>\n",
       "      <td>230</td>\n",
       "      <td>600</td>\n",
       "      <td>138000</td>\n",
       "    </tr>\n",
       "    <tr>\n",
       "      <th>2</th>\n",
       "      <td>2020-01-01</td>\n",
       "      <td>Texas</td>\n",
       "      <td>Rubén Rondón</td>\n",
       "      <td>Computadoras</td>\n",
       "      <td>SAMSUMG</td>\n",
       "      <td>200</td>\n",
       "      <td>340</td>\n",
       "      <td>68000</td>\n",
       "    </tr>\n",
       "    <tr>\n",
       "      <th>3</th>\n",
       "      <td>2020-02-01</td>\n",
       "      <td>California</td>\n",
       "      <td>Mario Martínez</td>\n",
       "      <td>Computadoras</td>\n",
       "      <td>HP</td>\n",
       "      <td>2</td>\n",
       "      <td>650</td>\n",
       "      <td>1300</td>\n",
       "    </tr>\n",
       "    <tr>\n",
       "      <th>4</th>\n",
       "      <td>2020-03-01</td>\n",
       "      <td>Minnesota</td>\n",
       "      <td>Elizabeth Smith</td>\n",
       "      <td>Computadoras</td>\n",
       "      <td>MAC</td>\n",
       "      <td>60</td>\n",
       "      <td>1100</td>\n",
       "      <td>66000</td>\n",
       "    </tr>\n",
       "  </tbody>\n",
       "</table>\n",
       "</div>"
      ],
      "text/plain": [
       "       Fecha      Estado         Vendedor     Categoría Producto  Cantidad  \\\n",
       "0 2020-01-01     Florida     Rubén Rondón  Computadoras  SAMSUMG       200   \n",
       "1 2020-01-01     Arizona  Elizabeth Smith  Computadoras       HP       230   \n",
       "2 2020-01-01       Texas     Rubén Rondón  Computadoras  SAMSUMG       200   \n",
       "3 2020-02-01  California   Mario Martínez  Computadoras       HP         2   \n",
       "4 2020-03-01   Minnesota  Elizabeth Smith  Computadoras      MAC        60   \n",
       "\n",
       "   Precio Unitario  Total venta  \n",
       "0              340        68000  \n",
       "1              600       138000  \n",
       "2              340        68000  \n",
       "3              650         1300  \n",
       "4             1100        66000  "
      ]
     },
     "execution_count": 86,
     "metadata": {},
     "output_type": "execute_result"
    }
   ],
   "source": [
    "df1.head()"
   ]
  },
  {
   "cell_type": "code",
   "execution_count": 62,
   "id": "e0f881d2",
   "metadata": {},
   "outputs": [
    {
     "name": "stdout",
     "output_type": "stream",
     "text": [
      "<class 'pandas.core.frame.DataFrame'>\n",
      "RangeIndex: 104 entries, 0 to 103\n",
      "Data columns (total 8 columns):\n",
      " #   Column           Non-Null Count  Dtype         \n",
      "---  ------           --------------  -----         \n",
      " 0   Fecha            104 non-null    datetime64[ns]\n",
      " 1   Estado           104 non-null    object        \n",
      " 2   Vendedor         104 non-null    object        \n",
      " 3   Categoría        104 non-null    object        \n",
      " 4   Producto         104 non-null    object        \n",
      " 5   Cantidad         104 non-null    int64         \n",
      " 6   Precio Unitario  104 non-null    int64         \n",
      " 7   Total venta      104 non-null    int64         \n",
      "dtypes: datetime64[ns](1), int64(3), object(4)\n",
      "memory usage: 6.6+ KB\n"
     ]
    }
   ],
   "source": [
    "df1.info()"
   ]
  },
  {
   "cell_type": "code",
   "execution_count": 63,
   "id": "49fae3eb",
   "metadata": {
    "scrolled": true
   },
   "outputs": [
    {
     "name": "stdout",
     "output_type": "stream",
     "text": [
      "<class 'pandas.core.frame.DataFrame'>\n",
      "RangeIndex: 139 entries, 0 to 138\n",
      "Data columns (total 8 columns):\n",
      " #   Column           Non-Null Count  Dtype         \n",
      "---  ------           --------------  -----         \n",
      " 0   Fecha            139 non-null    datetime64[ns]\n",
      " 1   Estado           139 non-null    object        \n",
      " 2   Vendedor         139 non-null    object        \n",
      " 3   Categoría        139 non-null    object        \n",
      " 4   Producto         139 non-null    object        \n",
      " 5   Cantidad         139 non-null    int64         \n",
      " 6   Precio Unitario  139 non-null    float64       \n",
      " 7   Total venta      139 non-null    float64       \n",
      "dtypes: datetime64[ns](1), float64(2), int64(1), object(4)\n",
      "memory usage: 8.8+ KB\n"
     ]
    }
   ],
   "source": [
    "df2.info()"
   ]
  },
  {
   "cell_type": "markdown",
   "id": "8c90c333",
   "metadata": {},
   "source": [
    "Ambos dataframes tienen el mismo **nombre y ubicación** de columnas"
   ]
  },
  {
   "cell_type": "code",
   "execution_count": 64,
   "id": "3efeeb9b",
   "metadata": {},
   "outputs": [
    {
     "data": {
      "text/plain": [
       "8"
      ]
     },
     "execution_count": 64,
     "metadata": {},
     "output_type": "execute_result"
    }
   ],
   "source": [
    "sum(df1.columns == df2.columns)"
   ]
  },
  {
   "cell_type": "markdown",
   "id": "bba828bd",
   "metadata": {},
   "source": [
    "Existen columnas con el mismo nombre pero con diferente tipo de datos"
   ]
  },
  {
   "cell_type": "code",
   "execution_count": 75,
   "id": "d0cf70d8",
   "metadata": {},
   "outputs": [
    {
     "data": {
      "text/plain": [
       "Fecha              datetime64[ns]\n",
       "Estado                     object\n",
       "Vendedor                   object\n",
       "Categoría                  object\n",
       "Producto                   object\n",
       "Cantidad                    int64\n",
       "Precio Unitario             int64\n",
       "Total venta                 int64\n",
       "dtype: object"
      ]
     },
     "execution_count": 75,
     "metadata": {},
     "output_type": "execute_result"
    }
   ],
   "source": [
    "df1.dtypes"
   ]
  },
  {
   "cell_type": "code",
   "execution_count": 79,
   "id": "7a81c4a7",
   "metadata": {},
   "outputs": [
    {
     "data": {
      "text/plain": [
       "6"
      ]
     },
     "execution_count": 79,
     "metadata": {},
     "output_type": "execute_result"
    }
   ],
   "source": [
    "a = df1.dtypes.reset_index() == df2.dtypes.reset_index()\n",
    "a['index'].sum()\n",
    "a[0].sum()"
   ]
  }
 ],
 "metadata": {
  "kernelspec": {
   "display_name": "Python 3 (ipykernel)",
   "language": "python",
   "name": "python3"
  },
  "language_info": {
   "codemirror_mode": {
    "name": "ipython",
    "version": 3
   },
   "file_extension": ".py",
   "mimetype": "text/x-python",
   "name": "python",
   "nbconvert_exporter": "python",
   "pygments_lexer": "ipython3",
   "version": "3.10.4"
  },
  "toc": {
   "base_numbering": 1,
   "nav_menu": {},
   "number_sections": false,
   "sideBar": true,
   "skip_h1_title": false,
   "title_cell": "Table of Contents",
   "title_sidebar": "Contents",
   "toc_cell": false,
   "toc_position": {},
   "toc_section_display": true,
   "toc_window_display": false
  }
 },
 "nbformat": 4,
 "nbformat_minor": 5
}
