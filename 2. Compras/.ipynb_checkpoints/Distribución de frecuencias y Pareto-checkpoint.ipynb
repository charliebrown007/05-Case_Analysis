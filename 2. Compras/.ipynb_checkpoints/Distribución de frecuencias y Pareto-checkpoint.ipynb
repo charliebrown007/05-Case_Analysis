{
 "cells": [
  {
   "cell_type": "markdown",
   "id": "0e311b83",
   "metadata": {},
   "source": [
    "## Tablas de frecuencias y análisis de Pareto\n",
    "## Caso: Compras"
   ]
  },
  {
   "cell_type": "code",
   "execution_count": 2,
   "id": "000a216d",
   "metadata": {},
   "outputs": [],
   "source": [
    "# Cargado de librerías\n",
    "import pandas as pd\n",
    "import matplotlib.pyplot as plt\n",
    "from matplotlib.ticker import PercentFormatter"
   ]
  },
  {
   "cell_type": "code",
   "execution_count": null,
   "id": "af03bd1f",
   "metadata": {},
   "outputs": [],
   "source": [
    "# Carga de datos\n",
    "mainpath = \"C:/Users/Carlos/OneDrive/Formación/Python/Casos de análisis/Compras/\"\n",
    "filename = \"Datos Compras.csv\"\n",
    "fullpath = mainpath + filename\n",
    "Productos = pd.read_csv(fullpath, sep = \",\")"
   ]
  },
  {
   "cell_type": "markdown",
   "id": "1ad7b518",
   "metadata": {},
   "source": [
    "### Barrido general de datos"
   ]
  },
  {
   "cell_type": "code",
   "execution_count": null,
   "id": "b7a050f0",
   "metadata": {},
   "outputs": [],
   "source": [
    "# Características generales de los datos\n",
    "Productos.info()"
   ]
  },
  {
   "cell_type": "code",
   "execution_count": null,
   "id": "d816bcc1",
   "metadata": {},
   "outputs": [],
   "source": [
    "Productos.head()"
   ]
  },
  {
   "cell_type": "markdown",
   "id": "a90d8584",
   "metadata": {
    "heading_collapsed": true
   },
   "source": [
    "### Creación de la tabla de frecuencias para variables cualitativas - Método 1"
   ]
  },
  {
   "cell_type": "code",
   "execution_count": null,
   "id": "82250579",
   "metadata": {
    "hidden": true
   },
   "outputs": [],
   "source": [
    "frec = pd.value_counts(Productos[\"Producto\"])\n",
    "frec"
   ]
  },
  {
   "cell_type": "code",
   "execution_count": null,
   "id": "b2826d09",
   "metadata": {
    "hidden": true
   },
   "outputs": [],
   "source": [
    "frec = pd.value_counts(Productos[\"Producto\"])\n",
    "frec_df = pd.DataFrame(frec).reset_index()\n",
    "\n",
    "# Asignación de nombres de columna\n",
    "frec_df.columns = [\"Producto\",\"Frec_abs\"]\n",
    "\n",
    "# Frecuencia acumulada\n",
    "frec_df[\"Frec_acum\"] = frec_df[\"Frec_abs\"].cumsum()\n",
    "\n",
    "# Frecuencia relativa\n",
    "frec_df[\"Frec_rel_%\"] = round((frec_df[\"Frec_abs\"] / frec_df[\"Frec_abs\"].sum())*100,1)\n",
    "\n",
    "# Frecuencia relativa acumulada\n",
    "frec_df[\"Frec_rel_acum_%\"] = frec_df[\"Frec_rel_%\"].cumsum()\n",
    "\n",
    "# Visualizacón del resultado\n",
    "frec_df"
   ]
  },
  {
   "cell_type": "markdown",
   "id": "e9b05566",
   "metadata": {
    "heading_collapsed": true
   },
   "source": [
    "### Creación de la tabla de frecuencias para variables cualitativas - Método 2"
   ]
  },
  {
   "cell_type": "code",
   "execution_count": null,
   "id": "a0a4afb6",
   "metadata": {
    "hidden": true
   },
   "outputs": [],
   "source": [
    "# Creación de la tabla de frecuencias\n",
    "table = pd.crosstab(index = Productos[\"Producto\"], columns = \"Frecuencia\")\n",
    "\n",
    "# Frecuencia relativa\n",
    "table[\"Frecuencia_rel\"] = table[\"Frecuencia\"] / table[\"Frecuencia\"].sum()\n",
    "\n",
    "# Fila de total\n",
    "table = table.append(table[[\"Frecuencia\",\"Frecuencia_rel\"]].sum().rename(\"TOTAL\"))\n",
    "\n",
    "table"
   ]
  },
  {
   "cell_type": "markdown",
   "id": "c4111ffa",
   "metadata": {
    "heading_collapsed": true
   },
   "source": [
    "### Creación de la tabla de frecuencias para variables cuantitativas - Método 1"
   ]
  },
  {
   "cell_type": "markdown",
   "id": "7f2cebd7",
   "metadata": {
    "hidden": true
   },
   "source": [
    "Use cut when you need to segment and sort data values into bins. This function is also useful for going from a continuous variable to a categorical variable. For example, cut could convert ages to groups of age ranges. Supports binning into an equal number of bins, or a pre-specified array of bins."
   ]
  },
  {
   "cell_type": "code",
   "execution_count": null,
   "id": "61eb7a95",
   "metadata": {
    "hidden": true
   },
   "outputs": [],
   "source": [
    "# Carga de datos\n",
    "mainpath = \"C:/Users/Carlos/OneDrive/Formación/Python/Casos de análisis/Compras/\"\n",
    "filename = \"Distance.csv\"\n",
    "fullpath = mainpath + filename\n",
    "Data_distance = pd.read_csv(fullpath, sep = \",\")"
   ]
  },
  {
   "cell_type": "code",
   "execution_count": null,
   "id": "8f8c39a7",
   "metadata": {
    "hidden": true
   },
   "outputs": [],
   "source": [
    "Data_distance.head()"
   ]
  },
  {
   "cell_type": "code",
   "execution_count": null,
   "id": "f564efa0",
   "metadata": {
    "hidden": true
   },
   "outputs": [],
   "source": [
    "# Contenedores y etiquetas de datos\n",
    "bins = [0,7,14,21,28,35,42]\n",
    "labels = [\"1-7\",\"7-14\",\"14-21\",\"21-28\",\"28-35\",\"35-42\"]\n",
    "\n",
    "# Incorporación de los datos sobre el dataset original\n",
    "Data_distance[\"Distance bracket\"] = pd.cut(Data_distance[\"Distance\"], bins = bins, labels = labels, right = False)\n",
    "Data_distance\n",
    "# Creación de la distribución de frecuencias\n",
    "#table = pd.crosstab(index = Data_distance[\"Distance bracket\"], columns = \"Frequency\")\n",
    "\n",
    "# Frecuencia acumulada\n",
    "#table[\"Frec_acum\"] = table[\"Frequency\"].cumsum()\n",
    "\n",
    "# Frecuencia relativa\n",
    "#table[\"Frec_rel_%\"] = round((table[\"Frequency\"] / table[\"Frequency\"].sum())*100,1)\n",
    "\n",
    "# Frecuencia relativa acumulada\n",
    "#table[\"Frec_rel_acum_%\"] = table[\"Frec_rel_%\"].cumsum()\n",
    "\n",
    "# Visualizacón del resultado\n",
    "#table"
   ]
  },
  {
   "cell_type": "markdown",
   "id": "30714a74",
   "metadata": {},
   "source": [
    "### Creación de la tabla de frecuencias para variables cuantitativas - Método 2"
   ]
  },
  {
   "cell_type": "code",
   "execution_count": 4,
   "id": "e43478e6",
   "metadata": {},
   "outputs": [],
   "source": [
    "# Carga de datos\n",
    "mainpath = \"C:/Users/Carlos/OneDrive/Formación/Python/Casos de análisis/Compras/\"\n",
    "filename = \"Distance.csv\"\n",
    "fullpath = mainpath + filename\n",
    "Data_distance = pd.read_csv(fullpath, sep = \",\")"
   ]
  },
  {
   "cell_type": "code",
   "execution_count": 53,
   "id": "bcfb795d",
   "metadata": {},
   "outputs": [
    {
     "data": {
      "text/html": [
       "<div>\n",
       "<style scoped>\n",
       "    .dataframe tbody tr th:only-of-type {\n",
       "        vertical-align: middle;\n",
       "    }\n",
       "\n",
       "    .dataframe tbody tr th {\n",
       "        vertical-align: top;\n",
       "    }\n",
       "\n",
       "    .dataframe thead th {\n",
       "        text-align: right;\n",
       "    }\n",
       "</style>\n",
       "<table border=\"1\" class=\"dataframe\">\n",
       "  <thead>\n",
       "    <tr style=\"text-align: right;\">\n",
       "      <th></th>\n",
       "      <th>Distance</th>\n",
       "      <th>Distance bracket</th>\n",
       "    </tr>\n",
       "  </thead>\n",
       "  <tbody>\n",
       "    <tr>\n",
       "      <th>0</th>\n",
       "      <td>14</td>\n",
       "      <td>14-21</td>\n",
       "    </tr>\n",
       "    <tr>\n",
       "      <th>1</th>\n",
       "      <td>25</td>\n",
       "      <td>21-28</td>\n",
       "    </tr>\n",
       "    <tr>\n",
       "      <th>2</th>\n",
       "      <td>3</td>\n",
       "      <td>1-7</td>\n",
       "    </tr>\n",
       "    <tr>\n",
       "      <th>3</th>\n",
       "      <td>36</td>\n",
       "      <td>35-42</td>\n",
       "    </tr>\n",
       "    <tr>\n",
       "      <th>4</th>\n",
       "      <td>40</td>\n",
       "      <td>35-42</td>\n",
       "    </tr>\n",
       "  </tbody>\n",
       "</table>\n",
       "</div>"
      ],
      "text/plain": [
       "   Distance Distance bracket\n",
       "0        14            14-21\n",
       "1        25            21-28\n",
       "2         3              1-7\n",
       "3        36            35-42\n",
       "4        40            35-42"
      ]
     },
     "execution_count": 53,
     "metadata": {},
     "output_type": "execute_result"
    }
   ],
   "source": [
    "Data_distance.head()"
   ]
  },
  {
   "cell_type": "code",
   "execution_count": 51,
   "id": "3b906675",
   "metadata": {},
   "outputs": [
    {
     "data": {
      "text/html": [
       "<div>\n",
       "<style scoped>\n",
       "    .dataframe tbody tr th:only-of-type {\n",
       "        vertical-align: middle;\n",
       "    }\n",
       "\n",
       "    .dataframe tbody tr th {\n",
       "        vertical-align: top;\n",
       "    }\n",
       "\n",
       "    .dataframe thead th {\n",
       "        text-align: right;\n",
       "    }\n",
       "</style>\n",
       "<table border=\"1\" class=\"dataframe\">\n",
       "  <thead>\n",
       "    <tr style=\"text-align: right;\">\n",
       "      <th></th>\n",
       "      <th>Class</th>\n",
       "      <th>Frequency</th>\n",
       "      <th>Frec_acum</th>\n",
       "      <th>Frec_rel_%</th>\n",
       "      <th>Frec_rel_acum_%</th>\n",
       "    </tr>\n",
       "  </thead>\n",
       "  <tbody>\n",
       "    <tr>\n",
       "      <th>0</th>\n",
       "      <td>1-7</td>\n",
       "      <td>7</td>\n",
       "      <td>7</td>\n",
       "      <td>17.5</td>\n",
       "      <td>17.5</td>\n",
       "    </tr>\n",
       "    <tr>\n",
       "      <th>1</th>\n",
       "      <td>7-14</td>\n",
       "      <td>6</td>\n",
       "      <td>13</td>\n",
       "      <td>15.0</td>\n",
       "      <td>32.5</td>\n",
       "    </tr>\n",
       "    <tr>\n",
       "      <th>2</th>\n",
       "      <td>14-21</td>\n",
       "      <td>8</td>\n",
       "      <td>21</td>\n",
       "      <td>20.0</td>\n",
       "      <td>52.5</td>\n",
       "    </tr>\n",
       "    <tr>\n",
       "      <th>3</th>\n",
       "      <td>21-28</td>\n",
       "      <td>9</td>\n",
       "      <td>30</td>\n",
       "      <td>22.5</td>\n",
       "      <td>75.0</td>\n",
       "    </tr>\n",
       "    <tr>\n",
       "      <th>4</th>\n",
       "      <td>28-35</td>\n",
       "      <td>4</td>\n",
       "      <td>34</td>\n",
       "      <td>10.0</td>\n",
       "      <td>85.0</td>\n",
       "    </tr>\n",
       "    <tr>\n",
       "      <th>5</th>\n",
       "      <td>35-42</td>\n",
       "      <td>6</td>\n",
       "      <td>40</td>\n",
       "      <td>15.0</td>\n",
       "      <td>100.0</td>\n",
       "    </tr>\n",
       "  </tbody>\n",
       "</table>\n",
       "</div>"
      ],
      "text/plain": [
       "   Class  Frequency  Frec_acum  Frec_rel_%  Frec_rel_acum_%\n",
       "0    1-7          7          7        17.5             17.5\n",
       "1   7-14          6         13        15.0             32.5\n",
       "2  14-21          8         21        20.0             52.5\n",
       "3  21-28          9         30        22.5             75.0\n",
       "4  28-35          4         34        10.0             85.0\n",
       "5  35-42          6         40        15.0            100.0"
      ]
     },
     "execution_count": 51,
     "metadata": {},
     "output_type": "execute_result"
    }
   ],
   "source": [
    "# Contenedores y etiquetas de datos\n",
    "bins = [0,7,14,21,28,35,42]\n",
    "labels = [\"1-7\",\"7-14\",\"14-21\",\"21-28\",\"28-35\",\"35-42\"]\n",
    "\n",
    "# Incorporación de los datos sobre el dataset original\n",
    "Data_distance[\"Distance bracket\"] = pd.cut(Data_distance[\"Distance\"], bins = bins, labels = labels, right = False)\n",
    "\n",
    "frec = pd.value_counts(Data_distance[\"Distance bracket\"])\n",
    "table = (pd.DataFrame(frec).\n",
    "         reset_index(drop = False).\n",
    "         sort_values(\"index\", ascending = True).\n",
    "         reset_index(drop = True))\n",
    "\n",
    "# Asignación de nombres de columna\n",
    "table.columns = [\"Class\",\"Frequency\"]\n",
    "\n",
    "# Frecuencia acumulada\n",
    "table[\"Frec_acum\"] = table[\"Frequency\"].cumsum()\n",
    "\n",
    "# Frecuencia relativa\n",
    "table[\"Frec_rel_%\"] = round((table[\"Frequency\"] / table[\"Frequency\"].sum())*100,1)\n",
    "\n",
    "# Frecuencia relativa acumulada\n",
    "table[\"Frec_rel_acum_%\"] = table[\"Frec_rel_%\"].cumsum()\n",
    "\n",
    "# Visualizacón del resultado\n",
    "table"
   ]
  },
  {
   "cell_type": "markdown",
   "id": "83021137",
   "metadata": {},
   "source": [
    "### Diagrama de Pareto"
   ]
  },
  {
   "cell_type": "code",
   "execution_count": null,
   "id": "c5fde5dc",
   "metadata": {},
   "outputs": [],
   "source": [
    "# Indicamos que utilizaremos un solo gráfico\n",
    "fig = plt.figure()\n",
    "ax = fig.add_subplot(1,1,1)\n",
    "\n",
    "# Título del gráfico\n",
    "ax.set_title(\"Diagrama de Pareto\")\n",
    "\n",
    "# Creamos un diagrama de barras con las frecuencias absolutas\n",
    "ax.bar(frec_df[\"Producto\"], frec_df[\"Frec_abs\"], color = \"C0\")\n",
    "\n",
    "# Graficamos los valores de frecuencia relativa acumulada\n",
    "ax2 = ax.twinx() # Nuevo eje a graficar\n",
    "ax2.plot(frec_df[\"Producto\"],frec_df[\"Frec_rel_acum_%\"], color = \"C1\", marker = \"D\", ms = 5)\n",
    "ax2.yaxis.set_major_formatter(PercentFormatter())\n",
    "\n",
    "# Asignamos un color para las etiquetas de los ejes \"y\"\n",
    "ax.tick_params(axis=\"y\", color = \"C0\")\n",
    "ax2.tick_params(axis=\"y\", color = \"C1\")\n",
    "\n",
    "# Rotamos las etiqetas del eje \"x\"\n",
    "ax.set_xticklabels(frec_df[\"Producto\"], rotation = 75)\n",
    "\n",
    "plt.show()\n"
   ]
  }
 ],
 "metadata": {
  "kernelspec": {
   "display_name": "Python 3 (ipykernel)",
   "language": "python",
   "name": "python3"
  },
  "language_info": {
   "codemirror_mode": {
    "name": "ipython",
    "version": 3
   },
   "file_extension": ".py",
   "mimetype": "text/x-python",
   "name": "python",
   "nbconvert_exporter": "python",
   "pygments_lexer": "ipython3",
   "version": "3.9.7"
  }
 },
 "nbformat": 4,
 "nbformat_minor": 5
}
