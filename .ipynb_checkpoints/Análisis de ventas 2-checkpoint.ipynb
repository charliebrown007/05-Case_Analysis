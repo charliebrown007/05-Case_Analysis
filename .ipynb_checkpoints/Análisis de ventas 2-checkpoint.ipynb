{
 "cells": [
  {
   "cell_type": "markdown",
   "id": "2ba9c261",
   "metadata": {},
   "source": [
    "# <font color=#000080>Análisis de ventas 2"
   ]
  },
  {
   "cell_type": "markdown",
   "id": "22615628",
   "metadata": {},
   "source": [
    "## <font color=#000080>Librerías"
   ]
  },
  {
   "cell_type": "code",
   "execution_count": null,
   "id": "aac70219",
   "metadata": {},
   "outputs": [],
   "source": [
    "# Importar librerias - Instalacion en Simbolo del sistema \"cmd\" colocando: python -m pip install...\n",
    "# pip install pandas\n",
    "# pip install numpy\n",
    "# pip install matplotlib\n",
    "# pip install xlwings\n",
    "# pip install lxml\n",
    "#import pandas as pd\n",
    "#import numpy as np\n",
    "#import matplotlib.pyplot as plt\n",
    "#import xlwings as xw\n",
    "#import lxml as lx"
   ]
  },
  {
   "cell_type": "code",
   "execution_count": 6,
   "id": "c9c35b42",
   "metadata": {},
   "outputs": [],
   "source": [
    "# Análisis de datos\n",
    "import pandas as pd\n",
    "import numpy as np\n",
    "\n",
    "# Direcciones\n",
    "import os\n",
    "\n",
    "# Gráficos\n",
    "import matplotlib.pyplot as plt\n",
    "import seaborn as sns\n",
    "\n",
    "# Gestión de libros de Excel\n",
    "#import xlwings as xw\n",
    "#import lxml as lx"
   ]
  },
  {
   "cell_type": "markdown",
   "id": "06ad39eb",
   "metadata": {
    "heading_collapsed": true
   },
   "source": [
    "## <font color=#000080>Carga de datos\n",
    "- El caracter r será usado cuando se copien y peguen direcciones en Windows con barras incliniadas a la izquierda (**\\**)\n",
    "- Se cargaron datos que no tienen un formato de tabla en el libro de excel"
   ]
  },
  {
   "cell_type": "code",
   "execution_count": null,
   "id": "fb3b7883",
   "metadata": {
    "hidden": true
   },
   "outputs": [],
   "source": [
    "main_path = r'C:\\Users\\DELL\\OneDrive\\Formación\\Python\\Repositorios\\Case_Analysis\\Data'\n",
    "df1 = pd.read_excel(io = os.path.join(main_path,'categoria-1.xlsx'),sheet_name = 'Computadoras')\n",
    "df2 = pd.read_excel(io = os.path.join(main_path,'categoria-2.xlsx'),sheet_name = 'Consolas')\n",
    "df3 = pd.read_excel(io = os.path.join(main_path,'categoria-1.xlsx'),sheet_name = 'Celulares')"
   ]
  },
  {
   "cell_type": "markdown",
   "id": "365eac0a",
   "metadata": {
    "heading_collapsed": true
   },
   "source": [
    "## <font color=#000080>Visualización preliminar de datos"
   ]
  },
  {
   "cell_type": "markdown",
   "id": "32603d54",
   "metadata": {
    "heading_collapsed": true,
    "hidden": true
   },
   "source": [
    "### Información general\n",
    "Se debe evaluar la dimensión (filas y columas) del dataframe, asi como la ubicación y tipo de variables."
   ]
  },
  {
   "cell_type": "code",
   "execution_count": null,
   "id": "8877519c",
   "metadata": {
    "hidden": true
   },
   "outputs": [],
   "source": [
    "df1.head()"
   ]
  },
  {
   "cell_type": "code",
   "execution_count": null,
   "id": "8b4bd927",
   "metadata": {
    "hidden": true
   },
   "outputs": [],
   "source": [
    "df2.head()"
   ]
  },
  {
   "cell_type": "code",
   "execution_count": null,
   "id": "714c40f1",
   "metadata": {
    "hidden": true
   },
   "outputs": [],
   "source": [
    "df3.head()"
   ]
  },
  {
   "cell_type": "code",
   "execution_count": null,
   "id": "d4de48bc",
   "metadata": {
    "hidden": true
   },
   "outputs": [],
   "source": [
    "df1.info()"
   ]
  },
  {
   "cell_type": "code",
   "execution_count": null,
   "id": "6fa6a193",
   "metadata": {
    "hidden": true,
    "scrolled": true
   },
   "outputs": [],
   "source": [
    "df2.info()"
   ]
  },
  {
   "cell_type": "code",
   "execution_count": null,
   "id": "608eb1ad",
   "metadata": {
    "hidden": true
   },
   "outputs": [],
   "source": [
    "df3.info()"
   ]
  },
  {
   "cell_type": "markdown",
   "id": "ba8cc73f",
   "metadata": {
    "hidden": true
   },
   "source": [
    "Todos los dataframes tienen el mismo **nombre y ubicación** de columnas"
   ]
  },
  {
   "cell_type": "code",
   "execution_count": null,
   "id": "702b33cb",
   "metadata": {
    "hidden": true
   },
   "outputs": [],
   "source": [
    "sum(df1.columns == df2.columns)"
   ]
  },
  {
   "cell_type": "code",
   "execution_count": null,
   "id": "caa2764a",
   "metadata": {
    "hidden": true
   },
   "outputs": [],
   "source": [
    "sum(df3.columns == df3.columns)"
   ]
  },
  {
   "cell_type": "markdown",
   "id": "de94633a",
   "metadata": {
    "hidden": true
   },
   "source": [
    "Existen columnas con el mismo nombre pero con diferente tipo de datos. Tómese en cuenta que el método de comprobación será válido si y solo si la ubicación de los dataframes es la misma."
   ]
  },
  {
   "cell_type": "code",
   "execution_count": null,
   "id": "f1af0692",
   "metadata": {
    "hidden": true
   },
   "outputs": [],
   "source": [
    "df1.dtypes == df2.dtypes"
   ]
  },
  {
   "cell_type": "code",
   "execution_count": null,
   "id": "b7743b94",
   "metadata": {
    "hidden": true
   },
   "outputs": [],
   "source": [
    "df3.dtypes == df1.dtypes"
   ]
  },
  {
   "cell_type": "markdown",
   "id": "14242897",
   "metadata": {
    "hidden": true
   },
   "source": [
    "¿Existen datos flatantes?"
   ]
  },
  {
   "cell_type": "code",
   "execution_count": null,
   "id": "0c21aec8",
   "metadata": {
    "hidden": true
   },
   "outputs": [],
   "source": [
    "df3.isnull().values.any()"
   ]
  },
  {
   "cell_type": "markdown",
   "id": "37eed621",
   "metadata": {
    "hidden": true
   },
   "source": [
    "¿Cuál es la ubicación de los datos faltantes? <br>\n",
    "Uso de filtros con pandas..."
   ]
  },
  {
   "cell_type": "code",
   "execution_count": null,
   "id": "abf44d06",
   "metadata": {
    "hidden": true
   },
   "outputs": [],
   "source": [
    "df3.isnull().sum()"
   ]
  },
  {
   "cell_type": "markdown",
   "id": "32beadf3",
   "metadata": {
    "heading_collapsed": true,
    "hidden": true
   },
   "source": [
    "### Información general para datos más abudantes"
   ]
  },
  {
   "cell_type": "code",
   "execution_count": null,
   "id": "4a5329fc",
   "metadata": {
    "hidden": true
   },
   "outputs": [],
   "source": [
    "#df4 = pd.read_excel(io = os.path.join(main_path,'categoria-3.xlsx'),sheet_name = 'Consolas')"
   ]
  },
  {
   "cell_type": "code",
   "execution_count": null,
   "id": "1120189e",
   "metadata": {
    "hidden": true
   },
   "outputs": [],
   "source": [
    "#df4.info(verbose = True, show_counts = True)"
   ]
  },
  {
   "cell_type": "code",
   "execution_count": null,
   "id": "b72156a9",
   "metadata": {
    "hidden": true
   },
   "outputs": [],
   "source": [
    "#df4.isnull().values.any()"
   ]
  },
  {
   "cell_type": "markdown",
   "id": "c81d24c8",
   "metadata": {
    "hidden": true
   },
   "source": [
    "Número de variables que tienen al menos un valor faltante (NaN)"
   ]
  },
  {
   "cell_type": "code",
   "execution_count": null,
   "id": "e811d013",
   "metadata": {
    "hidden": true
   },
   "outputs": [],
   "source": [
    "#df4.isnull().sum().sum()"
   ]
  },
  {
   "cell_type": "markdown",
   "id": "60dcb006",
   "metadata": {
    "hidden": true
   },
   "source": [
    "Lista de variables que contienen valores faltantes"
   ]
  },
  {
   "cell_type": "code",
   "execution_count": null,
   "id": "795993e2",
   "metadata": {
    "hidden": true
   },
   "outputs": [],
   "source": [
    "#df4.columns[df4.isnull().any()]"
   ]
  },
  {
   "cell_type": "markdown",
   "id": "fc5eb8c4",
   "metadata": {
    "heading_collapsed": true
   },
   "source": [
    "## <font color=#000080>Tranformación de datos (Data wrangling)\n",
    "De acuerdo con la sección de visualización preliminar de datos, se observó que los dos datsframes tienen las mismas características lo que permitiría trabajar con un solo objeto, es decir, un dataframe.\n",
    "    \n",
    "El orden de transformación de datos dependerá de las necesidades de análiss o requermientos del proyecto, lo importante es mantener la integridad de los datos sin comprometer la calidad información.\n",
    "    \n",
    "Para este caso se necesita que el dataframe resultante presente la siguiente caracterísiticas:\n",
    "1. Eliminiar la columna \"Total venta\"\n",
    "2. Juntar ambos dataframes\n",
    "3. Tipos de variables adecuados\n",
    "4. Calcula una nueva columna que contenga las ventas facturadas\n",
    "5. Reemplazar el nivel de \"Wii\" por \"Nintendo Wii\", \"SAMSUMG\" por \"SAMSUNG\"\n",
    "6. Reemplazar los valores faltantes (NaN) por \"SAMSUNG\" en la columna \"Producto\"\n",
    "7. Verificar que la columna fecha tenga una notación consistente"
   ]
  },
  {
   "cell_type": "code",
   "execution_count": null,
   "id": "98448c84",
   "metadata": {
    "hidden": true
   },
   "outputs": [],
   "source": [
    "print(df1.shape)\n",
    "print(df2.shape)\n",
    "print(df3.shape)"
   ]
  },
  {
   "cell_type": "code",
   "execution_count": 7,
   "id": "5e9b2292",
   "metadata": {
    "hidden": true
   },
   "outputs": [],
   "source": [
    "# Carga de datos\n",
    "main_path = r'C:\\Users\\DELL\\OneDrive\\Formación\\Python\\Repositorios\\Case_Analysis\\Data'\n",
    "df1 = pd.read_excel(io = os.path.join(main_path,'categoria-1.xlsx'),sheet_name = 'Computadoras')\n",
    "df2 = pd.read_excel(io = os.path.join(main_path,'categoria-2.xlsx'),sheet_name = 'Consolas')\n",
    "df3 = pd.read_excel(io = os.path.join(main_path,'categoria-1.xlsx'),sheet_name = 'Celulares')\n",
    "\n",
    "\n",
    "# Requerimiento 1\n",
    "df1 = df1.drop(['Total venta'], axis = 1)\n",
    "df2 = df2.drop(['Total venta'], axis = 1)\n",
    "df3 = df3.drop(['Total venta'], axis = 1)\n",
    "\n",
    "\n",
    "# Requerimiento 2 y 3\n",
    "df_cleaned = pd.concat([df1,df2,df3])\n",
    "\n",
    "# Requerimiento 4\n",
    "df_cleaned['Ventas facturadas'] = df_cleaned['Cantidad'] * df_cleaned['Precio Unitario']\n",
    "\n",
    "# Requerimiento 5\n",
    "detail = {'Producto' : {'Wii': 'Nintendo Wii','SAMSUMG': 'SAMSUNG'}}\n",
    "df_cleaned = df_cleaned.replace(detail)\n",
    "\n",
    "# Requerimiento 6\n",
    "df_cleaned['Producto'] = df_cleaned['Producto'].fillna('SAMSUNG')\n",
    "\n",
    "# Requerimiento 7\n",
    "# El formato de fecha es dispuesto según el año, mes y día para todos los registros. Por tanto, no es necesario\n",
    "# hacer tranformación para este requerimiento\n",
    "\n",
    "\n",
    "# Comprobación de resultados\n",
    "#df_cleaned['Producto'].value_counts(dropna = False)\n",
    "#print(df_cleaned.tail())\n",
    "#print('------------------------------------------------------------------------------------------')\n",
    "#print(df_cleaned.info())"
   ]
  },
  {
   "cell_type": "markdown",
   "id": "e011f04c",
   "metadata": {},
   "source": [
    "## <font color=#000080>Análisis de datos\n",
    "En esta etapa los datos se encuentran listos para ser analizados, podemos aplicar los métodos estadísticos que se vena convenientes o cualquier otra operación."
   ]
  },
  {
   "cell_type": "markdown",
   "id": "59c1a563",
   "metadata": {
    "heading_collapsed": true
   },
   "source": [
    "### Herramienta de descripción rápida"
   ]
  },
  {
   "cell_type": "code",
   "execution_count": null,
   "id": "8a7471d1",
   "metadata": {
    "hidden": true
   },
   "outputs": [],
   "source": [
    "df_cleaned.describe()"
   ]
  },
  {
   "cell_type": "code",
   "execution_count": null,
   "id": "900e0630",
   "metadata": {
    "hidden": true
   },
   "outputs": [],
   "source": [
    "df_cleaned.drop('Fecha', axis = 1).describe(include = 'object')"
   ]
  },
  {
   "cell_type": "code",
   "execution_count": null,
   "id": "ea0eaabf",
   "metadata": {
    "hidden": true,
    "scrolled": true
   },
   "outputs": [],
   "source": [
    "df_cleaned.drop('Fecha', axis = 1).describe(include = 'all')"
   ]
  },
  {
   "cell_type": "markdown",
   "id": "062562a2",
   "metadata": {
    "heading_collapsed": true
   },
   "source": [
    "### Análisis por agrupación de datos"
   ]
  },
  {
   "cell_type": "code",
   "execution_count": 8,
   "id": "1a042ea2",
   "metadata": {
    "hidden": true
   },
   "outputs": [
    {
     "data": {
      "text/html": [
       "<div>\n",
       "<style scoped>\n",
       "    .dataframe tbody tr th:only-of-type {\n",
       "        vertical-align: middle;\n",
       "    }\n",
       "\n",
       "    .dataframe tbody tr th {\n",
       "        vertical-align: top;\n",
       "    }\n",
       "\n",
       "    .dataframe thead th {\n",
       "        text-align: right;\n",
       "    }\n",
       "</style>\n",
       "<table border=\"1\" class=\"dataframe\">\n",
       "  <thead>\n",
       "    <tr style=\"text-align: right;\">\n",
       "      <th></th>\n",
       "      <th>Fecha</th>\n",
       "      <th>Estado</th>\n",
       "      <th>Vendedor</th>\n",
       "      <th>Categoría</th>\n",
       "      <th>Producto</th>\n",
       "      <th>Cantidad</th>\n",
       "      <th>Precio Unitario</th>\n",
       "      <th>Ventas facturadas</th>\n",
       "    </tr>\n",
       "  </thead>\n",
       "  <tbody>\n",
       "    <tr>\n",
       "      <th>0</th>\n",
       "      <td>2020-01-01</td>\n",
       "      <td>Florida</td>\n",
       "      <td>Rubén Rondón</td>\n",
       "      <td>Computadoras</td>\n",
       "      <td>SAMSUNG</td>\n",
       "      <td>200</td>\n",
       "      <td>340.0</td>\n",
       "      <td>68000.0</td>\n",
       "    </tr>\n",
       "    <tr>\n",
       "      <th>1</th>\n",
       "      <td>2020-01-01</td>\n",
       "      <td>Arizona</td>\n",
       "      <td>Elizabeth Smith</td>\n",
       "      <td>Computadoras</td>\n",
       "      <td>HP</td>\n",
       "      <td>230</td>\n",
       "      <td>600.0</td>\n",
       "      <td>138000.0</td>\n",
       "    </tr>\n",
       "    <tr>\n",
       "      <th>2</th>\n",
       "      <td>2020-01-01</td>\n",
       "      <td>Texas</td>\n",
       "      <td>Rubén Rondón</td>\n",
       "      <td>Computadoras</td>\n",
       "      <td>SAMSUNG</td>\n",
       "      <td>200</td>\n",
       "      <td>340.0</td>\n",
       "      <td>68000.0</td>\n",
       "    </tr>\n",
       "    <tr>\n",
       "      <th>3</th>\n",
       "      <td>2020-02-01</td>\n",
       "      <td>California</td>\n",
       "      <td>Mario Martínez</td>\n",
       "      <td>Computadoras</td>\n",
       "      <td>HP</td>\n",
       "      <td>2</td>\n",
       "      <td>650.0</td>\n",
       "      <td>1300.0</td>\n",
       "    </tr>\n",
       "    <tr>\n",
       "      <th>4</th>\n",
       "      <td>2020-03-01</td>\n",
       "      <td>Minnesota</td>\n",
       "      <td>Elizabeth Smith</td>\n",
       "      <td>Computadoras</td>\n",
       "      <td>MAC</td>\n",
       "      <td>60</td>\n",
       "      <td>1100.0</td>\n",
       "      <td>66000.0</td>\n",
       "    </tr>\n",
       "  </tbody>\n",
       "</table>\n",
       "</div>"
      ],
      "text/plain": [
       "       Fecha      Estado         Vendedor     Categoría Producto  Cantidad  \\\n",
       "0 2020-01-01     Florida     Rubén Rondón  Computadoras  SAMSUNG       200   \n",
       "1 2020-01-01     Arizona  Elizabeth Smith  Computadoras       HP       230   \n",
       "2 2020-01-01       Texas     Rubén Rondón  Computadoras  SAMSUNG       200   \n",
       "3 2020-02-01  California   Mario Martínez  Computadoras       HP         2   \n",
       "4 2020-03-01   Minnesota  Elizabeth Smith  Computadoras      MAC        60   \n",
       "\n",
       "   Precio Unitario  Ventas facturadas  \n",
       "0            340.0            68000.0  \n",
       "1            600.0           138000.0  \n",
       "2            340.0            68000.0  \n",
       "3            650.0             1300.0  \n",
       "4           1100.0            66000.0  "
      ]
     },
     "execution_count": 8,
     "metadata": {},
     "output_type": "execute_result"
    }
   ],
   "source": [
    "df_cleaned.head()"
   ]
  },
  {
   "cell_type": "markdown",
   "id": "a4266bd7",
   "metadata": {
    "hidden": true
   },
   "source": [
    "Uso de la función groupby"
   ]
  },
  {
   "cell_type": "code",
   "execution_count": null,
   "id": "8a1381c8",
   "metadata": {
    "hidden": true
   },
   "outputs": [],
   "source": [
    "table01 = df_cleaned.groupby(by = ['Categoría','Producto'],\n",
    "                             as_index = False)[['Cantidad','Ventas facturadas']].sum()\n",
    "\n",
    "table01 = table01.sort_values(by = ['Categoría','Ventas facturadas','Producto'],\n",
    "                              ascending = False, ignore_index = True)\n",
    "\n",
    "table01"
   ]
  },
  {
   "cell_type": "code",
   "execution_count": null,
   "id": "358a48ab",
   "metadata": {
    "hidden": true
   },
   "outputs": [],
   "source": [
    "table02 = df_cleaned.groupby(by = ['Estado','Producto'],\n",
    "                             as_index = False)[['Cantidad','Ventas facturadas']].sum()\n",
    "\n",
    "table02 = table02.sort_values(by = ['Estado','Ventas facturadas','Producto'],\n",
    "                              ascending = False, ignore_index = True)\n",
    "\n",
    "table02.head(10)"
   ]
  },
  {
   "cell_type": "code",
   "execution_count": null,
   "id": "04e93bbb",
   "metadata": {
    "hidden": true
   },
   "outputs": [],
   "source": [
    "table03 = pd.pivot_table(data = df_cleaned, index = ['Categoría', 'Producto'],\n",
    "                         values = ['Ventas facturadas'], aggfunc = sum).reset_index()\n",
    "\n",
    "table03 = table03.sort_values(by = ['Categoría','Ventas facturadas'],\n",
    "                              ascending = False, ignore_index = True)\n",
    "\n",
    "table03"
   ]
  },
  {
   "cell_type": "code",
   "execution_count": null,
   "id": "1700cda1",
   "metadata": {
    "hidden": true
   },
   "outputs": [],
   "source": [
    "df_cleaned['Vendedor'].value_counts()"
   ]
  },
  {
   "cell_type": "code",
   "execution_count": null,
   "id": "e0e0b009",
   "metadata": {
    "hidden": true
   },
   "outputs": [],
   "source": [
    "table04 = pd.pivot_table(data = df_cleaned, index = ['Categoría', 'Producto'], columns = ['Vendedor'],\n",
    "                         values = ['Ventas facturadas'], aggfunc = sum).reset_index()\n",
    "\n",
    "#table04 = table04.sort_values(by = ['Categoría','Ventas facturadas'],\n",
    "#                              ascending = False, ignore_index = True)\n",
    "\n",
    "table04"
   ]
  },
  {
   "cell_type": "markdown",
   "id": "92d8da48",
   "metadata": {},
   "source": [
    "### Gráficos\n",
    "Existen muchas forma de diseñar gráficos en Python. Una buena forma de empezar es preparando los datos en una tabla antes de graficarlos."
   ]
  },
  {
   "cell_type": "markdown",
   "id": "fba5448d",
   "metadata": {},
   "source": [
    "Análisis de ventas por categorías"
   ]
  },
  {
   "cell_type": "code",
   "execution_count": 31,
   "id": "410b3817",
   "metadata": {},
   "outputs": [
    {
     "data": {
      "image/png": "[encoded data removed]",
      "text/plain": [
       "<Figure size 700x300 with 1 Axes>"
      ]
     },
     "metadata": {},
     "output_type": "display_data"
    }
   ],
   "source": [
    "# Preparación de datos\n",
    "table05 = df_cleaned.groupby(by = ['Categoría'],as_index = False)['Cantidad'].sum()\n",
    "\n",
    "table05 = table05.sort_values(by = ['Cantidad'],ascending = False, ignore_index = True)\n",
    "\n",
    "\n",
    "# GRÁFICO\n",
    "plt.figure(figsize = (7, 3)) # Tamaño de la figura\n",
    "\n",
    "sns.set_theme(style = 'whitegrid', palette = 'GnBu_r') #  Estilo de gráfico\n",
    "# darkgrid, whitegrid, dark, white, and ticks\n",
    "\n",
    "splot = sns.barplot(x = \"Categoría\", y = \"Cantidad\", data = table05) # Tipo de gráfico\n",
    "\n",
    "#plt.xlabel(\"Continent\", size = 16)\n",
    "#plt.ylabel(\"LifeExp\", size = 16)\n",
    "\n",
    "plt.bar_label(splot.containers[0], size = 12, label_type = 'edge') # Etiquetas de gráficos\n",
    "\n",
    "# Límites\n",
    "splot.set_ylim(0, 8000)\n",
    "\n",
    "\n",
    "#plt.savefig(\"figure_01.png\")\n",
    "plt.show()"
   ]
  },
  {
   "cell_type": "code",
   "execution_count": 48,
   "id": "1a183991",
   "metadata": {},
   "outputs": [
    {
     "data": {
      "text/html": [
       "<div>\n",
       "<style scoped>\n",
       "    .dataframe tbody tr th:only-of-type {\n",
       "        vertical-align: middle;\n",
       "    }\n",
       "\n",
       "    .dataframe tbody tr th {\n",
       "        vertical-align: top;\n",
       "    }\n",
       "\n",
       "    .dataframe thead th {\n",
       "        text-align: right;\n",
       "    }\n",
       "</style>\n",
       "<table border=\"1\" class=\"dataframe\">\n",
       "  <thead>\n",
       "    <tr style=\"text-align: right;\">\n",
       "      <th></th>\n",
       "      <th>Fecha</th>\n",
       "      <th>Estado</th>\n",
       "      <th>Vendedor</th>\n",
       "      <th>Categoría</th>\n",
       "      <th>Producto</th>\n",
       "      <th>Cantidad</th>\n",
       "      <th>Precio Unitario</th>\n",
       "      <th>Ventas facturadas</th>\n",
       "    </tr>\n",
       "  </thead>\n",
       "  <tbody>\n",
       "    <tr>\n",
       "      <th>0</th>\n",
       "      <td>2020-01-01</td>\n",
       "      <td>Florida</td>\n",
       "      <td>Rubén Rondón</td>\n",
       "      <td>Computadoras</td>\n",
       "      <td>SAMSUNG</td>\n",
       "      <td>200</td>\n",
       "      <td>340.0</td>\n",
       "      <td>68000.0</td>\n",
       "    </tr>\n",
       "    <tr>\n",
       "      <th>1</th>\n",
       "      <td>2020-01-01</td>\n",
       "      <td>Arizona</td>\n",
       "      <td>Elizabeth Smith</td>\n",
       "      <td>Computadoras</td>\n",
       "      <td>HP</td>\n",
       "      <td>230</td>\n",
       "      <td>600.0</td>\n",
       "      <td>138000.0</td>\n",
       "    </tr>\n",
       "    <tr>\n",
       "      <th>2</th>\n",
       "      <td>2020-01-01</td>\n",
       "      <td>Texas</td>\n",
       "      <td>Rubén Rondón</td>\n",
       "      <td>Computadoras</td>\n",
       "      <td>SAMSUNG</td>\n",
       "      <td>200</td>\n",
       "      <td>340.0</td>\n",
       "      <td>68000.0</td>\n",
       "    </tr>\n",
       "    <tr>\n",
       "      <th>3</th>\n",
       "      <td>2020-02-01</td>\n",
       "      <td>California</td>\n",
       "      <td>Mario Martínez</td>\n",
       "      <td>Computadoras</td>\n",
       "      <td>HP</td>\n",
       "      <td>2</td>\n",
       "      <td>650.0</td>\n",
       "      <td>1300.0</td>\n",
       "    </tr>\n",
       "    <tr>\n",
       "      <th>4</th>\n",
       "      <td>2020-03-01</td>\n",
       "      <td>Minnesota</td>\n",
       "      <td>Elizabeth Smith</td>\n",
       "      <td>Computadoras</td>\n",
       "      <td>MAC</td>\n",
       "      <td>60</td>\n",
       "      <td>1100.0</td>\n",
       "      <td>66000.0</td>\n",
       "    </tr>\n",
       "  </tbody>\n",
       "</table>\n",
       "</div>"
      ],
      "text/plain": [
       "       Fecha      Estado         Vendedor     Categoría Producto  Cantidad  \\\n",
       "0 2020-01-01     Florida     Rubén Rondón  Computadoras  SAMSUNG       200   \n",
       "1 2020-01-01     Arizona  Elizabeth Smith  Computadoras       HP       230   \n",
       "2 2020-01-01       Texas     Rubén Rondón  Computadoras  SAMSUNG       200   \n",
       "3 2020-02-01  California   Mario Martínez  Computadoras       HP         2   \n",
       "4 2020-03-01   Minnesota  Elizabeth Smith  Computadoras      MAC        60   \n",
       "\n",
       "   Precio Unitario  Ventas facturadas  \n",
       "0            340.0            68000.0  \n",
       "1            600.0           138000.0  \n",
       "2            340.0            68000.0  \n",
       "3            650.0             1300.0  \n",
       "4           1100.0            66000.0  "
      ]
     },
     "execution_count": 48,
     "metadata": {},
     "output_type": "execute_result"
    }
   ],
   "source": [
    "df_cleaned.head()"
   ]
  },
  {
   "cell_type": "code",
   "execution_count": 60,
   "id": "13978a9d",
   "metadata": {},
   "outputs": [
    {
     "data": {
      "text/html": [
       "<div>\n",
       "<style scoped>\n",
       "    .dataframe tbody tr th:only-of-type {\n",
       "        vertical-align: middle;\n",
       "    }\n",
       "\n",
       "    .dataframe tbody tr th {\n",
       "        vertical-align: top;\n",
       "    }\n",
       "\n",
       "    .dataframe thead th {\n",
       "        text-align: right;\n",
       "    }\n",
       "</style>\n",
       "<table border=\"1\" class=\"dataframe\">\n",
       "  <thead>\n",
       "    <tr style=\"text-align: right;\">\n",
       "      <th></th>\n",
       "      <th>Categoría</th>\n",
       "      <th>Vendedor</th>\n",
       "      <th>Ventas facturadas</th>\n",
       "    </tr>\n",
       "  </thead>\n",
       "  <tbody>\n",
       "    <tr>\n",
       "      <th>0</th>\n",
       "      <td>Consolas Videojuegos</td>\n",
       "      <td>Rubén Rondón</td>\n",
       "      <td>190.51</td>\n",
       "    </tr>\n",
       "    <tr>\n",
       "      <th>1</th>\n",
       "      <td>Consolas Videojuegos</td>\n",
       "      <td>Elizabeth Smith</td>\n",
       "      <td>155.40</td>\n",
       "    </tr>\n",
       "    <tr>\n",
       "      <th>2</th>\n",
       "      <td>Consolas Videojuegos</td>\n",
       "      <td>Mario Martínez</td>\n",
       "      <td>71.53</td>\n",
       "    </tr>\n",
       "    <tr>\n",
       "      <th>3</th>\n",
       "      <td>Consolas Videojuegos</td>\n",
       "      <td>Mariana Báez</td>\n",
       "      <td>32.00</td>\n",
       "    </tr>\n",
       "    <tr>\n",
       "      <th>4</th>\n",
       "      <td>Computadoras</td>\n",
       "      <td>Elizabeth Smith</td>\n",
       "      <td>2002.60</td>\n",
       "    </tr>\n",
       "    <tr>\n",
       "      <th>5</th>\n",
       "      <td>Computadoras</td>\n",
       "      <td>Mariana Báez</td>\n",
       "      <td>1287.10</td>\n",
       "    </tr>\n",
       "    <tr>\n",
       "      <th>6</th>\n",
       "      <td>Computadoras</td>\n",
       "      <td>Rubén Rondón</td>\n",
       "      <td>811.30</td>\n",
       "    </tr>\n",
       "    <tr>\n",
       "      <th>7</th>\n",
       "      <td>Computadoras</td>\n",
       "      <td>Mario Martínez</td>\n",
       "      <td>282.30</td>\n",
       "    </tr>\n",
       "    <tr>\n",
       "      <th>8</th>\n",
       "      <td>Celulares inteligentes</td>\n",
       "      <td>Mariana Báez</td>\n",
       "      <td>1017.30</td>\n",
       "    </tr>\n",
       "    <tr>\n",
       "      <th>9</th>\n",
       "      <td>Celulares inteligentes</td>\n",
       "      <td>Rubén Rondón</td>\n",
       "      <td>797.67</td>\n",
       "    </tr>\n",
       "    <tr>\n",
       "      <th>10</th>\n",
       "      <td>Celulares inteligentes</td>\n",
       "      <td>Elizabeth Smith</td>\n",
       "      <td>33.30</td>\n",
       "    </tr>\n",
       "    <tr>\n",
       "      <th>11</th>\n",
       "      <td>Celulares inteligentes</td>\n",
       "      <td>Mario Martínez</td>\n",
       "      <td>3.00</td>\n",
       "    </tr>\n",
       "  </tbody>\n",
       "</table>\n",
       "</div>"
      ],
      "text/plain": [
       "                 Categoría         Vendedor  Ventas facturadas\n",
       "0     Consolas Videojuegos     Rubén Rondón             190.51\n",
       "1     Consolas Videojuegos  Elizabeth Smith             155.40\n",
       "2     Consolas Videojuegos   Mario Martínez              71.53\n",
       "3     Consolas Videojuegos     Mariana Báez              32.00\n",
       "4             Computadoras  Elizabeth Smith            2002.60\n",
       "5             Computadoras     Mariana Báez            1287.10\n",
       "6             Computadoras     Rubén Rondón             811.30\n",
       "7             Computadoras   Mario Martínez             282.30\n",
       "8   Celulares inteligentes     Mariana Báez            1017.30\n",
       "9   Celulares inteligentes     Rubén Rondón             797.67\n",
       "10  Celulares inteligentes  Elizabeth Smith              33.30\n",
       "11  Celulares inteligentes   Mario Martínez               3.00"
      ]
     },
     "execution_count": 60,
     "metadata": {},
     "output_type": "execute_result"
    }
   ],
   "source": [
    "table06 = df_cleaned.groupby(by = ['Categoría','Vendedor'],as_index = False)\\\n",
    "[['Categoría','Vendedor','Ventas facturadas']].sum()\n",
    "table06 = table06.sort_values(by = ['Categoría','Ventas facturadas'],ascending = False, ignore_index = True)\n",
    "table06['Ventas facturadas'] = round(table06['Ventas facturadas']/1000,2)\n",
    "table06"
   ]
  },
  {
   "cell_type": "code",
   "execution_count": 66,
   "id": "29174a08",
   "metadata": {},
   "outputs": [
    {
     "data": {
      "image/png": "[encoded data removed]",
      "text/plain": [
       "<Figure size 700x300 with 1 Axes>"
      ]
     },
     "metadata": {},
     "output_type": "display_data"
    }
   ],
   "source": [
    "# Preparación de datos\n",
    "table06 = df_cleaned.groupby(by = ['Categoría','Vendedor'],as_index = False)\\\n",
    "[['Categoría','Vendedor','Ventas facturadas']].sum()\n",
    "table06 = table06.sort_values(by = ['Categoría','Ventas facturadas'],ascending = False, ignore_index = True)\n",
    "table06['Ventas facturadas'] = round(table06['Ventas facturadas']/1000,2)\n",
    "\n",
    "\n",
    "\n",
    "# GRÁFICO\n",
    "plt.figure(figsize = (7, 3)) # Tamaño de la figura\n",
    "\n",
    "sns.set_theme(style = 'whitegrid', palette = 'Dark2') #  Estilo de gráfico\n",
    "# darkgrid, whitegrid, dark, white, and ticks\n",
    "\n",
    "splot = sns.barplot(x = \"Categoría\", y = 'Ventas facturadas',\n",
    "                    data = table06, hue = 'Vendedor') # Tipo de gráfico\n",
    "\n",
    "plt.xlabel(\"\")\n",
    "plt.ylabel(\"Ventas facturadas (miles)\", size = 12)\n",
    "\n",
    "#plt.bar_label(splot.containers[0], size = 12, label_type = 'edge') # Etiquetas de gráficos\n",
    "\n",
    "# Límites\n",
    "splot.set_ylim(0, 2500)\n",
    "\n",
    "\n",
    "#plt.savefig(\"figure_01.png\")\n",
    "plt.show()"
   ]
  },
  {
   "cell_type": "markdown",
   "id": "ad63cf30",
   "metadata": {},
   "source": [
    "El gráfico de dispersión no es una opción que aporta mucha imformación por una de las variables (precio) es discreta"
   ]
  },
  {
   "cell_type": "code",
   "execution_count": 73,
   "id": "c3b75e11",
   "metadata": {},
   "outputs": [
    {
     "data": {
      "image/png": "[encoded data removed]",
      "text/plain": [
       "<Figure size 650x650 with 1 Axes>"
      ]
     },
     "metadata": {},
     "output_type": "display_data"
    }
   ],
   "source": [
    "# Preparación de datos\n",
    "\n",
    "# GRÁFICO\n",
    "#plt.figure(figsize = (7, 3)) # Tamaño de la figura\n",
    "\n",
    "sns.set_theme(style = 'whitegrid') #  Estilo de gráfico\n",
    "# darkgrid, whitegrid, dark, white, and ticks\n",
    "\n",
    "f, ax = plt.subplots(figsize=(6.5, 6.5))\n",
    "\n",
    "sns.scatterplot(x = \"Precio Unitario\", y = \"Ventas facturadas\",\n",
    "                palette = \"ch:r=-.2,d=.3_r\",linewidth = 0, data = df_cleaned, ax = ax) # Tipo de gráfico\n",
    "\n",
    "#plt.xlabel(\"\")\n",
    "#plt.ylabel(\"Ventas facturadas (miles)\", size = 12)\n",
    "\n",
    "#plt.bar_label(splot.containers[0], size = 12, label_type = 'edge') # Etiquetas de gráficos\n",
    "\n",
    "# Límites\n",
    "#splot.set_ylim(0, 2500)\n",
    "\n",
    "\n",
    "#plt.savefig(\"figure_01.png\")\n",
    "plt.show()"
   ]
  },
  {
   "cell_type": "code",
   "execution_count": 87,
   "id": "120bc3fc",
   "metadata": {},
   "outputs": [
    {
     "data": {
      "image/png": "[encoded data removed]",
      "text/plain": [
       "<Figure size 1500x300 with 1 Axes>"
      ]
     },
     "metadata": {},
     "output_type": "display_data"
    }
   ],
   "source": [
    "plt.figure(figsize = (15, 3)) # Tamaño de la figura\n",
    "splot = sns.violinplot(data = df_cleaned, x = \"Precio Unitario\", y = \"Ventas facturadas\")\n",
    "splot.set_ylim(0, 50000)\n",
    "plt.show()"
   ]
  }
 ],
 "metadata": {
  "kernelspec": {
   "display_name": "Python 3 (ipykernel)",
   "language": "python",
   "name": "python3"
  },
  "language_info": {
   "codemirror_mode": {
    "name": "ipython",
    "version": 3
   },
   "file_extension": ".py",
   "mimetype": "text/x-python",
   "name": "python",
   "nbconvert_exporter": "python",
   "pygments_lexer": "ipython3",
   "version": "3.10.4"
  },
  "toc": {
   "base_numbering": 1,
   "nav_menu": {},
   "number_sections": false,
   "sideBar": true,
   "skip_h1_title": false,
   "title_cell": "Table of Contents",
   "title_sidebar": "Contents",
   "toc_cell": false,
   "toc_position": {},
   "toc_section_display": true,
   "toc_window_display": false
  }
 },
 "nbformat": 4,
 "nbformat_minor": 5
}
