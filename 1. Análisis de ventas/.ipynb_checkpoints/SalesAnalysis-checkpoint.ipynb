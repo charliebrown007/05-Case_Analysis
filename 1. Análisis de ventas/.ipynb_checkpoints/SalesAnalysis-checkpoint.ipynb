{
 "cells": [
  {
   "cell_type": "markdown",
   "id": "8a921739",
   "metadata": {},
   "source": [
    "# <font color=#005656><div align=\"center\">Sales analysis"
   ]
  },
  {
   "cell_type": "markdown",
   "id": "3f110b86",
   "metadata": {},
   "source": [
    "## Carga de librerías"
   ]
  },
  {
   "cell_type": "code",
   "execution_count": 1,
   "id": "be505161",
   "metadata": {},
   "outputs": [],
   "source": [
    "import pandas as pd\n",
    "from datetime import datetime\n",
    "import os\n",
    "import matplotlib.pyplot as plt"
   ]
  },
  {
   "cell_type": "markdown",
   "id": "2c4375db",
   "metadata": {},
   "source": [
    "## Preparar los datos"
   ]
  },
  {
   "cell_type": "markdown",
   "id": "0850e2a8",
   "metadata": {},
   "source": [
    "En vista de que se neceita la información de todos los archivos disponibles, primero se buscará anexarlos para facilitar el análisis.\n",
    "\n",
    "- La función os.listdir() otorga una lista de todos los archivos disponibles dentro de una carpeta, el método map crea un iteración para un funución específica.\n",
    "- El método reset_index() ayuda a crear una columna adicional que indique la procedencia de cada fila en el dataframe resultante."
   ]
  },
  {
   "cell_type": "markdown",
   "id": "2e8719e0",
   "metadata": {},
   "source": [
    "**Carga de datos**"
   ]
  },
  {
   "cell_type": "code",
   "execution_count": null,
   "id": "a89f62d3",
   "metadata": {},
   "outputs": [],
   "source": [
    "# Método alternativo usando el método for\n",
    "\n",
    "mainpath = r\"C:\\Users\\DELL\\OneDrive\\Formación\\Python\\GITHUB - Repositorios\\Case analysis\\1. Análisis de ventas\\Sales_Data\"\n",
    "# Almacenar el nombre de cada archivo según una dirección\n",
    "os.listdir(mainpath)\n",
    "\n",
    "# Declaración de un Dataframe vacío\n",
    "all_months_data = pd.DataFrame()\n",
    "\n",
    "# Carga de todos los archivos en un dirección específica\n",
    "for file in files:\n",
    "    df = pd.read_csv(os.path.join(mainpath,file))\n",
    "    df.insert(loc=len(df.columns),\n",
    "              column='File_origin',\n",
    "             value=file)\n",
    "    all_months_data = pd.concat([all_months_data,df])\n",
    "\n",
    "# Creación de un nuevo archivo csv con los datos combinados\n",
    "all_months_data.to_csv(\"all_data.csv\",index = False)\n",
    "\n",
    "all_months_data.shape"
   ]
  },
  {
   "cell_type": "code",
   "execution_count": 2,
   "id": "0631f00d",
   "metadata": {
    "scrolled": true
   },
   "outputs": [],
   "source": [
    "mainpath = r'C:\\Users\\DELL\\OneDrive\\Formación\\Python\\GITHUB - Repositorios\\Case analysis\\1. Análisis de ventas\\Sales_Data'\n",
    "\n",
    "# Creación de una lista de direcciones\n",
    "files = [os.path.join(mainpath,i) for i in os.listdir(mainpath)]\n",
    "\n",
    "# Función personalizada de carga de datos\n",
    "def custom_read_csv(x_path):\n",
    "    return pd.read_csv(filepath_or_buffer = x_path,\n",
    "                       sep = ',',\n",
    "                       skip_blank_lines = True,\n",
    "                       encoding = 'utf-8')\n",
    "\n",
    "# Apendización de archivos\n",
    "df = pd.concat(objs = map(custom_read_csv, files),\n",
    "               keys = os.listdir(mainpath),\n",
    "               names = ['File']).reset_index(level = ['File'])"
   ]
  },
  {
   "cell_type": "markdown",
   "id": "bf903e99",
   "metadata": {},
   "source": [
    "Se eligió mantener el nombre del archivo para evaluar la coherencia con la fecha en la tabla de datos. En caso de no existir observaciones se leiminara la columna \"File\""
   ]
  },
  {
   "cell_type": "markdown",
   "id": "c94875f3",
   "metadata": {},
   "source": [
    "#### En este punto ya se tiene la información reunida en un solo dataframe. Ahora deben ser tranformados para su análisis de acuerdo con una serie de pasos.\n",
    "1. Eliminación de filas con valores faltantes en la columna \"Order ID\".\n",
    "2. Eliminación de títulos de columnas dentro de los datos.\n",
    "3. Separación de fecha y hora.\n",
    "4. Sepración de texto para obtener dirección ciudad, estado y código ZIP.\n",
    "5. Combinación de tablas para hallar el nombre del estado.\n",
    "6. Remoción de columnas innecesarias.\n",
    "7. Cambio de nombre de columnas.\n",
    "6. Asignación de tipos de columnas.\n",
    "7. Reordenar columnas.\n",
    "8. Exportar archivo resultante (opcional)"
   ]
  },
  {
   "cell_type": "code",
   "execution_count": 4,
   "id": "efc4e4ad",
   "metadata": {},
   "outputs": [
    {
     "ename": "TypeError",
     "evalue": "strptime() argument 1 must be str, not Series",
     "output_type": "error",
     "traceback": [
      "\u001b[1;31m---------------------------------------------------------------------------\u001b[0m",
      "\u001b[1;31mTypeError\u001b[0m                                 Traceback (most recent call last)",
      "Input \u001b[1;32mIn [4]\u001b[0m, in \u001b[0;36m<cell line: 45>\u001b[1;34m()\u001b[0m\n\u001b[0;32m     43\u001b[0m df\u001b[38;5;241m.\u001b[39mrename(columns \u001b[38;5;241m=\u001b[39m {\u001b[38;5;124m'\u001b[39m\u001b[38;5;124mState_y\u001b[39m\u001b[38;5;124m'\u001b[39m:\u001b[38;5;124m'\u001b[39m\u001b[38;5;124mState\u001b[39m\u001b[38;5;124m'\u001b[39m}, inplace \u001b[38;5;241m=\u001b[39m \u001b[38;5;28;01mTrue\u001b[39;00m)\n\u001b[0;32m     44\u001b[0m \u001b[38;5;66;03m#df['Date'] = pd.to_datetime(df['Date'],format='%m-%d-%Y')\u001b[39;00m\n\u001b[1;32m---> 45\u001b[0m df[\u001b[38;5;124m'\u001b[39m\u001b[38;5;124mDate\u001b[39m\u001b[38;5;124m'\u001b[39m] \u001b[38;5;241m=\u001b[39m \u001b[43mdatetime\u001b[49m\u001b[38;5;241;43m.\u001b[39;49m\u001b[43mstrptime\u001b[49m\u001b[43m(\u001b[49m\u001b[43mdf\u001b[49m\u001b[43m[\u001b[49m\u001b[38;5;124;43m'\u001b[39;49m\u001b[38;5;124;43mDate\u001b[39;49m\u001b[38;5;124;43m'\u001b[39;49m\u001b[43m]\u001b[49m\u001b[43m,\u001b[49m\u001b[38;5;124;43m'\u001b[39;49m\u001b[38;5;124;43m%\u001b[39;49m\u001b[38;5;124;43mm/\u001b[39;49m\u001b[38;5;132;43;01m%d\u001b[39;49;00m\u001b[38;5;124;43m/\u001b[39;49m\u001b[38;5;124;43m%\u001b[39;49m\u001b[38;5;124;43my\u001b[39;49m\u001b[38;5;124;43m'\u001b[39;49m\u001b[43m)\u001b[49m\n\u001b[0;32m     47\u001b[0m \u001b[38;5;66;03m# T-08\u001b[39;00m\n\u001b[0;32m     48\u001b[0m df \u001b[38;5;241m=\u001b[39m df\u001b[38;5;241m.\u001b[39mapply(pd\u001b[38;5;241m.\u001b[39mto_numeric, errors \u001b[38;5;241m=\u001b[39m \u001b[38;5;124m'\u001b[39m\u001b[38;5;124mignore\u001b[39m\u001b[38;5;124m'\u001b[39m)\n",
      "\u001b[1;31mTypeError\u001b[0m: strptime() argument 1 must be str, not Series"
     ]
    }
   ],
   "source": [
    "mainpath = r'C:\\Users\\DELL\\OneDrive\\Formación\\Python\\GITHUB - Repositorios\\Case analysis\\1. Análisis de ventas\\Sales_Data'\n",
    "\n",
    "# Creación de una lista de direcciones\n",
    "files = [os.path.join(mainpath,i) for i in os.listdir(mainpath)]\n",
    "\n",
    "# Función personalizada de carga de datos\n",
    "def custom_read_csv(x_path):\n",
    "    return pd.read_csv(filepath_or_buffer = x_path,\n",
    "                       sep = ',',\n",
    "                       skip_blank_lines = True,\n",
    "                       encoding = 'utf-8')\n",
    "\n",
    "# Apendización de archivos\n",
    "df = pd.concat(objs = map(custom_read_csv, files),\n",
    "               keys = os.listdir(mainpath),\n",
    "               names = ['File']).reset_index(level = ['File'])\n",
    "\n",
    "\n",
    "\n",
    "# T-01\n",
    "df.dropna(subset = ['Order ID'], inplace = True)\n",
    "\n",
    "# T-02\n",
    "df = df.loc[df['Order ID'] != 'Order ID'].reset_index(drop = True)\n",
    "\n",
    "# T-03\n",
    "df[['Date', 'Hour']] = df['Order Date'].str.split(pat = ' ', expand = True)\n",
    "df.drop(labels = ['Order Date'], axis = 1, inplace = True)\n",
    "\n",
    "# T-04\n",
    "df[['Address', 'City', 'Temp']] = df['Purchase Address'].str.split(pat = ', ', expand = True)\n",
    "df['State'] = df['Temp'].str.split(pat = ' ', expand = True)[0]\n",
    "\n",
    "# T-05\n",
    "state_data = pd.read_csv(filepath_or_buffer = os.path.join('States.txt'), sep = '\\t', encoding = 'utf-8')\n",
    "df = df.merge(right = state_data[['Postal','State']], how = 'left', left_on = 'State', right_on = 'Postal')\n",
    "\n",
    "\n",
    "# T-06\n",
    "df.drop(labels = ['Purchase Address','Temp','State_x','Postal'], axis = 1, inplace = True)\n",
    "\n",
    "# T-07\n",
    "df.rename(columns = {'State_y':'State'}, inplace = True)\n",
    "#df['Date'] = pd.to_datetime(df['Date'],format='%m-%d-%Y')\n",
    "df['Date'] = datetime.strptime(df['Date'],'%m/%d/%y')\n",
    "\n",
    "# T-08\n",
    "df = df.apply(pd.to_numeric, errors = 'ignore')\n",
    "\n",
    "# T-04\n",
    "\n",
    "print(state_data.isnull().values.any())\n",
    "print(df.dtypes)\n",
    "df.head()"
   ]
  },
  {
   "cell_type": "code",
   "execution_count": null,
   "id": "a404896b",
   "metadata": {},
   "outputs": [],
   "source": [
    "df['City'].value_counts().sort_index()"
   ]
  },
  {
   "cell_type": "code",
   "execution_count": null,
   "id": "f6bdea12",
   "metadata": {
    "scrolled": true
   },
   "outputs": [],
   "source": [
    "# T-04 (opcional)\n",
    "df.index.name = 'ID'\n",
    "df.to_csv('Data.csv')"
   ]
  },
  {
   "cell_type": "code",
   "execution_count": null,
   "id": "c1bc1eca",
   "metadata": {},
   "outputs": [],
   "source": [
    "df.head()"
   ]
  },
  {
   "cell_type": "markdown",
   "id": "037ac144",
   "metadata": {},
   "source": [
    "**Traformaciones opcionales**"
   ]
  },
  {
   "cell_type": "markdown",
   "id": "210f4552",
   "metadata": {},
   "source": [
    "Las filas representa una venta según un número de orden, por lo que esta columna tinene valores repetidos. Es posible observar la cantidad de productos por cada orden"
   ]
  },
  {
   "cell_type": "code",
   "execution_count": null,
   "id": "7b0cf614",
   "metadata": {
    "scrolled": true
   },
   "outputs": [],
   "source": [
    "df.loc[df['Order ID'].duplicated(keep = False)].sort_values(by = 'Order ID').head()"
   ]
  },
  {
   "cell_type": "code",
   "execution_count": null,
   "id": "c8159a43",
   "metadata": {},
   "outputs": [],
   "source": [
    "# Exsite una orden que tiene 5 productos vendidos, existen 17 órdenes con 4 producto vendidos cada una y así sucesivamente \n",
    "var = 'Quantity Ordered'\n",
    "pd.pivot_table(data = df, index = ['Order ID'], values = var, aggfunc = 'count').\\\n",
    "sort_values(by = var, ascending = False).value_counts()"
   ]
  },
  {
   "cell_type": "code",
   "execution_count": null,
   "id": "79e61c75",
   "metadata": {},
   "outputs": [],
   "source": [
    "df1 = df.copy()\n",
    "df1['Orders'] = df.groupby('Order ID')['Order ID'].transform('count')\n",
    "df1.sort_values(by = ['Orders'], ascending = False, inplace = True)\n",
    "df1.head(10)"
   ]
  },
  {
   "cell_type": "markdown",
   "id": "73f52aff",
   "metadata": {},
   "source": [
    "### Pregunta 0: ¿Cuántas órdenes y ventas se atendieron en total?"
   ]
  },
  {
   "cell_type": "code",
   "execution_count": null,
   "id": "b5b47139",
   "metadata": {},
   "outputs": [],
   "source": []
  },
  {
   "cell_type": "markdown",
   "id": "9e07d467",
   "metadata": {},
   "source": [
    "### Pregunta 1: ¿Qué mes tuvo las ventas más altas? ¿Cuánto se ganó en dicho periodo?"
   ]
  },
  {
   "cell_type": "markdown",
   "id": "d576553b",
   "metadata": {},
   "source": [
    "#### Adición de nuevas columnas"
   ]
  },
  {
   "cell_type": "code",
   "execution_count": null,
   "id": "3866fc66",
   "metadata": {},
   "outputs": [],
   "source": [
    "all_data['Month'] = all_data[\"Order Date\"].str[0:2]\n",
    "all_data.head()"
   ]
  },
  {
   "cell_type": "markdown",
   "id": "33acc1e5",
   "metadata": {},
   "source": [
    "#### Cambio del tipo de variables"
   ]
  },
  {
   "cell_type": "code",
   "execution_count": null,
   "id": "4a21e0c8",
   "metadata": {},
   "outputs": [],
   "source": [
    "#all_data[\"Month\"] = all_data[\"Month\"].astype('int32')"
   ]
  },
  {
   "cell_type": "code",
   "execution_count": null,
   "id": "c9f0437f",
   "metadata": {},
   "outputs": [],
   "source": [
    "all_data.dtypes"
   ]
  },
  {
   "cell_type": "code",
   "execution_count": null,
   "id": "146c2143",
   "metadata": {},
   "outputs": [],
   "source": [
    "convert_dic = {\"Order ID\": \"int32\",\"Product\": str,\"Quantity Ordered\": int,\n",
    "               \"Price Each\": float,\"Order Date\": str,\"Purchase Address\": str,\n",
    "               \"File_origin\": str}\n",
    "all_data = all_data.astype(convert_dic)\n",
    "print(all_data.dtypes)"
   ]
  },
  {
   "cell_type": "markdown",
   "id": "c460a869",
   "metadata": {},
   "source": [
    "#### Adición de la columna de ventas"
   ]
  },
  {
   "cell_type": "code",
   "execution_count": null,
   "id": "82d08c83",
   "metadata": {},
   "outputs": [],
   "source": [
    "all_data[\"Sales\"] = all_data[\"Quantity Ordered\"] * all_data[\"Price Each\"]\n",
    "all_data.head()"
   ]
  },
  {
   "cell_type": "markdown",
   "id": "cbfa109b",
   "metadata": {},
   "source": [
    "#### Respuesta a la pregunta"
   ]
  },
  {
   "cell_type": "code",
   "execution_count": null,
   "id": "3b358647",
   "metadata": {},
   "outputs": [],
   "source": [
    "# Diciembre fue el mes con las mejores ventas\n",
    "results = all_data.groupby(\"Month\").sum()[[\"Quantity Ordered\",\"Sales\"]]\n",
    "results"
   ]
  },
  {
   "cell_type": "code",
   "execution_count": null,
   "id": "76cb32d1",
   "metadata": {},
   "outputs": [],
   "source": [
    "months = range(1,13)\n",
    "plt.bar(months,results[\"Sales\"])\n",
    "plt.xticks(months)\n",
    "plt.ylabel(\"Ventas en dólares\")\n",
    "plt.xlabel(\"Número de mes\")\n",
    "plt.show"
   ]
  },
  {
   "cell_type": "markdown",
   "id": "4a6f3bf0",
   "metadata": {},
   "source": [
    "### ¿Qué ciudad tuvo las ventas más altas? ¿Cuánto se ganó en dicho periodo?"
   ]
  },
  {
   "cell_type": "markdown",
   "id": "69fbe286",
   "metadata": {},
   "source": [
    "#### Separar columnas"
   ]
  },
  {
   "cell_type": "code",
   "execution_count": null,
   "id": "49f17468",
   "metadata": {},
   "outputs": [],
   "source": [
    "all_data.head()"
   ]
  },
  {
   "cell_type": "code",
   "execution_count": null,
   "id": "0a42743c",
   "metadata": {},
   "outputs": [],
   "source": [
    "# split column and add new columns to df\n",
    "all_data2 = all_data.copy()\n",
    "all_data2[['Address', 'City', 'Code']] = all_data2['Purchase Address'].str.split(',', expand=True)\n",
    "all_data2.head()"
   ]
  },
  {
   "cell_type": "code",
   "execution_count": null,
   "id": "71bb047b",
   "metadata": {},
   "outputs": [],
   "source": [
    "results2 = all_data2.groupby(\"City\").sum()[[\"Quantity Ordered\",\"Sales\"]]\n",
    "results2"
   ]
  },
  {
   "cell_type": "markdown",
   "id": "e6bd0b69",
   "metadata": {},
   "source": [
    "Es posible aislar solamente la columna de interés"
   ]
  },
  {
   "cell_type": "code",
   "execution_count": null,
   "id": "afa6d9d8",
   "metadata": {},
   "outputs": [],
   "source": [
    "all_data['City'] = all_data['Purchase Address'].apply(lambda x: x.split(',')[1])\n",
    "all_data.head()"
   ]
  },
  {
   "cell_type": "markdown",
   "id": "1f23714d",
   "metadata": {},
   "source": [
    "Considerar que los nombre de las ciudades pueden estar duplicados si no se extrae el estado"
   ]
  },
  {
   "cell_type": "code",
   "execution_count": null,
   "id": "715e2e0a",
   "metadata": {},
   "outputs": [],
   "source": [
    "results3 = all_data.groupby(\"City\").sum()[[\"Quantity Ordered\",\"Sales\"]]\n",
    "results3"
   ]
  },
  {
   "cell_type": "markdown",
   "id": "f19559f3",
   "metadata": {},
   "source": [
    "El método apply funcionará bien en tanto no se traten excesivas cantidades de datos"
   ]
  },
  {
   "cell_type": "code",
   "execution_count": null,
   "id": "677a345a",
   "metadata": {},
   "outputs": [],
   "source": [
    "def get_city(address):\n",
    "    return address.split(',')[1]\n",
    "\n",
    "def get_state(address):\n",
    "    return address.split(',')[2].split(' ')[1]\n",
    "\n",
    "all_data['City'] = all_data['Purchase Address'].apply(lambda x:f\"{get_city(x)} ({get_state(x)})\")\n",
    "all_data.head()"
   ]
  },
  {
   "cell_type": "code",
   "execution_count": null,
   "id": "9a3cbd45",
   "metadata": {
    "scrolled": true
   },
   "outputs": [],
   "source": [
    "results4 = all_data.groupby(\"City\").sum()[[\"Quantity Ordered\",\"Sales\"]]\n",
    "results4"
   ]
  },
  {
   "cell_type": "code",
   "execution_count": null,
   "id": "58ee85a9",
   "metadata": {
    "scrolled": true
   },
   "outputs": [],
   "source": [
    "# Este gráfico está errado por el orden de los ejes y las cantidades\n",
    "cities = all_data[\"City\"].unique()\n",
    "plt.bar(cities,results4[\"Sales\"])\n",
    "plt.xticks(cities, rotation = \"vertical\",size =8)\n",
    "plt.ylabel(\"Ventas en dólares\")\n",
    "plt.xlabel(\"Ciudad\")\n",
    "plt.show()"
   ]
  },
  {
   "cell_type": "markdown",
   "id": "265615b8",
   "metadata": {},
   "source": [
    "Como científicos de datos debemos preguntarnos por qué San Francisco tinen las ventas más altas... <br/>\n",
    "Pueden formularse varias hipótesis que viene de una segmentación de mercado: nivel de ingresos, ubicación, edad, etc."
   ]
  },
  {
   "cell_type": "code",
   "execution_count": null,
   "id": "429046fc",
   "metadata": {
    "scrolled": true
   },
   "outputs": [],
   "source": [
    "keys = [city for city, df in all_data2.groupby(['City'])]\n",
    "plt.bar(keys,all_data2.groupby(['City']).sum()['Sales'])\n",
    "plt.ylabel('Ingresos en USD ($)')\n",
    "plt.xlabel('Ciudad')\n",
    "plt.xticks(keys, rotation='vertical', size=8)\n",
    "plt.show()"
   ]
  },
  {
   "cell_type": "markdown",
   "id": "a3a4856d",
   "metadata": {},
   "source": [
    "### ¿Cuál es el mejor momento para desplegar avisos publicitarios de manera que se maximice la probabilidad de que un cliente pueda comprar un producto?"
   ]
  },
  {
   "cell_type": "code",
   "execution_count": null,
   "id": "b7c368df",
   "metadata": {
    "scrolled": true
   },
   "outputs": [],
   "source": [
    "all_data.head()"
   ]
  },
  {
   "cell_type": "code",
   "execution_count": null,
   "id": "47a54f5b",
   "metadata": {},
   "outputs": [],
   "source": [
    "all_data[\"Order Date\"] = pd.to_datetime(all_data[\"Order Date\"])"
   ]
  },
  {
   "cell_type": "code",
   "execution_count": null,
   "id": "77f81ce9",
   "metadata": {},
   "outputs": [],
   "source": [
    "all_data.head()"
   ]
  },
  {
   "cell_type": "code",
   "execution_count": null,
   "id": "6dd718e8",
   "metadata": {},
   "outputs": [],
   "source": [
    "all_data[\"Hour\"] = all_data[\"Order Date\"].dt.hour\n",
    "all_data[\"Minute\"] = all_data[\"Order Date\"].dt.minute\n",
    "all_data.head()"
   ]
  },
  {
   "cell_type": "code",
   "execution_count": null,
   "id": "55fc3565",
   "metadata": {},
   "outputs": [],
   "source": [
    "# Add hour column\n",
    "all_data['Hour'] = pd.to_datetime(all_data['Order Date']).dt.hour\n",
    "all_data['Minute'] = pd.to_datetime(all_data['Order Date']).dt.minute\n",
    "all_data['Count'] = 1\n",
    "all_data.head()"
   ]
  },
  {
   "cell_type": "code",
   "execution_count": null,
   "id": "1f232f08",
   "metadata": {},
   "outputs": [],
   "source": [
    "keys = [pair for pair, df in all_data.groupby(['Hour'])]\n",
    "\n",
    "plt.plot(keys, all_data.groupby(['Hour']).count()['Count'])\n",
    "plt.xticks(keys)\n",
    "plt.grid()\n",
    "plt.show()"
   ]
  },
  {
   "cell_type": "markdown",
   "id": "7e48e6d8",
   "metadata": {},
   "source": [
    "### ¿Qué productos se venden juntos usualmente?"
   ]
  },
  {
   "cell_type": "code",
   "execution_count": null,
   "id": "2ee30a0b",
   "metadata": {},
   "outputs": [],
   "source": [
    "all_data.head()"
   ]
  },
  {
   "cell_type": "code",
   "execution_count": null,
   "id": "b6ad6b3c",
   "metadata": {},
   "outputs": [],
   "source": [
    "df = all_data[all_data[\"Order ID\"].duplicated(keep = False)]\n",
    "\n",
    "df['Grouped'] = df.groupby('Order ID')['Product'].transform(lambda x: ','.join(x))\n",
    "\n",
    "df = df[['Order ID','Grouped']].drop_duplicates()\n",
    "\n",
    "df.head()"
   ]
  },
  {
   "cell_type": "code",
   "execution_count": null,
   "id": "db5ab3b8",
   "metadata": {},
   "outputs": [],
   "source": [
    "from itertools import combinations\n",
    "from collections import Counter\n",
    "\n",
    "count = Counter()\n",
    "\n",
    "for row in df['Grouped']:\n",
    "    row_list = row.split(',')\n",
    "    count.update(Counter(combinations(row_list,2)))\n",
    "\n",
    "for key,value in count.most_common(10):\n",
    "    print(key,value)"
   ]
  },
  {
   "cell_type": "markdown",
   "id": "7d4b99f8",
   "metadata": {},
   "source": [
    "### ¿Qué producto vendió más? ¿Por qué fue así?"
   ]
  },
  {
   "cell_type": "code",
   "execution_count": null,
   "id": "0bc79219",
   "metadata": {},
   "outputs": [],
   "source": [
    "all_data.head()"
   ]
  },
  {
   "cell_type": "code",
   "execution_count": null,
   "id": "b0f1220b",
   "metadata": {},
   "outputs": [],
   "source": [
    "product_group = all_data.groupby('Product')\n",
    "quantity_ordered = product_group.sum()['Quantity Ordered']\n",
    "\n",
    "keys = [pair for pair, df in product_group]\n",
    "plt.bar(keys, quantity_ordered)\n",
    "plt.xticks(keys, rotation='vertical', size=8)\n",
    "plt.show()"
   ]
  },
  {
   "cell_type": "code",
   "execution_count": null,
   "id": "ab8f154e",
   "metadata": {},
   "outputs": [],
   "source": [
    "prices = all_data.groupby('Product').mean()['Price Each']\n",
    "print(prices)"
   ]
  },
  {
   "cell_type": "code",
   "execution_count": null,
   "id": "7143e892",
   "metadata": {},
   "outputs": [],
   "source": [
    "# Referenced: https://stackoverflow.com/questions/14762181/adding-a-y-axis-label-to-secondary-y-axis-in-matplotlib\n",
    "\n",
    "prices = all_data.groupby('Product').mean()['Price Each']\n",
    "\n",
    "fig, ax1 = plt.subplots()\n",
    "\n",
    "ax2 = ax1.twinx()\n",
    "ax1.bar(keys, quantity_ordered, color='g')\n",
    "ax2.plot(keys, prices, color='b')\n",
    "\n",
    "ax1.set_xlabel('Product Name')\n",
    "ax1.set_ylabel('Quantity Ordered', color='g')\n",
    "ax2.set_ylabel('Price ($)', color='b')\n",
    "ax1.set_xticklabels(keys, rotation='vertical', size=8)\n",
    "\n",
    "fig.show()"
   ]
  }
 ],
 "metadata": {
  "kernelspec": {
   "display_name": "Python 3 (ipykernel)",
   "language": "python",
   "name": "python3"
  },
  "language_info": {
   "codemirror_mode": {
    "name": "ipython",
    "version": 3
   },
   "file_extension": ".py",
   "mimetype": "text/x-python",
   "name": "python",
   "nbconvert_exporter": "python",
   "pygments_lexer": "ipython3",
   "version": "3.10.4"
  },
  "toc": {
   "base_numbering": 1,
   "nav_menu": {},
   "number_sections": true,
   "sideBar": true,
   "skip_h1_title": true,
   "title_cell": "Table of Contents",
   "title_sidebar": "Contents",
   "toc_cell": false,
   "toc_position": {},
   "toc_section_display": true,
   "toc_window_display": false
  },
  "varInspector": {
   "cols": {
    "lenName": 16,
    "lenType": 16,
    "lenVar": 40
   },
   "kernels_config": {
    "python": {
     "delete_cmd_postfix": "",
     "delete_cmd_prefix": "del ",
     "library": "var_list.py",
     "varRefreshCmd": "print(var_dic_list())"
    },
    "r": {
     "delete_cmd_postfix": ") ",
     "delete_cmd_prefix": "rm(",
     "library": "var_list.r",
     "varRefreshCmd": "cat(var_dic_list()) "
    }
   },
   "types_to_exclude": [
    "module",
    "function",
    "builtin_function_or_method",
    "instance",
    "_Feature"
   ],
   "window_display": false
  }
 },
 "nbformat": 4,
 "nbformat_minor": 5
}
