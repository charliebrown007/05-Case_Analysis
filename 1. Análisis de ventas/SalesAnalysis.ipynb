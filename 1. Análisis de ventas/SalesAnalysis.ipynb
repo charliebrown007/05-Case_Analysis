{
 "cells": [
  {
   "cell_type": "markdown",
   "id": "8a921739",
   "metadata": {},
   "source": [
    "# <font color=#005656><div align=\"center\">Sales analysis"
   ]
  },
  {
   "cell_type": "markdown",
   "id": "3f110b86",
   "metadata": {},
   "source": [
    "## Carga de librerías"
   ]
  },
  {
   "cell_type": "code",
   "execution_count": null,
   "id": "be505161",
   "metadata": {},
   "outputs": [],
   "source": [
    "import pandas as pd\n",
    "import os\n",
    "import matplotlib.pyplot as plt"
   ]
  },
  {
   "cell_type": "markdown",
   "id": "2c4375db",
   "metadata": {},
   "source": [
    "## Preparar los datos"
   ]
  },
  {
   "cell_type": "markdown",
   "id": "0850e2a8",
   "metadata": {},
   "source": [
    "En vista de que se neceita la información de todos los archivos disponibles, primero se buscará anexarlos para facilitar el análisis.\n",
    "\n",
    "- La función os.listdir() otorga una lista de todos los archivos disponibles dentro de una carpeta, el método map crea un iteración para un funución específica.\n",
    "- El método reset_index() ayuda a crear una columna adicional que indique la procedencia de cada fila en el dataframe resultante."
   ]
  },
  {
   "cell_type": "markdown",
   "id": "2e8719e0",
   "metadata": {},
   "source": [
    "**Carga de datos**"
   ]
  },
  {
   "cell_type": "code",
   "execution_count": null,
   "id": "a89f62d3",
   "metadata": {},
   "outputs": [],
   "source": [
    "# Método alternativo usando el método for\n",
    "\n",
    "mainpath = r\"C:\\Users\\DELL\\OneDrive\\Formación\\Python\\GITHUB - Repositorios\\Case analysis\\1. Análisis de ventas\\Sales_Data\"\n",
    "# Almacenar el nombre de cada archivo según una dirección\n",
    "os.listdir(mainpath)\n",
    "\n",
    "# Declaración de un Dataframe vacío\n",
    "all_months_data = pd.DataFrame()\n",
    "\n",
    "# Carga de todos los archivos en un dirección específica\n",
    "for file in files:\n",
    "    df = pd.read_csv(os.path.join(mainpath,file))\n",
    "    df.insert(loc=len(df.columns),\n",
    "              column='File_origin',\n",
    "             value=file)\n",
    "    all_months_data = pd.concat([all_months_data,df])\n",
    "\n",
    "# Creación de un nuevo archivo csv con los datos combinados\n",
    "all_months_data.to_csv(\"all_data.csv\",index = False)\n",
    "\n",
    "all_months_data.shape"
   ]
  },
  {
   "cell_type": "code",
   "execution_count": 3,
   "id": "0631f00d",
   "metadata": {
    "scrolled": true
   },
   "outputs": [],
   "source": [
    "mainpath = r'C:\\Users\\DELL\\OneDrive\\Formación\\Python\\GITHUB - Repositorios\\Case analysis\\1. Análisis de ventas\\Sales_Data'\n",
    "\n",
    "# Crear una lista de direcciones\n",
    "files = [os.path.join(mainpath,i) for i in os.listdir(mainpath)]\n",
    "\n",
    "# Función personalizada de carga de datos\n",
    "def custom_read_csv(x_path):\n",
    "    return pd.read_csv(filepath_or_buffer = x_path,\n",
    "                       sep = ',',\n",
    "                       skip_blank_lines = True,\n",
    "                       encoding = 'utf-8')\n",
    "\n",
    "df = pd.concat(objs = map(custom_read_csv, files),\n",
    "               keys = os.listdir(mainpath),\n",
    "               names = ['File']).reset_index(level = ['File'])\n",
    "\n",
    "#df.reset_index(inplace = True, drop = True)\n",
    "\n",
    "#df.info()"
   ]
  },
  {
   "cell_type": "markdown",
   "id": "c94875f3",
   "metadata": {},
   "source": [
    "En este punto ya se tiene la información reunida en un solo dataframe. Ahora deben ser tranformados para su análisis de acuerdo con una serie de pasos.\n",
    "1. Eliminación de filas con valores faltantes en la columna \"Order ID\".\n",
    "2. Eliminación de títulos de columnas innecesarios.\n",
    "3. Asignación de tipos de columnas.\n",
    "4. Exportar archivo resultante (opcional)"
   ]
  },
  {
   "cell_type": "code",
   "execution_count": 4,
   "id": "efc4e4ad",
   "metadata": {},
   "outputs": [],
   "source": [
    "# T-01\n",
    "df.dropna(subset = ['Order ID'], inplace = True)\n",
    "# T-02\n",
    "df = df.loc[df['Order ID'] != 'Order ID'].reset_index(drop = True)\n",
    "# T-03\n",
    "df = df.apply(pd.to_numeric, errors='ignore')"
   ]
  },
  {
   "cell_type": "code",
   "execution_count": null,
   "id": "f6bdea12",
   "metadata": {
    "scrolled": true
   },
   "outputs": [],
   "source": [
    "# T-04\n",
    "df.index.name = 'ID'\n",
    "df.to_csv('Data.csv')"
   ]
  },
  {
   "cell_type": "markdown",
   "id": "843edaf8",
   "metadata": {},
   "source": [
    "Las filas representa una venta según un número de orden, por lo que esta columna tinene valores repetidos. Es posible observar la cantidad de veces "
   ]
  },
  {
   "cell_type": "code",
   "execution_count": 5,
   "id": "7b0cf614",
   "metadata": {},
   "outputs": [
    {
     "data": {
      "text/html": [
       "<div>\n",
       "<style scoped>\n",
       "    .dataframe tbody tr th:only-of-type {\n",
       "        vertical-align: middle;\n",
       "    }\n",
       "\n",
       "    .dataframe tbody tr th {\n",
       "        vertical-align: top;\n",
       "    }\n",
       "\n",
       "    .dataframe thead th {\n",
       "        text-align: right;\n",
       "    }\n",
       "</style>\n",
       "<table border=\"1\" class=\"dataframe\">\n",
       "  <thead>\n",
       "    <tr style=\"text-align: right;\">\n",
       "      <th></th>\n",
       "      <th>File</th>\n",
       "      <th>Order ID</th>\n",
       "      <th>Product</th>\n",
       "      <th>Quantity Ordered</th>\n",
       "      <th>Price Each</th>\n",
       "      <th>Order Date</th>\n",
       "      <th>Purchase Address</th>\n",
       "    </tr>\n",
       "  </thead>\n",
       "  <tbody>\n",
       "    <tr>\n",
       "      <th>67262</th>\n",
       "      <td>Sales_January_2019.csv</td>\n",
       "      <td>141275</td>\n",
       "      <td>USB-C Charging Cable</td>\n",
       "      <td>1</td>\n",
       "      <td>11.95</td>\n",
       "      <td>01/07/19 16:06</td>\n",
       "      <td>610 Walnut St, Austin, TX 73301</td>\n",
       "    </tr>\n",
       "    <tr>\n",
       "      <th>67263</th>\n",
       "      <td>Sales_January_2019.csv</td>\n",
       "      <td>141275</td>\n",
       "      <td>Wired Headphones</td>\n",
       "      <td>1</td>\n",
       "      <td>11.99</td>\n",
       "      <td>01/07/19 16:06</td>\n",
       "      <td>610 Walnut St, Austin, TX 73301</td>\n",
       "    </tr>\n",
       "    <tr>\n",
       "      <th>67279</th>\n",
       "      <td>Sales_January_2019.csv</td>\n",
       "      <td>141290</td>\n",
       "      <td>AA Batteries (4-pack)</td>\n",
       "      <td>3</td>\n",
       "      <td>3.84</td>\n",
       "      <td>01/02/19 08:25</td>\n",
       "      <td>4 1st St, Los Angeles, CA 90001</td>\n",
       "    </tr>\n",
       "    <tr>\n",
       "      <th>67278</th>\n",
       "      <td>Sales_January_2019.csv</td>\n",
       "      <td>141290</td>\n",
       "      <td>Apple Airpods Headphones</td>\n",
       "      <td>1</td>\n",
       "      <td>150.00</td>\n",
       "      <td>01/02/19 08:25</td>\n",
       "      <td>4 1st St, Los Angeles, CA 90001</td>\n",
       "    </tr>\n",
       "    <tr>\n",
       "      <th>67354</th>\n",
       "      <td>Sales_January_2019.csv</td>\n",
       "      <td>141365</td>\n",
       "      <td>Vareebadd Phone</td>\n",
       "      <td>1</td>\n",
       "      <td>400.00</td>\n",
       "      <td>01/10/19 11:19</td>\n",
       "      <td>20 Dogwood St, New York City, NY 10001</td>\n",
       "    </tr>\n",
       "    <tr>\n",
       "      <th>...</th>\n",
       "      <td>...</td>\n",
       "      <td>...</td>\n",
       "      <td>...</td>\n",
       "      <td>...</td>\n",
       "      <td>...</td>\n",
       "      <td>...</td>\n",
       "      <td>...</td>\n",
       "    </tr>\n",
       "    <tr>\n",
       "      <th>55146</th>\n",
       "      <td>Sales_December_2019.csv</td>\n",
       "      <td>319584</td>\n",
       "      <td>Wired Headphones</td>\n",
       "      <td>1</td>\n",
       "      <td>11.99</td>\n",
       "      <td>12/11/19 00:30</td>\n",
       "      <td>537 Sunset St, Portland, OR 97035</td>\n",
       "    </tr>\n",
       "    <tr>\n",
       "      <th>55158</th>\n",
       "      <td>Sales_December_2019.csv</td>\n",
       "      <td>319596</td>\n",
       "      <td>iPhone</td>\n",
       "      <td>1</td>\n",
       "      <td>700.00</td>\n",
       "      <td>12/01/19 08:44</td>\n",
       "      <td>436 14th St, New York City, NY 10001</td>\n",
       "    </tr>\n",
       "    <tr>\n",
       "      <th>55159</th>\n",
       "      <td>Sales_December_2019.csv</td>\n",
       "      <td>319596</td>\n",
       "      <td>Lightning Charging Cable</td>\n",
       "      <td>1</td>\n",
       "      <td>14.95</td>\n",
       "      <td>12/01/19 08:44</td>\n",
       "      <td>436 14th St, New York City, NY 10001</td>\n",
       "    </tr>\n",
       "    <tr>\n",
       "      <th>55195</th>\n",
       "      <td>Sales_December_2019.csv</td>\n",
       "      <td>319631</td>\n",
       "      <td>Lightning Charging Cable</td>\n",
       "      <td>1</td>\n",
       "      <td>14.95</td>\n",
       "      <td>12/17/19 22:35</td>\n",
       "      <td>363 Highland St, Austin, TX 73301</td>\n",
       "    </tr>\n",
       "    <tr>\n",
       "      <th>55194</th>\n",
       "      <td>Sales_December_2019.csv</td>\n",
       "      <td>319631</td>\n",
       "      <td>34in Ultrawide Monitor</td>\n",
       "      <td>1</td>\n",
       "      <td>379.99</td>\n",
       "      <td>12/17/19 22:35</td>\n",
       "      <td>363 Highland St, Austin, TX 73301</td>\n",
       "    </tr>\n",
       "  </tbody>\n",
       "</table>\n",
       "<p>14649 rows × 7 columns</p>\n",
       "</div>"
      ],
      "text/plain": [
       "                          File  Order ID                   Product  \\\n",
       "67262   Sales_January_2019.csv    141275      USB-C Charging Cable   \n",
       "67263   Sales_January_2019.csv    141275          Wired Headphones   \n",
       "67279   Sales_January_2019.csv    141290     AA Batteries (4-pack)   \n",
       "67278   Sales_January_2019.csv    141290  Apple Airpods Headphones   \n",
       "67354   Sales_January_2019.csv    141365           Vareebadd Phone   \n",
       "...                        ...       ...                       ...   \n",
       "55146  Sales_December_2019.csv    319584          Wired Headphones   \n",
       "55158  Sales_December_2019.csv    319596                    iPhone   \n",
       "55159  Sales_December_2019.csv    319596  Lightning Charging Cable   \n",
       "55195  Sales_December_2019.csv    319631  Lightning Charging Cable   \n",
       "55194  Sales_December_2019.csv    319631    34in Ultrawide Monitor   \n",
       "\n",
       "       Quantity Ordered  Price Each      Order Date  \\\n",
       "67262                 1       11.95  01/07/19 16:06   \n",
       "67263                 1       11.99  01/07/19 16:06   \n",
       "67279                 3        3.84  01/02/19 08:25   \n",
       "67278                 1      150.00  01/02/19 08:25   \n",
       "67354                 1      400.00  01/10/19 11:19   \n",
       "...                 ...         ...             ...   \n",
       "55146                 1       11.99  12/11/19 00:30   \n",
       "55158                 1      700.00  12/01/19 08:44   \n",
       "55159                 1       14.95  12/01/19 08:44   \n",
       "55195                 1       14.95  12/17/19 22:35   \n",
       "55194                 1      379.99  12/17/19 22:35   \n",
       "\n",
       "                             Purchase Address  \n",
       "67262         610 Walnut St, Austin, TX 73301  \n",
       "67263         610 Walnut St, Austin, TX 73301  \n",
       "67279         4 1st St, Los Angeles, CA 90001  \n",
       "67278         4 1st St, Los Angeles, CA 90001  \n",
       "67354  20 Dogwood St, New York City, NY 10001  \n",
       "...                                       ...  \n",
       "55146       537 Sunset St, Portland, OR 97035  \n",
       "55158    436 14th St, New York City, NY 10001  \n",
       "55159    436 14th St, New York City, NY 10001  \n",
       "55195       363 Highland St, Austin, TX 73301  \n",
       "55194       363 Highland St, Austin, TX 73301  \n",
       "\n",
       "[14649 rows x 7 columns]"
      ]
     },
     "execution_count": 5,
     "metadata": {},
     "output_type": "execute_result"
    }
   ],
   "source": [
    "df.loc[df['Order ID'].duplicated(keep = False)].sort_values(by = 'Order ID')"
   ]
  },
  {
   "cell_type": "markdown",
   "id": "9e07d467",
   "metadata": {},
   "source": [
    "### Pregunta 1: ¿Qué mes tuvo las ventas más altas? ¿Cuánto se ganó en dicho periodo?"
   ]
  },
  {
   "cell_type": "markdown",
   "id": "d576553b",
   "metadata": {},
   "source": [
    "#### Adición de nuevas columnas"
   ]
  },
  {
   "cell_type": "code",
   "execution_count": null,
   "id": "3866fc66",
   "metadata": {},
   "outputs": [],
   "source": [
    "all_data['Month'] = all_data[\"Order Date\"].str[0:2]\n",
    "all_data.head()"
   ]
  },
  {
   "cell_type": "markdown",
   "id": "33acc1e5",
   "metadata": {},
   "source": [
    "#### Cambio del tipo de variables"
   ]
  },
  {
   "cell_type": "code",
   "execution_count": null,
   "id": "4a21e0c8",
   "metadata": {},
   "outputs": [],
   "source": [
    "#all_data[\"Month\"] = all_data[\"Month\"].astype('int32')"
   ]
  },
  {
   "cell_type": "code",
   "execution_count": null,
   "id": "c9f0437f",
   "metadata": {},
   "outputs": [],
   "source": [
    "all_data.dtypes"
   ]
  },
  {
   "cell_type": "code",
   "execution_count": null,
   "id": "146c2143",
   "metadata": {},
   "outputs": [],
   "source": [
    "convert_dic = {\"Order ID\": \"int32\",\"Product\": str,\"Quantity Ordered\": int,\n",
    "               \"Price Each\": float,\"Order Date\": str,\"Purchase Address\": str,\n",
    "               \"File_origin\": str}\n",
    "all_data = all_data.astype(convert_dic)\n",
    "print(all_data.dtypes)"
   ]
  },
  {
   "cell_type": "markdown",
   "id": "c460a869",
   "metadata": {},
   "source": [
    "#### Adición de la columna de ventas"
   ]
  },
  {
   "cell_type": "code",
   "execution_count": null,
   "id": "82d08c83",
   "metadata": {},
   "outputs": [],
   "source": [
    "all_data[\"Sales\"] = all_data[\"Quantity Ordered\"] * all_data[\"Price Each\"]\n",
    "all_data.head()"
   ]
  },
  {
   "cell_type": "markdown",
   "id": "cbfa109b",
   "metadata": {},
   "source": [
    "#### Respuesta a la pregunta"
   ]
  },
  {
   "cell_type": "code",
   "execution_count": null,
   "id": "3b358647",
   "metadata": {},
   "outputs": [],
   "source": [
    "# Diciembre fue el mes con las mejores ventas\n",
    "results = all_data.groupby(\"Month\").sum()[[\"Quantity Ordered\",\"Sales\"]]\n",
    "results"
   ]
  },
  {
   "cell_type": "code",
   "execution_count": null,
   "id": "76cb32d1",
   "metadata": {},
   "outputs": [],
   "source": [
    "months = range(1,13)\n",
    "plt.bar(months,results[\"Sales\"])\n",
    "plt.xticks(months)\n",
    "plt.ylabel(\"Ventas en dólares\")\n",
    "plt.xlabel(\"Número de mes\")\n",
    "plt.show"
   ]
  },
  {
   "cell_type": "markdown",
   "id": "4a6f3bf0",
   "metadata": {},
   "source": [
    "### ¿Qué ciudad tuvo las ventas más altas? ¿Cuánto se ganó en dicho periodo?"
   ]
  },
  {
   "cell_type": "markdown",
   "id": "69fbe286",
   "metadata": {},
   "source": [
    "#### Separar columnas"
   ]
  },
  {
   "cell_type": "code",
   "execution_count": null,
   "id": "49f17468",
   "metadata": {},
   "outputs": [],
   "source": [
    "all_data.head()"
   ]
  },
  {
   "cell_type": "code",
   "execution_count": null,
   "id": "0a42743c",
   "metadata": {},
   "outputs": [],
   "source": [
    "# split column and add new columns to df\n",
    "all_data2 = all_data.copy()\n",
    "all_data2[['Address', 'City', 'Code']] = all_data2['Purchase Address'].str.split(',', expand=True)\n",
    "all_data2.head()"
   ]
  },
  {
   "cell_type": "code",
   "execution_count": null,
   "id": "71bb047b",
   "metadata": {},
   "outputs": [],
   "source": [
    "results2 = all_data2.groupby(\"City\").sum()[[\"Quantity Ordered\",\"Sales\"]]\n",
    "results2"
   ]
  },
  {
   "cell_type": "markdown",
   "id": "e6bd0b69",
   "metadata": {},
   "source": [
    "Es posible aislar solamente la columna de interés"
   ]
  },
  {
   "cell_type": "code",
   "execution_count": null,
   "id": "afa6d9d8",
   "metadata": {},
   "outputs": [],
   "source": [
    "all_data['City'] = all_data['Purchase Address'].apply(lambda x: x.split(',')[1])\n",
    "all_data.head()"
   ]
  },
  {
   "cell_type": "markdown",
   "id": "1f23714d",
   "metadata": {},
   "source": [
    "Considerar que los nombre de las ciudades pueden estar duplicados si no se extrae el estado"
   ]
  },
  {
   "cell_type": "code",
   "execution_count": null,
   "id": "715e2e0a",
   "metadata": {},
   "outputs": [],
   "source": [
    "results3 = all_data.groupby(\"City\").sum()[[\"Quantity Ordered\",\"Sales\"]]\n",
    "results3"
   ]
  },
  {
   "cell_type": "markdown",
   "id": "f19559f3",
   "metadata": {},
   "source": [
    "El método apply funcionará bien en tanto no se traten excesivas cantidades de datos"
   ]
  },
  {
   "cell_type": "code",
   "execution_count": null,
   "id": "677a345a",
   "metadata": {},
   "outputs": [],
   "source": [
    "def get_city(address):\n",
    "    return address.split(',')[1]\n",
    "\n",
    "def get_state(address):\n",
    "    return address.split(',')[2].split(' ')[1]\n",
    "\n",
    "all_data['City'] = all_data['Purchase Address'].apply(lambda x:f\"{get_city(x)} ({get_state(x)})\")\n",
    "all_data.head()"
   ]
  },
  {
   "cell_type": "code",
   "execution_count": null,
   "id": "9a3cbd45",
   "metadata": {
    "scrolled": true
   },
   "outputs": [],
   "source": [
    "results4 = all_data.groupby(\"City\").sum()[[\"Quantity Ordered\",\"Sales\"]]\n",
    "results4"
   ]
  },
  {
   "cell_type": "code",
   "execution_count": null,
   "id": "58ee85a9",
   "metadata": {
    "scrolled": true
   },
   "outputs": [],
   "source": [
    "# Este gráfico está errado por el orden de los ejes y las cantidades\n",
    "cities = all_data[\"City\"].unique()\n",
    "plt.bar(cities,results4[\"Sales\"])\n",
    "plt.xticks(cities, rotation = \"vertical\",size =8)\n",
    "plt.ylabel(\"Ventas en dólares\")\n",
    "plt.xlabel(\"Ciudad\")\n",
    "plt.show()"
   ]
  },
  {
   "cell_type": "markdown",
   "id": "265615b8",
   "metadata": {},
   "source": [
    "Como científicos de datos debemos preguntarnos por qué San Francisco tinen las ventas más altas... <br/>\n",
    "Pueden formularse varias hipótesis que viene de una segmentación de mercado: nivel de ingresos, ubicación, edad, etc."
   ]
  },
  {
   "cell_type": "code",
   "execution_count": null,
   "id": "429046fc",
   "metadata": {
    "scrolled": true
   },
   "outputs": [],
   "source": [
    "keys = [city for city, df in all_data2.groupby(['City'])]\n",
    "plt.bar(keys,all_data2.groupby(['City']).sum()['Sales'])\n",
    "plt.ylabel('Ingresos en USD ($)')\n",
    "plt.xlabel('Ciudad')\n",
    "plt.xticks(keys, rotation='vertical', size=8)\n",
    "plt.show()"
   ]
  },
  {
   "cell_type": "markdown",
   "id": "a3a4856d",
   "metadata": {},
   "source": [
    "### ¿Cuál es el mejor momento para desplegar avisos publicitarios de manera que se maximice la probabilidad de que un cliente pueda comprar un producto?"
   ]
  },
  {
   "cell_type": "code",
   "execution_count": null,
   "id": "b7c368df",
   "metadata": {
    "scrolled": true
   },
   "outputs": [],
   "source": [
    "all_data.head()"
   ]
  },
  {
   "cell_type": "code",
   "execution_count": null,
   "id": "47a54f5b",
   "metadata": {},
   "outputs": [],
   "source": [
    "all_data[\"Order Date\"] = pd.to_datetime(all_data[\"Order Date\"])"
   ]
  },
  {
   "cell_type": "code",
   "execution_count": null,
   "id": "77f81ce9",
   "metadata": {},
   "outputs": [],
   "source": [
    "all_data.head()"
   ]
  },
  {
   "cell_type": "code",
   "execution_count": null,
   "id": "6dd718e8",
   "metadata": {},
   "outputs": [],
   "source": [
    "all_data[\"Hour\"] = all_data[\"Order Date\"].dt.hour\n",
    "all_data[\"Minute\"] = all_data[\"Order Date\"].dt.minute\n",
    "all_data.head()"
   ]
  },
  {
   "cell_type": "code",
   "execution_count": null,
   "id": "55fc3565",
   "metadata": {},
   "outputs": [],
   "source": [
    "# Add hour column\n",
    "all_data['Hour'] = pd.to_datetime(all_data['Order Date']).dt.hour\n",
    "all_data['Minute'] = pd.to_datetime(all_data['Order Date']).dt.minute\n",
    "all_data['Count'] = 1\n",
    "all_data.head()"
   ]
  },
  {
   "cell_type": "code",
   "execution_count": null,
   "id": "1f232f08",
   "metadata": {},
   "outputs": [],
   "source": [
    "keys = [pair for pair, df in all_data.groupby(['Hour'])]\n",
    "\n",
    "plt.plot(keys, all_data.groupby(['Hour']).count()['Count'])\n",
    "plt.xticks(keys)\n",
    "plt.grid()\n",
    "plt.show()"
   ]
  },
  {
   "cell_type": "markdown",
   "id": "7e48e6d8",
   "metadata": {},
   "source": [
    "### ¿Qué productos se venden juntos usualmente?"
   ]
  },
  {
   "cell_type": "code",
   "execution_count": null,
   "id": "2ee30a0b",
   "metadata": {},
   "outputs": [],
   "source": [
    "all_data.head()"
   ]
  },
  {
   "cell_type": "code",
   "execution_count": null,
   "id": "b6ad6b3c",
   "metadata": {},
   "outputs": [],
   "source": [
    "df = all_data[all_data[\"Order ID\"].duplicated(keep = False)]\n",
    "\n",
    "df['Grouped'] = df.groupby('Order ID')['Product'].transform(lambda x: ','.join(x))\n",
    "\n",
    "df = df[['Order ID','Grouped']].drop_duplicates()\n",
    "\n",
    "df.head()"
   ]
  },
  {
   "cell_type": "code",
   "execution_count": null,
   "id": "db5ab3b8",
   "metadata": {},
   "outputs": [],
   "source": [
    "from itertools import combinations\n",
    "from collections import Counter\n",
    "\n",
    "count = Counter()\n",
    "\n",
    "for row in df['Grouped']:\n",
    "    row_list = row.split(',')\n",
    "    count.update(Counter(combinations(row_list,2)))\n",
    "\n",
    "for key,value in count.most_common(10):\n",
    "    print(key,value)"
   ]
  },
  {
   "cell_type": "markdown",
   "id": "7d4b99f8",
   "metadata": {},
   "source": [
    "### ¿Qué producto vendió más? ¿Por qué fue así?"
   ]
  },
  {
   "cell_type": "code",
   "execution_count": null,
   "id": "0bc79219",
   "metadata": {},
   "outputs": [],
   "source": [
    "all_data.head()"
   ]
  },
  {
   "cell_type": "code",
   "execution_count": null,
   "id": "b0f1220b",
   "metadata": {},
   "outputs": [],
   "source": [
    "product_group = all_data.groupby('Product')\n",
    "quantity_ordered = product_group.sum()['Quantity Ordered']\n",
    "\n",
    "keys = [pair for pair, df in product_group]\n",
    "plt.bar(keys, quantity_ordered)\n",
    "plt.xticks(keys, rotation='vertical', size=8)\n",
    "plt.show()"
   ]
  },
  {
   "cell_type": "code",
   "execution_count": null,
   "id": "ab8f154e",
   "metadata": {},
   "outputs": [],
   "source": [
    "prices = all_data.groupby('Product').mean()['Price Each']\n",
    "print(prices)"
   ]
  },
  {
   "cell_type": "code",
   "execution_count": null,
   "id": "7143e892",
   "metadata": {},
   "outputs": [],
   "source": [
    "# Referenced: https://stackoverflow.com/questions/14762181/adding-a-y-axis-label-to-secondary-y-axis-in-matplotlib\n",
    "\n",
    "prices = all_data.groupby('Product').mean()['Price Each']\n",
    "\n",
    "fig, ax1 = plt.subplots()\n",
    "\n",
    "ax2 = ax1.twinx()\n",
    "ax1.bar(keys, quantity_ordered, color='g')\n",
    "ax2.plot(keys, prices, color='b')\n",
    "\n",
    "ax1.set_xlabel('Product Name')\n",
    "ax1.set_ylabel('Quantity Ordered', color='g')\n",
    "ax2.set_ylabel('Price ($)', color='b')\n",
    "ax1.set_xticklabels(keys, rotation='vertical', size=8)\n",
    "\n",
    "fig.show()"
   ]
  }
 ],
 "metadata": {
  "kernelspec": {
   "display_name": "Python 3 (ipykernel)",
   "language": "python",
   "name": "python3"
  },
  "language_info": {
   "codemirror_mode": {
    "name": "ipython",
    "version": 3
   },
   "file_extension": ".py",
   "mimetype": "text/x-python",
   "name": "python",
   "nbconvert_exporter": "python",
   "pygments_lexer": "ipython3",
   "version": "3.10.4"
  },
  "toc": {
   "base_numbering": 1,
   "nav_menu": {},
   "number_sections": true,
   "sideBar": true,
   "skip_h1_title": true,
   "title_cell": "Table of Contents",
   "title_sidebar": "Contents",
   "toc_cell": false,
   "toc_position": {},
   "toc_section_display": true,
   "toc_window_display": false
  },
  "varInspector": {
   "cols": {
    "lenName": 16,
    "lenType": 16,
    "lenVar": 40
   },
   "kernels_config": {
    "python": {
     "delete_cmd_postfix": "",
     "delete_cmd_prefix": "del ",
     "library": "var_list.py",
     "varRefreshCmd": "print(var_dic_list())"
    },
    "r": {
     "delete_cmd_postfix": ") ",
     "delete_cmd_prefix": "rm(",
     "library": "var_list.r",
     "varRefreshCmd": "cat(var_dic_list()) "
    }
   },
   "types_to_exclude": [
    "module",
    "function",
    "builtin_function_or_method",
    "instance",
    "_Feature"
   ],
   "window_display": false
  }
 },
 "nbformat": 4,
 "nbformat_minor": 5
}
