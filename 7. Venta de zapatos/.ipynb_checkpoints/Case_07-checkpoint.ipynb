{
 "cells": [
  {
   "cell_type": "raw",
   "id": "1e227f14-9f99-4df9-8513-ebb4ade49105",
   "metadata": {},
   "source": [
    "---\n",
    "title: \"Venta de Zapatos\"\n",
    "author: Carlos Andrés Pérez Guzmán\n",
    "highlight-style: pygments\n",
    "format:\n",
    "  pdf:\n",
    "   papersize: letter\n",
    "   geometry: \"left=3cmcm,right=3cm,top=2cm,bottom=2cm\"\n",
    "   pagelayout: article\n",
    "   max-width: 1000px\n",
    "   \n",
    "---\n",
    "\n",
    "<!---\n",
    "argumento que pueden ir después de \"pdf:\"\n",
    "- documentclass : report, book, article (formato enfocado a un tipo de documento)\n",
    "- papersize: a4, paper, a5, letter (dimensiones de la hoja deseada)\n",
    "- geometry: margin=2cm (agrega un margen a todos los extremos de la hoja)\n",
    "\n",
    "-->"
   ]
  },
  {
   "cell_type": "markdown",
   "id": "bf18e551-5ad8-4e7b-9d0a-a7c80ef020af",
   "metadata": {},
   "source": [
    "## 1. Carga de librerías"
   ]
  },
  {
   "cell_type": "markdown",
   "id": "d324864b-993b-49e0-8140-f65be7cb99fc",
   "metadata": {},
   "source": [
    "Este es un texto de prueba"
   ]
  },
  {
   "cell_type": "code",
   "execution_count": 1,
   "id": "7dc0ee6b-a322-4a57-879c-c5daf5114e17",
   "metadata": {},
   "outputs": [],
   "source": [
    "# Librerías de trabajo y cálculo\n",
    "import pandas as pd, numpy as np\n",
    "\n",
    "# Cálculo de la moda\n",
    "from statistics import multimode\n",
    "\n",
    "# Gráficos\n",
    "import matplotlib.pyplot as plt, seaborn as sns\n",
    "\n",
    "# Resolución de gráficos\n",
    "plt.rcParams['figure.dpi'] = 90"
   ]
  },
  {
   "cell_type": "markdown",
   "id": "7052abca-c107-43c1-b2c3-ea6e26e44673",
   "metadata": {},
   "source": [
    "## 2. Carga de datos"
   ]
  },
  {
   "cell_type": "code",
   "execution_count": 4,
   "id": "f8838ccb-aa28-4923-821b-3a893b2094a6",
   "metadata": {},
   "outputs": [
    {
     "ename": "NameError",
     "evalue": "name 'options' is not defined",
     "output_type": "error",
     "traceback": [
      "\u001b[1;31m---------------------------------------------------------------------------\u001b[0m",
      "\u001b[1;31mNameError\u001b[0m                                 Traceback (most recent call last)",
      "Cell \u001b[1;32mIn[4], line 1\u001b[0m\n\u001b[1;32m----> 1\u001b[0m \u001b[43moptions\u001b[49m(width \u001b[38;5;241m=\u001b[39m \u001b[38;5;241m60\u001b[39m)\n\u001b[0;32m      2\u001b[0m df \u001b[38;5;241m=\u001b[39m pd\u001b[38;5;241m.\u001b[39mread_csv(filepath_or_buffer \u001b[38;5;241m=\u001b[39m \u001b[38;5;124m'\u001b[39m\u001b[38;5;124mzapatos.csv\u001b[39m\u001b[38;5;124m'\u001b[39m, sep \u001b[38;5;241m=\u001b[39m \u001b[38;5;124m'\u001b[39m\u001b[38;5;124m,\u001b[39m\u001b[38;5;124m'\u001b[39m, decimal \u001b[38;5;241m=\u001b[39m \u001b[38;5;124m'\u001b[39m\u001b[38;5;124m.\u001b[39m\u001b[38;5;124m'\u001b[39m, parse_dates \u001b[38;5;241m=\u001b[39m [\u001b[38;5;124m'\u001b[39m\u001b[38;5;124mDate\u001b[39m\u001b[38;5;124m'\u001b[39m])\n\u001b[0;32m      3\u001b[0m df\u001b[38;5;241m.\u001b[39mhead()\n",
      "\u001b[1;31mNameError\u001b[0m: name 'options' is not defined"
     ]
    }
   ],
   "source": [
    "options(width = 60)\n",
    "df = pd.read_csv(filepath_or_buffer = 'zapatos.csv', sep = ',', decimal = '.', parse_dates = ['Date'])\n",
    "df.head()"
   ]
  },
  {
   "cell_type": "code",
   "execution_count": null,
   "id": "60a3a32d-6ca7-41dc-a9fd-2f83daa9bab6",
   "metadata": {},
   "outputs": [],
   "source": []
  }
 ],
 "metadata": {
  "kernelspec": {
   "display_name": "Python 3 (ipykernel)",
   "language": "python",
   "name": "python3"
  },
  "language_info": {
   "codemirror_mode": {
    "name": "ipython",
    "version": 3
   },
   "file_extension": ".py",
   "mimetype": "text/x-python",
   "name": "python",
   "nbconvert_exporter": "python",
   "pygments_lexer": "ipython3",
   "version": "3.10.8"
  }
 },
 "nbformat": 4,
 "nbformat_minor": 5
}
