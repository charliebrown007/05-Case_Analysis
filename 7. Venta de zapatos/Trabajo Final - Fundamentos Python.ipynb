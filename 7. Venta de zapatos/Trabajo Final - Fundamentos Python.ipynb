{
 "cells": [
  {
   "cell_type": "markdown",
   "id": "faaa32eb-3fa9-48b8-9314-81ee3e9cd387",
   "metadata": {},
   "source": [
    "**Universidad Privada Boliviana**\n",
    "\n",
    "**Extensión Universitaria**\n",
    "\n",
    "**Experto en Análisis estadístico de datos con Python**\n",
    "\n",
    "**Docente: Mauro Delboy Ph.D(c)**\n",
    "\n",
    "## <div align=\"center\">Trabajo Final - Experto en análisis estadístico de datos con Python"
   ]
  },
  {
   "cell_type": "markdown",
   "id": "6c503801-44b2-40c4-8771-51e17decb356",
   "metadata": {},
   "source": [
    "GRUPO: **GPD**"
   ]
  },
  {
   "cell_type": "markdown",
   "id": "80492a26-92ac-4ccc-814d-8bc44dbecf95",
   "metadata": {},
   "source": [
    "*Integrantes:*\n",
    "- Carlos Andrés Pérez Guzmán\n",
    "- Gerson Flores\n",
    "- José Esponoza\n",
    "- Jhonny Mammani"
   ]
  },
  {
   "cell_type": "markdown",
   "id": "06a8dd25-85d1-4010-baea-044857d7434a",
   "metadata": {},
   "source": [
    "---"
   ]
  },
  {
   "cell_type": "markdown",
   "id": "f47722f8-e67a-4e16-800d-b475bfaabbfe",
   "metadata": {},
   "source": [
    "### 1. Librerías"
   ]
  },
  {
   "cell_type": "code",
   "execution_count": 42,
   "id": "9242e64b-fd3f-4e5b-90a2-a766805b2e19",
   "metadata": {},
   "outputs": [],
   "source": [
    "# Librerías de trabajo y cálculo\n",
    "import pandas as pd, numpy as np\n",
    "\n",
    "# Cálculo de la moda\n",
    "from statistics import multimode\n",
    "\n",
    "# Gráficos\n",
    "import matplotlib.pyplot as plt, seaborn as sns\n",
    "\n",
    "# Resolución de gráficos\n",
    "plt.rcParams['figure.dpi'] = 90"
   ]
  },
  {
   "cell_type": "markdown",
   "id": "05e79255-5a16-4d86-b1af-56a80b8e39d9",
   "metadata": {},
   "source": [
    "### 2. Carga de datos"
   ]
  },
  {
   "cell_type": "code",
   "execution_count": 2,
   "id": "10acedb6-2131-4a12-a8b1-c20153910348",
   "metadata": {},
   "outputs": [
    {
     "data": {
      "text/html": [
       "<div>\n",
       "<style scoped>\n",
       "    .dataframe tbody tr th:only-of-type {\n",
       "        vertical-align: middle;\n",
       "    }\n",
       "\n",
       "    .dataframe tbody tr th {\n",
       "        vertical-align: top;\n",
       "    }\n",
       "\n",
       "    .dataframe thead th {\n",
       "        text-align: right;\n",
       "    }\n",
       "</style>\n",
       "<table border=\"1\" class=\"dataframe\">\n",
       "  <thead>\n",
       "    <tr style=\"text-align: right;\">\n",
       "      <th></th>\n",
       "      <th>InvoiceNo</th>\n",
       "      <th>Date</th>\n",
       "      <th>Country</th>\n",
       "      <th>ProductID</th>\n",
       "      <th>Shop</th>\n",
       "      <th>Gender</th>\n",
       "      <th>Size (US)</th>\n",
       "      <th>Size (Europe)</th>\n",
       "      <th>Size (UK)</th>\n",
       "      <th>UnitPrice</th>\n",
       "      <th>Discount</th>\n",
       "      <th>SalePrice</th>\n",
       "    </tr>\n",
       "  </thead>\n",
       "  <tbody>\n",
       "    <tr>\n",
       "      <th>0</th>\n",
       "      <td>52389</td>\n",
       "      <td>2014-01-01</td>\n",
       "      <td>United Kingdom</td>\n",
       "      <td>2152</td>\n",
       "      <td>UK2</td>\n",
       "      <td>Male</td>\n",
       "      <td>11.0</td>\n",
       "      <td>44</td>\n",
       "      <td>10.5</td>\n",
       "      <td>$159.00</td>\n",
       "      <td>0%</td>\n",
       "      <td>$159.00</td>\n",
       "    </tr>\n",
       "    <tr>\n",
       "      <th>1</th>\n",
       "      <td>52390</td>\n",
       "      <td>2014-01-01</td>\n",
       "      <td>United States</td>\n",
       "      <td>2230</td>\n",
       "      <td>US15</td>\n",
       "      <td>Male</td>\n",
       "      <td>11.5</td>\n",
       "      <td>44-45</td>\n",
       "      <td>11.0</td>\n",
       "      <td>$199.00</td>\n",
       "      <td>20%</td>\n",
       "      <td>$159.20</td>\n",
       "    </tr>\n",
       "    <tr>\n",
       "      <th>2</th>\n",
       "      <td>52391</td>\n",
       "      <td>2014-01-01</td>\n",
       "      <td>Canada</td>\n",
       "      <td>2160</td>\n",
       "      <td>CAN7</td>\n",
       "      <td>Male</td>\n",
       "      <td>9.5</td>\n",
       "      <td>42-43</td>\n",
       "      <td>9.0</td>\n",
       "      <td>$149.00</td>\n",
       "      <td>20%</td>\n",
       "      <td>$119.20</td>\n",
       "    </tr>\n",
       "    <tr>\n",
       "      <th>3</th>\n",
       "      <td>52392</td>\n",
       "      <td>2014-01-01</td>\n",
       "      <td>United States</td>\n",
       "      <td>2234</td>\n",
       "      <td>US6</td>\n",
       "      <td>Female</td>\n",
       "      <td>9.5</td>\n",
       "      <td>40</td>\n",
       "      <td>7.5</td>\n",
       "      <td>$159.00</td>\n",
       "      <td>0%</td>\n",
       "      <td>$159.00</td>\n",
       "    </tr>\n",
       "    <tr>\n",
       "      <th>4</th>\n",
       "      <td>52393</td>\n",
       "      <td>2014-01-01</td>\n",
       "      <td>United Kingdom</td>\n",
       "      <td>2222</td>\n",
       "      <td>UK4</td>\n",
       "      <td>Female</td>\n",
       "      <td>9.0</td>\n",
       "      <td>39-40</td>\n",
       "      <td>7.0</td>\n",
       "      <td>$159.00</td>\n",
       "      <td>0%</td>\n",
       "      <td>$159.00</td>\n",
       "    </tr>\n",
       "  </tbody>\n",
       "</table>\n",
       "</div>"
      ],
      "text/plain": [
       "   InvoiceNo       Date         Country  ProductID  Shop  Gender  Size (US)  \\\n",
       "0      52389 2014-01-01  United Kingdom       2152   UK2    Male       11.0   \n",
       "1      52390 2014-01-01   United States       2230  US15    Male       11.5   \n",
       "2      52391 2014-01-01          Canada       2160  CAN7    Male        9.5   \n",
       "3      52392 2014-01-01   United States       2234   US6  Female        9.5   \n",
       "4      52393 2014-01-01  United Kingdom       2222   UK4  Female        9.0   \n",
       "\n",
       "  Size (Europe)  Size (UK)  UnitPrice Discount  SalePrice  \n",
       "0            44       10.5   $159.00        0%   $159.00   \n",
       "1         44-45       11.0   $199.00       20%   $159.20   \n",
       "2         42-43        9.0   $149.00       20%   $119.20   \n",
       "3            40        7.5   $159.00        0%   $159.00   \n",
       "4         39-40        7.0   $159.00        0%   $159.00   "
      ]
     },
     "execution_count": 2,
     "metadata": {},
     "output_type": "execute_result"
    }
   ],
   "source": [
    "df = pd.read_csv(filepath_or_buffer = 'Data/zapatos.csv', sep = ',', decimal = '.', parse_dates = ['Date'])\n",
    "df.head()"
   ]
  },
  {
   "cell_type": "markdown",
   "id": "40dad2bf-071c-4900-9551-153f3500b2e8",
   "metadata": {
    "tags": []
   },
   "source": [
    "### 3. Generalidades del origen de datos"
   ]
  },
  {
   "cell_type": "markdown",
   "id": "48edcd15-e859-418c-92c5-03b1dc76c3df",
   "metadata": {},
   "source": [
    "Existe un solo archivo de datos consolidado con 14967 registros y 12 variables bien definidas de tipo cualitativo y cuantitativo, las cuales no presentan valores faltantes (NaN). Bajo un vistazo general, las filas representan la venta de zapatos identificada por un número de factura. Las columnas definen las características y condiciones de dicha venta.\n",
    "\n",
    "Por otro lado, se debe observar y validar la integridad de los datos para asignar el tipo correcto de vairable."
   ]
  },
  {
   "cell_type": "code",
   "execution_count": 3,
   "id": "8925159a-d158-4f39-8cea-2a77a55342f1",
   "metadata": {},
   "outputs": [
    {
     "name": "stdout",
     "output_type": "stream",
     "text": [
      "<class 'pandas.core.frame.DataFrame'>\n",
      "RangeIndex: 14967 entries, 0 to 14966\n",
      "Data columns (total 12 columns):\n",
      " #   Column         Non-Null Count  Dtype         \n",
      "---  ------         --------------  -----         \n",
      " 0   InvoiceNo      14967 non-null  int64         \n",
      " 1   Date           14967 non-null  datetime64[ns]\n",
      " 2   Country        14967 non-null  object        \n",
      " 3   ProductID      14967 non-null  int64         \n",
      " 4   Shop           14967 non-null  object        \n",
      " 5   Gender         14967 non-null  object        \n",
      " 6   Size (US)      14967 non-null  float64       \n",
      " 7   Size (Europe)  14967 non-null  object        \n",
      " 8   Size (UK)      14967 non-null  float64       \n",
      " 9   UnitPrice      14967 non-null  object        \n",
      " 10  Discount       14967 non-null  object        \n",
      " 11  SalePrice      14967 non-null  object        \n",
      "dtypes: datetime64[ns](1), float64(2), int64(2), object(7)\n",
      "memory usage: 1.4+ MB\n"
     ]
    }
   ],
   "source": [
    "df.info()"
   ]
  },
  {
   "cell_type": "code",
   "execution_count": 4,
   "id": "8c98593c-c3f5-4ed4-8f02-bd03e2795af3",
   "metadata": {},
   "outputs": [
    {
     "data": {
      "text/plain": [
       "False"
      ]
     },
     "execution_count": 4,
     "metadata": {},
     "output_type": "execute_result"
    }
   ],
   "source": [
    "df.isnull().values.any()"
   ]
  },
  {
   "cell_type": "markdown",
   "id": "dd0178e6-7df2-4b9b-83dc-9baa8343be50",
   "metadata": {},
   "source": [
    "El número de factura no representa a una fila exclusivamente. Por ejemplo, existe una factura N° 62453 está presente en 5 filas del dataset. Esto quiere decir que cada fila representa la venta de un producto en cierto número de factura y según las características otorgadas por las demás variables. De esta manera, no se necesita de otro índice del que ya se dispone en el Dataframe."
   ]
  },
  {
   "cell_type": "code",
   "execution_count": 5,
   "id": "b538b65b-33f5-4239-8200-7061ec2bd97e",
   "metadata": {},
   "outputs": [
    {
     "data": {
      "text/plain": [
       "1    12025\n",
       "2     1181\n",
       "3      153\n",
       "4       29\n",
       "5        1\n",
       "Name: InvoiceNo, dtype: int64"
      ]
     },
     "execution_count": 5,
     "metadata": {},
     "output_type": "execute_result"
    }
   ],
   "source": [
    "df['InvoiceNo'].value_counts().value_counts()"
   ]
  },
  {
   "cell_type": "code",
   "execution_count": 6,
   "id": "445824b5-8668-4cc7-a158-d7c366adafc9",
   "metadata": {},
   "outputs": [
    {
     "data": {
      "text/plain": [
       "62453    5\n",
       "Name: InvoiceNo, dtype: int64"
      ]
     },
     "execution_count": 6,
     "metadata": {},
     "output_type": "execute_result"
    }
   ],
   "source": [
    "df['InvoiceNo'].value_counts().head(1)"
   ]
  },
  {
   "cell_type": "code",
   "execution_count": 7,
   "id": "64856eb9-1c37-475a-82a7-54a133bfdefe",
   "metadata": {},
   "outputs": [
    {
     "data": {
      "text/html": [
       "<div>\n",
       "<style scoped>\n",
       "    .dataframe tbody tr th:only-of-type {\n",
       "        vertical-align: middle;\n",
       "    }\n",
       "\n",
       "    .dataframe tbody tr th {\n",
       "        vertical-align: top;\n",
       "    }\n",
       "\n",
       "    .dataframe thead th {\n",
       "        text-align: right;\n",
       "    }\n",
       "</style>\n",
       "<table border=\"1\" class=\"dataframe\">\n",
       "  <thead>\n",
       "    <tr style=\"text-align: right;\">\n",
       "      <th></th>\n",
       "      <th>InvoiceNo</th>\n",
       "      <th>Date</th>\n",
       "      <th>Country</th>\n",
       "      <th>ProductID</th>\n",
       "      <th>Shop</th>\n",
       "      <th>Gender</th>\n",
       "      <th>Size (US)</th>\n",
       "      <th>Size (Europe)</th>\n",
       "      <th>Size (UK)</th>\n",
       "      <th>UnitPrice</th>\n",
       "      <th>Discount</th>\n",
       "      <th>SalePrice</th>\n",
       "    </tr>\n",
       "  </thead>\n",
       "  <tbody>\n",
       "    <tr>\n",
       "      <th>11247</th>\n",
       "      <td>62453</td>\n",
       "      <td>2016-07-05</td>\n",
       "      <td>United States</td>\n",
       "      <td>2218</td>\n",
       "      <td>US4</td>\n",
       "      <td>Male</td>\n",
       "      <td>10.5</td>\n",
       "      <td>43-44</td>\n",
       "      <td>10.0</td>\n",
       "      <td>$189.00</td>\n",
       "      <td>0%</td>\n",
       "      <td>$189.00</td>\n",
       "    </tr>\n",
       "    <tr>\n",
       "      <th>11248</th>\n",
       "      <td>62453</td>\n",
       "      <td>2016-07-05</td>\n",
       "      <td>United States</td>\n",
       "      <td>2222</td>\n",
       "      <td>US2</td>\n",
       "      <td>Male</td>\n",
       "      <td>8.5</td>\n",
       "      <td>41-42</td>\n",
       "      <td>8.0</td>\n",
       "      <td>$199.00</td>\n",
       "      <td>0%</td>\n",
       "      <td>$199.00</td>\n",
       "    </tr>\n",
       "    <tr>\n",
       "      <th>11249</th>\n",
       "      <td>62453</td>\n",
       "      <td>2016-07-05</td>\n",
       "      <td>United States</td>\n",
       "      <td>2181</td>\n",
       "      <td>US15</td>\n",
       "      <td>Male</td>\n",
       "      <td>11.5</td>\n",
       "      <td>44-45</td>\n",
       "      <td>11.0</td>\n",
       "      <td>$189.00</td>\n",
       "      <td>20%</td>\n",
       "      <td>$151.20</td>\n",
       "    </tr>\n",
       "    <tr>\n",
       "      <th>11250</th>\n",
       "      <td>62453</td>\n",
       "      <td>2016-07-05</td>\n",
       "      <td>United States</td>\n",
       "      <td>2151</td>\n",
       "      <td>US15</td>\n",
       "      <td>Female</td>\n",
       "      <td>8.5</td>\n",
       "      <td>39</td>\n",
       "      <td>6.5</td>\n",
       "      <td>$189.00</td>\n",
       "      <td>50%</td>\n",
       "      <td>$94.50</td>\n",
       "    </tr>\n",
       "    <tr>\n",
       "      <th>11251</th>\n",
       "      <td>62453</td>\n",
       "      <td>2016-07-05</td>\n",
       "      <td>United States</td>\n",
       "      <td>2183</td>\n",
       "      <td>US15</td>\n",
       "      <td>Female</td>\n",
       "      <td>8.5</td>\n",
       "      <td>39</td>\n",
       "      <td>6.5</td>\n",
       "      <td>$139.00</td>\n",
       "      <td>0%</td>\n",
       "      <td>$139.00</td>\n",
       "    </tr>\n",
       "  </tbody>\n",
       "</table>\n",
       "</div>"
      ],
      "text/plain": [
       "       InvoiceNo       Date        Country  ProductID  Shop  Gender  \\\n",
       "11247      62453 2016-07-05  United States       2218   US4    Male   \n",
       "11248      62453 2016-07-05  United States       2222   US2    Male   \n",
       "11249      62453 2016-07-05  United States       2181  US15    Male   \n",
       "11250      62453 2016-07-05  United States       2151  US15  Female   \n",
       "11251      62453 2016-07-05  United States       2183  US15  Female   \n",
       "\n",
       "       Size (US) Size (Europe)  Size (UK)  UnitPrice Discount  SalePrice  \n",
       "11247       10.5         43-44       10.0   $189.00        0%   $189.00   \n",
       "11248        8.5         41-42        8.0   $199.00        0%   $199.00   \n",
       "11249       11.5         44-45       11.0   $189.00       20%   $151.20   \n",
       "11250        8.5            39        6.5   $189.00       50%    $94.50   \n",
       "11251        8.5            39        6.5   $139.00        0%   $139.00   "
      ]
     },
     "execution_count": 7,
     "metadata": {},
     "output_type": "execute_result"
    }
   ],
   "source": [
    "df.loc[df['InvoiceNo'] == 62453]"
   ]
  },
  {
   "cell_type": "markdown",
   "id": "fe97029d-e457-45b4-b8b1-e0afa07bac56",
   "metadata": {},
   "source": [
    "### 4. Transformaciones preliminares"
   ]
  },
  {
   "cell_type": "code",
   "execution_count": 8,
   "id": "aa97d974-e858-4e02-bd3c-8992bf74742a",
   "metadata": {},
   "outputs": [],
   "source": [
    "df_01 = df.copy()"
   ]
  },
  {
   "cell_type": "code",
   "execution_count": 9,
   "id": "0c8ad1dc-26af-442c-ac56-0fd8b9ce6416",
   "metadata": {},
   "outputs": [
    {
     "data": {
      "text/plain": [
       "Index(['InvoiceNo', 'Date', 'Country', 'ProductID', 'Shop', 'Gender',\n",
       "       'Size (US)', 'Size (Europe)', 'Size (UK)', 'UnitPrice', 'Discount',\n",
       "       'SalePrice'],\n",
       "      dtype='object')"
      ]
     },
     "execution_count": 9,
     "metadata": {},
     "output_type": "execute_result"
    }
   ],
   "source": [
    "df_01.dtypes.index"
   ]
  },
  {
   "cell_type": "code",
   "execution_count": 10,
   "id": "cce59327-0323-4779-84e6-c8aadf031eed",
   "metadata": {
    "tags": []
   },
   "outputs": [
    {
     "name": "stdout",
     "output_type": "stream",
     "text": [
      "<class 'pandas.core.frame.DataFrame'>\n",
      "RangeIndex: 14967 entries, 0 to 14966\n",
      "Data columns (total 12 columns):\n",
      " #   Column         Non-Null Count  Dtype         \n",
      "---  ------         --------------  -----         \n",
      " 0   InvoiceNo      14967 non-null  int64         \n",
      " 1   Date           14967 non-null  datetime64[ns]\n",
      " 2   Country        14967 non-null  category      \n",
      " 3   ProductID      14967 non-null  int64         \n",
      " 4   Shop           14967 non-null  object        \n",
      " 5   Gender         14967 non-null  category      \n",
      " 6   Size (US)      14967 non-null  float64       \n",
      " 7   Size (Europe)  14967 non-null  object        \n",
      " 8   Size (UK)      14967 non-null  float64       \n",
      " 9   UnitPrice      14967 non-null  float64       \n",
      " 10  Discount       14967 non-null  int64         \n",
      " 11  SalePrice      14967 non-null  float64       \n",
      "dtypes: category(2), datetime64[ns](1), float64(4), int64(3), object(2)\n",
      "memory usage: 1.2+ MB\n",
      "False\n"
     ]
    }
   ],
   "source": [
    "# Eliminación de los caracteres '%' y '$'\n",
    "df_01.replace(to_replace = ['%','\\$'], value = '', regex = True, inplace = True)\n",
    "\n",
    "# Asignación de variables numéricas\n",
    "var = ['InvoiceNo','ProductID','Size (US)', 'Size (UK)', 'UnitPrice', 'Discount','SalePrice']\n",
    "df_01[var] = df_01[var].apply(pd.to_numeric, errors = 'coerce')\n",
    "\n",
    "# Asignación de variables cualitativas\n",
    "df_01 = df_01.astype({'Gender':'category','Country':'category'})\n",
    "\n",
    "df_01.info()\n",
    "print(df_01.isnull().values.any())"
   ]
  },
  {
   "cell_type": "markdown",
   "id": "5363f868-35f2-4c52-95af-f9a636dcdd69",
   "metadata": {},
   "source": [
    "### 5. Consignas de trabajo\n",
    "Ahora que los datos fueron revisados, se pueden ejecutar análisis y estraer información útil"
   ]
  },
  {
   "cell_type": "markdown",
   "id": "e1776dbb-f51d-47d2-98f2-c5ab33128f99",
   "metadata": {},
   "source": [
    "#### 5.1. Utilice la base de datos zapatos.csv y realice un análisis estadístico obteniendo media, mediana, moda y demás medidas de tendencia central y de dispersión."
   ]
  },
  {
   "cell_type": "code",
   "execution_count": 11,
   "id": "c4fd5c29-f86c-46f5-81e3-b7d472cc7131",
   "metadata": {},
   "outputs": [],
   "source": [
    "# Formato de visualización\n",
    "pd.options.display.float_format = '{:.2f}'.format\n",
    "\n",
    "# Regresar a los valroes por defecto\n",
    "#pd.reset_option('all', silent = True)"
   ]
  },
  {
   "cell_type": "markdown",
   "id": "7f6e94cb-e113-48a5-9df5-81421795da34",
   "metadata": {},
   "source": [
    "Análisis de vairables cuantitativas"
   ]
  },
  {
   "cell_type": "code",
   "execution_count": 43,
   "id": "aaa55cb7-b996-4e19-a85d-0daaa735417d",
   "metadata": {},
   "outputs": [
    {
     "data": {
      "text/html": [
       "<div>\n",
       "<style scoped>\n",
       "    .dataframe tbody tr th:only-of-type {\n",
       "        vertical-align: middle;\n",
       "    }\n",
       "\n",
       "    .dataframe tbody tr th {\n",
       "        vertical-align: top;\n",
       "    }\n",
       "\n",
       "    .dataframe thead th {\n",
       "        text-align: right;\n",
       "    }\n",
       "</style>\n",
       "<table border=\"1\" class=\"dataframe\">\n",
       "  <thead>\n",
       "    <tr style=\"text-align: right;\">\n",
       "      <th></th>\n",
       "      <th>Date</th>\n",
       "      <th>Size (US)</th>\n",
       "      <th>Size (UK)</th>\n",
       "      <th>UnitPrice</th>\n",
       "      <th>Discount</th>\n",
       "      <th>SalePrice</th>\n",
       "    </tr>\n",
       "  </thead>\n",
       "  <tbody>\n",
       "    <tr>\n",
       "      <th>count</th>\n",
       "      <td>14967</td>\n",
       "      <td>14967.00</td>\n",
       "      <td>14967.00</td>\n",
       "      <td>14967.00</td>\n",
       "      <td>14967.00</td>\n",
       "      <td>14967.00</td>\n",
       "    </tr>\n",
       "    <tr>\n",
       "      <th>mean</th>\n",
       "      <td>2015-10-27 21:36:04.040889600</td>\n",
       "      <td>9.20</td>\n",
       "      <td>8.09</td>\n",
       "      <td>164.17</td>\n",
       "      <td>12.40</td>\n",
       "      <td>143.99</td>\n",
       "    </tr>\n",
       "    <tr>\n",
       "      <th>min</th>\n",
       "      <td>2014-01-01 00:00:00</td>\n",
       "      <td>4.50</td>\n",
       "      <td>2.50</td>\n",
       "      <td>129.00</td>\n",
       "      <td>0.00</td>\n",
       "      <td>64.50</td>\n",
       "    </tr>\n",
       "    <tr>\n",
       "      <th>25%</th>\n",
       "      <td>2015-04-05 00:00:00</td>\n",
       "      <td>8.00</td>\n",
       "      <td>6.50</td>\n",
       "      <td>149.00</td>\n",
       "      <td>0.00</td>\n",
       "      <td>125.10</td>\n",
       "    </tr>\n",
       "    <tr>\n",
       "      <th>50%</th>\n",
       "      <td>2015-12-22 00:00:00</td>\n",
       "      <td>9.00</td>\n",
       "      <td>8.50</td>\n",
       "      <td>159.00</td>\n",
       "      <td>0.00</td>\n",
       "      <td>149.00</td>\n",
       "    </tr>\n",
       "    <tr>\n",
       "      <th>75%</th>\n",
       "      <td>2016-07-04 00:00:00</td>\n",
       "      <td>10.00</td>\n",
       "      <td>9.50</td>\n",
       "      <td>179.00</td>\n",
       "      <td>20.00</td>\n",
       "      <td>169.00</td>\n",
       "    </tr>\n",
       "    <tr>\n",
       "      <th>max</th>\n",
       "      <td>2016-12-31 00:00:00</td>\n",
       "      <td>15.00</td>\n",
       "      <td>14.50</td>\n",
       "      <td>199.00</td>\n",
       "      <td>50.00</td>\n",
       "      <td>199.00</td>\n",
       "    </tr>\n",
       "    <tr>\n",
       "      <th>std</th>\n",
       "      <td>NaN</td>\n",
       "      <td>1.51</td>\n",
       "      <td>1.97</td>\n",
       "      <td>22.94</td>\n",
       "      <td>17.01</td>\n",
       "      <td>35.18</td>\n",
       "    </tr>\n",
       "  </tbody>\n",
       "</table>\n",
       "</div>"
      ],
      "text/plain": [
       "                                Date  Size (US)  Size (UK)  UnitPrice  \\\n",
       "count                          14967   14967.00   14967.00   14967.00   \n",
       "mean   2015-10-27 21:36:04.040889600       9.20       8.09     164.17   \n",
       "min              2014-01-01 00:00:00       4.50       2.50     129.00   \n",
       "25%              2015-04-05 00:00:00       8.00       6.50     149.00   \n",
       "50%              2015-12-22 00:00:00       9.00       8.50     159.00   \n",
       "75%              2016-07-04 00:00:00      10.00       9.50     179.00   \n",
       "max              2016-12-31 00:00:00      15.00      14.50     199.00   \n",
       "std                              NaN       1.51       1.97      22.94   \n",
       "\n",
       "       Discount  SalePrice  \n",
       "count  14967.00   14967.00  \n",
       "mean      12.40     143.99  \n",
       "min        0.00      64.50  \n",
       "25%        0.00     125.10  \n",
       "50%        0.00     149.00  \n",
       "75%       20.00     169.00  \n",
       "max       50.00     199.00  \n",
       "std       17.01      35.18  "
      ]
     },
     "execution_count": 43,
     "metadata": {},
     "output_type": "execute_result"
    }
   ],
   "source": [
    "df_01[['Date','Size (US)','Size (UK)','UnitPrice','Discount','SalePrice']].describe(datetime_is_numeric = True)"
   ]
  },
  {
   "cell_type": "markdown",
   "id": "0764238f-f347-4604-bfca-8383d7683460",
   "metadata": {},
   "source": [
    "Análisis de variables cualitativas"
   ]
  },
  {
   "cell_type": "code",
   "execution_count": 13,
   "id": "4a29662b-532f-46ce-97ad-23db727e7482",
   "metadata": {},
   "outputs": [
    {
     "data": {
      "text/html": [
       "<div>\n",
       "<style scoped>\n",
       "    .dataframe tbody tr th:only-of-type {\n",
       "        vertical-align: middle;\n",
       "    }\n",
       "\n",
       "    .dataframe tbody tr th {\n",
       "        vertical-align: top;\n",
       "    }\n",
       "\n",
       "    .dataframe thead th {\n",
       "        text-align: right;\n",
       "    }\n",
       "</style>\n",
       "<table border=\"1\" class=\"dataframe\">\n",
       "  <thead>\n",
       "    <tr style=\"text-align: right;\">\n",
       "      <th></th>\n",
       "      <th>Country</th>\n",
       "      <th>Shop</th>\n",
       "      <th>Gender</th>\n",
       "      <th>Size (Europe)</th>\n",
       "    </tr>\n",
       "  </thead>\n",
       "  <tbody>\n",
       "    <tr>\n",
       "      <th>count</th>\n",
       "      <td>14967</td>\n",
       "      <td>14967</td>\n",
       "      <td>14967</td>\n",
       "      <td>14967</td>\n",
       "    </tr>\n",
       "    <tr>\n",
       "      <th>unique</th>\n",
       "      <td>4</td>\n",
       "      <td>29</td>\n",
       "      <td>2</td>\n",
       "      <td>24</td>\n",
       "    </tr>\n",
       "    <tr>\n",
       "      <th>top</th>\n",
       "      <td>United States</td>\n",
       "      <td>GER2</td>\n",
       "      <td>Male</td>\n",
       "      <td>42-43</td>\n",
       "    </tr>\n",
       "    <tr>\n",
       "      <th>freq</th>\n",
       "      <td>5886</td>\n",
       "      <td>1947</td>\n",
       "      <td>8919</td>\n",
       "      <td>1968</td>\n",
       "    </tr>\n",
       "  </tbody>\n",
       "</table>\n",
       "</div>"
      ],
      "text/plain": [
       "              Country   Shop Gender Size (Europe)\n",
       "count           14967  14967  14967         14967\n",
       "unique              4     29      2            24\n",
       "top     United States   GER2   Male         42-43\n",
       "freq             5886   1947   8919          1968"
      ]
     },
     "execution_count": 13,
     "metadata": {},
     "output_type": "execute_result"
    }
   ],
   "source": [
    "df_01.describe(exclude = ['float64','int64','datetime64[ns]'])"
   ]
  },
  {
   "cell_type": "markdown",
   "id": "b7067942-b377-430a-a635-089d8f038af4",
   "metadata": {},
   "source": [
    "Análisis de modas en el Dataset"
   ]
  },
  {
   "cell_type": "code",
   "execution_count": 14,
   "id": "412954dd-a7e3-4d31-b64f-f18803c21078",
   "metadata": {},
   "outputs": [
    {
     "data": {
      "text/html": [
       "<div>\n",
       "<style scoped>\n",
       "    .dataframe tbody tr th:only-of-type {\n",
       "        vertical-align: middle;\n",
       "    }\n",
       "\n",
       "    .dataframe tbody tr th {\n",
       "        vertical-align: top;\n",
       "    }\n",
       "\n",
       "    .dataframe thead th {\n",
       "        text-align: right;\n",
       "    }\n",
       "</style>\n",
       "<table border=\"1\" class=\"dataframe\">\n",
       "  <thead>\n",
       "    <tr style=\"text-align: right;\">\n",
       "      <th></th>\n",
       "      <th>InvoiceNo</th>\n",
       "      <th>Date</th>\n",
       "      <th>Country</th>\n",
       "      <th>ProductID</th>\n",
       "      <th>Shop</th>\n",
       "      <th>Gender</th>\n",
       "      <th>Size (US)</th>\n",
       "      <th>Size (Europe)</th>\n",
       "      <th>Size (UK)</th>\n",
       "      <th>UnitPrice</th>\n",
       "      <th>Discount</th>\n",
       "      <th>SalePrice</th>\n",
       "    </tr>\n",
       "  </thead>\n",
       "  <tbody>\n",
       "    <tr>\n",
       "      <th>0</th>\n",
       "      <td>62453</td>\n",
       "      <td>2016-10-18</td>\n",
       "      <td>United States</td>\n",
       "      <td>2190</td>\n",
       "      <td>GER2</td>\n",
       "      <td>Male</td>\n",
       "      <td>9.50</td>\n",
       "      <td>42-43</td>\n",
       "      <td>9.00</td>\n",
       "      <td>199.00</td>\n",
       "      <td>0</td>\n",
       "      <td>199.00</td>\n",
       "    </tr>\n",
       "  </tbody>\n",
       "</table>\n",
       "</div>"
      ],
      "text/plain": [
       "   InvoiceNo       Date        Country  ProductID  Shop Gender  Size (US)  \\\n",
       "0      62453 2016-10-18  United States       2190  GER2   Male       9.50   \n",
       "\n",
       "  Size (Europe)  Size (UK)  UnitPrice  Discount  SalePrice  \n",
       "0         42-43       9.00     199.00         0     199.00  "
      ]
     },
     "execution_count": 14,
     "metadata": {},
     "output_type": "execute_result"
    }
   ],
   "source": [
    "df_01.apply(multimode)"
   ]
  },
  {
   "cell_type": "markdown",
   "id": "95b27602-d45a-4a27-a0c7-94a0ca2a69b0",
   "metadata": {},
   "source": [
    "#### 5.2. Genere una variable llamada \"Dif_Price\" que muestre la diferencia entre el precio de venta (SalePrice) y el precio unitario (UnitPrice)."
   ]
  },
  {
   "cell_type": "code",
   "execution_count": 15,
   "id": "a4af8f63-3b6c-4873-873e-caa7633442af",
   "metadata": {},
   "outputs": [
    {
     "data": {
      "text/html": [
       "<div>\n",
       "<style scoped>\n",
       "    .dataframe tbody tr th:only-of-type {\n",
       "        vertical-align: middle;\n",
       "    }\n",
       "\n",
       "    .dataframe tbody tr th {\n",
       "        vertical-align: top;\n",
       "    }\n",
       "\n",
       "    .dataframe thead th {\n",
       "        text-align: right;\n",
       "    }\n",
       "</style>\n",
       "<table border=\"1\" class=\"dataframe\">\n",
       "  <thead>\n",
       "    <tr style=\"text-align: right;\">\n",
       "      <th></th>\n",
       "      <th>InvoiceNo</th>\n",
       "      <th>Date</th>\n",
       "      <th>Country</th>\n",
       "      <th>ProductID</th>\n",
       "      <th>Shop</th>\n",
       "      <th>Gender</th>\n",
       "      <th>Size (US)</th>\n",
       "      <th>Size (Europe)</th>\n",
       "      <th>Size (UK)</th>\n",
       "      <th>UnitPrice</th>\n",
       "      <th>Discount</th>\n",
       "      <th>SalePrice</th>\n",
       "      <th>Dif_Price</th>\n",
       "    </tr>\n",
       "  </thead>\n",
       "  <tbody>\n",
       "    <tr>\n",
       "      <th>0</th>\n",
       "      <td>52389</td>\n",
       "      <td>2014-01-01</td>\n",
       "      <td>United Kingdom</td>\n",
       "      <td>2152</td>\n",
       "      <td>UK2</td>\n",
       "      <td>Male</td>\n",
       "      <td>11.00</td>\n",
       "      <td>44</td>\n",
       "      <td>10.50</td>\n",
       "      <td>159.00</td>\n",
       "      <td>0</td>\n",
       "      <td>159.00</td>\n",
       "      <td>0.00</td>\n",
       "    </tr>\n",
       "    <tr>\n",
       "      <th>1</th>\n",
       "      <td>52390</td>\n",
       "      <td>2014-01-01</td>\n",
       "      <td>United States</td>\n",
       "      <td>2230</td>\n",
       "      <td>US15</td>\n",
       "      <td>Male</td>\n",
       "      <td>11.50</td>\n",
       "      <td>44-45</td>\n",
       "      <td>11.00</td>\n",
       "      <td>199.00</td>\n",
       "      <td>20</td>\n",
       "      <td>159.20</td>\n",
       "      <td>-39.80</td>\n",
       "    </tr>\n",
       "    <tr>\n",
       "      <th>2</th>\n",
       "      <td>52391</td>\n",
       "      <td>2014-01-01</td>\n",
       "      <td>Canada</td>\n",
       "      <td>2160</td>\n",
       "      <td>CAN7</td>\n",
       "      <td>Male</td>\n",
       "      <td>9.50</td>\n",
       "      <td>42-43</td>\n",
       "      <td>9.00</td>\n",
       "      <td>149.00</td>\n",
       "      <td>20</td>\n",
       "      <td>119.20</td>\n",
       "      <td>-29.80</td>\n",
       "    </tr>\n",
       "    <tr>\n",
       "      <th>3</th>\n",
       "      <td>52392</td>\n",
       "      <td>2014-01-01</td>\n",
       "      <td>United States</td>\n",
       "      <td>2234</td>\n",
       "      <td>US6</td>\n",
       "      <td>Female</td>\n",
       "      <td>9.50</td>\n",
       "      <td>40</td>\n",
       "      <td>7.50</td>\n",
       "      <td>159.00</td>\n",
       "      <td>0</td>\n",
       "      <td>159.00</td>\n",
       "      <td>0.00</td>\n",
       "    </tr>\n",
       "    <tr>\n",
       "      <th>4</th>\n",
       "      <td>52393</td>\n",
       "      <td>2014-01-01</td>\n",
       "      <td>United Kingdom</td>\n",
       "      <td>2222</td>\n",
       "      <td>UK4</td>\n",
       "      <td>Female</td>\n",
       "      <td>9.00</td>\n",
       "      <td>39-40</td>\n",
       "      <td>7.00</td>\n",
       "      <td>159.00</td>\n",
       "      <td>0</td>\n",
       "      <td>159.00</td>\n",
       "      <td>0.00</td>\n",
       "    </tr>\n",
       "  </tbody>\n",
       "</table>\n",
       "</div>"
      ],
      "text/plain": [
       "   InvoiceNo       Date         Country  ProductID  Shop  Gender  Size (US)  \\\n",
       "0      52389 2014-01-01  United Kingdom       2152   UK2    Male      11.00   \n",
       "1      52390 2014-01-01   United States       2230  US15    Male      11.50   \n",
       "2      52391 2014-01-01          Canada       2160  CAN7    Male       9.50   \n",
       "3      52392 2014-01-01   United States       2234   US6  Female       9.50   \n",
       "4      52393 2014-01-01  United Kingdom       2222   UK4  Female       9.00   \n",
       "\n",
       "  Size (Europe)  Size (UK)  UnitPrice  Discount  SalePrice  Dif_Price  \n",
       "0            44      10.50     159.00         0     159.00       0.00  \n",
       "1         44-45      11.00     199.00        20     159.20     -39.80  \n",
       "2         42-43       9.00     149.00        20     119.20     -29.80  \n",
       "3            40       7.50     159.00         0     159.00       0.00  \n",
       "4         39-40       7.00     159.00         0     159.00       0.00  "
      ]
     },
     "execution_count": 15,
     "metadata": {},
     "output_type": "execute_result"
    }
   ],
   "source": [
    "df_01['Dif_Price'] = df_01['SalePrice'] - df_01['UnitPrice']\n",
    "df_01.head()"
   ]
  },
  {
   "cell_type": "markdown",
   "id": "0766080e-aeba-4015-b2aa-756fcd2b7f40",
   "metadata": {},
   "source": [
    "#### 5.3. Si un zapato de talla 9 en Estados Unidos (SizeUS=9.0), equivale a un zapato talla 40 en Latinoamérica, genere una columna llamada Size(LATAM) que muestre la talla de zapatos en Latinoamérica."
   ]
  },
  {
   "cell_type": "markdown",
   "id": "831ec02c-21c6-4522-b6b4-be06f20b55da",
   "metadata": {},
   "source": [
    "Se asume que el cambio de talla en un zapato es lineal, por tanto la operación que contendrá la columna \"Size(LATAM)\" será:\n",
    "\n",
    "$$\\text{Size (LATAM)} =  \\text{Size (US)} \\cdot \\frac{40}{9}$$"
   ]
  },
  {
   "cell_type": "code",
   "execution_count": 16,
   "id": "60017c43-ca61-4767-8aa3-a5582b61fb1d",
   "metadata": {},
   "outputs": [
    {
     "data": {
      "text/html": [
       "<div>\n",
       "<style scoped>\n",
       "    .dataframe tbody tr th:only-of-type {\n",
       "        vertical-align: middle;\n",
       "    }\n",
       "\n",
       "    .dataframe tbody tr th {\n",
       "        vertical-align: top;\n",
       "    }\n",
       "\n",
       "    .dataframe thead th {\n",
       "        text-align: right;\n",
       "    }\n",
       "</style>\n",
       "<table border=\"1\" class=\"dataframe\">\n",
       "  <thead>\n",
       "    <tr style=\"text-align: right;\">\n",
       "      <th></th>\n",
       "      <th>InvoiceNo</th>\n",
       "      <th>Date</th>\n",
       "      <th>Country</th>\n",
       "      <th>ProductID</th>\n",
       "      <th>Shop</th>\n",
       "      <th>Gender</th>\n",
       "      <th>Size (US)</th>\n",
       "      <th>Size(LATAM)</th>\n",
       "      <th>Size (Europe)</th>\n",
       "      <th>Size (UK)</th>\n",
       "      <th>UnitPrice</th>\n",
       "      <th>Discount</th>\n",
       "      <th>SalePrice</th>\n",
       "      <th>Dif_Price</th>\n",
       "    </tr>\n",
       "  </thead>\n",
       "  <tbody>\n",
       "    <tr>\n",
       "      <th>0</th>\n",
       "      <td>52389</td>\n",
       "      <td>2014-01-01</td>\n",
       "      <td>United Kingdom</td>\n",
       "      <td>2152</td>\n",
       "      <td>UK2</td>\n",
       "      <td>Male</td>\n",
       "      <td>11.00</td>\n",
       "      <td>48.89</td>\n",
       "      <td>44</td>\n",
       "      <td>10.50</td>\n",
       "      <td>159.00</td>\n",
       "      <td>0</td>\n",
       "      <td>159.00</td>\n",
       "      <td>0.00</td>\n",
       "    </tr>\n",
       "    <tr>\n",
       "      <th>1</th>\n",
       "      <td>52390</td>\n",
       "      <td>2014-01-01</td>\n",
       "      <td>United States</td>\n",
       "      <td>2230</td>\n",
       "      <td>US15</td>\n",
       "      <td>Male</td>\n",
       "      <td>11.50</td>\n",
       "      <td>51.11</td>\n",
       "      <td>44-45</td>\n",
       "      <td>11.00</td>\n",
       "      <td>199.00</td>\n",
       "      <td>20</td>\n",
       "      <td>159.20</td>\n",
       "      <td>-39.80</td>\n",
       "    </tr>\n",
       "    <tr>\n",
       "      <th>2</th>\n",
       "      <td>52391</td>\n",
       "      <td>2014-01-01</td>\n",
       "      <td>Canada</td>\n",
       "      <td>2160</td>\n",
       "      <td>CAN7</td>\n",
       "      <td>Male</td>\n",
       "      <td>9.50</td>\n",
       "      <td>42.22</td>\n",
       "      <td>42-43</td>\n",
       "      <td>9.00</td>\n",
       "      <td>149.00</td>\n",
       "      <td>20</td>\n",
       "      <td>119.20</td>\n",
       "      <td>-29.80</td>\n",
       "    </tr>\n",
       "    <tr>\n",
       "      <th>3</th>\n",
       "      <td>52392</td>\n",
       "      <td>2014-01-01</td>\n",
       "      <td>United States</td>\n",
       "      <td>2234</td>\n",
       "      <td>US6</td>\n",
       "      <td>Female</td>\n",
       "      <td>9.50</td>\n",
       "      <td>42.22</td>\n",
       "      <td>40</td>\n",
       "      <td>7.50</td>\n",
       "      <td>159.00</td>\n",
       "      <td>0</td>\n",
       "      <td>159.00</td>\n",
       "      <td>0.00</td>\n",
       "    </tr>\n",
       "    <tr>\n",
       "      <th>4</th>\n",
       "      <td>52393</td>\n",
       "      <td>2014-01-01</td>\n",
       "      <td>United Kingdom</td>\n",
       "      <td>2222</td>\n",
       "      <td>UK4</td>\n",
       "      <td>Female</td>\n",
       "      <td>9.00</td>\n",
       "      <td>40.00</td>\n",
       "      <td>39-40</td>\n",
       "      <td>7.00</td>\n",
       "      <td>159.00</td>\n",
       "      <td>0</td>\n",
       "      <td>159.00</td>\n",
       "      <td>0.00</td>\n",
       "    </tr>\n",
       "  </tbody>\n",
       "</table>\n",
       "</div>"
      ],
      "text/plain": [
       "   InvoiceNo       Date         Country  ProductID  Shop  Gender  Size (US)  \\\n",
       "0      52389 2014-01-01  United Kingdom       2152   UK2    Male      11.00   \n",
       "1      52390 2014-01-01   United States       2230  US15    Male      11.50   \n",
       "2      52391 2014-01-01          Canada       2160  CAN7    Male       9.50   \n",
       "3      52392 2014-01-01   United States       2234   US6  Female       9.50   \n",
       "4      52393 2014-01-01  United Kingdom       2222   UK4  Female       9.00   \n",
       "\n",
       "   Size(LATAM) Size (Europe)  Size (UK)  UnitPrice  Discount  SalePrice  \\\n",
       "0        48.89            44      10.50     159.00         0     159.00   \n",
       "1        51.11         44-45      11.00     199.00        20     159.20   \n",
       "2        42.22         42-43       9.00     149.00        20     119.20   \n",
       "3        42.22            40       7.50     159.00         0     159.00   \n",
       "4        40.00         39-40       7.00     159.00         0     159.00   \n",
       "\n",
       "   Dif_Price  \n",
       "0       0.00  \n",
       "1     -39.80  \n",
       "2     -29.80  \n",
       "3       0.00  \n",
       "4       0.00  "
      ]
     },
     "execution_count": 16,
     "metadata": {},
     "output_type": "execute_result"
    }
   ],
   "source": [
    "df_01.insert(loc = 7, column = 'Size(LATAM)', value = df_01['Size (US)'] * (40/9))\n",
    "df_01.head()"
   ]
  },
  {
   "cell_type": "markdown",
   "id": "7ba58c96-b945-45b7-a163-63d5a30ef022",
   "metadata": {},
   "source": [
    "#### 5.4. Realice un análisis de visualización de datos de la base zapatos.csv, utilizando todas las gráficas vistas en clase. Es importante que realice la interpretación de cada uno de estos gráficos"
   ]
  },
  {
   "cell_type": "markdown",
   "id": "bd3b5554-1d2a-4b9c-b557-0067fb4c7a69",
   "metadata": {},
   "source": [
    "Las características de los datos muestran que la información se venera a partir de una venta. Por lo cual las variables de agregación serán aquellas dependientes del precio, el descuento y el tipo de producto. "
   ]
  },
  {
   "cell_type": "markdown",
   "id": "a887af94-e6bd-4524-80a1-5026135d9a6b",
   "metadata": {},
   "source": [
    "##### a) Facturas con más registros de productos"
   ]
  },
  {
   "cell_type": "markdown",
   "id": "ba821c2a-fd51-4574-8bcf-3e6d2cdaf5dd",
   "metadata": {},
   "source": [
    "La cantidad de productos adquiridos por venta (factura) se caracteriza por incluir un solo para de zapatos. Los casos que incluyen más productos por factura son muy poco frecuentes. "
   ]
  },
  {
   "cell_type": "code",
   "execution_count": 17,
   "id": "2a7c0057-0c14-4e12-a096-43fc6168d776",
   "metadata": {},
   "outputs": [
    {
     "data": {
      "image/png": "[encoded data removed]",
      "text/plain": [
       "<Figure size 576x432 with 1 Axes>"
      ]
     },
     "metadata": {},
     "output_type": "display_data"
    }
   ],
   "source": [
    "sns.set_theme(style = 'ticks',palette = 'tab20c', font = 'Arial')\n",
    "\n",
    "aux_a = df_01['InvoiceNo'].value_counts().value_counts()\n",
    "\n",
    "sns.barplot(x = aux_a.index, y = aux_a.values)\n",
    "plt.title(label = 'Productos vendidos por factura', loc = 'left', size = 12, fontstyle = 'italic', fontweight = 'bold')\n",
    "plt.xlabel(xlabel = 'Unidades vendidas', size = 12)\n",
    "plt.ylabel(ylabel = 'Cantidad de Facturas', size = 12)\n",
    "sns.despine(offset = 5, trim = False, bottom = False)"
   ]
  },
  {
   "cell_type": "code",
   "execution_count": 18,
   "id": "e41d8927-7837-4503-96de-035b606e9a5f",
   "metadata": {},
   "outputs": [
    {
     "data": {
      "text/plain": [
       "1    12025\n",
       "2     1181\n",
       "3      153\n",
       "4       29\n",
       "5        1\n",
       "Name: InvoiceNo, dtype: int64"
      ]
     },
     "execution_count": 18,
     "metadata": {},
     "output_type": "execute_result"
    }
   ],
   "source": [
    "aux_a"
   ]
  },
  {
   "cell_type": "markdown",
   "id": "14fdbf27-6dd8-40e7-841c-a1098174d42d",
   "metadata": {},
   "source": [
    "##### b) Ventas por país"
   ]
  },
  {
   "cell_type": "markdown",
   "id": "c33a30d2-99a6-4919-8bd8-23e6ce5b0fbd",
   "metadata": {},
   "source": [
    "EEUU es el país que reporta más ingresos por calzados con un 39%, seguido por Alemania, luego Canadá, y, en último lugar con un 12%, El Reino Unido"
   ]
  },
  {
   "cell_type": "code",
   "execution_count": 19,
   "id": "77683735-2b15-41ca-97b0-f1908130f68a",
   "metadata": {},
   "outputs": [
    {
     "data": {
      "image/png": "[encoded data removed]",
      "text/plain": [
       "<Figure size 576x432 with 1 Axes>"
      ]
     },
     "metadata": {},
     "output_type": "display_data"
    }
   ],
   "source": [
    "plt.title(label = 'Proporción de ingresos por país', loc = 'left', size = 12, fontstyle = 'italic', fontweight = 'bold')\n",
    "aux_b = df_01.groupby(by = ['Country']).sum(numeric_only = True)['SalePrice']\n",
    "plt.pie(aux_b.values, labels = aux_b.index, autopct = '%.0f%%')\n",
    "plt.show()"
   ]
  },
  {
   "cell_type": "markdown",
   "id": "1e829b91-b3a7-4e66-bcd4-db9f18a31fc8",
   "metadata": {},
   "source": [
    "Se puede notar que los zapatos de hombres proporcionan un ingreso más alto respecto que los de mujeres. Asimismo, los ingresos en EEUU y Alemnaia son las más altos independientemente del género."
   ]
  },
  {
   "cell_type": "code",
   "execution_count": 20,
   "id": "507ed09e-50a9-49ae-9c5a-4a0f3a6f3a6e",
   "metadata": {},
   "outputs": [
    {
     "data": {
      "image/png": "[encoded data removed]",
      "text/plain": [
       "<Figure size 900x450 with 2 Axes>"
      ]
     },
     "metadata": {},
     "output_type": "display_data"
    }
   ],
   "source": [
    "sns.set_theme(style = 'ticks',palette = 'GnBu_r', font = 'Arial')\n",
    "\n",
    "bar_order = df_01['Country'].value_counts(ascending = False).index.tolist()\n",
    "\n",
    "g = sns.catplot(data = df_01, x = 'Country', y = 'SalePrice', order = bar_order,\n",
    "            kind = 'bar', estimator = 'sum', col = 'Gender',\n",
    "            errorbar = None)\n",
    "g.set_axis_labels(x_var = '', y_var = 'Ingresos [$]')\n",
    "g.set_titles('{col_name}')\n",
    "\n",
    "plt.suptitle(t = 'Ingresos por país y género', y = 1.05, x = 0.15,\n",
    "             fontstyle = 'italic', fontweight = 'bold', size = 12)\n",
    "\n",
    "sns.despine(offset = 5, trim = False, bottom = False)"
   ]
  },
  {
   "cell_type": "code",
   "execution_count": 21,
   "id": "c36db3f1-ef58-463c-8e73-2fdcc8975f90",
   "metadata": {},
   "outputs": [
    {
     "data": {
      "text/html": [
       "<div>\n",
       "<style scoped>\n",
       "    .dataframe tbody tr th:only-of-type {\n",
       "        vertical-align: middle;\n",
       "    }\n",
       "\n",
       "    .dataframe tbody tr th {\n",
       "        vertical-align: top;\n",
       "    }\n",
       "\n",
       "    .dataframe thead th {\n",
       "        text-align: right;\n",
       "    }\n",
       "</style>\n",
       "<table border=\"1\" class=\"dataframe\">\n",
       "  <thead>\n",
       "    <tr style=\"text-align: right;\">\n",
       "      <th></th>\n",
       "      <th>Country</th>\n",
       "      <th>Gender</th>\n",
       "      <th>Ingresos</th>\n",
       "    </tr>\n",
       "  </thead>\n",
       "  <tbody>\n",
       "    <tr>\n",
       "      <th>7</th>\n",
       "      <td>United States</td>\n",
       "      <td>Male</td>\n",
       "      <td>486305.40</td>\n",
       "    </tr>\n",
       "    <tr>\n",
       "      <th>6</th>\n",
       "      <td>United States</td>\n",
       "      <td>Female</td>\n",
       "      <td>359674.20</td>\n",
       "    </tr>\n",
       "    <tr>\n",
       "      <th>5</th>\n",
       "      <td>United Kingdom</td>\n",
       "      <td>Male</td>\n",
       "      <td>154008.90</td>\n",
       "    </tr>\n",
       "    <tr>\n",
       "      <th>4</th>\n",
       "      <td>United Kingdom</td>\n",
       "      <td>Female</td>\n",
       "      <td>98734.80</td>\n",
       "    </tr>\n",
       "    <tr>\n",
       "      <th>3</th>\n",
       "      <td>Germany</td>\n",
       "      <td>Male</td>\n",
       "      <td>381750.30</td>\n",
       "    </tr>\n",
       "    <tr>\n",
       "      <th>2</th>\n",
       "      <td>Germany</td>\n",
       "      <td>Female</td>\n",
       "      <td>248829.60</td>\n",
       "    </tr>\n",
       "    <tr>\n",
       "      <th>1</th>\n",
       "      <td>Canada</td>\n",
       "      <td>Male</td>\n",
       "      <td>260826.00</td>\n",
       "    </tr>\n",
       "    <tr>\n",
       "      <th>0</th>\n",
       "      <td>Canada</td>\n",
       "      <td>Female</td>\n",
       "      <td>164937.90</td>\n",
       "    </tr>\n",
       "  </tbody>\n",
       "</table>\n",
       "</div>"
      ],
      "text/plain": [
       "          Country  Gender  Ingresos\n",
       "7   United States    Male 486305.40\n",
       "6   United States  Female 359674.20\n",
       "5  United Kingdom    Male 154008.90\n",
       "4  United Kingdom  Female  98734.80\n",
       "3         Germany    Male 381750.30\n",
       "2         Germany  Female 248829.60\n",
       "1          Canada    Male 260826.00\n",
       "0          Canada  Female 164937.90"
      ]
     },
     "execution_count": 21,
     "metadata": {},
     "output_type": "execute_result"
    }
   ],
   "source": [
    "(df_01.groupby(by = ['Country','Gender']).\n",
    " sum(numeric_only = True)['SalePrice'].\n",
    " reset_index(name = 'Ingresos').\n",
    " sort_values(by = ['Country','Ingresos'], ascending = False))"
   ]
  },
  {
   "cell_type": "markdown",
   "id": "514cf2f2-7108-4f0c-95b4-b3dba8ad2232",
   "metadata": {},
   "source": [
    "##### c) Distribución de la talla por género"
   ]
  },
  {
   "cell_type": "markdown",
   "id": "85af93d9-ac67-44e5-8a53-3b9ae1b51f55",
   "metadata": {},
   "source": [
    "Casi la mitad de los zapatos de hombre se encuentran por encima de la talla 40 , mientras que 75% de los datos de los zapatos de mujeres se encuentra por debajo de la talla 40. La dispersión de los datos es similar aunque los hombres tienen más valores atípicos."
   ]
  },
  {
   "cell_type": "code",
   "execution_count": 22,
   "id": "5131ce84-b24c-48f5-9d8d-2efa786c2ee7",
   "metadata": {},
   "outputs": [
    {
     "data": {
      "image/png": "[encoded data removed]",
      "text/plain": [
       "<Figure size 450x450 with 1 Axes>"
      ]
     },
     "metadata": {},
     "output_type": "display_data"
    }
   ],
   "source": [
    "sns.set_theme(style = 'ticks',palette = 'GnBu_r', font = 'Arial')\n",
    "\n",
    "sns.catplot(data = df_01, x = 'Gender', y = 'Size(LATAM)',kind = 'box')\n",
    "\n",
    "plt.title(label = 'Distribución de tallas', loc = 'left', size = 12, fontstyle = 'italic', fontweight = 'bold')\n",
    "plt.xlabel(xlabel = None)\n",
    "plt.ylabel(ylabel = 'Talla', size = 12)\n",
    "sns.despine(offset = 5, trim = False, bottom = False)"
   ]
  },
  {
   "cell_type": "markdown",
   "id": "ba9328f4-d131-4af9-86f2-97ed344f1b57",
   "metadata": {},
   "source": [
    "##### d) Relación entre precio unitario y talla"
   ]
  },
  {
   "cell_type": "markdown",
   "id": "b93e17f3-a927-47b4-806b-a5baa1a1b7a1",
   "metadata": {},
   "source": [
    "A medida que la talla de los zapatos crece, el precio cambia en proporciones parecidas con una tendencia lineal. "
   ]
  },
  {
   "cell_type": "code",
   "execution_count": 23,
   "id": "78757d59-1522-47a4-82b7-07176d6c6146",
   "metadata": {},
   "outputs": [
    {
     "data": {
      "image/png": "[encoded data removed]",
      "text/plain": [
       "<Figure size 545.5x450 with 1 Axes>"
      ]
     },
     "metadata": {},
     "output_type": "display_data"
    }
   ],
   "source": [
    "sns.set_theme(style = 'whitegrid', font = 'Arial')\n",
    "\n",
    "sns.relplot(data = df_01, x = 'Size(LATAM)', y = 'Size (UK)', hue = 'Gender',\n",
    "            facet_kws={'sharey': True, 'sharex': True})\n",
    "\n",
    "plt.suptitle(t = 'Size(UK) vs Size(LATAM)', y = 1.05, x = 0.15,\n",
    "             fontstyle = 'italic', fontweight = 'bold', size = 12)\n",
    "\n",
    "plt.subplots_adjust(hspace = 0.2, wspace = 0.1)\n",
    "plt.xlim(10,80)\n",
    "plt.ylim(0,16);"
   ]
  },
  {
   "cell_type": "markdown",
   "id": "28a776f2-865e-4ef9-93d3-9fc2df1f425d",
   "metadata": {},
   "source": [
    "#### 5.5. Habiendo generado las dos anteriores columnas y utilizando funciones condicionales responda a las siguientes preguntas:"
   ]
  },
  {
   "cell_type": "markdown",
   "id": "f3e7fa75-b800-4a65-b812-60a9f4fca573",
   "metadata": {},
   "source": [
    "**¿Cuánto cuesta en promedio un zapato para hombre en Estados Unidos?**\n",
    "\n",
    "El precio nominal de un par de zapatos en EEUU es de 163.03 dólares, pero si se adquieren con descuento el precio promedio sería 143.58 dólares."
   ]
  },
  {
   "cell_type": "code",
   "execution_count": 24,
   "id": "3cecee4d-fd18-42b2-b7cf-2b0cc0b53c2d",
   "metadata": {},
   "outputs": [
    {
     "data": {
      "text/html": [
       "<div>\n",
       "<style scoped>\n",
       "    .dataframe tbody tr th:only-of-type {\n",
       "        vertical-align: middle;\n",
       "    }\n",
       "\n",
       "    .dataframe tbody tr th {\n",
       "        vertical-align: top;\n",
       "    }\n",
       "\n",
       "    .dataframe thead th {\n",
       "        text-align: right;\n",
       "    }\n",
       "</style>\n",
       "<table border=\"1\" class=\"dataframe\">\n",
       "  <thead>\n",
       "    <tr style=\"text-align: right;\">\n",
       "      <th></th>\n",
       "      <th></th>\n",
       "      <th>UnitPrice</th>\n",
       "      <th>Discount</th>\n",
       "      <th>SalePrice</th>\n",
       "    </tr>\n",
       "    <tr>\n",
       "      <th>Country</th>\n",
       "      <th>Gender</th>\n",
       "      <th></th>\n",
       "      <th></th>\n",
       "      <th></th>\n",
       "    </tr>\n",
       "  </thead>\n",
       "  <tbody>\n",
       "    <tr>\n",
       "      <th rowspan=\"2\" valign=\"top\">Canada</th>\n",
       "      <th>Female</th>\n",
       "      <td>164.76</td>\n",
       "      <td>11.49</td>\n",
       "      <td>145.83</td>\n",
       "    </tr>\n",
       "    <tr>\n",
       "      <th>Male</th>\n",
       "      <td>164.65</td>\n",
       "      <td>13.18</td>\n",
       "      <td>143.23</td>\n",
       "    </tr>\n",
       "    <tr>\n",
       "      <th rowspan=\"2\" valign=\"top\">Germany</th>\n",
       "      <th>Female</th>\n",
       "      <td>164.60</td>\n",
       "      <td>13.14</td>\n",
       "      <td>143.01</td>\n",
       "    </tr>\n",
       "    <tr>\n",
       "      <th>Male</th>\n",
       "      <td>163.88</td>\n",
       "      <td>12.34</td>\n",
       "      <td>143.95</td>\n",
       "    </tr>\n",
       "    <tr>\n",
       "      <th rowspan=\"2\" valign=\"top\">United Kingdom</th>\n",
       "      <th>Female</th>\n",
       "      <td>164.62</td>\n",
       "      <td>11.77</td>\n",
       "      <td>145.63</td>\n",
       "    </tr>\n",
       "    <tr>\n",
       "      <th>Male</th>\n",
       "      <td>166.25</td>\n",
       "      <td>12.55</td>\n",
       "      <td>145.43</td>\n",
       "    </tr>\n",
       "    <tr>\n",
       "      <th rowspan=\"2\" valign=\"top\">United States</th>\n",
       "      <th>Female</th>\n",
       "      <td>164.11</td>\n",
       "      <td>12.41</td>\n",
       "      <td>143.93</td>\n",
       "    </tr>\n",
       "    <tr>\n",
       "      <th>Male</th>\n",
       "      <td>163.03</td>\n",
       "      <td>12.03</td>\n",
       "      <td>143.58</td>\n",
       "    </tr>\n",
       "  </tbody>\n",
       "</table>\n",
       "</div>"
      ],
      "text/plain": [
       "                       UnitPrice  Discount  SalePrice\n",
       "Country        Gender                                \n",
       "Canada         Female     164.76     11.49     145.83\n",
       "               Male       164.65     13.18     143.23\n",
       "Germany        Female     164.60     13.14     143.01\n",
       "               Male       163.88     12.34     143.95\n",
       "United Kingdom Female     164.62     11.77     145.63\n",
       "               Male       166.25     12.55     145.43\n",
       "United States  Female     164.11     12.41     143.93\n",
       "               Male       163.03     12.03     143.58"
      ]
     },
     "execution_count": 24,
     "metadata": {},
     "output_type": "execute_result"
    }
   ],
   "source": [
    "aux = df_01.groupby(by = ['Country','Gender']).mean(numeric_only = True)[['UnitPrice','Discount','SalePrice']]\n",
    "aux"
   ]
  },
  {
   "cell_type": "markdown",
   "id": "4afbc0b2-5185-42a0-9a52-c1c135826961",
   "metadata": {},
   "source": [
    "**¿En qué país se venden los zapatos más caros?**\n",
    "\n",
    "Los zapatos más caros tienen un precio de 199 $. Este precio de venta, no tinene descuento y se puede encontrar en los cuatro paises del dataset, sin embargo, EEUU tiene más registros de ventas respecto a los demás paises."
   ]
  },
  {
   "cell_type": "code",
   "execution_count": 25,
   "id": "1104d34b-43ae-426e-a99c-0dc484c10885",
   "metadata": {},
   "outputs": [
    {
     "data": {
      "text/plain": [
       "199.0"
      ]
     },
     "execution_count": 25,
     "metadata": {},
     "output_type": "execute_result"
    }
   ],
   "source": [
    "df_01['SalePrice'].max()"
   ]
  },
  {
   "cell_type": "code",
   "execution_count": 26,
   "id": "99f7c2e2-6e73-4e61-ad26-73c748ea6bc7",
   "metadata": {},
   "outputs": [
    {
     "data": {
      "text/plain": [
       "['United Kingdom', 'United States', 'Canada', 'Germany']\n",
       "Categories (4, object): ['Canada', 'Germany', 'United Kingdom', 'United States']"
      ]
     },
     "execution_count": 26,
     "metadata": {},
     "output_type": "execute_result"
    }
   ],
   "source": [
    "df_01['Country'].unique()"
   ]
  },
  {
   "cell_type": "code",
   "execution_count": 50,
   "id": "1acf461f-d390-4d14-a399-1f8c3ae388b9",
   "metadata": {},
   "outputs": [
    {
     "data": {
      "text/plain": [
       "United States     432\n",
       "Germany           288\n",
       "Canada            252\n",
       "United Kingdom    171\n",
       "Name: Country, dtype: int64"
      ]
     },
     "execution_count": 50,
     "metadata": {},
     "output_type": "execute_result"
    }
   ],
   "source": [
    "df_01.loc[df_01['SalePrice'] == 199, 'Country'].value_counts()"
   ]
  },
  {
   "cell_type": "markdown",
   "id": "76bdc01f-f974-4366-b742-baf767e95955",
   "metadata": {},
   "source": [
    "**¿En qué tienda (Variable Shop) se venden los zapatos más baratos?**"
   ]
  },
  {
   "cell_type": "markdown",
   "id": "438411bf-85ae-4532-9373-63811446f05e",
   "metadata": {},
   "source": [
    "Las tiendas cuyo precio es mínimo corresponde a GRE1 y GER2 establecidas en Alemania con un valor de 33 y 30 dólares respectivamente."
   ]
  },
  {
   "cell_type": "code",
   "execution_count": 28,
   "id": "66bba72d-ff51-42a8-9b5b-3cbcd1f576fe",
   "metadata": {
    "tags": []
   },
   "outputs": [
    {
     "data": {
      "text/plain": [
       "64.5"
      ]
     },
     "execution_count": 28,
     "metadata": {},
     "output_type": "execute_result"
    }
   ],
   "source": [
    "df_01['SalePrice'].min()"
   ]
  },
  {
   "cell_type": "code",
   "execution_count": 54,
   "id": "858da239-ddf1-4b82-adb1-0960ef87462c",
   "metadata": {},
   "outputs": [
    {
     "data": {
      "text/plain": [
       "Shop  Country      \n",
       "GER1  Germany          33\n",
       "GER2  Germany          30\n",
       "US12  United States    21\n",
       "CAN5  Canada           18\n",
       "CAN6  Canada           15\n",
       "dtype: int64"
      ]
     },
     "execution_count": 54,
     "metadata": {},
     "output_type": "execute_result"
    }
   ],
   "source": [
    "df_01.loc[df_01['SalePrice'] == df_01['SalePrice'].min(),['Shop','Country']].value_counts().head()"
   ]
  },
  {
   "cell_type": "markdown",
   "id": "bc65e8c9-2077-4658-a734-886561a6e2a6",
   "metadata": {},
   "source": [
    "**¿En qué fecha se hizo el descuento más alto en el Reino Unido?**"
   ]
  },
  {
   "cell_type": "markdown",
   "id": "39580178-7838-45f6-aae2-c5fff01fa692",
   "metadata": {},
   "source": [
    "El descuento más alto para el Reino Unido se llevó a cabo entre el 26/01/2014 y 17/12/2016"
   ]
  },
  {
   "cell_type": "code",
   "execution_count": 31,
   "id": "3f1cdff5-e029-4560-a288-a3145384a2ac",
   "metadata": {
    "tags": []
   },
   "outputs": [
    {
     "data": {
      "text/plain": [
       "50"
      ]
     },
     "execution_count": 31,
     "metadata": {},
     "output_type": "execute_result"
    }
   ],
   "source": [
    "# Descuento más alto\n",
    "df_01.loc[df_01['Country'] == 'United Kingdom','Discount'].max()"
   ]
  },
  {
   "cell_type": "code",
   "execution_count": 56,
   "id": "aa555dfe-3521-49ef-a4a7-ac0b5a80f206",
   "metadata": {},
   "outputs": [
    {
     "data": {
      "text/plain": [
       "Timestamp('2014-01-26 00:00:00')"
      ]
     },
     "execution_count": 56,
     "metadata": {},
     "output_type": "execute_result"
    }
   ],
   "source": [
    "df_01.loc[(df_01['Country'] == 'United Kingdom') & (df_01['Discount'] == 50),'Date'].min()"
   ]
  },
  {
   "cell_type": "code",
   "execution_count": 33,
   "id": "bcc69385-888e-49a6-afa0-f52c351d10d5",
   "metadata": {},
   "outputs": [
    {
     "data": {
      "text/plain": [
       "Timestamp('2016-12-17 00:00:00')"
      ]
     },
     "execution_count": 33,
     "metadata": {},
     "output_type": "execute_result"
    }
   ],
   "source": [
    "df_01.loc[(df_01['Country'] == 'United Kingdom') & (df_01['Discount'] == 50),'Date'].max()"
   ]
  },
  {
   "cell_type": "markdown",
   "id": "b48a56ad-2e4e-4ed9-bd6e-ad55821a7dd4",
   "metadata": {},
   "source": [
    "**¿De qué talla americana (Variable Size(US)) es el zapato femenino más grande?**\n",
    "\n",
    "El zapato femenino más grade para mujer es 12"
   ]
  },
  {
   "cell_type": "code",
   "execution_count": 74,
   "id": "c00c1f67-b666-4cee-895a-aa5b0ab1e67d",
   "metadata": {},
   "outputs": [
    {
     "data": {
      "text/plain": [
       "11711   12.00\n",
       "1945    12.00\n",
       "7128    12.00\n",
       "10996   12.00\n",
       "13593   12.00\n",
       "Name: Size (US), dtype: float64"
      ]
     },
     "execution_count": 74,
     "metadata": {},
     "output_type": "execute_result"
    }
   ],
   "source": [
    "df_01.sort_values(by = ['Size (US)'], ascending = False).loc[df_01['Gender'] == 'Female','Size (US)'].head()"
   ]
  },
  {
   "cell_type": "markdown",
   "id": "ae47a915-8f97-4ac2-8cbb-9ba1e5dd33d2",
   "metadata": {},
   "source": [
    "**¿En qué país se han hecho más descuentos?**\n",
    "\n",
    "Se hicieron más decuentos en EEUU"
   ]
  },
  {
   "cell_type": "code",
   "execution_count": 81,
   "id": "1898f89d-014f-44dc-b6dc-1e053461521a",
   "metadata": {},
   "outputs": [
    {
     "data": {
      "text/html": [
       "<div>\n",
       "<style scoped>\n",
       "    .dataframe tbody tr th:only-of-type {\n",
       "        vertical-align: middle;\n",
       "    }\n",
       "\n",
       "    .dataframe tbody tr th {\n",
       "        vertical-align: top;\n",
       "    }\n",
       "\n",
       "    .dataframe thead th {\n",
       "        text-align: right;\n",
       "    }\n",
       "</style>\n",
       "<table border=\"1\" class=\"dataframe\">\n",
       "  <thead>\n",
       "    <tr style=\"text-align: right;\">\n",
       "      <th></th>\n",
       "      <th>InvoiceNo</th>\n",
       "      <th>Date</th>\n",
       "      <th>Country</th>\n",
       "      <th>ProductID</th>\n",
       "      <th>Shop</th>\n",
       "      <th>Gender</th>\n",
       "      <th>Size (US)</th>\n",
       "      <th>Size(LATAM)</th>\n",
       "      <th>Size (Europe)</th>\n",
       "      <th>Size (UK)</th>\n",
       "      <th>UnitPrice</th>\n",
       "      <th>Discount</th>\n",
       "      <th>SalePrice</th>\n",
       "      <th>Dif_Price</th>\n",
       "    </tr>\n",
       "  </thead>\n",
       "  <tbody>\n",
       "    <tr>\n",
       "      <th>0</th>\n",
       "      <td>52389</td>\n",
       "      <td>2014-01-01</td>\n",
       "      <td>United Kingdom</td>\n",
       "      <td>2152</td>\n",
       "      <td>UK2</td>\n",
       "      <td>Male</td>\n",
       "      <td>11.00</td>\n",
       "      <td>48.89</td>\n",
       "      <td>44</td>\n",
       "      <td>10.50</td>\n",
       "      <td>159.00</td>\n",
       "      <td>0</td>\n",
       "      <td>159.00</td>\n",
       "      <td>0.00</td>\n",
       "    </tr>\n",
       "    <tr>\n",
       "      <th>1</th>\n",
       "      <td>52390</td>\n",
       "      <td>2014-01-01</td>\n",
       "      <td>United States</td>\n",
       "      <td>2230</td>\n",
       "      <td>US15</td>\n",
       "      <td>Male</td>\n",
       "      <td>11.50</td>\n",
       "      <td>51.11</td>\n",
       "      <td>44-45</td>\n",
       "      <td>11.00</td>\n",
       "      <td>199.00</td>\n",
       "      <td>20</td>\n",
       "      <td>159.20</td>\n",
       "      <td>-39.80</td>\n",
       "    </tr>\n",
       "    <tr>\n",
       "      <th>2</th>\n",
       "      <td>52391</td>\n",
       "      <td>2014-01-01</td>\n",
       "      <td>Canada</td>\n",
       "      <td>2160</td>\n",
       "      <td>CAN7</td>\n",
       "      <td>Male</td>\n",
       "      <td>9.50</td>\n",
       "      <td>42.22</td>\n",
       "      <td>42-43</td>\n",
       "      <td>9.00</td>\n",
       "      <td>149.00</td>\n",
       "      <td>20</td>\n",
       "      <td>119.20</td>\n",
       "      <td>-29.80</td>\n",
       "    </tr>\n",
       "    <tr>\n",
       "      <th>3</th>\n",
       "      <td>52392</td>\n",
       "      <td>2014-01-01</td>\n",
       "      <td>United States</td>\n",
       "      <td>2234</td>\n",
       "      <td>US6</td>\n",
       "      <td>Female</td>\n",
       "      <td>9.50</td>\n",
       "      <td>42.22</td>\n",
       "      <td>40</td>\n",
       "      <td>7.50</td>\n",
       "      <td>159.00</td>\n",
       "      <td>0</td>\n",
       "      <td>159.00</td>\n",
       "      <td>0.00</td>\n",
       "    </tr>\n",
       "    <tr>\n",
       "      <th>4</th>\n",
       "      <td>52393</td>\n",
       "      <td>2014-01-01</td>\n",
       "      <td>United Kingdom</td>\n",
       "      <td>2222</td>\n",
       "      <td>UK4</td>\n",
       "      <td>Female</td>\n",
       "      <td>9.00</td>\n",
       "      <td>40.00</td>\n",
       "      <td>39-40</td>\n",
       "      <td>7.00</td>\n",
       "      <td>159.00</td>\n",
       "      <td>0</td>\n",
       "      <td>159.00</td>\n",
       "      <td>0.00</td>\n",
       "    </tr>\n",
       "  </tbody>\n",
       "</table>\n",
       "</div>"
      ],
      "text/plain": [
       "   InvoiceNo       Date         Country  ProductID  Shop  Gender  Size (US)  \\\n",
       "0      52389 2014-01-01  United Kingdom       2152   UK2    Male      11.00   \n",
       "1      52390 2014-01-01   United States       2230  US15    Male      11.50   \n",
       "2      52391 2014-01-01          Canada       2160  CAN7    Male       9.50   \n",
       "3      52392 2014-01-01   United States       2234   US6  Female       9.50   \n",
       "4      52393 2014-01-01  United Kingdom       2222   UK4  Female       9.00   \n",
       "\n",
       "   Size(LATAM) Size (Europe)  Size (UK)  UnitPrice  Discount  SalePrice  \\\n",
       "0        48.89            44      10.50     159.00         0     159.00   \n",
       "1        51.11         44-45      11.00     199.00        20     159.20   \n",
       "2        42.22         42-43       9.00     149.00        20     119.20   \n",
       "3        42.22            40       7.50     159.00         0     159.00   \n",
       "4        40.00         39-40       7.00     159.00         0     159.00   \n",
       "\n",
       "   Dif_Price  \n",
       "0       0.00  \n",
       "1     -39.80  \n",
       "2     -29.80  \n",
       "3       0.00  \n",
       "4       0.00  "
      ]
     },
     "execution_count": 81,
     "metadata": {},
     "output_type": "execute_result"
    }
   ],
   "source": [
    "df_01.head()"
   ]
  },
  {
   "cell_type": "code",
   "execution_count": 83,
   "id": "0fe46ceb-d22f-4af7-b0d3-fe0d13b39c3c",
   "metadata": {},
   "outputs": [
    {
     "data": {
      "text/plain": [
       "Country\n",
       "United States    -116324.40\n",
       "Germany           -90428.10\n",
       "Canada            -60404.10\n",
       "United Kingdom    -34929.30\n",
       "Name: Dif_Price, dtype: float64"
      ]
     },
     "execution_count": 83,
     "metadata": {},
     "output_type": "execute_result"
    }
   ],
   "source": [
    "df_01.groupby(by = ['Country']).sum(numeric_only = True)['Dif_Price'].sort_values(ascending = True)"
   ]
  },
  {
   "cell_type": "markdown",
   "id": "90523440-2ada-4f31-8de2-3a7b51c10fc7",
   "metadata": {},
   "source": [
    "**Basándose solo en el precio (Sale Price), ¿en qué país prefería comprar una mujer que calza talla 6.5 americana?**\n",
    "\n",
    "SI se toma la media como un decisor es más recomendable comprar en EEUU. Si tomamos el valor mínimo, es mejor en Canadá."
   ]
  },
  {
   "cell_type": "code",
   "execution_count": 36,
   "id": "fe53274c-2da9-4cee-81dd-7291c1591112",
   "metadata": {},
   "outputs": [
    {
     "data": {
      "text/html": [
       "<div>\n",
       "<style scoped>\n",
       "    .dataframe tbody tr th:only-of-type {\n",
       "        vertical-align: middle;\n",
       "    }\n",
       "\n",
       "    .dataframe tbody tr th {\n",
       "        vertical-align: top;\n",
       "    }\n",
       "\n",
       "    .dataframe thead th {\n",
       "        text-align: right;\n",
       "    }\n",
       "</style>\n",
       "<table border=\"1\" class=\"dataframe\">\n",
       "  <thead>\n",
       "    <tr style=\"text-align: right;\">\n",
       "      <th></th>\n",
       "      <th>InvoiceNo</th>\n",
       "      <th>Date</th>\n",
       "      <th>Country</th>\n",
       "      <th>ProductID</th>\n",
       "      <th>Shop</th>\n",
       "      <th>Gender</th>\n",
       "      <th>Size (US)</th>\n",
       "      <th>Size(LATAM)</th>\n",
       "      <th>Size (Europe)</th>\n",
       "      <th>Size (UK)</th>\n",
       "      <th>UnitPrice</th>\n",
       "      <th>Discount</th>\n",
       "      <th>SalePrice</th>\n",
       "      <th>Dif_Price</th>\n",
       "    </tr>\n",
       "  </thead>\n",
       "  <tbody>\n",
       "    <tr>\n",
       "      <th>0</th>\n",
       "      <td>52389</td>\n",
       "      <td>2014-01-01</td>\n",
       "      <td>United Kingdom</td>\n",
       "      <td>2152</td>\n",
       "      <td>UK2</td>\n",
       "      <td>Male</td>\n",
       "      <td>11.00</td>\n",
       "      <td>48.89</td>\n",
       "      <td>44</td>\n",
       "      <td>10.50</td>\n",
       "      <td>159.00</td>\n",
       "      <td>0</td>\n",
       "      <td>159.00</td>\n",
       "      <td>0.00</td>\n",
       "    </tr>\n",
       "    <tr>\n",
       "      <th>1</th>\n",
       "      <td>52390</td>\n",
       "      <td>2014-01-01</td>\n",
       "      <td>United States</td>\n",
       "      <td>2230</td>\n",
       "      <td>US15</td>\n",
       "      <td>Male</td>\n",
       "      <td>11.50</td>\n",
       "      <td>51.11</td>\n",
       "      <td>44-45</td>\n",
       "      <td>11.00</td>\n",
       "      <td>199.00</td>\n",
       "      <td>20</td>\n",
       "      <td>159.20</td>\n",
       "      <td>-39.80</td>\n",
       "    </tr>\n",
       "    <tr>\n",
       "      <th>2</th>\n",
       "      <td>52391</td>\n",
       "      <td>2014-01-01</td>\n",
       "      <td>Canada</td>\n",
       "      <td>2160</td>\n",
       "      <td>CAN7</td>\n",
       "      <td>Male</td>\n",
       "      <td>9.50</td>\n",
       "      <td>42.22</td>\n",
       "      <td>42-43</td>\n",
       "      <td>9.00</td>\n",
       "      <td>149.00</td>\n",
       "      <td>20</td>\n",
       "      <td>119.20</td>\n",
       "      <td>-29.80</td>\n",
       "    </tr>\n",
       "    <tr>\n",
       "      <th>3</th>\n",
       "      <td>52392</td>\n",
       "      <td>2014-01-01</td>\n",
       "      <td>United States</td>\n",
       "      <td>2234</td>\n",
       "      <td>US6</td>\n",
       "      <td>Female</td>\n",
       "      <td>9.50</td>\n",
       "      <td>42.22</td>\n",
       "      <td>40</td>\n",
       "      <td>7.50</td>\n",
       "      <td>159.00</td>\n",
       "      <td>0</td>\n",
       "      <td>159.00</td>\n",
       "      <td>0.00</td>\n",
       "    </tr>\n",
       "    <tr>\n",
       "      <th>4</th>\n",
       "      <td>52393</td>\n",
       "      <td>2014-01-01</td>\n",
       "      <td>United Kingdom</td>\n",
       "      <td>2222</td>\n",
       "      <td>UK4</td>\n",
       "      <td>Female</td>\n",
       "      <td>9.00</td>\n",
       "      <td>40.00</td>\n",
       "      <td>39-40</td>\n",
       "      <td>7.00</td>\n",
       "      <td>159.00</td>\n",
       "      <td>0</td>\n",
       "      <td>159.00</td>\n",
       "      <td>0.00</td>\n",
       "    </tr>\n",
       "  </tbody>\n",
       "</table>\n",
       "</div>"
      ],
      "text/plain": [
       "   InvoiceNo       Date         Country  ProductID  Shop  Gender  Size (US)  \\\n",
       "0      52389 2014-01-01  United Kingdom       2152   UK2    Male      11.00   \n",
       "1      52390 2014-01-01   United States       2230  US15    Male      11.50   \n",
       "2      52391 2014-01-01          Canada       2160  CAN7    Male       9.50   \n",
       "3      52392 2014-01-01   United States       2234   US6  Female       9.50   \n",
       "4      52393 2014-01-01  United Kingdom       2222   UK4  Female       9.00   \n",
       "\n",
       "   Size(LATAM) Size (Europe)  Size (UK)  UnitPrice  Discount  SalePrice  \\\n",
       "0        48.89            44      10.50     159.00         0     159.00   \n",
       "1        51.11         44-45      11.00     199.00        20     159.20   \n",
       "2        42.22         42-43       9.00     149.00        20     119.20   \n",
       "3        42.22            40       7.50     159.00         0     159.00   \n",
       "4        40.00         39-40       7.00     159.00         0     159.00   \n",
       "\n",
       "   Dif_Price  \n",
       "0       0.00  \n",
       "1     -39.80  \n",
       "2     -29.80  \n",
       "3       0.00  \n",
       "4       0.00  "
      ]
     },
     "execution_count": 36,
     "metadata": {},
     "output_type": "execute_result"
    }
   ],
   "source": [
    "df_01.head()"
   ]
  },
  {
   "cell_type": "code",
   "execution_count": 85,
   "id": "e5426e15-1c1a-4039-80d9-ffe945062f65",
   "metadata": {},
   "outputs": [
    {
     "data": {
      "text/html": [
       "<div>\n",
       "<style scoped>\n",
       "    .dataframe tbody tr th:only-of-type {\n",
       "        vertical-align: middle;\n",
       "    }\n",
       "\n",
       "    .dataframe tbody tr th {\n",
       "        vertical-align: top;\n",
       "    }\n",
       "\n",
       "    .dataframe thead th {\n",
       "        text-align: right;\n",
       "    }\n",
       "</style>\n",
       "<table border=\"1\" class=\"dataframe\">\n",
       "  <thead>\n",
       "    <tr style=\"text-align: right;\">\n",
       "      <th></th>\n",
       "      <th>SalePrice</th>\n",
       "      <th>Size (US)</th>\n",
       "    </tr>\n",
       "    <tr>\n",
       "      <th>Country</th>\n",
       "      <th></th>\n",
       "      <th></th>\n",
       "    </tr>\n",
       "  </thead>\n",
       "  <tbody>\n",
       "    <tr>\n",
       "      <th>United States</th>\n",
       "      <td>133.95</td>\n",
       "      <td>6.50</td>\n",
       "    </tr>\n",
       "    <tr>\n",
       "      <th>Germany</th>\n",
       "      <td>139.82</td>\n",
       "      <td>6.50</td>\n",
       "    </tr>\n",
       "    <tr>\n",
       "      <th>Canada</th>\n",
       "      <td>142.39</td>\n",
       "      <td>6.50</td>\n",
       "    </tr>\n",
       "    <tr>\n",
       "      <th>United Kingdom</th>\n",
       "      <td>150.47</td>\n",
       "      <td>6.50</td>\n",
       "    </tr>\n",
       "  </tbody>\n",
       "</table>\n",
       "</div>"
      ],
      "text/plain": [
       "                SalePrice  Size (US)\n",
       "Country                             \n",
       "United States      133.95       6.50\n",
       "Germany            139.82       6.50\n",
       "Canada             142.39       6.50\n",
       "United Kingdom     150.47       6.50"
      ]
     },
     "execution_count": 85,
     "metadata": {},
     "output_type": "execute_result"
    }
   ],
   "source": [
    "(df_01.loc[(df_01['Size (US)'] == 6.5) & (df_01['Gender'] == 'Female'),['Country','SalePrice','Size (US)','Gender']].\n",
    " groupby(by = ['Country']).mean(numeric_only = True).sort_values(by = ['SalePrice']))"
   ]
  },
  {
   "cell_type": "code",
   "execution_count": 38,
   "id": "7243a167-c6a4-420f-b438-c720220b9cc0",
   "metadata": {},
   "outputs": [
    {
     "data": {
      "text/html": [
       "<div>\n",
       "<style scoped>\n",
       "    .dataframe tbody tr th:only-of-type {\n",
       "        vertical-align: middle;\n",
       "    }\n",
       "\n",
       "    .dataframe tbody tr th {\n",
       "        vertical-align: top;\n",
       "    }\n",
       "\n",
       "    .dataframe thead th {\n",
       "        text-align: right;\n",
       "    }\n",
       "</style>\n",
       "<table border=\"1\" class=\"dataframe\">\n",
       "  <thead>\n",
       "    <tr style=\"text-align: right;\">\n",
       "      <th></th>\n",
       "      <th>SalePrice</th>\n",
       "    </tr>\n",
       "    <tr>\n",
       "      <th>Country</th>\n",
       "      <th></th>\n",
       "    </tr>\n",
       "  </thead>\n",
       "  <tbody>\n",
       "    <tr>\n",
       "      <th>Canada</th>\n",
       "      <td>64.50</td>\n",
       "    </tr>\n",
       "    <tr>\n",
       "      <th>Germany</th>\n",
       "      <td>74.50</td>\n",
       "    </tr>\n",
       "    <tr>\n",
       "      <th>United States</th>\n",
       "      <td>74.50</td>\n",
       "    </tr>\n",
       "    <tr>\n",
       "      <th>United Kingdom</th>\n",
       "      <td>97.30</td>\n",
       "    </tr>\n",
       "  </tbody>\n",
       "</table>\n",
       "</div>"
      ],
      "text/plain": [
       "                SalePrice\n",
       "Country                  \n",
       "Canada              64.50\n",
       "Germany             74.50\n",
       "United States       74.50\n",
       "United Kingdom      97.30"
      ]
     },
     "execution_count": 38,
     "metadata": {},
     "output_type": "execute_result"
    }
   ],
   "source": [
    "(df_01.loc[(df_01['Size (US)'] == 6.5) & (df_01['Gender'] == 'Female'),['SalePrice','Country']].\n",
    " groupby(by = ['Country'])).min().sort_values(by = ['SalePrice'])"
   ]
  },
  {
   "cell_type": "markdown",
   "id": "d50bc5a7-13bf-4623-8dcc-bea08c2355a5",
   "metadata": {},
   "source": [
    "**Realice las gráficas de la evolución de ventas en cada país e interprete el mercado que tiene mejor perspectiva de ventas.**"
   ]
  },
  {
   "cell_type": "markdown",
   "id": "df313847-acc0-4522-bba8-142a1d831f61",
   "metadata": {},
   "source": [
    "El análisis de evolución de las ventas muestra que el mercado de EEUU tuvo la mejores ventas a los largo de los años. Sin embargo, su tendencia está en el descenso. Por otra parte, el mercado en Canada tuvo ventas ligeramente crecientes, con vaivenes pero con señales de crecimiento."
   ]
  },
  {
   "cell_type": "code",
   "execution_count": 172,
   "id": "55ea2a1b-07d4-459c-a330-cb3ba55ac93e",
   "metadata": {},
   "outputs": [
    {
     "data": {
      "image/png": "[encoded data removed]",
      "text/plain": [
       "<Figure size 900x540 with 1 Axes>"
      ]
     },
     "metadata": {},
     "output_type": "display_data"
    }
   ],
   "source": [
    "sns.set_theme(style = 'whitegrid')\n",
    "fig, ax = plt.subplots(figsize=(10, 6))\n",
    "\n",
    "df_02 = df_01.copy()\n",
    "for i in df_02['Country'].unique().tolist():\n",
    "    aux = df_02.copy().loc[df_02['Country'] == i]\n",
    "    aux = aux.set_index('Date')\n",
    "    aux = aux.resample(rule = 'M').sum(numeric_only = True)\n",
    "    sns.lineplot(data = aux, x = 'Date', y = 'SalePrice', label = i,\n",
    "                 marker = \"o\", linestyle = 'dashed', markersize = 7)\n",
    "\n",
    "ax.legend()\n",
    "plt.title(label = 'Evolución de ventas', loc = 'left', size = 12, fontstyle = 'italic', fontweight = 'bold')\n",
    "plt.xlabel(xlabel = None)\n",
    "plt.ylabel(ylabel = 'Precio de venta', size = 12);"
   ]
  },
  {
   "cell_type": "code",
   "execution_count": 181,
   "id": "b1952f35-3fc6-4bba-a817-c67128dd3444",
   "metadata": {},
   "outputs": [
    {
     "data": {
      "text/html": [
       "<div>\n",
       "<style scoped>\n",
       "    .dataframe tbody tr th:only-of-type {\n",
       "        vertical-align: middle;\n",
       "    }\n",
       "\n",
       "    .dataframe tbody tr th {\n",
       "        vertical-align: top;\n",
       "    }\n",
       "\n",
       "    .dataframe thead tr th {\n",
       "        text-align: left;\n",
       "    }\n",
       "\n",
       "    .dataframe thead tr:last-of-type th {\n",
       "        text-align: right;\n",
       "    }\n",
       "</style>\n",
       "<table border=\"1\" class=\"dataframe\">\n",
       "  <thead>\n",
       "    <tr>\n",
       "      <th></th>\n",
       "      <th></th>\n",
       "      <th colspan=\"4\" halign=\"left\">SalePrice</th>\n",
       "    </tr>\n",
       "    <tr>\n",
       "      <th></th>\n",
       "      <th>Country</th>\n",
       "      <th>Canada</th>\n",
       "      <th>Germany</th>\n",
       "      <th>United Kingdom</th>\n",
       "      <th>United States</th>\n",
       "    </tr>\n",
       "    <tr>\n",
       "      <th>year</th>\n",
       "      <th>month</th>\n",
       "      <th></th>\n",
       "      <th></th>\n",
       "      <th></th>\n",
       "      <th></th>\n",
       "    </tr>\n",
       "  </thead>\n",
       "  <tbody>\n",
       "    <tr>\n",
       "      <th rowspan=\"12\" valign=\"top\">2014</th>\n",
       "      <th>1</th>\n",
       "      <td>5,895.70</td>\n",
       "      <td>6,931.70</td>\n",
       "      <td>2,924.90</td>\n",
       "      <td>15,500.00</td>\n",
       "    </tr>\n",
       "    <tr>\n",
       "      <th>2</th>\n",
       "      <td>5,358.40</td>\n",
       "      <td>5,982.30</td>\n",
       "      <td>5,122.50</td>\n",
       "      <td>13,149.30</td>\n",
       "    </tr>\n",
       "    <tr>\n",
       "      <th>3</th>\n",
       "      <td>7,481.10</td>\n",
       "      <td>6,999.90</td>\n",
       "      <td>5,065.80</td>\n",
       "      <td>13,570.20</td>\n",
       "    </tr>\n",
       "    <tr>\n",
       "      <th>4</th>\n",
       "      <td>10,273.60</td>\n",
       "      <td>10,132.40</td>\n",
       "      <td>3,348.10</td>\n",
       "      <td>13,043.90</td>\n",
       "    </tr>\n",
       "    <tr>\n",
       "      <th>5</th>\n",
       "      <td>7,682.20</td>\n",
       "      <td>10,310.00</td>\n",
       "      <td>5,195.10</td>\n",
       "      <td>11,021.50</td>\n",
       "    </tr>\n",
       "    <tr>\n",
       "      <th>6</th>\n",
       "      <td>6,870.80</td>\n",
       "      <td>10,260.60</td>\n",
       "      <td>3,667.60</td>\n",
       "      <td>12,349.40</td>\n",
       "    </tr>\n",
       "    <tr>\n",
       "      <th>7</th>\n",
       "      <td>7,946.30</td>\n",
       "      <td>8,584.50</td>\n",
       "      <td>4,027.60</td>\n",
       "      <td>11,039.40</td>\n",
       "    </tr>\n",
       "    <tr>\n",
       "      <th>8</th>\n",
       "      <td>8,095.10</td>\n",
       "      <td>9,219.00</td>\n",
       "      <td>7,301.90</td>\n",
       "      <td>9,328.30</td>\n",
       "    </tr>\n",
       "    <tr>\n",
       "      <th>9</th>\n",
       "      <td>6,810.40</td>\n",
       "      <td>8,987.10</td>\n",
       "      <td>5,024.50</td>\n",
       "      <td>14,740.40</td>\n",
       "    </tr>\n",
       "    <tr>\n",
       "      <th>10</th>\n",
       "      <td>8,765.50</td>\n",
       "      <td>10,630.70</td>\n",
       "      <td>5,945.40</td>\n",
       "      <td>14,316.80</td>\n",
       "    </tr>\n",
       "    <tr>\n",
       "      <th>11</th>\n",
       "      <td>5,733.00</td>\n",
       "      <td>5,614.70</td>\n",
       "      <td>5,153.10</td>\n",
       "      <td>9,908.30</td>\n",
       "    </tr>\n",
       "    <tr>\n",
       "      <th>12</th>\n",
       "      <td>6,774.50</td>\n",
       "      <td>8,955.90</td>\n",
       "      <td>3,803.60</td>\n",
       "      <td>11,721.60</td>\n",
       "    </tr>\n",
       "    <tr>\n",
       "      <th rowspan=\"12\" valign=\"top\">2015</th>\n",
       "      <th>1</th>\n",
       "      <td>7,806.30</td>\n",
       "      <td>17,779.90</td>\n",
       "      <td>3,630.00</td>\n",
       "      <td>15,589.50</td>\n",
       "    </tr>\n",
       "    <tr>\n",
       "      <th>2</th>\n",
       "      <td>8,810.90</td>\n",
       "      <td>13,000.60</td>\n",
       "      <td>3,295.80</td>\n",
       "      <td>19,036.80</td>\n",
       "    </tr>\n",
       "    <tr>\n",
       "      <th>3</th>\n",
       "      <td>8,777.30</td>\n",
       "      <td>17,065.20</td>\n",
       "      <td>4,133.80</td>\n",
       "      <td>18,260.30</td>\n",
       "    </tr>\n",
       "    <tr>\n",
       "      <th>4</th>\n",
       "      <td>11,201.10</td>\n",
       "      <td>12,439.80</td>\n",
       "      <td>6,066.00</td>\n",
       "      <td>16,916.80</td>\n",
       "    </tr>\n",
       "    <tr>\n",
       "      <th>5</th>\n",
       "      <td>11,654.70</td>\n",
       "      <td>15,588.30</td>\n",
       "      <td>5,633.90</td>\n",
       "      <td>24,107.70</td>\n",
       "    </tr>\n",
       "    <tr>\n",
       "      <th>6</th>\n",
       "      <td>14,441.30</td>\n",
       "      <td>21,049.70</td>\n",
       "      <td>4,876.10</td>\n",
       "      <td>28,335.30</td>\n",
       "    </tr>\n",
       "    <tr>\n",
       "      <th>7</th>\n",
       "      <td>11,866.50</td>\n",
       "      <td>20,813.80</td>\n",
       "      <td>3,622.40</td>\n",
       "      <td>28,760.90</td>\n",
       "    </tr>\n",
       "    <tr>\n",
       "      <th>8</th>\n",
       "      <td>15,707.00</td>\n",
       "      <td>17,901.40</td>\n",
       "      <td>5,664.10</td>\n",
       "      <td>25,484.00</td>\n",
       "    </tr>\n",
       "    <tr>\n",
       "      <th>9</th>\n",
       "      <td>10,669.40</td>\n",
       "      <td>20,410.90</td>\n",
       "      <td>6,476.70</td>\n",
       "      <td>26,430.70</td>\n",
       "    </tr>\n",
       "    <tr>\n",
       "      <th>10</th>\n",
       "      <td>13,379.60</td>\n",
       "      <td>21,431.60</td>\n",
       "      <td>7,813.60</td>\n",
       "      <td>26,586.00</td>\n",
       "    </tr>\n",
       "    <tr>\n",
       "      <th>11</th>\n",
       "      <td>11,514.40</td>\n",
       "      <td>19,941.20</td>\n",
       "      <td>6,746.40</td>\n",
       "      <td>26,349.40</td>\n",
       "    </tr>\n",
       "    <tr>\n",
       "      <th>12</th>\n",
       "      <td>15,810.40</td>\n",
       "      <td>20,893.00</td>\n",
       "      <td>6,222.00</td>\n",
       "      <td>24,221.70</td>\n",
       "    </tr>\n",
       "    <tr>\n",
       "      <th rowspan=\"12\" valign=\"top\">2016</th>\n",
       "      <th>1</th>\n",
       "      <td>13,341.30</td>\n",
       "      <td>23,900.60</td>\n",
       "      <td>12,106.50</td>\n",
       "      <td>27,586.40</td>\n",
       "    </tr>\n",
       "    <tr>\n",
       "      <th>2</th>\n",
       "      <td>17,887.70</td>\n",
       "      <td>20,895.40</td>\n",
       "      <td>6,983.00</td>\n",
       "      <td>32,053.50</td>\n",
       "    </tr>\n",
       "    <tr>\n",
       "      <th>3</th>\n",
       "      <td>13,954.70</td>\n",
       "      <td>18,835.70</td>\n",
       "      <td>12,856.10</td>\n",
       "      <td>29,948.00</td>\n",
       "    </tr>\n",
       "    <tr>\n",
       "      <th>4</th>\n",
       "      <td>20,308.30</td>\n",
       "      <td>26,267.70</td>\n",
       "      <td>13,819.70</td>\n",
       "      <td>27,510.30</td>\n",
       "    </tr>\n",
       "    <tr>\n",
       "      <th>5</th>\n",
       "      <td>16,199.00</td>\n",
       "      <td>23,689.80</td>\n",
       "      <td>10,678.40</td>\n",
       "      <td>38,927.50</td>\n",
       "    </tr>\n",
       "    <tr>\n",
       "      <th>6</th>\n",
       "      <td>18,968.30</td>\n",
       "      <td>30,719.10</td>\n",
       "      <td>11,306.90</td>\n",
       "      <td>38,204.00</td>\n",
       "    </tr>\n",
       "    <tr>\n",
       "      <th>7</th>\n",
       "      <td>16,983.70</td>\n",
       "      <td>34,568.10</td>\n",
       "      <td>12,081.00</td>\n",
       "      <td>42,768.80</td>\n",
       "    </tr>\n",
       "    <tr>\n",
       "      <th>8</th>\n",
       "      <td>20,432.90</td>\n",
       "      <td>25,953.90</td>\n",
       "      <td>14,110.30</td>\n",
       "      <td>40,129.30</td>\n",
       "    </tr>\n",
       "    <tr>\n",
       "      <th>9</th>\n",
       "      <td>18,128.00</td>\n",
       "      <td>29,998.90</td>\n",
       "      <td>12,234.40</td>\n",
       "      <td>38,911.80</td>\n",
       "    </tr>\n",
       "    <tr>\n",
       "      <th>10</th>\n",
       "      <td>15,212.90</td>\n",
       "      <td>29,883.70</td>\n",
       "      <td>9,415.40</td>\n",
       "      <td>46,003.60</td>\n",
       "    </tr>\n",
       "    <tr>\n",
       "      <th>11</th>\n",
       "      <td>11,647.10</td>\n",
       "      <td>24,125.50</td>\n",
       "      <td>9,011.20</td>\n",
       "      <td>29,620.20</td>\n",
       "    </tr>\n",
       "    <tr>\n",
       "      <th>12</th>\n",
       "      <td>13,374.50</td>\n",
       "      <td>20,817.30</td>\n",
       "      <td>7,379.90</td>\n",
       "      <td>24,548.00</td>\n",
       "    </tr>\n",
       "  </tbody>\n",
       "</table>\n",
       "</div>"
      ],
      "text/plain": [
       "           SalePrice                                       \n",
       "Country       Canada   Germany United Kingdom United States\n",
       "year month                                                 \n",
       "2014 1      5,895.70  6,931.70       2,924.90     15,500.00\n",
       "     2      5,358.40  5,982.30       5,122.50     13,149.30\n",
       "     3      7,481.10  6,999.90       5,065.80     13,570.20\n",
       "     4     10,273.60 10,132.40       3,348.10     13,043.90\n",
       "     5      7,682.20 10,310.00       5,195.10     11,021.50\n",
       "     6      6,870.80 10,260.60       3,667.60     12,349.40\n",
       "     7      7,946.30  8,584.50       4,027.60     11,039.40\n",
       "     8      8,095.10  9,219.00       7,301.90      9,328.30\n",
       "     9      6,810.40  8,987.10       5,024.50     14,740.40\n",
       "     10     8,765.50 10,630.70       5,945.40     14,316.80\n",
       "     11     5,733.00  5,614.70       5,153.10      9,908.30\n",
       "     12     6,774.50  8,955.90       3,803.60     11,721.60\n",
       "2015 1      7,806.30 17,779.90       3,630.00     15,589.50\n",
       "     2      8,810.90 13,000.60       3,295.80     19,036.80\n",
       "     3      8,777.30 17,065.20       4,133.80     18,260.30\n",
       "     4     11,201.10 12,439.80       6,066.00     16,916.80\n",
       "     5     11,654.70 15,588.30       5,633.90     24,107.70\n",
       "     6     14,441.30 21,049.70       4,876.10     28,335.30\n",
       "     7     11,866.50 20,813.80       3,622.40     28,760.90\n",
       "     8     15,707.00 17,901.40       5,664.10     25,484.00\n",
       "     9     10,669.40 20,410.90       6,476.70     26,430.70\n",
       "     10    13,379.60 21,431.60       7,813.60     26,586.00\n",
       "     11    11,514.40 19,941.20       6,746.40     26,349.40\n",
       "     12    15,810.40 20,893.00       6,222.00     24,221.70\n",
       "2016 1     13,341.30 23,900.60      12,106.50     27,586.40\n",
       "     2     17,887.70 20,895.40       6,983.00     32,053.50\n",
       "     3     13,954.70 18,835.70      12,856.10     29,948.00\n",
       "     4     20,308.30 26,267.70      13,819.70     27,510.30\n",
       "     5     16,199.00 23,689.80      10,678.40     38,927.50\n",
       "     6     18,968.30 30,719.10      11,306.90     38,204.00\n",
       "     7     16,983.70 34,568.10      12,081.00     42,768.80\n",
       "     8     20,432.90 25,953.90      14,110.30     40,129.30\n",
       "     9     18,128.00 29,998.90      12,234.40     38,911.80\n",
       "     10    15,212.90 29,883.70       9,415.40     46,003.60\n",
       "     11    11,647.10 24,125.50       9,011.20     29,620.20\n",
       "     12    13,374.50 20,817.30       7,379.90     24,548.00"
      ]
     },
     "execution_count": 181,
     "metadata": {},
     "output_type": "execute_result"
    }
   ],
   "source": [
    "# Valores de la gráfica de tiempo\n",
    "\n",
    "df_03 = df_01.copy()\n",
    "df_03['year'] = pd.DatetimeIndex(df_01['Date']).year\n",
    "df_03['month'] = pd.DatetimeIndex(df_01['Date']).month\n",
    "\n",
    "df_03 = pd.pivot_table(df_03, index = ['year','month'],\n",
    "                       values = ['SalePrice'],\n",
    "                       columns = ['Country'],\n",
    "                       aggfunc = np.sum)\n",
    "df_03"
   ]
  }
 ],
 "metadata": {
  "kernelspec": {
   "display_name": "Python 3 (ipykernel)",
   "language": "python",
   "name": "python3"
  },
  "language_info": {
   "codemirror_mode": {
    "name": "ipython",
    "version": 3
   },
   "file_extension": ".py",
   "mimetype": "text/x-python",
   "name": "python",
   "nbconvert_exporter": "python",
   "pygments_lexer": "ipython3",
   "version": "3.10.8"
  }
 },
 "nbformat": 4,
 "nbformat_minor": 5
}
