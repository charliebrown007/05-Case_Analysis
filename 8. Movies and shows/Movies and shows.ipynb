{
 "cells": [
  {
   "attachments": {},
   "cell_type": "markdown",
   "metadata": {},
   "source": [
    "#### Librerías"
   ]
  },
  {
   "cell_type": "code",
   "execution_count": 1,
   "metadata": {},
   "outputs": [],
   "source": [
    "# Manipulación de datos\n",
    "import os\n",
    "import pandas as pd\n",
    "import numpy as np\n",
    "\n",
    "# Gráficos\n",
    "import matplotlib.pyplot as plt\n",
    "import seaborn as sns"
   ]
  },
  {
   "attachments": {},
   "cell_type": "markdown",
   "metadata": {},
   "source": [
    "#### Carga de datos"
   ]
  },
  {
   "attachments": {},
   "cell_type": "markdown",
   "metadata": {},
   "source": [
    "Los archivos csv se encuentran distribuidos en diferentes carpetas. Además, cada carpeta lleva el nombre de la plataforma pero los todos los archivos csv están como \"titles\""
   ]
  },
  {
   "cell_type": "code",
   "execution_count": 18,
   "metadata": {},
   "outputs": [
    {
     "name": "stdout",
     "output_type": "stream",
     "text": [
      "Variables creadas:  ['Amazon', 'Apple_TV', 'Disney', 'HBO_Max', 'NETFLIX', 'Paramount']\n"
     ]
    }
   ],
   "source": [
    "directory = r'C:\\Users\\DELL\\OneDrive\\GITHUB - Repositorios\\Datasets\\Movies and Shows'\n",
    "df_variables = []\n",
    "\n",
    "for dirpath, dirname, filename in os.walk(directory, topdown = True):\n",
    "   if len(filename) != 0:\n",
    "       var_name = dirpath.split('\\\\')[-1].replace(' ','_')\n",
    "       value = pd.read_csv(filepath_or_buffer = os.path.join(dirpath,filename[1]))\n",
    "       value['platform'] = var_name\n",
    "       globals()[var_name] = value\n",
    "       df_variables.append(var_name)\n",
    "print('Variables creadas: ',df_variables)"
   ]
  },
  {
   "attachments": {},
   "cell_type": "markdown",
   "metadata": {},
   "source": [
    "Los datos obtenidos deben concatenarse, entonces un buena práctica es verificar el nivel de similitud de las variables entre cada archivo cargado. Luego, se procederá con la concatenación de todos los archivos."
   ]
  },
  {
   "cell_type": "code",
   "execution_count": 19,
   "metadata": {},
   "outputs": [
    {
     "name": "stdout",
     "output_type": "stream",
     "text": [
      "Columnas idénticas\n"
     ]
    }
   ],
   "source": [
    "# Crear una lista que contenga listas\n",
    "aux = []\n",
    "for i in df_variables:\n",
    "    aux.append(globals()[i].columns.tolist())    \n",
    "\n",
    "\n",
    "# Comparación de los elementos en la lista\n",
    "if all(set(i) == set(aux[0]) for i in aux):\n",
    "    print(\"Columnas idénticas\")\n",
    "else:\n",
    "    print(\"Columnas diferentes\")\n",
    "    \n",
    "# Agregar una columna \n",
    "# Concatenación\n",
    "df = pd.concat(objs = [globals()[i] for i in df_variables], axis = 0, join = 'outer', ignore_index = True)"
   ]
  },
  {
   "cell_type": "code",
   "execution_count": 20,
   "metadata": {},
   "outputs": [
    {
     "name": "stdout",
     "output_type": "stream",
     "text": [
      "<class 'pandas.core.frame.DataFrame'>\n",
      "RangeIndex: 25246 entries, 0 to 25245\n",
      "Data columns (total 16 columns):\n",
      " #   Column                Non-Null Count  Dtype  \n",
      "---  ------                --------------  -----  \n",
      " 0   id                    25246 non-null  object \n",
      " 1   title                 25246 non-null  object \n",
      " 2   type                  25246 non-null  object \n",
      " 3   description           25050 non-null  object \n",
      " 4   release_year          25246 non-null  int64  \n",
      " 5   age_certification     12097 non-null  object \n",
      " 6   runtime               25246 non-null  int64  \n",
      " 7   genres                25246 non-null  object \n",
      " 8   production_countries  25246 non-null  object \n",
      " 9   seasons               5791 non-null   float64\n",
      " 10  imdb_id               23260 non-null  object \n",
      " 11  imdb_score            22646 non-null  float64\n",
      " 12  imdb_votes            22586 non-null  float64\n",
      " 13  tmdb_popularity       24519 non-null  float64\n",
      " 14  tmdb_score            22109 non-null  float64\n",
      " 15  platform              25246 non-null  object \n",
      "dtypes: float64(5), int64(2), object(9)\n",
      "memory usage: 3.1+ MB\n"
     ]
    }
   ],
   "source": [
    "df.info()"
   ]
  },
  {
   "attachments": {},
   "cell_type": "markdown",
   "metadata": {},
   "source": [
    "#### 3. Limpieza de datos"
   ]
  },
  {
   "attachments": {},
   "cell_type": "markdown",
   "metadata": {},
   "source": [
    "##### Copia de trabajo"
   ]
  },
  {
   "cell_type": "code",
   "execution_count": 152,
   "metadata": {},
   "outputs": [],
   "source": [
    "df2 = df.copy()"
   ]
  },
  {
   "cell_type": "markdown",
   "metadata": {},
   "source": [
    "##### Verificación de valores faltantes"
   ]
  },
  {
   "attachments": {},
   "cell_type": "markdown",
   "metadata": {},
   "source": [
    "**1. ¿Existen valores faltantes?**"
   ]
  },
  {
   "cell_type": "code",
   "execution_count": 22,
   "metadata": {},
   "outputs": [
    {
     "data": {
      "text/plain": [
       "seasons                 19455\n",
       "age_certification       13149\n",
       "tmdb_score               3137\n",
       "imdb_votes               2660\n",
       "imdb_score               2600\n",
       "imdb_id                  1986\n",
       "tmdb_popularity           727\n",
       "description               196\n",
       "id                          0\n",
       "title                       0\n",
       "type                        0\n",
       "release_year                0\n",
       "runtime                     0\n",
       "genres                      0\n",
       "production_countries        0\n",
       "platform                    0\n",
       "dtype: int64"
      ]
     },
     "execution_count": 22,
     "metadata": {},
     "output_type": "execute_result"
    }
   ],
   "source": [
    "# Valores faltantes\n",
    "#df2.isnull().sum().any()\n",
    "df2.isna().sum().sort_values(ascending = False)"
   ]
  },
  {
   "attachments": {},
   "cell_type": "markdown",
   "metadata": {},
   "source": [
    "**2. ¿Por qué existen tantos valores faltantes en la columna seasons? ¿Qué hay de los valores faltantes en las otras columnas?** <br/>\n",
    "Son películas, estos casos no llevan temporadas. Por otra parte, se asume que los valores faltantes no son causa de un error de registro, solamente marcan la carencia de información"
   ]
  },
  {
   "cell_type": "code",
   "execution_count": 23,
   "metadata": {},
   "outputs": [
    {
     "data": {
      "text/plain": [
       "MOVIE    19455\n",
       "Name: type, dtype: int64"
      ]
     },
     "execution_count": 23,
     "metadata": {},
     "output_type": "execute_result"
    }
   ],
   "source": [
    "df2.loc[df2['seasons'].isna(),'type'].value_counts()"
   ]
  },
  {
   "attachments": {},
   "cell_type": "markdown",
   "metadata": {},
   "source": [
    "##### Selección de variables"
   ]
  },
  {
   "attachments": {},
   "cell_type": "markdown",
   "metadata": {},
   "source": [
    "**1. ¿Qué variables serán utilizadas para el análisis?**"
   ]
  },
  {
   "cell_type": "code",
   "execution_count": 153,
   "metadata": {},
   "outputs": [],
   "source": [
    "removed_columns = ['age_certification','production_countries','imdb_id','imdb_votes','tmdb_popularity','genres','platform']\n",
    "df2.drop(columns = removed_columns, inplace = True)"
   ]
  },
  {
   "attachments": {},
   "cell_type": "markdown",
   "metadata": {},
   "source": [
    "##### Valores duplicados"
   ]
  },
  {
   "attachments": {},
   "cell_type": "markdown",
   "metadata": {},
   "source": [
    "**1. ¿Existen valores duplicados?**"
   ]
  },
  {
   "cell_type": "code",
   "execution_count": 154,
   "metadata": {},
   "outputs": [
    {
     "data": {
      "text/html": [
       "<div>\n",
       "<style scoped>\n",
       "    .dataframe tbody tr th:only-of-type {\n",
       "        vertical-align: middle;\n",
       "    }\n",
       "\n",
       "    .dataframe tbody tr th {\n",
       "        vertical-align: top;\n",
       "    }\n",
       "\n",
       "    .dataframe thead th {\n",
       "        text-align: right;\n",
       "    }\n",
       "</style>\n",
       "<table border=\"1\" class=\"dataframe\">\n",
       "  <thead>\n",
       "    <tr style=\"text-align: right;\">\n",
       "      <th></th>\n",
       "      <th>id</th>\n",
       "      <th>title</th>\n",
       "      <th>type</th>\n",
       "      <th>description</th>\n",
       "      <th>release_year</th>\n",
       "      <th>runtime</th>\n",
       "      <th>seasons</th>\n",
       "      <th>imdb_score</th>\n",
       "      <th>tmdb_score</th>\n",
       "    </tr>\n",
       "  </thead>\n",
       "  <tbody>\n",
       "    <tr>\n",
       "      <th>11057</th>\n",
       "      <td>tm100001</td>\n",
       "      <td>The Lucky Texan</td>\n",
       "      <td>MOVIE</td>\n",
       "      <td>Jerry Mason, a young Texan, and Jake Benson, a...</td>\n",
       "      <td>1934</td>\n",
       "      <td>61</td>\n",
       "      <td>NaN</td>\n",
       "      <td>5.6</td>\n",
       "      <td>4.9</td>\n",
       "    </tr>\n",
       "    <tr>\n",
       "      <th>284</th>\n",
       "      <td>tm100001</td>\n",
       "      <td>The Lucky Texan</td>\n",
       "      <td>MOVIE</td>\n",
       "      <td>Jerry Mason, a young Texan, and Jake Benson, a...</td>\n",
       "      <td>1934</td>\n",
       "      <td>61</td>\n",
       "      <td>NaN</td>\n",
       "      <td>5.6</td>\n",
       "      <td>4.9</td>\n",
       "    </tr>\n",
       "    <tr>\n",
       "      <th>9464</th>\n",
       "      <td>tm1000619</td>\n",
       "      <td>Radhe Shyam</td>\n",
       "      <td>MOVIE</td>\n",
       "      <td>Vikramaditya, a world-renowned palmist, believ...</td>\n",
       "      <td>2022</td>\n",
       "      <td>138</td>\n",
       "      <td>NaN</td>\n",
       "      <td>5.3</td>\n",
       "      <td>5.5</td>\n",
       "    </tr>\n",
       "    <tr>\n",
       "      <th>23845</th>\n",
       "      <td>tm1000619</td>\n",
       "      <td>Radhe Shyam</td>\n",
       "      <td>MOVIE</td>\n",
       "      <td>Vikramaditya, a world-renowned palmist, believ...</td>\n",
       "      <td>2022</td>\n",
       "      <td>138</td>\n",
       "      <td>NaN</td>\n",
       "      <td>5.3</td>\n",
       "      <td>5.5</td>\n",
       "    </tr>\n",
       "    <tr>\n",
       "      <th>216</th>\n",
       "      <td>tm100065</td>\n",
       "      <td>Blind Husbands</td>\n",
       "      <td>MOVIE</td>\n",
       "      <td>An Austrian military officer and rogue attempt...</td>\n",
       "      <td>1919</td>\n",
       "      <td>99</td>\n",
       "      <td>NaN</td>\n",
       "      <td>6.9</td>\n",
       "      <td>6.2</td>\n",
       "    </tr>\n",
       "  </tbody>\n",
       "</table>\n",
       "</div>"
      ],
      "text/plain": [
       "              id            title   type  \\\n",
       "11057   tm100001  The Lucky Texan  MOVIE   \n",
       "284     tm100001  The Lucky Texan  MOVIE   \n",
       "9464   tm1000619      Radhe Shyam  MOVIE   \n",
       "23845  tm1000619      Radhe Shyam  MOVIE   \n",
       "216     tm100065   Blind Husbands  MOVIE   \n",
       "\n",
       "                                             description  release_year  \\\n",
       "11057  Jerry Mason, a young Texan, and Jake Benson, a...          1934   \n",
       "284    Jerry Mason, a young Texan, and Jake Benson, a...          1934   \n",
       "9464   Vikramaditya, a world-renowned palmist, believ...          2022   \n",
       "23845  Vikramaditya, a world-renowned palmist, believ...          2022   \n",
       "216    An Austrian military officer and rogue attempt...          1919   \n",
       "\n",
       "       runtime  seasons  imdb_score  tmdb_score  \n",
       "11057       61      NaN         5.6         4.9  \n",
       "284         61      NaN         5.6         4.9  \n",
       "9464       138      NaN         5.3         5.5  \n",
       "23845      138      NaN         5.3         5.5  \n",
       "216         99      NaN         6.9         6.2  "
      ]
     },
     "execution_count": 154,
     "metadata": {},
     "output_type": "execute_result"
    }
   ],
   "source": [
    "# Nombres de columnas a comparar\n",
    "# aux = list(set(df2.columns) - set(['platform']))\n",
    "\n",
    "# Muestra e duplicados\n",
    "df2[df2.duplicated(keep = False)].sort_values(by = 'id', ascending = True).head()"
   ]
  },
  {
   "cell_type": "code",
   "execution_count": 155,
   "metadata": {},
   "outputs": [],
   "source": [
    "# Remover duplicados\n",
    "df2.drop_duplicates(keep = 'first', inplace = True, ignore_index = True)"
   ]
  },
  {
   "cell_type": "code",
   "execution_count": 159,
   "metadata": {},
   "outputs": [
    {
     "data": {
      "text/plain": [
       "False"
      ]
     },
     "execution_count": 159,
     "metadata": {},
     "output_type": "execute_result"
    }
   ],
   "source": [
    "# Los duplicados se removieron exitosamente\n",
    "df2.duplicated(keep = False).any()"
   ]
  },
  {
   "attachments": {},
   "cell_type": "markdown",
   "metadata": {},
   "source": [
    "##### Tipos de variable"
   ]
  },
  {
   "attachments": {},
   "cell_type": "markdown",
   "metadata": {},
   "source": [
    "**1. ¿Es correcto el tipo de variable asignado?** <br/>\n",
    "Todos los tipos de variables son correctos. Sin embargo, es recomendable cambiar la columna \"type\" a \"categorical\" por cuestiones de desempeño"
   ]
  },
  {
   "cell_type": "code",
   "execution_count": 163,
   "metadata": {},
   "outputs": [],
   "source": [
    "df2['type'] = df2['type'].astype('category')"
   ]
  },
  {
   "attachments": {},
   "cell_type": "markdown",
   "metadata": {},
   "source": [
    "#### 4. Análisis rápido de los datos"
   ]
  },
  {
   "cell_type": "code",
   "execution_count": 167,
   "metadata": {},
   "outputs": [
    {
     "data": {
      "text/html": [
       "<div>\n",
       "<style scoped>\n",
       "    .dataframe tbody tr th:only-of-type {\n",
       "        vertical-align: middle;\n",
       "    }\n",
       "\n",
       "    .dataframe tbody tr th {\n",
       "        vertical-align: top;\n",
       "    }\n",
       "\n",
       "    .dataframe thead th {\n",
       "        text-align: right;\n",
       "    }\n",
       "</style>\n",
       "<table border=\"1\" class=\"dataframe\">\n",
       "  <thead>\n",
       "    <tr style=\"text-align: right;\">\n",
       "      <th></th>\n",
       "      <th>id</th>\n",
       "      <th>title</th>\n",
       "      <th>type</th>\n",
       "      <th>description</th>\n",
       "      <th>release_year</th>\n",
       "      <th>runtime</th>\n",
       "      <th>seasons</th>\n",
       "      <th>imdb_score</th>\n",
       "      <th>tmdb_score</th>\n",
       "    </tr>\n",
       "  </thead>\n",
       "  <tbody>\n",
       "    <tr>\n",
       "      <th>0</th>\n",
       "      <td>tm87233</td>\n",
       "      <td>It's a Wonderful Life</td>\n",
       "      <td>MOVIE</td>\n",
       "      <td>A holiday favourite for generations...  George...</td>\n",
       "      <td>1946</td>\n",
       "      <td>130</td>\n",
       "      <td>NaN</td>\n",
       "      <td>8.6</td>\n",
       "      <td>8.261</td>\n",
       "    </tr>\n",
       "    <tr>\n",
       "      <th>1</th>\n",
       "      <td>tm143047</td>\n",
       "      <td>Duck Soup</td>\n",
       "      <td>MOVIE</td>\n",
       "      <td>Rufus T. Firefly is named president/dictator o...</td>\n",
       "      <td>1933</td>\n",
       "      <td>69</td>\n",
       "      <td>NaN</td>\n",
       "      <td>7.8</td>\n",
       "      <td>7.357</td>\n",
       "    </tr>\n",
       "    <tr>\n",
       "      <th>2</th>\n",
       "      <td>tm83884</td>\n",
       "      <td>His Girl Friday</td>\n",
       "      <td>MOVIE</td>\n",
       "      <td>Hildy, the journalist former wife of newspaper...</td>\n",
       "      <td>1940</td>\n",
       "      <td>92</td>\n",
       "      <td>NaN</td>\n",
       "      <td>7.8</td>\n",
       "      <td>7.433</td>\n",
       "    </tr>\n",
       "    <tr>\n",
       "      <th>3</th>\n",
       "      <td>ts20945</td>\n",
       "      <td>The Three Stooges</td>\n",
       "      <td>SHOW</td>\n",
       "      <td>The Three Stooges were an American vaudeville ...</td>\n",
       "      <td>1934</td>\n",
       "      <td>19</td>\n",
       "      <td>26.0</td>\n",
       "      <td>8.5</td>\n",
       "      <td>7.600</td>\n",
       "    </tr>\n",
       "    <tr>\n",
       "      <th>4</th>\n",
       "      <td>tm5012</td>\n",
       "      <td>Red River</td>\n",
       "      <td>MOVIE</td>\n",
       "      <td>Headstrong Thomas Dunson starts a thriving Tex...</td>\n",
       "      <td>1948</td>\n",
       "      <td>133</td>\n",
       "      <td>NaN</td>\n",
       "      <td>7.8</td>\n",
       "      <td>7.400</td>\n",
       "    </tr>\n",
       "  </tbody>\n",
       "</table>\n",
       "</div>"
      ],
      "text/plain": [
       "         id                  title   type  \\\n",
       "0   tm87233  It's a Wonderful Life  MOVIE   \n",
       "1  tm143047              Duck Soup  MOVIE   \n",
       "2   tm83884        His Girl Friday  MOVIE   \n",
       "3   ts20945      The Three Stooges   SHOW   \n",
       "4    tm5012              Red River  MOVIE   \n",
       "\n",
       "                                         description  release_year  runtime  \\\n",
       "0  A holiday favourite for generations...  George...          1946      130   \n",
       "1  Rufus T. Firefly is named president/dictator o...          1933       69   \n",
       "2  Hildy, the journalist former wife of newspaper...          1940       92   \n",
       "3  The Three Stooges were an American vaudeville ...          1934       19   \n",
       "4  Headstrong Thomas Dunson starts a thriving Tex...          1948      133   \n",
       "\n",
       "   seasons  imdb_score  tmdb_score  \n",
       "0      NaN         8.6       8.261  \n",
       "1      NaN         7.8       7.357  \n",
       "2      NaN         7.8       7.433  \n",
       "3     26.0         8.5       7.600  \n",
       "4      NaN         7.8       7.400  "
      ]
     },
     "execution_count": 167,
     "metadata": {},
     "output_type": "execute_result"
    }
   ],
   "source": [
    "df2.head()"
   ]
  },
  {
   "attachments": {},
   "cell_type": "markdown",
   "metadata": {},
   "source": [
    "##### Distribución de las temporadas en los shows"
   ]
  },
  {
   "cell_type": "code",
   "execution_count": 175,
   "metadata": {},
   "outputs": [
    {
     "data": {
      "text/plain": [
       "53.0"
      ]
     },
     "execution_count": 175,
     "metadata": {},
     "output_type": "execute_result"
    }
   ],
   "source": [
    "df2['seasons'].max()"
   ]
  },
  {
   "cell_type": "code",
   "execution_count": null,
   "metadata": {},
   "outputs": [],
   "source": []
  },
  {
   "cell_type": "code",
   "execution_count": 11,
   "metadata": {},
   "outputs": [
    {
     "name": "stdout",
     "output_type": "stream",
     "text": [
      "[0, 2, 4, 6, 8, 10, inf]\n"
     ]
    },
    {
     "data": {
      "text/plain": [
       "(0.0, 2.0]     4049\n",
       "(2.0, 4.0]      976\n",
       "(4.0, 6.0]      385\n",
       "(6.0, 8.0]      158\n",
       "(10.0, inf]     149\n",
       "(8.0, 10.0]      74\n",
       "Name: seasons, dtype: int64"
      ]
     },
     "execution_count": 11,
     "metadata": {},
     "output_type": "execute_result"
    }
   ],
   "source": [
    "# Alternativa 1\n",
    "# aux = [i for i in range(2,12,2)]\n",
    "# df2['seasons'].value_counts(bins = aux)\n",
    "\n",
    "\n",
    "# Alternativa 2\n",
    "aux = [i for i in range(0,12,2)]\n",
    "#aux_2 = [i for i in aux] \n",
    "aux.append(np.inf)\n",
    "print(aux)\n",
    "#intervals = pd.cut(df2['seasons'], bins = [np.NINF,5,10,15,np.inf], right = True)\n",
    "intervals = pd.cut(df2['seasons'], bins = aux, right = True).value_counts()\n",
    "intervals\n",
    "\n",
    "# Gráfico\n",
    "#sns.catplot(data = intervals.reset_index(),\n",
    "#            x = 'index', y = 'seasons', kind = 'bar',\n",
    "#            height = 4, aspect = 2)\n",
    "#plt.show()"
   ]
  },
  {
   "cell_type": "code",
   "execution_count": 12,
   "metadata": {},
   "outputs": [
    {
     "data": {
      "text/html": [
       "<div>\n",
       "<style scoped>\n",
       "    .dataframe tbody tr th:only-of-type {\n",
       "        vertical-align: middle;\n",
       "    }\n",
       "\n",
       "    .dataframe tbody tr th {\n",
       "        vertical-align: top;\n",
       "    }\n",
       "\n",
       "    .dataframe thead th {\n",
       "        text-align: right;\n",
       "    }\n",
       "</style>\n",
       "<table border=\"1\" class=\"dataframe\">\n",
       "  <thead>\n",
       "    <tr style=\"text-align: right;\">\n",
       "      <th></th>\n",
       "      <th>index</th>\n",
       "      <th>seasons</th>\n",
       "    </tr>\n",
       "  </thead>\n",
       "  <tbody>\n",
       "    <tr>\n",
       "      <th>0</th>\n",
       "      <td>(0.0, 2.0]</td>\n",
       "      <td>4049</td>\n",
       "    </tr>\n",
       "    <tr>\n",
       "      <th>1</th>\n",
       "      <td>(2.0, 4.0]</td>\n",
       "      <td>976</td>\n",
       "    </tr>\n",
       "    <tr>\n",
       "      <th>2</th>\n",
       "      <td>(4.0, 6.0]</td>\n",
       "      <td>385</td>\n",
       "    </tr>\n",
       "    <tr>\n",
       "      <th>3</th>\n",
       "      <td>(6.0, 8.0]</td>\n",
       "      <td>158</td>\n",
       "    </tr>\n",
       "    <tr>\n",
       "      <th>4</th>\n",
       "      <td>(10.0, inf]</td>\n",
       "      <td>149</td>\n",
       "    </tr>\n",
       "    <tr>\n",
       "      <th>5</th>\n",
       "      <td>(8.0, 10.0]</td>\n",
       "      <td>74</td>\n",
       "    </tr>\n",
       "  </tbody>\n",
       "</table>\n",
       "</div>"
      ],
      "text/plain": [
       "         index  seasons\n",
       "0   (0.0, 2.0]     4049\n",
       "1   (2.0, 4.0]      976\n",
       "2   (4.0, 6.0]      385\n",
       "3   (6.0, 8.0]      158\n",
       "4  (10.0, inf]      149\n",
       "5  (8.0, 10.0]       74"
      ]
     },
     "execution_count": 12,
     "metadata": {},
     "output_type": "execute_result"
    }
   ],
   "source": [
    "intervals.reset_index()"
   ]
  },
  {
   "cell_type": "code",
   "execution_count": 13,
   "metadata": {},
   "outputs": [
    {
     "data": {
      "image/png": "[encoded data removed]",
      "text/plain": [
       "<Figure size 1200x400 with 1 Axes>"
      ]
     },
     "metadata": {},
     "output_type": "display_data"
    }
   ],
   "source": [
    "sns.catplot(data = df2, x = 'seasons',\n",
    "            kind = 'count', height= 4, aspect = 3)\n",
    "plt.show()"
   ]
  },
  {
   "cell_type": "code",
   "execution_count": null,
   "metadata": {},
   "outputs": [],
   "source": []
  },
  {
   "cell_type": "code",
   "execution_count": 14,
   "metadata": {},
   "outputs": [
    {
     "data": {
      "text/plain": [
       "1    21487\n",
       "2     1851\n",
       "3       19\n",
       "Name: id, dtype: int64"
      ]
     },
     "execution_count": 14,
     "metadata": {},
     "output_type": "execute_result"
    }
   ],
   "source": [
    "# Hay 21487 id de películas con 1 aparición en el dataset\n",
    "# Hay 1851 id de películas con 2 apariciones en el dataset\n",
    "# Hay 19 id de películas con 3 apariciones en el dataset\n",
    "df2['id'].value_counts().value_counts()"
   ]
  },
  {
   "cell_type": "code",
   "execution_count": 15,
   "metadata": {},
   "outputs": [
    {
     "data": {
      "text/html": [
       "<div>\n",
       "<style scoped>\n",
       "    .dataframe tbody tr th:only-of-type {\n",
       "        vertical-align: middle;\n",
       "    }\n",
       "\n",
       "    .dataframe tbody tr th {\n",
       "        vertical-align: top;\n",
       "    }\n",
       "\n",
       "    .dataframe thead th {\n",
       "        text-align: right;\n",
       "    }\n",
       "</style>\n",
       "<table border=\"1\" class=\"dataframe\">\n",
       "  <thead>\n",
       "    <tr style=\"text-align: right;\">\n",
       "      <th></th>\n",
       "      <th>id</th>\n",
       "      <th>title</th>\n",
       "      <th>type</th>\n",
       "      <th>description</th>\n",
       "      <th>release_year</th>\n",
       "      <th>age_certification</th>\n",
       "      <th>runtime</th>\n",
       "      <th>genres</th>\n",
       "    </tr>\n",
       "  </thead>\n",
       "  <tbody>\n",
       "    <tr>\n",
       "      <th>9385</th>\n",
       "      <td>tm460993</td>\n",
       "      <td>Clifford the Big Red Dog</td>\n",
       "      <td>MOVIE</td>\n",
       "      <td>As Emily struggles to fit in at home and at sc...</td>\n",
       "      <td>2021</td>\n",
       "      <td>PG</td>\n",
       "      <td>95</td>\n",
       "      <td>['comedy', 'drama', 'family', 'fantasy', 'scif...</td>\n",
       "    </tr>\n",
       "    <tr>\n",
       "      <th>13899</th>\n",
       "      <td>tm460993</td>\n",
       "      <td>Clifford the Big Red Dog</td>\n",
       "      <td>MOVIE</td>\n",
       "      <td>As Emily struggles to fit in at home and at sc...</td>\n",
       "      <td>2021</td>\n",
       "      <td>PG</td>\n",
       "      <td>95</td>\n",
       "      <td>['comedy', 'family', 'fantasy', 'scifi', 'roma...</td>\n",
       "    </tr>\n",
       "  </tbody>\n",
       "</table>\n",
       "</div>"
      ],
      "text/plain": [
       "             id                     title   type  \\\n",
       "9385   tm460993  Clifford the Big Red Dog  MOVIE   \n",
       "13899  tm460993  Clifford the Big Red Dog  MOVIE   \n",
       "\n",
       "                                             description  release_year  \\\n",
       "9385   As Emily struggles to fit in at home and at sc...          2021   \n",
       "13899  As Emily struggles to fit in at home and at sc...          2021   \n",
       "\n",
       "      age_certification  runtime  \\\n",
       "9385                 PG       95   \n",
       "13899                PG       95   \n",
       "\n",
       "                                                  genres  \n",
       "9385   ['comedy', 'drama', 'family', 'fantasy', 'scif...  \n",
       "13899  ['comedy', 'family', 'fantasy', 'scifi', 'roma...  "
      ]
     },
     "execution_count": 15,
     "metadata": {},
     "output_type": "execute_result"
    }
   ],
   "source": [
    "aux = df2.iloc[:,0:8].drop_duplicates(keep = False)\n",
    "aux[aux['id'].duplicated(keep = False)].sort_values(by = 'id', ascending = True)"
   ]
  },
  {
   "cell_type": "code",
   "execution_count": 16,
   "metadata": {},
   "outputs": [
    {
     "data": {
      "text/plain": [
       "(3749, 16)"
      ]
     },
     "execution_count": 16,
     "metadata": {},
     "output_type": "execute_result"
    }
   ],
   "source": [
    "df2[df2.iloc[:,0:-1].duplicated(keep = False)].sort_values(by = ['id'], ascending = True).shape"
   ]
  }
 ],
 "metadata": {
  "kernelspec": {
   "display_name": "DS-Env",
   "language": "python",
   "name": "python3"
  },
  "language_info": {
   "codemirror_mode": {
    "name": "ipython",
    "version": 3
   },
   "file_extension": ".py",
   "mimetype": "text/x-python",
   "name": "python",
   "nbconvert_exporter": "python",
   "pygments_lexer": "ipython3",
   "version": "3.10.10"
  },
  "orig_nbformat": 4
 },
 "nbformat": 4,
 "nbformat_minor": 2
}
