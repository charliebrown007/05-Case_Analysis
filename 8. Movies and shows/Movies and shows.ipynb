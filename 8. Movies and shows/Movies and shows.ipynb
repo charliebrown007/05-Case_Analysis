{
 "cells": [
  {
   "attachments": {},
   "cell_type": "markdown",
   "metadata": {},
   "source": [
    "#### Librerías"
   ]
  },
  {
   "cell_type": "code",
   "execution_count": 1,
   "metadata": {},
   "outputs": [],
   "source": [
    "# Manipulación de datos\n",
    "import os\n",
    "import pandas as pd\n",
    "import numpy as np\n",
    "\n",
    "# Gráficos\n",
    "import matplotlib.pyplot as plt\n",
    "import seaborn as sns"
   ]
  },
  {
   "attachments": {},
   "cell_type": "markdown",
   "metadata": {},
   "source": [
    "#### Carga de datos"
   ]
  },
  {
   "attachments": {},
   "cell_type": "markdown",
   "metadata": {},
   "source": [
    "Los archivos csv se encuentran distribuidos en diferentes carpetas. Además, cada carpeta lleva el nombre de la plataforma pero los todos los archivos csv están como \"titles\""
   ]
  },
  {
   "cell_type": "code",
   "execution_count": 2,
   "metadata": {},
   "outputs": [
    {
     "name": "stdout",
     "output_type": "stream",
     "text": [
      "Variables creadas:  ['Amazon', 'Apple_TV', 'Disney', 'HBO_Max', 'NETFLIX', 'Paramount']\n"
     ]
    }
   ],
   "source": [
    "directory = r'C:\\Users\\DELL\\OneDrive\\GITHUB - Repositorios\\Datasets\\Movies and Shows'\n",
    "df_variables = []\n",
    "\n",
    "for dirpath, dirname, filename in os.walk(directory, topdown = True):\n",
    "   if len(filename) != 0:\n",
    "       var_name = dirpath.split('\\\\')[-1].replace(' ','_')\n",
    "       value = pd.read_csv(filepath_or_buffer = os.path.join(dirpath,filename[1]))\n",
    "       value['origin'] = var_name\n",
    "       globals()[var_name] = value\n",
    "       df_variables.append(var_name)\n",
    "print('Variables creadas: ',df_variables)"
   ]
  },
  {
   "attachments": {},
   "cell_type": "markdown",
   "metadata": {},
   "source": [
    "Los datos obtenidos deben concatenarse, entonces un buena práctica es verificar el nivel de similitud de las variables entre cada archivo cargado. Luego, se procederá con la concatenación de todos los archivos."
   ]
  },
  {
   "cell_type": "code",
   "execution_count": 3,
   "metadata": {},
   "outputs": [
    {
     "name": "stdout",
     "output_type": "stream",
     "text": [
      "Columnas idénticas\n"
     ]
    }
   ],
   "source": [
    "# Crear una lista que contenga listas\n",
    "aux = []\n",
    "for i in df_variables:\n",
    "    aux.append(globals()[i].columns.tolist())    \n",
    "\n",
    "\n",
    "# Comparación de los elementos en la lista\n",
    "if all(set(i) == set(aux[0]) for i in aux):\n",
    "    print(\"Columnas idénticas\")\n",
    "else:\n",
    "    print(\"Columnas diferentes\")\n",
    "    \n",
    "# Agregar una columna \n",
    "# Concatenación\n",
    "df = pd.concat(objs = [globals()[i] for i in df_variables], axis = 0, join = 'outer', ignore_index = True)"
   ]
  },
  {
   "cell_type": "code",
   "execution_count": 4,
   "metadata": {},
   "outputs": [
    {
     "name": "stdout",
     "output_type": "stream",
     "text": [
      "<class 'pandas.core.frame.DataFrame'>\n",
      "RangeIndex: 25246 entries, 0 to 25245\n",
      "Data columns (total 16 columns):\n",
      " #   Column                Non-Null Count  Dtype  \n",
      "---  ------                --------------  -----  \n",
      " 0   id                    25246 non-null  object \n",
      " 1   title                 25246 non-null  object \n",
      " 2   type                  25246 non-null  object \n",
      " 3   description           25050 non-null  object \n",
      " 4   release_year          25246 non-null  int64  \n",
      " 5   age_certification     12097 non-null  object \n",
      " 6   runtime               25246 non-null  int64  \n",
      " 7   genres                25246 non-null  object \n",
      " 8   production_countries  25246 non-null  object \n",
      " 9   seasons               5791 non-null   float64\n",
      " 10  imdb_id               23260 non-null  object \n",
      " 11  imdb_score            22646 non-null  float64\n",
      " 12  imdb_votes            22586 non-null  float64\n",
      " 13  tmdb_popularity       24519 non-null  float64\n",
      " 14  tmdb_score            22109 non-null  float64\n",
      " 15  origin                25246 non-null  object \n",
      "dtypes: float64(5), int64(2), object(9)\n",
      "memory usage: 3.1+ MB\n"
     ]
    }
   ],
   "source": [
    "df.info()"
   ]
  },
  {
   "attachments": {},
   "cell_type": "markdown",
   "metadata": {},
   "source": [
    "#### 3. Limpieza de datos"
   ]
  },
  {
   "attachments": {},
   "cell_type": "markdown",
   "metadata": {},
   "source": [
    "##### Copia de trabajo"
   ]
  },
  {
   "cell_type": "code",
   "execution_count": 5,
   "metadata": {},
   "outputs": [],
   "source": [
    "df2 = df.copy()"
   ]
  },
  {
   "cell_type": "markdown",
   "metadata": {},
   "source": [
    "##### Verificación de valores faltantes"
   ]
  },
  {
   "attachments": {},
   "cell_type": "markdown",
   "metadata": {},
   "source": [
    "**1. ¿Existen valores faltantes?**"
   ]
  },
  {
   "cell_type": "code",
   "execution_count": 39,
   "metadata": {},
   "outputs": [
    {
     "data": {
      "text/plain": [
       "seasons                 19455\n",
       "age_certification       13149\n",
       "tmdb_score               3137\n",
       "imdb_votes               2660\n",
       "imdb_score               2600\n",
       "imdb_id                  1986\n",
       "tmdb_popularity           727\n",
       "description               196\n",
       "id                          0\n",
       "title                       0\n",
       "type                        0\n",
       "release_year                0\n",
       "runtime                     0\n",
       "genres                      0\n",
       "production_countries        0\n",
       "origin                      0\n",
       "dtype: int64"
      ]
     },
     "execution_count": 39,
     "metadata": {},
     "output_type": "execute_result"
    }
   ],
   "source": [
    "# Valores faltantes\n",
    "#df2.isnull().sum().any()\n",
    "df2.isna().sum().sort_values(ascending = False)"
   ]
  },
  {
   "attachments": {},
   "cell_type": "markdown",
   "metadata": {},
   "source": [
    "**2. ¿Por qué existen tantos valores faltantes en la columna seasons?** <br/>\n",
    "Son películas, estos casos no llevan temporadas"
   ]
  },
  {
   "cell_type": "code",
   "execution_count": 32,
   "metadata": {},
   "outputs": [
    {
     "data": {
      "text/plain": [
       "MOVIE    19455\n",
       "Name: type, dtype: int64"
      ]
     },
     "execution_count": 32,
     "metadata": {},
     "output_type": "execute_result"
    }
   ],
   "source": [
    "df2.loc[df2['seasons'].isna(),'type'].value_counts()"
   ]
  },
  {
   "attachments": {},
   "cell_type": "markdown",
   "metadata": {},
   "source": [
    "**3. ¿Qué hay de los valores faltantes en las otras columnas?**<br/>\n",
    "Se asume que los valores faltantes no son causa de un error de registro, solamente marcan la carencia de información"
   ]
  },
  {
   "cell_type": "markdown",
   "metadata": {},
   "source": [
    "removed_columns = []"
   ]
  },
  {
   "cell_type": "markdown",
   "metadata": {},
   "source": [
    "df2.columns"
   ]
  },
  {
   "cell_type": "code",
   "execution_count": 42,
   "metadata": {},
   "outputs": [
    {
     "data": {
      "text/html": [
       "<div>\n",
       "<style scoped>\n",
       "    .dataframe tbody tr th:only-of-type {\n",
       "        vertical-align: middle;\n",
       "    }\n",
       "\n",
       "    .dataframe tbody tr th {\n",
       "        vertical-align: top;\n",
       "    }\n",
       "\n",
       "    .dataframe thead th {\n",
       "        text-align: right;\n",
       "    }\n",
       "</style>\n",
       "<table border=\"1\" class=\"dataframe\">\n",
       "  <thead>\n",
       "    <tr style=\"text-align: right;\">\n",
       "      <th></th>\n",
       "      <th>id</th>\n",
       "      <th>title</th>\n",
       "      <th>type</th>\n",
       "      <th>description</th>\n",
       "      <th>release_year</th>\n",
       "      <th>age_certification</th>\n",
       "      <th>runtime</th>\n",
       "      <th>genres</th>\n",
       "      <th>production_countries</th>\n",
       "      <th>seasons</th>\n",
       "      <th>imdb_id</th>\n",
       "      <th>imdb_score</th>\n",
       "      <th>imdb_votes</th>\n",
       "      <th>tmdb_popularity</th>\n",
       "      <th>tmdb_score</th>\n",
       "      <th>origin</th>\n",
       "    </tr>\n",
       "  </thead>\n",
       "  <tbody>\n",
       "    <tr>\n",
       "      <th>0</th>\n",
       "      <td>tm87233</td>\n",
       "      <td>It's a Wonderful Life</td>\n",
       "      <td>MOVIE</td>\n",
       "      <td>A holiday favourite for generations...  George...</td>\n",
       "      <td>1946</td>\n",
       "      <td>PG</td>\n",
       "      <td>130</td>\n",
       "      <td>['drama', 'family', 'fantasy', 'romance', 'com...</td>\n",
       "      <td>['US']</td>\n",
       "      <td>NaN</td>\n",
       "      <td>tt0038650</td>\n",
       "      <td>8.6</td>\n",
       "      <td>467766.0</td>\n",
       "      <td>27.611</td>\n",
       "      <td>8.261</td>\n",
       "      <td>Amazon</td>\n",
       "    </tr>\n",
       "    <tr>\n",
       "      <th>1</th>\n",
       "      <td>tm143047</td>\n",
       "      <td>Duck Soup</td>\n",
       "      <td>MOVIE</td>\n",
       "      <td>Rufus T. Firefly is named president/dictator o...</td>\n",
       "      <td>1933</td>\n",
       "      <td>NaN</td>\n",
       "      <td>69</td>\n",
       "      <td>['comedy', 'war']</td>\n",
       "      <td>['US']</td>\n",
       "      <td>NaN</td>\n",
       "      <td>tt0023969</td>\n",
       "      <td>7.8</td>\n",
       "      <td>60933.0</td>\n",
       "      <td>9.013</td>\n",
       "      <td>7.357</td>\n",
       "      <td>Amazon</td>\n",
       "    </tr>\n",
       "    <tr>\n",
       "      <th>2</th>\n",
       "      <td>tm83884</td>\n",
       "      <td>His Girl Friday</td>\n",
       "      <td>MOVIE</td>\n",
       "      <td>Hildy, the journalist former wife of newspaper...</td>\n",
       "      <td>1940</td>\n",
       "      <td>NaN</td>\n",
       "      <td>92</td>\n",
       "      <td>['drama', 'romance', 'comedy']</td>\n",
       "      <td>['US']</td>\n",
       "      <td>NaN</td>\n",
       "      <td>tt0032599</td>\n",
       "      <td>7.8</td>\n",
       "      <td>60244.0</td>\n",
       "      <td>14.759</td>\n",
       "      <td>7.433</td>\n",
       "      <td>Amazon</td>\n",
       "    </tr>\n",
       "    <tr>\n",
       "      <th>3</th>\n",
       "      <td>ts20945</td>\n",
       "      <td>The Three Stooges</td>\n",
       "      <td>SHOW</td>\n",
       "      <td>The Three Stooges were an American vaudeville ...</td>\n",
       "      <td>1934</td>\n",
       "      <td>TV-PG</td>\n",
       "      <td>19</td>\n",
       "      <td>['comedy', 'family']</td>\n",
       "      <td>['US']</td>\n",
       "      <td>26.0</td>\n",
       "      <td>tt0850645</td>\n",
       "      <td>8.5</td>\n",
       "      <td>1149.0</td>\n",
       "      <td>15.424</td>\n",
       "      <td>7.600</td>\n",
       "      <td>Amazon</td>\n",
       "    </tr>\n",
       "    <tr>\n",
       "      <th>4</th>\n",
       "      <td>tm5012</td>\n",
       "      <td>Red River</td>\n",
       "      <td>MOVIE</td>\n",
       "      <td>Headstrong Thomas Dunson starts a thriving Tex...</td>\n",
       "      <td>1948</td>\n",
       "      <td>NaN</td>\n",
       "      <td>133</td>\n",
       "      <td>['western', 'drama', 'romance', 'action']</td>\n",
       "      <td>['US']</td>\n",
       "      <td>NaN</td>\n",
       "      <td>tt0040724</td>\n",
       "      <td>7.8</td>\n",
       "      <td>32210.0</td>\n",
       "      <td>12.400</td>\n",
       "      <td>7.400</td>\n",
       "      <td>Amazon</td>\n",
       "    </tr>\n",
       "  </tbody>\n",
       "</table>\n",
       "</div>"
      ],
      "text/plain": [
       "         id                  title   type  \\\n",
       "0   tm87233  It's a Wonderful Life  MOVIE   \n",
       "1  tm143047              Duck Soup  MOVIE   \n",
       "2   tm83884        His Girl Friday  MOVIE   \n",
       "3   ts20945      The Three Stooges   SHOW   \n",
       "4    tm5012              Red River  MOVIE   \n",
       "\n",
       "                                         description  release_year  \\\n",
       "0  A holiday favourite for generations...  George...          1946   \n",
       "1  Rufus T. Firefly is named president/dictator o...          1933   \n",
       "2  Hildy, the journalist former wife of newspaper...          1940   \n",
       "3  The Three Stooges were an American vaudeville ...          1934   \n",
       "4  Headstrong Thomas Dunson starts a thriving Tex...          1948   \n",
       "\n",
       "  age_certification  runtime  \\\n",
       "0                PG      130   \n",
       "1               NaN       69   \n",
       "2               NaN       92   \n",
       "3             TV-PG       19   \n",
       "4               NaN      133   \n",
       "\n",
       "                                              genres production_countries  \\\n",
       "0  ['drama', 'family', 'fantasy', 'romance', 'com...               ['US']   \n",
       "1                                  ['comedy', 'war']               ['US']   \n",
       "2                     ['drama', 'romance', 'comedy']               ['US']   \n",
       "3                               ['comedy', 'family']               ['US']   \n",
       "4          ['western', 'drama', 'romance', 'action']               ['US']   \n",
       "\n",
       "   seasons    imdb_id  imdb_score  imdb_votes  tmdb_popularity  tmdb_score  \\\n",
       "0      NaN  tt0038650         8.6    467766.0           27.611       8.261   \n",
       "1      NaN  tt0023969         7.8     60933.0            9.013       7.357   \n",
       "2      NaN  tt0032599         7.8     60244.0           14.759       7.433   \n",
       "3     26.0  tt0850645         8.5      1149.0           15.424       7.600   \n",
       "4      NaN  tt0040724         7.8     32210.0           12.400       7.400   \n",
       "\n",
       "   origin  \n",
       "0  Amazon  \n",
       "1  Amazon  \n",
       "2  Amazon  \n",
       "3  Amazon  \n",
       "4  Amazon  "
      ]
     },
     "execution_count": 42,
     "metadata": {},
     "output_type": "execute_result"
    }
   ],
   "source": [
    "df2.head()"
   ]
  },
  {
   "cell_type": "code",
   "execution_count": 44,
   "metadata": {},
   "outputs": [
    {
     "data": {
      "text/html": [
       "<div>\n",
       "<style scoped>\n",
       "    .dataframe tbody tr th:only-of-type {\n",
       "        vertical-align: middle;\n",
       "    }\n",
       "\n",
       "    .dataframe tbody tr th {\n",
       "        vertical-align: top;\n",
       "    }\n",
       "\n",
       "    .dataframe thead th {\n",
       "        text-align: right;\n",
       "    }\n",
       "</style>\n",
       "<table border=\"1\" class=\"dataframe\">\n",
       "  <thead>\n",
       "    <tr style=\"text-align: right;\">\n",
       "      <th></th>\n",
       "      <th>id</th>\n",
       "      <th>title</th>\n",
       "      <th>type</th>\n",
       "      <th>description</th>\n",
       "      <th>release_year</th>\n",
       "      <th>age_certification</th>\n",
       "      <th>runtime</th>\n",
       "      <th>genres</th>\n",
       "      <th>production_countries</th>\n",
       "      <th>seasons</th>\n",
       "      <th>imdb_id</th>\n",
       "      <th>imdb_score</th>\n",
       "      <th>imdb_votes</th>\n",
       "      <th>tmdb_popularity</th>\n",
       "      <th>tmdb_score</th>\n",
       "      <th>origin</th>\n",
       "    </tr>\n",
       "  </thead>\n",
       "  <tbody>\n",
       "    <tr>\n",
       "      <th>43</th>\n",
       "      <td>tm119274</td>\n",
       "      <td>The Outlaw</td>\n",
       "      <td>MOVIE</td>\n",
       "      <td>Newly appointed sheriff Pat Garrett is pleased...</td>\n",
       "      <td>1943</td>\n",
       "      <td>NaN</td>\n",
       "      <td>116</td>\n",
       "      <td>['western']</td>\n",
       "      <td>['US']</td>\n",
       "      <td>NaN</td>\n",
       "      <td>NaN</td>\n",
       "      <td>NaN</td>\n",
       "      <td>NaN</td>\n",
       "      <td>9.658</td>\n",
       "      <td>5.500</td>\n",
       "      <td>Amazon</td>\n",
       "    </tr>\n",
       "    <tr>\n",
       "      <th>187</th>\n",
       "      <td>tm16906</td>\n",
       "      <td>San Pietro</td>\n",
       "      <td>MOVIE</td>\n",
       "      <td>This documentary movie is about the battle of ...</td>\n",
       "      <td>1945</td>\n",
       "      <td>NaN</td>\n",
       "      <td>38</td>\n",
       "      <td>['war', 'documentation']</td>\n",
       "      <td>['US']</td>\n",
       "      <td>NaN</td>\n",
       "      <td>NaN</td>\n",
       "      <td>NaN</td>\n",
       "      <td>NaN</td>\n",
       "      <td>4.270</td>\n",
       "      <td>6.200</td>\n",
       "      <td>Amazon</td>\n",
       "    </tr>\n",
       "    <tr>\n",
       "      <th>349</th>\n",
       "      <td>tm57795</td>\n",
       "      <td>The Stolen Jools</td>\n",
       "      <td>MOVIE</td>\n",
       "      <td>Famous actress Norma Shearer's jewels are stol...</td>\n",
       "      <td>1931</td>\n",
       "      <td>NaN</td>\n",
       "      <td>20</td>\n",
       "      <td>['comedy']</td>\n",
       "      <td>['US']</td>\n",
       "      <td>NaN</td>\n",
       "      <td>NaN</td>\n",
       "      <td>NaN</td>\n",
       "      <td>NaN</td>\n",
       "      <td>2.516</td>\n",
       "      <td>5.500</td>\n",
       "      <td>Amazon</td>\n",
       "    </tr>\n",
       "    <tr>\n",
       "      <th>428</th>\n",
       "      <td>tm96331</td>\n",
       "      <td>La Cucaracha</td>\n",
       "      <td>MOVIE</td>\n",
       "      <td>Señor Martinez, a famous theater owner, visits...</td>\n",
       "      <td>1934</td>\n",
       "      <td>NaN</td>\n",
       "      <td>20</td>\n",
       "      <td>['music', 'comedy']</td>\n",
       "      <td>['US']</td>\n",
       "      <td>NaN</td>\n",
       "      <td>NaN</td>\n",
       "      <td>NaN</td>\n",
       "      <td>NaN</td>\n",
       "      <td>1.821</td>\n",
       "      <td>5.100</td>\n",
       "      <td>Amazon</td>\n",
       "    </tr>\n",
       "    <tr>\n",
       "      <th>655</th>\n",
       "      <td>tm15681</td>\n",
       "      <td>Why We Fight: War Comes to America</td>\n",
       "      <td>MOVIE</td>\n",
       "      <td>The seventh and final film of Frank Capra's Wh...</td>\n",
       "      <td>1945</td>\n",
       "      <td>NaN</td>\n",
       "      <td>70</td>\n",
       "      <td>['documentation', 'war']</td>\n",
       "      <td>['US']</td>\n",
       "      <td>NaN</td>\n",
       "      <td>NaN</td>\n",
       "      <td>NaN</td>\n",
       "      <td>NaN</td>\n",
       "      <td>1.122</td>\n",
       "      <td>6.893</td>\n",
       "      <td>Amazon</td>\n",
       "    </tr>\n",
       "    <tr>\n",
       "      <th>...</th>\n",
       "      <td>...</td>\n",
       "      <td>...</td>\n",
       "      <td>...</td>\n",
       "      <td>...</td>\n",
       "      <td>...</td>\n",
       "      <td>...</td>\n",
       "      <td>...</td>\n",
       "      <td>...</td>\n",
       "      <td>...</td>\n",
       "      <td>...</td>\n",
       "      <td>...</td>\n",
       "      <td>...</td>\n",
       "      <td>...</td>\n",
       "      <td>...</td>\n",
       "      <td>...</td>\n",
       "      <td>...</td>\n",
       "    </tr>\n",
       "    <tr>\n",
       "      <th>25055</th>\n",
       "      <td>tm1307793</td>\n",
       "      <td>A Whole Lifetime with Jamie Demetriou</td>\n",
       "      <td>MOVIE</td>\n",
       "      <td>A womb with a view. Awkward adulthood. The not...</td>\n",
       "      <td>2023</td>\n",
       "      <td>NaN</td>\n",
       "      <td>52</td>\n",
       "      <td>['comedy']</td>\n",
       "      <td>['GB']</td>\n",
       "      <td>NaN</td>\n",
       "      <td>NaN</td>\n",
       "      <td>NaN</td>\n",
       "      <td>NaN</td>\n",
       "      <td>10.065</td>\n",
       "      <td>6.700</td>\n",
       "      <td>NETFLIX</td>\n",
       "    </tr>\n",
       "    <tr>\n",
       "      <th>25057</th>\n",
       "      <td>tm1301942</td>\n",
       "      <td>Copenhagen Cowboy: Nightcall with Nicolas Wind...</td>\n",
       "      <td>MOVIE</td>\n",
       "      <td>Show creator Nicolas Winding Refn and his team...</td>\n",
       "      <td>2023</td>\n",
       "      <td>R</td>\n",
       "      <td>27</td>\n",
       "      <td>['documentation']</td>\n",
       "      <td>[]</td>\n",
       "      <td>NaN</td>\n",
       "      <td>NaN</td>\n",
       "      <td>NaN</td>\n",
       "      <td>NaN</td>\n",
       "      <td>4.081</td>\n",
       "      <td>5.000</td>\n",
       "      <td>NETFLIX</td>\n",
       "    </tr>\n",
       "    <tr>\n",
       "      <th>25062</th>\n",
       "      <td>tm1312425</td>\n",
       "      <td>Have a Nice Day!</td>\n",
       "      <td>MOVIE</td>\n",
       "      <td>A retired radio host bags groceries to earn mo...</td>\n",
       "      <td>2023</td>\n",
       "      <td>NaN</td>\n",
       "      <td>93</td>\n",
       "      <td>['drama', 'comedy']</td>\n",
       "      <td>['MX']</td>\n",
       "      <td>NaN</td>\n",
       "      <td>NaN</td>\n",
       "      <td>NaN</td>\n",
       "      <td>NaN</td>\n",
       "      <td>27.135</td>\n",
       "      <td>6.000</td>\n",
       "      <td>NETFLIX</td>\n",
       "    </tr>\n",
       "    <tr>\n",
       "      <th>25071</th>\n",
       "      <td>tm1303784</td>\n",
       "      <td>عبود في البيت</td>\n",
       "      <td>MOVIE</td>\n",
       "      <td>Two young boys must work together to stop robb...</td>\n",
       "      <td>2023</td>\n",
       "      <td>NaN</td>\n",
       "      <td>81</td>\n",
       "      <td>['family', 'comedy']</td>\n",
       "      <td>['KW']</td>\n",
       "      <td>NaN</td>\n",
       "      <td>NaN</td>\n",
       "      <td>NaN</td>\n",
       "      <td>NaN</td>\n",
       "      <td>3.351</td>\n",
       "      <td>2.000</td>\n",
       "      <td>NETFLIX</td>\n",
       "    </tr>\n",
       "    <tr>\n",
       "      <th>25217</th>\n",
       "      <td>ts314123</td>\n",
       "      <td>Harriet the Spy</td>\n",
       "      <td>SHOW</td>\n",
       "      <td>Outspoken and perpetually curious. That’s 11-y...</td>\n",
       "      <td>2021</td>\n",
       "      <td>NaN</td>\n",
       "      <td>23</td>\n",
       "      <td>['animation']</td>\n",
       "      <td>['US']</td>\n",
       "      <td>2.0</td>\n",
       "      <td>NaN</td>\n",
       "      <td>NaN</td>\n",
       "      <td>NaN</td>\n",
       "      <td>16.744</td>\n",
       "      <td>7.000</td>\n",
       "      <td>Paramount</td>\n",
       "    </tr>\n",
       "  </tbody>\n",
       "</table>\n",
       "<p>1986 rows × 16 columns</p>\n",
       "</div>"
      ],
      "text/plain": [
       "              id                                              title   type  \\\n",
       "43      tm119274                                         The Outlaw  MOVIE   \n",
       "187      tm16906                                         San Pietro  MOVIE   \n",
       "349      tm57795                                   The Stolen Jools  MOVIE   \n",
       "428      tm96331                                       La Cucaracha  MOVIE   \n",
       "655      tm15681                 Why We Fight: War Comes to America  MOVIE   \n",
       "...          ...                                                ...    ...   \n",
       "25055  tm1307793              A Whole Lifetime with Jamie Demetriou  MOVIE   \n",
       "25057  tm1301942  Copenhagen Cowboy: Nightcall with Nicolas Wind...  MOVIE   \n",
       "25062  tm1312425                                   Have a Nice Day!  MOVIE   \n",
       "25071  tm1303784                                      عبود في البيت  MOVIE   \n",
       "25217   ts314123                                    Harriet the Spy   SHOW   \n",
       "\n",
       "                                             description  release_year  \\\n",
       "43     Newly appointed sheriff Pat Garrett is pleased...          1943   \n",
       "187    This documentary movie is about the battle of ...          1945   \n",
       "349    Famous actress Norma Shearer's jewels are stol...          1931   \n",
       "428    Señor Martinez, a famous theater owner, visits...          1934   \n",
       "655    The seventh and final film of Frank Capra's Wh...          1945   \n",
       "...                                                  ...           ...   \n",
       "25055  A womb with a view. Awkward adulthood. The not...          2023   \n",
       "25057  Show creator Nicolas Winding Refn and his team...          2023   \n",
       "25062  A retired radio host bags groceries to earn mo...          2023   \n",
       "25071  Two young boys must work together to stop robb...          2023   \n",
       "25217  Outspoken and perpetually curious. That’s 11-y...          2021   \n",
       "\n",
       "      age_certification  runtime                    genres  \\\n",
       "43                  NaN      116               ['western']   \n",
       "187                 NaN       38  ['war', 'documentation']   \n",
       "349                 NaN       20                ['comedy']   \n",
       "428                 NaN       20       ['music', 'comedy']   \n",
       "655                 NaN       70  ['documentation', 'war']   \n",
       "...                 ...      ...                       ...   \n",
       "25055               NaN       52                ['comedy']   \n",
       "25057                 R       27         ['documentation']   \n",
       "25062               NaN       93       ['drama', 'comedy']   \n",
       "25071               NaN       81      ['family', 'comedy']   \n",
       "25217               NaN       23             ['animation']   \n",
       "\n",
       "      production_countries  seasons imdb_id  imdb_score  imdb_votes  \\\n",
       "43                  ['US']      NaN     NaN         NaN         NaN   \n",
       "187                 ['US']      NaN     NaN         NaN         NaN   \n",
       "349                 ['US']      NaN     NaN         NaN         NaN   \n",
       "428                 ['US']      NaN     NaN         NaN         NaN   \n",
       "655                 ['US']      NaN     NaN         NaN         NaN   \n",
       "...                    ...      ...     ...         ...         ...   \n",
       "25055               ['GB']      NaN     NaN         NaN         NaN   \n",
       "25057                   []      NaN     NaN         NaN         NaN   \n",
       "25062               ['MX']      NaN     NaN         NaN         NaN   \n",
       "25071               ['KW']      NaN     NaN         NaN         NaN   \n",
       "25217               ['US']      2.0     NaN         NaN         NaN   \n",
       "\n",
       "       tmdb_popularity  tmdb_score     origin  \n",
       "43               9.658       5.500     Amazon  \n",
       "187              4.270       6.200     Amazon  \n",
       "349              2.516       5.500     Amazon  \n",
       "428              1.821       5.100     Amazon  \n",
       "655              1.122       6.893     Amazon  \n",
       "...                ...         ...        ...  \n",
       "25055           10.065       6.700    NETFLIX  \n",
       "25057            4.081       5.000    NETFLIX  \n",
       "25062           27.135       6.000    NETFLIX  \n",
       "25071            3.351       2.000    NETFLIX  \n",
       "25217           16.744       7.000  Paramount  \n",
       "\n",
       "[1986 rows x 16 columns]"
      ]
     },
     "execution_count": 44,
     "metadata": {},
     "output_type": "execute_result"
    }
   ],
   "source": [
    "df2.loc[df2['imdb_id'].isnull()]"
   ]
  },
  {
   "attachments": {},
   "cell_type": "markdown",
   "metadata": {},
   "source": [
    "**Pregunta 2. ¿Cuál es la distribución de la temporadas en los shows?** <br/>"
   ]
  },
  {
   "cell_type": "code",
   "execution_count": 11,
   "metadata": {},
   "outputs": [
    {
     "data": {
      "text/html": [
       "<div>\n",
       "<style scoped>\n",
       "    .dataframe tbody tr th:only-of-type {\n",
       "        vertical-align: middle;\n",
       "    }\n",
       "\n",
       "    .dataframe tbody tr th {\n",
       "        vertical-align: top;\n",
       "    }\n",
       "\n",
       "    .dataframe thead th {\n",
       "        text-align: right;\n",
       "    }\n",
       "</style>\n",
       "<table border=\"1\" class=\"dataframe\">\n",
       "  <thead>\n",
       "    <tr style=\"text-align: right;\">\n",
       "      <th></th>\n",
       "      <th>id</th>\n",
       "      <th>title</th>\n",
       "      <th>type</th>\n",
       "      <th>description</th>\n",
       "      <th>release_year</th>\n",
       "      <th>age_certification</th>\n",
       "      <th>runtime</th>\n",
       "      <th>genres</th>\n",
       "      <th>production_countries</th>\n",
       "      <th>seasons</th>\n",
       "      <th>imdb_id</th>\n",
       "      <th>imdb_score</th>\n",
       "      <th>imdb_votes</th>\n",
       "      <th>tmdb_popularity</th>\n",
       "      <th>tmdb_score</th>\n",
       "    </tr>\n",
       "  </thead>\n",
       "  <tbody>\n",
       "    <tr>\n",
       "      <th>1799</th>\n",
       "      <td>ts29459</td>\n",
       "      <td>Shark Week</td>\n",
       "      <td>SHOW</td>\n",
       "      <td>The Discovery Channel's Shark Week, first broa...</td>\n",
       "      <td>1987</td>\n",
       "      <td>TV-14</td>\n",
       "      <td>44</td>\n",
       "      <td>['documentation']</td>\n",
       "      <td>['US']</td>\n",
       "      <td>53.0</td>\n",
       "      <td>tt1146333</td>\n",
       "      <td>7.8</td>\n",
       "      <td>382.0</td>\n",
       "      <td>13.518</td>\n",
       "      <td>7.318</td>\n",
       "    </tr>\n",
       "    <tr>\n",
       "      <th>16090</th>\n",
       "      <td>ts22243</td>\n",
       "      <td>Sesame Street</td>\n",
       "      <td>SHOW</td>\n",
       "      <td>On a special inner city street, the inhabitant...</td>\n",
       "      <td>1969</td>\n",
       "      <td>TV-Y</td>\n",
       "      <td>51</td>\n",
       "      <td>['comedy', 'animation', 'family', 'fantasy', '...</td>\n",
       "      <td>['US']</td>\n",
       "      <td>53.0</td>\n",
       "      <td>tt0299380</td>\n",
       "      <td>8.1</td>\n",
       "      <td>14391.0</td>\n",
       "      <td>123.513</td>\n",
       "      <td>7.008</td>\n",
       "    </tr>\n",
       "  </tbody>\n",
       "</table>\n",
       "</div>"
      ],
      "text/plain": [
       "            id          title  type  \\\n",
       "1799   ts29459     Shark Week  SHOW   \n",
       "16090  ts22243  Sesame Street  SHOW   \n",
       "\n",
       "                                             description  release_year  \\\n",
       "1799   The Discovery Channel's Shark Week, first broa...          1987   \n",
       "16090  On a special inner city street, the inhabitant...          1969   \n",
       "\n",
       "      age_certification  runtime  \\\n",
       "1799              TV-14       44   \n",
       "16090              TV-Y       51   \n",
       "\n",
       "                                                  genres production_countries  \\\n",
       "1799                                   ['documentation']               ['US']   \n",
       "16090  ['comedy', 'animation', 'family', 'fantasy', '...               ['US']   \n",
       "\n",
       "       seasons    imdb_id  imdb_score  imdb_votes  tmdb_popularity  tmdb_score  \n",
       "1799      53.0  tt1146333         7.8       382.0           13.518       7.318  \n",
       "16090     53.0  tt0299380         8.1     14391.0          123.513       7.008  "
      ]
     },
     "execution_count": 11,
     "metadata": {},
     "output_type": "execute_result"
    }
   ],
   "source": [
    "df2.loc[df2['seasons'] == df2['seasons'].max()]"
   ]
  },
  {
   "cell_type": "code",
   "execution_count": 75,
   "metadata": {},
   "outputs": [
    {
     "name": "stdout",
     "output_type": "stream",
     "text": [
      "[0, 2, 4, 6, 8, 10, inf]\n"
     ]
    },
    {
     "data": {
      "text/plain": [
       "(0.0, 2.0]     4049\n",
       "(2.0, 4.0]      976\n",
       "(4.0, 6.0]      385\n",
       "(6.0, 8.0]      158\n",
       "(10.0, inf]     149\n",
       "(8.0, 10.0]      74\n",
       "Name: seasons, dtype: int64"
      ]
     },
     "execution_count": 75,
     "metadata": {},
     "output_type": "execute_result"
    }
   ],
   "source": [
    "# Alternativa 1\n",
    "# aux = [i for i in range(2,12,2)]\n",
    "# df2['seasons'].value_counts(bins = aux)\n",
    "\n",
    "\n",
    "# Alternativa 2\n",
    "aux = [i for i in range(0,12,2)]\n",
    "#aux_2 = [i for i in aux] \n",
    "aux.append(np.inf)\n",
    "print(aux)\n",
    "#intervals = pd.cut(df2['seasons'], bins = [np.NINF,5,10,15,np.inf], right = True)\n",
    "intervals = pd.cut(df2['seasons'], bins = aux, right = True).value_counts()\n",
    "intervals\n",
    "\n",
    "# Gráfico\n",
    "#sns.catplot(data = intervals.reset_index(),\n",
    "#            x = 'index', y = 'seasons', kind = 'bar',\n",
    "#            height = 4, aspect = 2)\n",
    "#plt.show()"
   ]
  },
  {
   "cell_type": "code",
   "execution_count": 59,
   "metadata": {},
   "outputs": [
    {
     "data": {
      "text/html": [
       "<div>\n",
       "<style scoped>\n",
       "    .dataframe tbody tr th:only-of-type {\n",
       "        vertical-align: middle;\n",
       "    }\n",
       "\n",
       "    .dataframe tbody tr th {\n",
       "        vertical-align: top;\n",
       "    }\n",
       "\n",
       "    .dataframe thead th {\n",
       "        text-align: right;\n",
       "    }\n",
       "</style>\n",
       "<table border=\"1\" class=\"dataframe\">\n",
       "  <thead>\n",
       "    <tr style=\"text-align: right;\">\n",
       "      <th></th>\n",
       "      <th>index</th>\n",
       "      <th>seasons</th>\n",
       "    </tr>\n",
       "  </thead>\n",
       "  <tbody>\n",
       "    <tr>\n",
       "      <th>0</th>\n",
       "      <td>(0, 2]</td>\n",
       "      <td>4049</td>\n",
       "    </tr>\n",
       "    <tr>\n",
       "      <th>1</th>\n",
       "      <td>(2, 4]</td>\n",
       "      <td>976</td>\n",
       "    </tr>\n",
       "    <tr>\n",
       "      <th>2</th>\n",
       "      <td>(4, 6]</td>\n",
       "      <td>385</td>\n",
       "    </tr>\n",
       "    <tr>\n",
       "      <th>3</th>\n",
       "      <td>(6, 8]</td>\n",
       "      <td>158</td>\n",
       "    </tr>\n",
       "    <tr>\n",
       "      <th>4</th>\n",
       "      <td>(8, 10]</td>\n",
       "      <td>74</td>\n",
       "    </tr>\n",
       "  </tbody>\n",
       "</table>\n",
       "</div>"
      ],
      "text/plain": [
       "     index  seasons\n",
       "0   (0, 2]     4049\n",
       "1   (2, 4]      976\n",
       "2   (4, 6]      385\n",
       "3   (6, 8]      158\n",
       "4  (8, 10]       74"
      ]
     },
     "execution_count": 59,
     "metadata": {},
     "output_type": "execute_result"
    }
   ],
   "source": [
    "intervals.reset_index()"
   ]
  },
  {
   "cell_type": "code",
   "execution_count": 61,
   "metadata": {},
   "outputs": [
    {
     "data": {
      "image/png": "[encoded data removed]",
      "text/plain": [
       "<Figure size 1200x400 with 1 Axes>"
      ]
     },
     "metadata": {},
     "output_type": "display_data"
    }
   ],
   "source": [
    "sns.catplot(data = df2, x = 'seasons',\n",
    "            kind = 'count', height= 4, aspect = 3)\n",
    "plt.show()"
   ]
  },
  {
   "cell_type": "code",
   "execution_count": null,
   "metadata": {},
   "outputs": [],
   "source": []
  },
  {
   "cell_type": "code",
   "execution_count": null,
   "metadata": {},
   "outputs": [
    {
     "data": {
      "text/plain": [
       "1    21487\n",
       "2     1851\n",
       "3       19\n",
       "Name: id, dtype: int64"
      ]
     },
     "metadata": {},
     "output_type": "display_data"
    }
   ],
   "source": [
    "# Hay 21487 id de películas con 1 aparición en el dataset\n",
    "# Hay 1851 id de películas con 2 apariciones en el dataset\n",
    "# Hay 19 id de películas con 3 apariciones en el dataset\n",
    "df2['id'].value_counts().value_counts()"
   ]
  },
  {
   "cell_type": "code",
   "execution_count": null,
   "metadata": {},
   "outputs": [
    {
     "data": {
      "text/html": [
       "<div>\n",
       "<style scoped>\n",
       "    .dataframe tbody tr th:only-of-type {\n",
       "        vertical-align: middle;\n",
       "    }\n",
       "\n",
       "    .dataframe tbody tr th {\n",
       "        vertical-align: top;\n",
       "    }\n",
       "\n",
       "    .dataframe thead th {\n",
       "        text-align: right;\n",
       "    }\n",
       "</style>\n",
       "<table border=\"1\" class=\"dataframe\">\n",
       "  <thead>\n",
       "    <tr style=\"text-align: right;\">\n",
       "      <th></th>\n",
       "      <th>id</th>\n",
       "      <th>title</th>\n",
       "      <th>type</th>\n",
       "      <th>description</th>\n",
       "      <th>release_year</th>\n",
       "      <th>age_certification</th>\n",
       "      <th>runtime</th>\n",
       "      <th>genres</th>\n",
       "    </tr>\n",
       "  </thead>\n",
       "  <tbody>\n",
       "    <tr>\n",
       "      <th>9385</th>\n",
       "      <td>tm460993</td>\n",
       "      <td>Clifford the Big Red Dog</td>\n",
       "      <td>MOVIE</td>\n",
       "      <td>As Emily struggles to fit in at home and at sc...</td>\n",
       "      <td>2021</td>\n",
       "      <td>PG</td>\n",
       "      <td>95</td>\n",
       "      <td>['comedy', 'drama', 'family', 'fantasy', 'scif...</td>\n",
       "    </tr>\n",
       "    <tr>\n",
       "      <th>13899</th>\n",
       "      <td>tm460993</td>\n",
       "      <td>Clifford the Big Red Dog</td>\n",
       "      <td>MOVIE</td>\n",
       "      <td>As Emily struggles to fit in at home and at sc...</td>\n",
       "      <td>2021</td>\n",
       "      <td>PG</td>\n",
       "      <td>95</td>\n",
       "      <td>['comedy', 'family', 'fantasy', 'scifi', 'roma...</td>\n",
       "    </tr>\n",
       "  </tbody>\n",
       "</table>\n",
       "</div>"
      ],
      "text/plain": [
       "             id                     title   type  \\\n",
       "9385   tm460993  Clifford the Big Red Dog  MOVIE   \n",
       "13899  tm460993  Clifford the Big Red Dog  MOVIE   \n",
       "\n",
       "                                             description  release_year  \\\n",
       "9385   As Emily struggles to fit in at home and at sc...          2021   \n",
       "13899  As Emily struggles to fit in at home and at sc...          2021   \n",
       "\n",
       "      age_certification  runtime  \\\n",
       "9385                 PG       95   \n",
       "13899                PG       95   \n",
       "\n",
       "                                                  genres  \n",
       "9385   ['comedy', 'drama', 'family', 'fantasy', 'scif...  \n",
       "13899  ['comedy', 'family', 'fantasy', 'scifi', 'roma...  "
      ]
     },
     "metadata": {},
     "output_type": "display_data"
    }
   ],
   "source": [
    "aux = df2.iloc[:,0:8].drop_duplicates(keep = False)\n",
    "aux[aux['id'].duplicated(keep = False)].sort_values(by = 'id', ascending = True)"
   ]
  },
  {
   "cell_type": "code",
   "execution_count": null,
   "metadata": {},
   "outputs": [
    {
     "data": {
      "text/plain": [
       "(3749, 16)"
      ]
     },
     "metadata": {},
     "output_type": "display_data"
    }
   ],
   "source": [
    "df2[df2.iloc[:,0:-1].duplicated(keep = False)].sort_values(by = ['id'], ascending = True).shape"
   ]
  }
 ],
 "metadata": {
  "kernelspec": {
   "display_name": "DS-Env",
   "language": "python",
   "name": "python3"
  },
  "language_info": {
   "codemirror_mode": {
    "name": "ipython",
    "version": 3
   },
   "file_extension": ".py",
   "mimetype": "text/x-python",
   "name": "python",
   "nbconvert_exporter": "python",
   "pygments_lexer": "ipython3",
   "version": "3.10.10"
  },
  "orig_nbformat": 4
 },
 "nbformat": 4,
 "nbformat_minor": 2
}
