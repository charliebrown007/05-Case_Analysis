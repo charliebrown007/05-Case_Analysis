{
 "cells": [
  {
   "attachments": {},
   "cell_type": "markdown",
   "metadata": {},
   "source": [
    "#### Librerías"
   ]
  },
  {
   "cell_type": "code",
   "execution_count": 1,
   "metadata": {},
   "outputs": [],
   "source": [
    "# Manipulación de datos\n",
    "import os\n",
    "import pandas as pd\n",
    "import numpy as np\n",
    "\n",
    "# Gráficos\n",
    "import matplotlib.pyplot as plt\n",
    "import seaborn as sns"
   ]
  },
  {
   "attachments": {},
   "cell_type": "markdown",
   "metadata": {},
   "source": [
    "#### Carga de datos"
   ]
  },
  {
   "attachments": {},
   "cell_type": "markdown",
   "metadata": {},
   "source": [
    "Los archivos csv se encuentran distribuidos en diferentes carpetas. Además, cada carpeta lleva el nombre de la plataforma pero los todos los archivos csv están como \"titles\""
   ]
  },
  {
   "cell_type": "code",
   "execution_count": 2,
   "metadata": {},
   "outputs": [
    {
     "name": "stdout",
     "output_type": "stream",
     "text": [
      "Variables creadas:  ['Amazon', 'Apple_TV', 'Disney', 'HBO_Max', 'NETFLIX', 'Paramount']\n"
     ]
    }
   ],
   "source": [
    "directory = r'C:\\Users\\DELL\\OneDrive\\GITHUB - Repositorios\\Datasets\\Movies and Shows'\n",
    "df_variables = []\n",
    "\n",
    "for dirpath, dirname, filename in os.walk(directory, topdown = True):\n",
    "   if len(filename) != 0:\n",
    "       var_name = dirpath.split('\\\\')[-1].replace(' ','_')\n",
    "       value = pd.read_csv(filepath_or_buffer = os.path.join(dirpath,filename[1]))\n",
    "       value['platform'] = var_name\n",
    "       globals()[var_name] = value\n",
    "       df_variables.append(var_name)\n",
    "print('Variables creadas: ',df_variables)"
   ]
  },
  {
   "attachments": {},
   "cell_type": "markdown",
   "metadata": {},
   "source": [
    "Los datos obtenidos deben concatenarse, entonces un buena práctica es verificar el nivel de similitud de las variables entre cada archivo cargado. Luego, se procederá con la concatenación de todos los archivos."
   ]
  },
  {
   "cell_type": "code",
   "execution_count": 3,
   "metadata": {},
   "outputs": [
    {
     "name": "stdout",
     "output_type": "stream",
     "text": [
      "Columnas idénticas\n"
     ]
    }
   ],
   "source": [
    "# Crear una lista que contenga listas\n",
    "aux = []\n",
    "for i in df_variables:\n",
    "    aux.append(globals()[i].columns.tolist())    \n",
    "\n",
    "\n",
    "# Comparación de los elementos en la lista\n",
    "if all(set(i) == set(aux[0]) for i in aux):\n",
    "    print(\"Columnas idénticas\")\n",
    "else:\n",
    "    print(\"Columnas diferentes\")\n",
    "    \n",
    "# Agregar una columna \n",
    "# Concatenación\n",
    "df = pd.concat(objs = [globals()[i] for i in df_variables], axis = 0, join = 'outer', ignore_index = True)"
   ]
  },
  {
   "cell_type": "code",
   "execution_count": 4,
   "metadata": {},
   "outputs": [
    {
     "name": "stdout",
     "output_type": "stream",
     "text": [
      "<class 'pandas.core.frame.DataFrame'>\n",
      "RangeIndex: 25246 entries, 0 to 25245\n",
      "Data columns (total 16 columns):\n",
      " #   Column                Non-Null Count  Dtype  \n",
      "---  ------                --------------  -----  \n",
      " 0   id                    25246 non-null  object \n",
      " 1   title                 25246 non-null  object \n",
      " 2   type                  25246 non-null  object \n",
      " 3   description           25050 non-null  object \n",
      " 4   release_year          25246 non-null  int64  \n",
      " 5   age_certification     12097 non-null  object \n",
      " 6   runtime               25246 non-null  int64  \n",
      " 7   genres                25246 non-null  object \n",
      " 8   production_countries  25246 non-null  object \n",
      " 9   seasons               5791 non-null   float64\n",
      " 10  imdb_id               23260 non-null  object \n",
      " 11  imdb_score            22646 non-null  float64\n",
      " 12  imdb_votes            22586 non-null  float64\n",
      " 13  tmdb_popularity       24519 non-null  float64\n",
      " 14  tmdb_score            22109 non-null  float64\n",
      " 15  platform              25246 non-null  object \n",
      "dtypes: float64(5), int64(2), object(9)\n",
      "memory usage: 3.1+ MB\n"
     ]
    }
   ],
   "source": [
    "df.info()"
   ]
  },
  {
   "attachments": {},
   "cell_type": "markdown",
   "metadata": {},
   "source": [
    "#### 3. Limpieza de datos"
   ]
  },
  {
   "attachments": {},
   "cell_type": "markdown",
   "metadata": {},
   "source": [
    "##### Copia de trabajo"
   ]
  },
  {
   "cell_type": "code",
   "execution_count": 5,
   "metadata": {},
   "outputs": [],
   "source": [
    "df2 = df.copy()"
   ]
  },
  {
   "cell_type": "markdown",
   "metadata": {},
   "source": [
    "##### Verificación de valores faltantes"
   ]
  },
  {
   "attachments": {},
   "cell_type": "markdown",
   "metadata": {},
   "source": [
    "**1. ¿Existen valores faltantes?**"
   ]
  },
  {
   "cell_type": "code",
   "execution_count": 6,
   "metadata": {},
   "outputs": [
    {
     "data": {
      "text/plain": [
       "seasons                 19455\n",
       "age_certification       13149\n",
       "tmdb_score               3137\n",
       "imdb_votes               2660\n",
       "imdb_score               2600\n",
       "imdb_id                  1986\n",
       "tmdb_popularity           727\n",
       "description               196\n",
       "id                          0\n",
       "title                       0\n",
       "type                        0\n",
       "release_year                0\n",
       "runtime                     0\n",
       "genres                      0\n",
       "production_countries        0\n",
       "platform                    0\n",
       "dtype: int64"
      ]
     },
     "execution_count": 6,
     "metadata": {},
     "output_type": "execute_result"
    }
   ],
   "source": [
    "# Valores faltantes\n",
    "#df2.isnull().sum().any()\n",
    "df2.isna().sum().sort_values(ascending = False)"
   ]
  },
  {
   "attachments": {},
   "cell_type": "markdown",
   "metadata": {},
   "source": [
    "**2. ¿Por qué existen tantos valores faltantes en la columna seasons? ¿Qué hay de los valores faltantes en las otras columnas?** <br/>\n",
    "Son películas, estos casos no llevan temporadas. Por otra parte, se asume que los valores faltantes no son causa de un error de registro, solamente marcan la carencia de información"
   ]
  },
  {
   "cell_type": "code",
   "execution_count": 7,
   "metadata": {},
   "outputs": [
    {
     "data": {
      "text/plain": [
       "MOVIE    19455\n",
       "Name: type, dtype: int64"
      ]
     },
     "execution_count": 7,
     "metadata": {},
     "output_type": "execute_result"
    }
   ],
   "source": [
    "df2.loc[df2['seasons'].isna(),'type'].value_counts()"
   ]
  },
  {
   "attachments": {},
   "cell_type": "markdown",
   "metadata": {},
   "source": [
    "##### Selección de variables"
   ]
  },
  {
   "attachments": {},
   "cell_type": "markdown",
   "metadata": {},
   "source": [
    "**1. ¿Qué variables serán utilizadas para el análisis?**"
   ]
  },
  {
   "cell_type": "code",
   "execution_count": 8,
   "metadata": {},
   "outputs": [],
   "source": [
    "removed_columns = ['age_certification','production_countries','imdb_id','imdb_votes','tmdb_popularity','genres','platform']\n",
    "df2.drop(columns = removed_columns, inplace = True)"
   ]
  },
  {
   "attachments": {},
   "cell_type": "markdown",
   "metadata": {},
   "source": [
    "##### Valores duplicados"
   ]
  },
  {
   "attachments": {},
   "cell_type": "markdown",
   "metadata": {},
   "source": [
    "**1. ¿Existen valores duplicados?**"
   ]
  },
  {
   "cell_type": "code",
   "execution_count": 9,
   "metadata": {},
   "outputs": [
    {
     "data": {
      "text/html": [
       "<div>\n",
       "<style scoped>\n",
       "    .dataframe tbody tr th:only-of-type {\n",
       "        vertical-align: middle;\n",
       "    }\n",
       "\n",
       "    .dataframe tbody tr th {\n",
       "        vertical-align: top;\n",
       "    }\n",
       "\n",
       "    .dataframe thead th {\n",
       "        text-align: right;\n",
       "    }\n",
       "</style>\n",
       "<table border=\"1\" class=\"dataframe\">\n",
       "  <thead>\n",
       "    <tr style=\"text-align: right;\">\n",
       "      <th></th>\n",
       "      <th>id</th>\n",
       "      <th>title</th>\n",
       "      <th>type</th>\n",
       "      <th>description</th>\n",
       "      <th>release_year</th>\n",
       "      <th>runtime</th>\n",
       "      <th>seasons</th>\n",
       "      <th>imdb_score</th>\n",
       "      <th>tmdb_score</th>\n",
       "    </tr>\n",
       "  </thead>\n",
       "  <tbody>\n",
       "    <tr>\n",
       "      <th>11057</th>\n",
       "      <td>tm100001</td>\n",
       "      <td>The Lucky Texan</td>\n",
       "      <td>MOVIE</td>\n",
       "      <td>Jerry Mason, a young Texan, and Jake Benson, a...</td>\n",
       "      <td>1934</td>\n",
       "      <td>61</td>\n",
       "      <td>NaN</td>\n",
       "      <td>5.6</td>\n",
       "      <td>4.9</td>\n",
       "    </tr>\n",
       "    <tr>\n",
       "      <th>284</th>\n",
       "      <td>tm100001</td>\n",
       "      <td>The Lucky Texan</td>\n",
       "      <td>MOVIE</td>\n",
       "      <td>Jerry Mason, a young Texan, and Jake Benson, a...</td>\n",
       "      <td>1934</td>\n",
       "      <td>61</td>\n",
       "      <td>NaN</td>\n",
       "      <td>5.6</td>\n",
       "      <td>4.9</td>\n",
       "    </tr>\n",
       "    <tr>\n",
       "      <th>9464</th>\n",
       "      <td>tm1000619</td>\n",
       "      <td>Radhe Shyam</td>\n",
       "      <td>MOVIE</td>\n",
       "      <td>Vikramaditya, a world-renowned palmist, believ...</td>\n",
       "      <td>2022</td>\n",
       "      <td>138</td>\n",
       "      <td>NaN</td>\n",
       "      <td>5.3</td>\n",
       "      <td>5.5</td>\n",
       "    </tr>\n",
       "    <tr>\n",
       "      <th>23845</th>\n",
       "      <td>tm1000619</td>\n",
       "      <td>Radhe Shyam</td>\n",
       "      <td>MOVIE</td>\n",
       "      <td>Vikramaditya, a world-renowned palmist, believ...</td>\n",
       "      <td>2022</td>\n",
       "      <td>138</td>\n",
       "      <td>NaN</td>\n",
       "      <td>5.3</td>\n",
       "      <td>5.5</td>\n",
       "    </tr>\n",
       "    <tr>\n",
       "      <th>216</th>\n",
       "      <td>tm100065</td>\n",
       "      <td>Blind Husbands</td>\n",
       "      <td>MOVIE</td>\n",
       "      <td>An Austrian military officer and rogue attempt...</td>\n",
       "      <td>1919</td>\n",
       "      <td>99</td>\n",
       "      <td>NaN</td>\n",
       "      <td>6.9</td>\n",
       "      <td>6.2</td>\n",
       "    </tr>\n",
       "  </tbody>\n",
       "</table>\n",
       "</div>"
      ],
      "text/plain": [
       "              id            title   type  \\\n",
       "11057   tm100001  The Lucky Texan  MOVIE   \n",
       "284     tm100001  The Lucky Texan  MOVIE   \n",
       "9464   tm1000619      Radhe Shyam  MOVIE   \n",
       "23845  tm1000619      Radhe Shyam  MOVIE   \n",
       "216     tm100065   Blind Husbands  MOVIE   \n",
       "\n",
       "                                             description  release_year  \\\n",
       "11057  Jerry Mason, a young Texan, and Jake Benson, a...          1934   \n",
       "284    Jerry Mason, a young Texan, and Jake Benson, a...          1934   \n",
       "9464   Vikramaditya, a world-renowned palmist, believ...          2022   \n",
       "23845  Vikramaditya, a world-renowned palmist, believ...          2022   \n",
       "216    An Austrian military officer and rogue attempt...          1919   \n",
       "\n",
       "       runtime  seasons  imdb_score  tmdb_score  \n",
       "11057       61      NaN         5.6         4.9  \n",
       "284         61      NaN         5.6         4.9  \n",
       "9464       138      NaN         5.3         5.5  \n",
       "23845      138      NaN         5.3         5.5  \n",
       "216         99      NaN         6.9         6.2  "
      ]
     },
     "execution_count": 9,
     "metadata": {},
     "output_type": "execute_result"
    }
   ],
   "source": [
    "# Nombres de columnas a comparar\n",
    "# aux = list(set(df2.columns) - set(['platform']))\n",
    "\n",
    "# Muestra e duplicados\n",
    "df2[df2.duplicated(keep = False)].sort_values(by = 'id', ascending = True).head()"
   ]
  },
  {
   "cell_type": "code",
   "execution_count": 10,
   "metadata": {},
   "outputs": [],
   "source": [
    "# Remover duplicados\n",
    "df2.drop_duplicates(keep = 'first', inplace = True, ignore_index = True)"
   ]
  },
  {
   "cell_type": "code",
   "execution_count": 11,
   "metadata": {},
   "outputs": [
    {
     "data": {
      "text/plain": [
       "False"
      ]
     },
     "execution_count": 11,
     "metadata": {},
     "output_type": "execute_result"
    }
   ],
   "source": [
    "# Los duplicados se removieron exitosamente\n",
    "df2.duplicated(keep = False).any()"
   ]
  },
  {
   "attachments": {},
   "cell_type": "markdown",
   "metadata": {},
   "source": [
    "##### Tipos de variable"
   ]
  },
  {
   "attachments": {},
   "cell_type": "markdown",
   "metadata": {},
   "source": [
    "**1. ¿Es correcto el tipo de variable asignado?** <br/>\n",
    "Todos los tipos de variables son correctos. Sin embargo, es recomendable cambiar la columna \"type\" a \"categorical\" por cuestiones de desempeño"
   ]
  },
  {
   "cell_type": "code",
   "execution_count": 12,
   "metadata": {},
   "outputs": [],
   "source": [
    "df2['type'] = df2['type'].astype('category')"
   ]
  },
  {
   "attachments": {},
   "cell_type": "markdown",
   "metadata": {},
   "source": [
    "#### 4. Análisis rápido de los datos"
   ]
  },
  {
   "cell_type": "code",
   "execution_count": 13,
   "metadata": {},
   "outputs": [
    {
     "data": {
      "text/html": [
       "<div>\n",
       "<style scoped>\n",
       "    .dataframe tbody tr th:only-of-type {\n",
       "        vertical-align: middle;\n",
       "    }\n",
       "\n",
       "    .dataframe tbody tr th {\n",
       "        vertical-align: top;\n",
       "    }\n",
       "\n",
       "    .dataframe thead th {\n",
       "        text-align: right;\n",
       "    }\n",
       "</style>\n",
       "<table border=\"1\" class=\"dataframe\">\n",
       "  <thead>\n",
       "    <tr style=\"text-align: right;\">\n",
       "      <th></th>\n",
       "      <th>id</th>\n",
       "      <th>title</th>\n",
       "      <th>type</th>\n",
       "      <th>description</th>\n",
       "      <th>release_year</th>\n",
       "      <th>runtime</th>\n",
       "      <th>seasons</th>\n",
       "      <th>imdb_score</th>\n",
       "      <th>tmdb_score</th>\n",
       "    </tr>\n",
       "  </thead>\n",
       "  <tbody>\n",
       "    <tr>\n",
       "      <th>0</th>\n",
       "      <td>tm87233</td>\n",
       "      <td>It's a Wonderful Life</td>\n",
       "      <td>MOVIE</td>\n",
       "      <td>A holiday favourite for generations...  George...</td>\n",
       "      <td>1946</td>\n",
       "      <td>130</td>\n",
       "      <td>NaN</td>\n",
       "      <td>8.6</td>\n",
       "      <td>8.261</td>\n",
       "    </tr>\n",
       "    <tr>\n",
       "      <th>1</th>\n",
       "      <td>tm143047</td>\n",
       "      <td>Duck Soup</td>\n",
       "      <td>MOVIE</td>\n",
       "      <td>Rufus T. Firefly is named president/dictator o...</td>\n",
       "      <td>1933</td>\n",
       "      <td>69</td>\n",
       "      <td>NaN</td>\n",
       "      <td>7.8</td>\n",
       "      <td>7.357</td>\n",
       "    </tr>\n",
       "    <tr>\n",
       "      <th>2</th>\n",
       "      <td>tm83884</td>\n",
       "      <td>His Girl Friday</td>\n",
       "      <td>MOVIE</td>\n",
       "      <td>Hildy, the journalist former wife of newspaper...</td>\n",
       "      <td>1940</td>\n",
       "      <td>92</td>\n",
       "      <td>NaN</td>\n",
       "      <td>7.8</td>\n",
       "      <td>7.433</td>\n",
       "    </tr>\n",
       "    <tr>\n",
       "      <th>3</th>\n",
       "      <td>ts20945</td>\n",
       "      <td>The Three Stooges</td>\n",
       "      <td>SHOW</td>\n",
       "      <td>The Three Stooges were an American vaudeville ...</td>\n",
       "      <td>1934</td>\n",
       "      <td>19</td>\n",
       "      <td>26.0</td>\n",
       "      <td>8.5</td>\n",
       "      <td>7.600</td>\n",
       "    </tr>\n",
       "    <tr>\n",
       "      <th>4</th>\n",
       "      <td>tm5012</td>\n",
       "      <td>Red River</td>\n",
       "      <td>MOVIE</td>\n",
       "      <td>Headstrong Thomas Dunson starts a thriving Tex...</td>\n",
       "      <td>1948</td>\n",
       "      <td>133</td>\n",
       "      <td>NaN</td>\n",
       "      <td>7.8</td>\n",
       "      <td>7.400</td>\n",
       "    </tr>\n",
       "  </tbody>\n",
       "</table>\n",
       "</div>"
      ],
      "text/plain": [
       "         id                  title   type  \\\n",
       "0   tm87233  It's a Wonderful Life  MOVIE   \n",
       "1  tm143047              Duck Soup  MOVIE   \n",
       "2   tm83884        His Girl Friday  MOVIE   \n",
       "3   ts20945      The Three Stooges   SHOW   \n",
       "4    tm5012              Red River  MOVIE   \n",
       "\n",
       "                                         description  release_year  runtime  \\\n",
       "0  A holiday favourite for generations...  George...          1946      130   \n",
       "1  Rufus T. Firefly is named president/dictator o...          1933       69   \n",
       "2  Hildy, the journalist former wife of newspaper...          1940       92   \n",
       "3  The Three Stooges were an American vaudeville ...          1934       19   \n",
       "4  Headstrong Thomas Dunson starts a thriving Tex...          1948      133   \n",
       "\n",
       "   seasons  imdb_score  tmdb_score  \n",
       "0      NaN         8.6       8.261  \n",
       "1      NaN         7.8       7.357  \n",
       "2      NaN         7.8       7.433  \n",
       "3     26.0         8.5       7.600  \n",
       "4      NaN         7.8       7.400  "
      ]
     },
     "execution_count": 13,
     "metadata": {},
     "output_type": "execute_result"
    }
   ],
   "source": [
    "df2.head()"
   ]
  },
  {
   "attachments": {},
   "cell_type": "markdown",
   "metadata": {},
   "source": [
    "##### Distribución de las temporadas en los shows"
   ]
  },
  {
   "cell_type": "code",
   "execution_count": 17,
   "metadata": {},
   "outputs": [],
   "source": [
    "df_shows = (df2\n",
    "            .dropna(subset = ['seasons'], axis = 0, how = 'all')\n",
    "            .query(\"type == 'SHOW'\"))\n",
    "\n",
    "aux = [i for i in range(1,17,2)]\n",
    "aux.append(np.inf)\n",
    "\n",
    "data_plot = pd.cut(x = df_shows['seasons'], bins = aux, right = False).value_counts().sort_index().reset_index(name = 'count')"
   ]
  },
  {
   "cell_type": "code",
   "execution_count": 51,
   "metadata": {},
   "outputs": [
    {
     "data": {
      "image/png": "[encoded data removed]",
      "text/plain": [
       "<Figure size 720x400 with 1 Axes>"
      ]
     },
     "metadata": {},
     "output_type": "display_data"
    }
   ],
   "source": [
    "# Estilo del gráfico\n",
    "sns.set_style('ticks')\n",
    "\n",
    "# Gráfico\n",
    "plot = sns.catplot(data = data_plot, x = 'index', y = 'count',\n",
    "                   kind = 'bar', height = 4, aspect= 1.8, palette = 'cividis')\n",
    "\n",
    "# Detalles estéticos\n",
    "plt.title('Distribución de temporadas',loc = 'left', size = 12, fontstyle = 'italic', fontweight = 'bold')\n",
    "plt.xlabel('')\n",
    "plt.ylabel('Cantidad')\n",
    "plt.ylim(0,4500)\n",
    "sns.despine(offset = 5, bottom = True)\n",
    "plt.tick_params(bottom = False)\n",
    "\n",
    "# Adicionar etiquetas de datos\n",
    "for index, row in data_plot.iterrows():\n",
    "    plot.ax.text(index, row['count'] + 150, row['count'], ha='center',\n",
    "                 bbox = dict(facecolor = 'lightgray', edgecolor = 'none', alpha = 0.5))\n",
    "\n",
    "plt.show()"
   ]
  },
  {
   "cell_type": "code",
   "execution_count": 52,
   "metadata": {},
   "outputs": [
    {
     "data": {
      "image/png": "[encoded data removed]",
      "text/plain": [
       "<Figure size 600x400 with 1 Axes>"
      ]
     },
     "metadata": {},
     "output_type": "display_data"
    }
   ],
   "source": [
    "df_shows = (df2\n",
    "            .dropna(subset = ['seasons'], axis = 0, how = 'all')\n",
    "            .query(\"type == 'SHOW'\"))\n",
    "\n",
    "\n",
    "# Estilo\n",
    "sns.set_style('ticks')\n",
    "\n",
    "# Gráfico\n",
    "sns.displot(data = df_shows, x = 'seasons', kind = 'kde', height = 4, aspect = 1.5, color = '#064273')\n",
    "\n",
    "# Detalles estéticos\n",
    "plt.title('Distribución de temporadas',loc = 'left', size = 12, fontstyle = 'italic', fontweight = 'bold')\n",
    "plt.xticks(range(0,60,5))\n",
    "\n",
    "plt.show()\n"
   ]
  },
  {
   "attachments": {},
   "cell_type": "markdown",
   "metadata": {},
   "source": [
    "##### Relación entre IMBD y TMBD"
   ]
  },
  {
   "cell_type": "code",
   "execution_count": 53,
   "metadata": {},
   "outputs": [
    {
     "data": {
      "text/html": [
       "<div>\n",
       "<style scoped>\n",
       "    .dataframe tbody tr th:only-of-type {\n",
       "        vertical-align: middle;\n",
       "    }\n",
       "\n",
       "    .dataframe tbody tr th {\n",
       "        vertical-align: top;\n",
       "    }\n",
       "\n",
       "    .dataframe thead th {\n",
       "        text-align: right;\n",
       "    }\n",
       "</style>\n",
       "<table border=\"1\" class=\"dataframe\">\n",
       "  <thead>\n",
       "    <tr style=\"text-align: right;\">\n",
       "      <th></th>\n",
       "      <th>id</th>\n",
       "      <th>title</th>\n",
       "      <th>type</th>\n",
       "      <th>description</th>\n",
       "      <th>release_year</th>\n",
       "      <th>runtime</th>\n",
       "      <th>seasons</th>\n",
       "      <th>imdb_score</th>\n",
       "      <th>tmdb_score</th>\n",
       "    </tr>\n",
       "  </thead>\n",
       "  <tbody>\n",
       "    <tr>\n",
       "      <th>0</th>\n",
       "      <td>tm87233</td>\n",
       "      <td>It's a Wonderful Life</td>\n",
       "      <td>MOVIE</td>\n",
       "      <td>A holiday favourite for generations...  George...</td>\n",
       "      <td>1946</td>\n",
       "      <td>130</td>\n",
       "      <td>NaN</td>\n",
       "      <td>8.6</td>\n",
       "      <td>8.261</td>\n",
       "    </tr>\n",
       "    <tr>\n",
       "      <th>1</th>\n",
       "      <td>tm143047</td>\n",
       "      <td>Duck Soup</td>\n",
       "      <td>MOVIE</td>\n",
       "      <td>Rufus T. Firefly is named president/dictator o...</td>\n",
       "      <td>1933</td>\n",
       "      <td>69</td>\n",
       "      <td>NaN</td>\n",
       "      <td>7.8</td>\n",
       "      <td>7.357</td>\n",
       "    </tr>\n",
       "    <tr>\n",
       "      <th>2</th>\n",
       "      <td>tm83884</td>\n",
       "      <td>His Girl Friday</td>\n",
       "      <td>MOVIE</td>\n",
       "      <td>Hildy, the journalist former wife of newspaper...</td>\n",
       "      <td>1940</td>\n",
       "      <td>92</td>\n",
       "      <td>NaN</td>\n",
       "      <td>7.8</td>\n",
       "      <td>7.433</td>\n",
       "    </tr>\n",
       "    <tr>\n",
       "      <th>3</th>\n",
       "      <td>ts20945</td>\n",
       "      <td>The Three Stooges</td>\n",
       "      <td>SHOW</td>\n",
       "      <td>The Three Stooges were an American vaudeville ...</td>\n",
       "      <td>1934</td>\n",
       "      <td>19</td>\n",
       "      <td>26.0</td>\n",
       "      <td>8.5</td>\n",
       "      <td>7.600</td>\n",
       "    </tr>\n",
       "    <tr>\n",
       "      <th>4</th>\n",
       "      <td>tm5012</td>\n",
       "      <td>Red River</td>\n",
       "      <td>MOVIE</td>\n",
       "      <td>Headstrong Thomas Dunson starts a thriving Tex...</td>\n",
       "      <td>1948</td>\n",
       "      <td>133</td>\n",
       "      <td>NaN</td>\n",
       "      <td>7.8</td>\n",
       "      <td>7.400</td>\n",
       "    </tr>\n",
       "  </tbody>\n",
       "</table>\n",
       "</div>"
      ],
      "text/plain": [
       "         id                  title   type  \\\n",
       "0   tm87233  It's a Wonderful Life  MOVIE   \n",
       "1  tm143047              Duck Soup  MOVIE   \n",
       "2   tm83884        His Girl Friday  MOVIE   \n",
       "3   ts20945      The Three Stooges   SHOW   \n",
       "4    tm5012              Red River  MOVIE   \n",
       "\n",
       "                                         description  release_year  runtime  \\\n",
       "0  A holiday favourite for generations...  George...          1946      130   \n",
       "1  Rufus T. Firefly is named president/dictator o...          1933       69   \n",
       "2  Hildy, the journalist former wife of newspaper...          1940       92   \n",
       "3  The Three Stooges were an American vaudeville ...          1934       19   \n",
       "4  Headstrong Thomas Dunson starts a thriving Tex...          1948      133   \n",
       "\n",
       "   seasons  imdb_score  tmdb_score  \n",
       "0      NaN         8.6       8.261  \n",
       "1      NaN         7.8       7.357  \n",
       "2      NaN         7.8       7.433  \n",
       "3     26.0         8.5       7.600  \n",
       "4      NaN         7.8       7.400  "
      ]
     },
     "execution_count": 53,
     "metadata": {},
     "output_type": "execute_result"
    }
   ],
   "source": [
    "df2.head()"
   ]
  },
  {
   "cell_type": "code",
   "execution_count": 77,
   "metadata": {},
   "outputs": [
    {
     "data": {
      "image/png": "[encoded data removed]",
      "text/plain": [
       "<Figure size 600x600 with 3 Axes>"
      ]
     },
     "metadata": {},
     "output_type": "display_data"
    }
   ],
   "source": [
    "# Estilo\n",
    "sns.set_style('ticks')\n",
    "\n",
    "# Gráfico\n",
    "sns.jointplot(data = df2, x = 'imdb_score', y = 'tmdb_score', kind = 'hex', palette = 'cividis')\n",
    "\n",
    "plt.show()"
   ]
  },
  {
   "cell_type": "code",
   "execution_count": null,
   "metadata": {},
   "outputs": [],
   "source": []
  }
 ],
 "metadata": {
  "kernelspec": {
   "display_name": "DS-Env",
   "language": "python",
   "name": "python3"
  },
  "language_info": {
   "codemirror_mode": {
    "name": "ipython",
    "version": 3
   },
   "file_extension": ".py",
   "mimetype": "text/x-python",
   "name": "python",
   "nbconvert_exporter": "python",
   "pygments_lexer": "ipython3",
   "version": "3.10.10"
  },
  "orig_nbformat": 4
 },
 "nbformat": 4,
 "nbformat_minor": 2
}
