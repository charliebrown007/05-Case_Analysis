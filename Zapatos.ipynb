{
 "cells": [
  {
   "attachments": {},
   "cell_type": "markdown",
   "metadata": {},
   "source": [
    "## Análisis exploratorio guiado\n",
    "### *Caso: Venta de zapatos*\n",
    "---"
   ]
  },
  {
   "attachments": {},
   "cell_type": "markdown",
   "metadata": {},
   "source": [
    "### 1. Librerías"
   ]
  },
  {
   "cell_type": "code",
   "execution_count": 1,
   "metadata": {},
   "outputs": [],
   "source": [
    "# Librerías para tratamiento de datos\n",
    "import pandas as pd\n",
    "import numpy as np\n",
    "\n",
    "# Gráficos\n",
    "import matplotlib.pyplot as plt\n",
    "import seaborn as sns\n",
    "\n",
    "# Funcionalidad del sistema operativo\n",
    "import os"
   ]
  },
  {
   "attachments": {},
   "cell_type": "markdown",
   "metadata": {},
   "source": [
    "### 2. Datos"
   ]
  },
  {
   "cell_type": "code",
   "execution_count": 2,
   "metadata": {},
   "outputs": [
    {
     "name": "stdout",
     "output_type": "stream",
     "text": [
      "<class 'pandas.core.frame.DataFrame'>\n",
      "RangeIndex: 14967 entries, 0 to 14966\n",
      "Data columns (total 12 columns):\n",
      " #   Column         Non-Null Count  Dtype         \n",
      "---  ------         --------------  -----         \n",
      " 0   InvoiceNo      14967 non-null  int64         \n",
      " 1   Date           14967 non-null  datetime64[ns]\n",
      " 2   Country        14967 non-null  category      \n",
      " 3   ProductID      14967 non-null  int64         \n",
      " 4   Shop           14967 non-null  object        \n",
      " 5   Gender         14967 non-null  category      \n",
      " 6   Size (US)      14967 non-null  float64       \n",
      " 7   Size (Europe)  14967 non-null  object        \n",
      " 8   Size (UK)      14967 non-null  float64       \n",
      " 9   UnitPrice      14967 non-null  float64       \n",
      " 10  Discount       14967 non-null  float64       \n",
      " 11  SalePrice      14967 non-null  float64       \n",
      "dtypes: category(2), datetime64[ns](1), float64(5), int64(2), object(2)\n",
      "memory usage: 1.2+ MB\n",
      "None\n"
     ]
    },
    {
     "data": {
      "text/html": [
       "<div>\n",
       "<style scoped>\n",
       "    .dataframe tbody tr th:only-of-type {\n",
       "        vertical-align: middle;\n",
       "    }\n",
       "\n",
       "    .dataframe tbody tr th {\n",
       "        vertical-align: top;\n",
       "    }\n",
       "\n",
       "    .dataframe thead th {\n",
       "        text-align: right;\n",
       "    }\n",
       "</style>\n",
       "<table border=\"1\" class=\"dataframe\">\n",
       "  <thead>\n",
       "    <tr style=\"text-align: right;\">\n",
       "      <th></th>\n",
       "      <th>InvoiceNo</th>\n",
       "      <th>Date</th>\n",
       "      <th>Country</th>\n",
       "      <th>ProductID</th>\n",
       "      <th>Shop</th>\n",
       "      <th>Gender</th>\n",
       "      <th>Size (US)</th>\n",
       "      <th>Size (Europe)</th>\n",
       "      <th>Size (UK)</th>\n",
       "      <th>UnitPrice</th>\n",
       "      <th>Discount</th>\n",
       "      <th>SalePrice</th>\n",
       "    </tr>\n",
       "  </thead>\n",
       "  <tbody>\n",
       "    <tr>\n",
       "      <th>14962</th>\n",
       "      <td>65773</td>\n",
       "      <td>2016-12-31</td>\n",
       "      <td>United Kingdom</td>\n",
       "      <td>2154</td>\n",
       "      <td>UK2</td>\n",
       "      <td>Male</td>\n",
       "      <td>9.5</td>\n",
       "      <td>42-43</td>\n",
       "      <td>9.0</td>\n",
       "      <td>139.0</td>\n",
       "      <td>0.0</td>\n",
       "      <td>139.0</td>\n",
       "    </tr>\n",
       "    <tr>\n",
       "      <th>14963</th>\n",
       "      <td>65774</td>\n",
       "      <td>2016-12-31</td>\n",
       "      <td>United States</td>\n",
       "      <td>2181</td>\n",
       "      <td>US12</td>\n",
       "      <td>Female</td>\n",
       "      <td>12.0</td>\n",
       "      <td>42-43</td>\n",
       "      <td>10.0</td>\n",
       "      <td>149.0</td>\n",
       "      <td>0.0</td>\n",
       "      <td>149.0</td>\n",
       "    </tr>\n",
       "    <tr>\n",
       "      <th>14964</th>\n",
       "      <td>65775</td>\n",
       "      <td>2016-12-31</td>\n",
       "      <td>Canada</td>\n",
       "      <td>2203</td>\n",
       "      <td>CAN6</td>\n",
       "      <td>Male</td>\n",
       "      <td>10.5</td>\n",
       "      <td>43-44</td>\n",
       "      <td>10.0</td>\n",
       "      <td>179.0</td>\n",
       "      <td>0.3</td>\n",
       "      <td>125.3</td>\n",
       "    </tr>\n",
       "    <tr>\n",
       "      <th>14965</th>\n",
       "      <td>65776</td>\n",
       "      <td>2016-12-31</td>\n",
       "      <td>Germany</td>\n",
       "      <td>2231</td>\n",
       "      <td>GER1</td>\n",
       "      <td>Female</td>\n",
       "      <td>9.5</td>\n",
       "      <td>40</td>\n",
       "      <td>7.5</td>\n",
       "      <td>199.0</td>\n",
       "      <td>0.0</td>\n",
       "      <td>199.0</td>\n",
       "    </tr>\n",
       "    <tr>\n",
       "      <th>14966</th>\n",
       "      <td>65777</td>\n",
       "      <td>2016-12-31</td>\n",
       "      <td>Germany</td>\n",
       "      <td>2156</td>\n",
       "      <td>GER1</td>\n",
       "      <td>Female</td>\n",
       "      <td>6.5</td>\n",
       "      <td>37</td>\n",
       "      <td>4.5</td>\n",
       "      <td>139.0</td>\n",
       "      <td>0.1</td>\n",
       "      <td>125.1</td>\n",
       "    </tr>\n",
       "  </tbody>\n",
       "</table>\n",
       "</div>"
      ],
      "text/plain": [
       "       InvoiceNo       Date         Country  ProductID  Shop  Gender  \\\n",
       "14962      65773 2016-12-31  United Kingdom       2154   UK2    Male   \n",
       "14963      65774 2016-12-31   United States       2181  US12  Female   \n",
       "14964      65775 2016-12-31          Canada       2203  CAN6    Male   \n",
       "14965      65776 2016-12-31         Germany       2231  GER1  Female   \n",
       "14966      65777 2016-12-31         Germany       2156  GER1  Female   \n",
       "\n",
       "       Size (US) Size (Europe)  Size (UK)  UnitPrice  Discount  SalePrice  \n",
       "14962        9.5         42-43        9.0      139.0       0.0      139.0  \n",
       "14963       12.0         42-43       10.0      149.0       0.0      149.0  \n",
       "14964       10.5         43-44       10.0      179.0       0.3      125.3  \n",
       "14965        9.5            40        7.5      199.0       0.0      199.0  \n",
       "14966        6.5            37        4.5      139.0       0.1      125.1  "
      ]
     },
     "execution_count": 2,
     "metadata": {},
     "output_type": "execute_result"
    }
   ],
   "source": [
    "# Ubicación del archivo\n",
    "path = r'C:\\Users\\DELL\\OneDrive\\Formación\\Python\\Cursos\\Experto en Python - UPB\\Curso - UPB\\Data'\n",
    "file =  'zapatos.csv'\n",
    "\n",
    "# Funciones personalizadas\n",
    "w1 = lambda x: (float(x.replace('$','')))\n",
    "w2 = lambda x: (float(x.replace('%',''))/100)\n",
    "\n",
    "# Importación de datos\n",
    "df = pd.read_csv(filepath_or_buffer = os.path.join(path,file),\n",
    "                 sep = ',',\n",
    "                 parse_dates = ['Date'],\n",
    "                 converters = {'UnitPrice':w1, 'SalePrice':w1, 'Discount':w2})\n",
    "df = df.astype({'Country': 'category', 'Gender':'category'})\n",
    "\n",
    "# Resultados\n",
    "print(df.info())\n",
    "df.tail()"
   ]
  },
  {
   "attachments": {},
   "cell_type": "markdown",
   "metadata": {},
   "source": [
    "Verificación de valores nulos"
   ]
  },
  {
   "cell_type": "code",
   "execution_count": 3,
   "metadata": {},
   "outputs": [
    {
     "data": {
      "text/plain": [
       "False"
      ]
     },
     "execution_count": 3,
     "metadata": {},
     "output_type": "execute_result"
    }
   ],
   "source": [
    "# No existen valores faltantes (null)\n",
    "df.isnull().values.any()"
   ]
  },
  {
   "attachments": {},
   "cell_type": "markdown",
   "metadata": {},
   "source": [
    "Verificación de caracteres vacíos (espacios en una celda)"
   ]
  },
  {
   "cell_type": "code",
   "execution_count": 4,
   "metadata": {},
   "outputs": [
    {
     "data": {
      "text/plain": [
       "False"
      ]
     },
     "execution_count": 4,
     "metadata": {},
     "output_type": "execute_result"
    }
   ],
   "source": [
    "# No existen espacios vacíos en una celda\n",
    "(df == ' ').values.any()"
   ]
  },
  {
   "attachments": {},
   "cell_type": "markdown",
   "metadata": {},
   "source": [
    "### 3. Estadísticas descriptivas"
   ]
  },
  {
   "cell_type": "code",
   "execution_count": 5,
   "metadata": {},
   "outputs": [
    {
     "data": {
      "text/html": [
       "<div>\n",
       "<style scoped>\n",
       "    .dataframe tbody tr th:only-of-type {\n",
       "        vertical-align: middle;\n",
       "    }\n",
       "\n",
       "    .dataframe tbody tr th {\n",
       "        vertical-align: top;\n",
       "    }\n",
       "\n",
       "    .dataframe thead th {\n",
       "        text-align: right;\n",
       "    }\n",
       "</style>\n",
       "<table border=\"1\" class=\"dataframe\">\n",
       "  <thead>\n",
       "    <tr style=\"text-align: right;\">\n",
       "      <th></th>\n",
       "      <th>InvoiceNo</th>\n",
       "      <th>ProductID</th>\n",
       "      <th>Size (US)</th>\n",
       "      <th>Size (UK)</th>\n",
       "      <th>UnitPrice</th>\n",
       "      <th>Discount</th>\n",
       "      <th>SalePrice</th>\n",
       "    </tr>\n",
       "  </thead>\n",
       "  <tbody>\n",
       "    <tr>\n",
       "      <th>count</th>\n",
       "      <td>14967.000000</td>\n",
       "      <td>14967.000000</td>\n",
       "      <td>14967.000000</td>\n",
       "      <td>14967.000000</td>\n",
       "      <td>14967.000000</td>\n",
       "      <td>14967.000000</td>\n",
       "      <td>14967.000000</td>\n",
       "    </tr>\n",
       "    <tr>\n",
       "      <th>mean</th>\n",
       "      <td>59050.261509</td>\n",
       "      <td>2195.325115</td>\n",
       "      <td>9.195630</td>\n",
       "      <td>8.089497</td>\n",
       "      <td>164.171377</td>\n",
       "      <td>0.124013</td>\n",
       "      <td>143.987913</td>\n",
       "    </tr>\n",
       "    <tr>\n",
       "      <th>std</th>\n",
       "      <td>3889.598714</td>\n",
       "      <td>27.633526</td>\n",
       "      <td>1.511719</td>\n",
       "      <td>1.970014</td>\n",
       "      <td>22.940544</td>\n",
       "      <td>0.170112</td>\n",
       "      <td>35.180799</td>\n",
       "    </tr>\n",
       "    <tr>\n",
       "      <th>min</th>\n",
       "      <td>52389.000000</td>\n",
       "      <td>2147.000000</td>\n",
       "      <td>4.500000</td>\n",
       "      <td>2.500000</td>\n",
       "      <td>129.000000</td>\n",
       "      <td>0.000000</td>\n",
       "      <td>64.500000</td>\n",
       "    </tr>\n",
       "    <tr>\n",
       "      <th>25%</th>\n",
       "      <td>55648.500000</td>\n",
       "      <td>2172.000000</td>\n",
       "      <td>8.000000</td>\n",
       "      <td>6.500000</td>\n",
       "      <td>149.000000</td>\n",
       "      <td>0.000000</td>\n",
       "      <td>125.100000</td>\n",
       "    </tr>\n",
       "    <tr>\n",
       "      <th>50%</th>\n",
       "      <td>59092.000000</td>\n",
       "      <td>2195.000000</td>\n",
       "      <td>9.000000</td>\n",
       "      <td>8.500000</td>\n",
       "      <td>159.000000</td>\n",
       "      <td>0.000000</td>\n",
       "      <td>149.000000</td>\n",
       "    </tr>\n",
       "    <tr>\n",
       "      <th>75%</th>\n",
       "      <td>62433.000000</td>\n",
       "      <td>2219.000000</td>\n",
       "      <td>10.000000</td>\n",
       "      <td>9.500000</td>\n",
       "      <td>179.000000</td>\n",
       "      <td>0.200000</td>\n",
       "      <td>169.000000</td>\n",
       "    </tr>\n",
       "    <tr>\n",
       "      <th>max</th>\n",
       "      <td>65777.000000</td>\n",
       "      <td>2242.000000</td>\n",
       "      <td>15.000000</td>\n",
       "      <td>14.500000</td>\n",
       "      <td>199.000000</td>\n",
       "      <td>0.500000</td>\n",
       "      <td>199.000000</td>\n",
       "    </tr>\n",
       "  </tbody>\n",
       "</table>\n",
       "</div>"
      ],
      "text/plain": [
       "          InvoiceNo     ProductID     Size (US)     Size (UK)     UnitPrice  \\\n",
       "count  14967.000000  14967.000000  14967.000000  14967.000000  14967.000000   \n",
       "mean   59050.261509   2195.325115      9.195630      8.089497    164.171377   \n",
       "std     3889.598714     27.633526      1.511719      1.970014     22.940544   \n",
       "min    52389.000000   2147.000000      4.500000      2.500000    129.000000   \n",
       "25%    55648.500000   2172.000000      8.000000      6.500000    149.000000   \n",
       "50%    59092.000000   2195.000000      9.000000      8.500000    159.000000   \n",
       "75%    62433.000000   2219.000000     10.000000      9.500000    179.000000   \n",
       "max    65777.000000   2242.000000     15.000000     14.500000    199.000000   \n",
       "\n",
       "           Discount     SalePrice  \n",
       "count  14967.000000  14967.000000  \n",
       "mean       0.124013    143.987913  \n",
       "std        0.170112     35.180799  \n",
       "min        0.000000     64.500000  \n",
       "25%        0.000000    125.100000  \n",
       "50%        0.000000    149.000000  \n",
       "75%        0.200000    169.000000  \n",
       "max        0.500000    199.000000  "
      ]
     },
     "execution_count": 5,
     "metadata": {},
     "output_type": "execute_result"
    }
   ],
   "source": [
    "df.describe()"
   ]
  },
  {
   "cell_type": "code",
   "execution_count": 6,
   "metadata": {},
   "outputs": [
    {
     "data": {
      "text/html": [
       "<div>\n",
       "<style scoped>\n",
       "    .dataframe tbody tr th:only-of-type {\n",
       "        vertical-align: middle;\n",
       "    }\n",
       "\n",
       "    .dataframe tbody tr th {\n",
       "        vertical-align: top;\n",
       "    }\n",
       "\n",
       "    .dataframe thead th {\n",
       "        text-align: right;\n",
       "    }\n",
       "</style>\n",
       "<table border=\"1\" class=\"dataframe\">\n",
       "  <thead>\n",
       "    <tr style=\"text-align: right;\">\n",
       "      <th></th>\n",
       "      <th>Country</th>\n",
       "      <th>Shop</th>\n",
       "      <th>Gender</th>\n",
       "      <th>Size (Europe)</th>\n",
       "    </tr>\n",
       "  </thead>\n",
       "  <tbody>\n",
       "    <tr>\n",
       "      <th>count</th>\n",
       "      <td>14967</td>\n",
       "      <td>14967</td>\n",
       "      <td>14967</td>\n",
       "      <td>14967</td>\n",
       "    </tr>\n",
       "    <tr>\n",
       "      <th>unique</th>\n",
       "      <td>4</td>\n",
       "      <td>29</td>\n",
       "      <td>2</td>\n",
       "      <td>24</td>\n",
       "    </tr>\n",
       "    <tr>\n",
       "      <th>top</th>\n",
       "      <td>United States</td>\n",
       "      <td>GER2</td>\n",
       "      <td>Male</td>\n",
       "      <td>42-43</td>\n",
       "    </tr>\n",
       "    <tr>\n",
       "      <th>freq</th>\n",
       "      <td>5886</td>\n",
       "      <td>1947</td>\n",
       "      <td>8919</td>\n",
       "      <td>1968</td>\n",
       "    </tr>\n",
       "  </tbody>\n",
       "</table>\n",
       "</div>"
      ],
      "text/plain": [
       "              Country   Shop Gender Size (Europe)\n",
       "count           14967  14967  14967         14967\n",
       "unique              4     29      2            24\n",
       "top     United States   GER2   Male         42-43\n",
       "freq             5886   1947   8919          1968"
      ]
     },
     "execution_count": 6,
     "metadata": {},
     "output_type": "execute_result"
    }
   ],
   "source": [
    "a = df.dtypes.reset_index(name = 'type')\n",
    "a = a.loc[(a['type'] == 'category') | (a['type'] == 'object')].iloc[:,0].tolist()\n",
    "df[a].describe()"
   ]
  },
  {
   "attachments": {},
   "cell_type": "markdown",
   "metadata": {},
   "source": [
    "### 4. Diferencia de precios"
   ]
  },
  {
   "attachments": {},
   "cell_type": "markdown",
   "metadata": {},
   "source": [
    "La diferencia entre los precios de compra y venta serán manifestadas como una nueva columna"
   ]
  },
  {
   "cell_type": "code",
   "execution_count": 7,
   "metadata": {},
   "outputs": [
    {
     "data": {
      "text/html": [
       "<div>\n",
       "<style scoped>\n",
       "    .dataframe tbody tr th:only-of-type {\n",
       "        vertical-align: middle;\n",
       "    }\n",
       "\n",
       "    .dataframe tbody tr th {\n",
       "        vertical-align: top;\n",
       "    }\n",
       "\n",
       "    .dataframe thead th {\n",
       "        text-align: right;\n",
       "    }\n",
       "</style>\n",
       "<table border=\"1\" class=\"dataframe\">\n",
       "  <thead>\n",
       "    <tr style=\"text-align: right;\">\n",
       "      <th></th>\n",
       "      <th>InvoiceNo</th>\n",
       "      <th>Date</th>\n",
       "      <th>Country</th>\n",
       "      <th>ProductID</th>\n",
       "      <th>Shop</th>\n",
       "      <th>Gender</th>\n",
       "      <th>Size (US)</th>\n",
       "      <th>Size (Europe)</th>\n",
       "      <th>Size (UK)</th>\n",
       "      <th>UnitPrice</th>\n",
       "      <th>Discount</th>\n",
       "      <th>SalePrice</th>\n",
       "      <th>Dif_Precio</th>\n",
       "    </tr>\n",
       "  </thead>\n",
       "  <tbody>\n",
       "    <tr>\n",
       "      <th>0</th>\n",
       "      <td>52389</td>\n",
       "      <td>2014-01-01</td>\n",
       "      <td>United Kingdom</td>\n",
       "      <td>2152</td>\n",
       "      <td>UK2</td>\n",
       "      <td>Male</td>\n",
       "      <td>11.0</td>\n",
       "      <td>44</td>\n",
       "      <td>10.5</td>\n",
       "      <td>159.0</td>\n",
       "      <td>0.0</td>\n",
       "      <td>159.0</td>\n",
       "      <td>0.0</td>\n",
       "    </tr>\n",
       "    <tr>\n",
       "      <th>1</th>\n",
       "      <td>52390</td>\n",
       "      <td>2014-01-01</td>\n",
       "      <td>United States</td>\n",
       "      <td>2230</td>\n",
       "      <td>US15</td>\n",
       "      <td>Male</td>\n",
       "      <td>11.5</td>\n",
       "      <td>44-45</td>\n",
       "      <td>11.0</td>\n",
       "      <td>199.0</td>\n",
       "      <td>0.2</td>\n",
       "      <td>159.2</td>\n",
       "      <td>39.8</td>\n",
       "    </tr>\n",
       "    <tr>\n",
       "      <th>2</th>\n",
       "      <td>52391</td>\n",
       "      <td>2014-01-01</td>\n",
       "      <td>Canada</td>\n",
       "      <td>2160</td>\n",
       "      <td>CAN7</td>\n",
       "      <td>Male</td>\n",
       "      <td>9.5</td>\n",
       "      <td>42-43</td>\n",
       "      <td>9.0</td>\n",
       "      <td>149.0</td>\n",
       "      <td>0.2</td>\n",
       "      <td>119.2</td>\n",
       "      <td>29.8</td>\n",
       "    </tr>\n",
       "    <tr>\n",
       "      <th>3</th>\n",
       "      <td>52392</td>\n",
       "      <td>2014-01-01</td>\n",
       "      <td>United States</td>\n",
       "      <td>2234</td>\n",
       "      <td>US6</td>\n",
       "      <td>Female</td>\n",
       "      <td>9.5</td>\n",
       "      <td>40</td>\n",
       "      <td>7.5</td>\n",
       "      <td>159.0</td>\n",
       "      <td>0.0</td>\n",
       "      <td>159.0</td>\n",
       "      <td>0.0</td>\n",
       "    </tr>\n",
       "    <tr>\n",
       "      <th>4</th>\n",
       "      <td>52393</td>\n",
       "      <td>2014-01-01</td>\n",
       "      <td>United Kingdom</td>\n",
       "      <td>2222</td>\n",
       "      <td>UK4</td>\n",
       "      <td>Female</td>\n",
       "      <td>9.0</td>\n",
       "      <td>39-40</td>\n",
       "      <td>7.0</td>\n",
       "      <td>159.0</td>\n",
       "      <td>0.0</td>\n",
       "      <td>159.0</td>\n",
       "      <td>0.0</td>\n",
       "    </tr>\n",
       "  </tbody>\n",
       "</table>\n",
       "</div>"
      ],
      "text/plain": [
       "   InvoiceNo       Date         Country  ProductID  Shop  Gender  Size (US)  \\\n",
       "0      52389 2014-01-01  United Kingdom       2152   UK2    Male       11.0   \n",
       "1      52390 2014-01-01   United States       2230  US15    Male       11.5   \n",
       "2      52391 2014-01-01          Canada       2160  CAN7    Male        9.5   \n",
       "3      52392 2014-01-01   United States       2234   US6  Female        9.5   \n",
       "4      52393 2014-01-01  United Kingdom       2222   UK4  Female        9.0   \n",
       "\n",
       "  Size (Europe)  Size (UK)  UnitPrice  Discount  SalePrice  Dif_Precio  \n",
       "0            44       10.5      159.0       0.0      159.0         0.0  \n",
       "1         44-45       11.0      199.0       0.2      159.2        39.8  \n",
       "2         42-43        9.0      149.0       0.2      119.2        29.8  \n",
       "3            40        7.5      159.0       0.0      159.0         0.0  \n",
       "4         39-40        7.0      159.0       0.0      159.0         0.0  "
      ]
     },
     "execution_count": 7,
     "metadata": {},
     "output_type": "execute_result"
    }
   ],
   "source": [
    "df1 = df.copy()\n",
    "df1['Dif_Precio'] = df1['UnitPrice'] - df1['SalePrice']\n",
    "df1.head()"
   ]
  },
  {
   "attachments": {},
   "cell_type": "markdown",
   "metadata": {},
   "source": [
    "### 5. Conversión a talla de latinoamérica "
   ]
  },
  {
   "attachments": {},
   "cell_type": "markdown",
   "metadata": {},
   "source": [
    "Se asume que el cambio de talla en un zapato es lineal, por tanto la operación que contendrá la columna \"Size(LATAM)\" será:\n",
    "\n",
    "$$\\text{Size (LATAM)} =  \\text{Size (US)} \\cdot \\frac{40}{9}$$"
   ]
  },
  {
   "cell_type": "code",
   "execution_count": 8,
   "metadata": {},
   "outputs": [
    {
     "data": {
      "text/html": [
       "<div>\n",
       "<style scoped>\n",
       "    .dataframe tbody tr th:only-of-type {\n",
       "        vertical-align: middle;\n",
       "    }\n",
       "\n",
       "    .dataframe tbody tr th {\n",
       "        vertical-align: top;\n",
       "    }\n",
       "\n",
       "    .dataframe thead th {\n",
       "        text-align: right;\n",
       "    }\n",
       "</style>\n",
       "<table border=\"1\" class=\"dataframe\">\n",
       "  <thead>\n",
       "    <tr style=\"text-align: right;\">\n",
       "      <th></th>\n",
       "      <th>InvoiceNo</th>\n",
       "      <th>Date</th>\n",
       "      <th>Country</th>\n",
       "      <th>ProductID</th>\n",
       "      <th>Shop</th>\n",
       "      <th>Gender</th>\n",
       "      <th>Size (US)</th>\n",
       "      <th>Size (Europe)</th>\n",
       "      <th>Size (UK)</th>\n",
       "      <th>UnitPrice</th>\n",
       "      <th>Discount</th>\n",
       "      <th>SalePrice</th>\n",
       "      <th>Dif_Precio</th>\n",
       "      <th>Size (LATAM)</th>\n",
       "    </tr>\n",
       "  </thead>\n",
       "  <tbody>\n",
       "    <tr>\n",
       "      <th>0</th>\n",
       "      <td>52389</td>\n",
       "      <td>2014-01-01</td>\n",
       "      <td>United Kingdom</td>\n",
       "      <td>2152</td>\n",
       "      <td>UK2</td>\n",
       "      <td>Male</td>\n",
       "      <td>11.0</td>\n",
       "      <td>44</td>\n",
       "      <td>10.5</td>\n",
       "      <td>159.0</td>\n",
       "      <td>0.0</td>\n",
       "      <td>159.0</td>\n",
       "      <td>0.0</td>\n",
       "      <td>48.89</td>\n",
       "    </tr>\n",
       "    <tr>\n",
       "      <th>1</th>\n",
       "      <td>52390</td>\n",
       "      <td>2014-01-01</td>\n",
       "      <td>United States</td>\n",
       "      <td>2230</td>\n",
       "      <td>US15</td>\n",
       "      <td>Male</td>\n",
       "      <td>11.5</td>\n",
       "      <td>44-45</td>\n",
       "      <td>11.0</td>\n",
       "      <td>199.0</td>\n",
       "      <td>0.2</td>\n",
       "      <td>159.2</td>\n",
       "      <td>39.8</td>\n",
       "      <td>51.11</td>\n",
       "    </tr>\n",
       "    <tr>\n",
       "      <th>2</th>\n",
       "      <td>52391</td>\n",
       "      <td>2014-01-01</td>\n",
       "      <td>Canada</td>\n",
       "      <td>2160</td>\n",
       "      <td>CAN7</td>\n",
       "      <td>Male</td>\n",
       "      <td>9.5</td>\n",
       "      <td>42-43</td>\n",
       "      <td>9.0</td>\n",
       "      <td>149.0</td>\n",
       "      <td>0.2</td>\n",
       "      <td>119.2</td>\n",
       "      <td>29.8</td>\n",
       "      <td>42.22</td>\n",
       "    </tr>\n",
       "    <tr>\n",
       "      <th>3</th>\n",
       "      <td>52392</td>\n",
       "      <td>2014-01-01</td>\n",
       "      <td>United States</td>\n",
       "      <td>2234</td>\n",
       "      <td>US6</td>\n",
       "      <td>Female</td>\n",
       "      <td>9.5</td>\n",
       "      <td>40</td>\n",
       "      <td>7.5</td>\n",
       "      <td>159.0</td>\n",
       "      <td>0.0</td>\n",
       "      <td>159.0</td>\n",
       "      <td>0.0</td>\n",
       "      <td>42.22</td>\n",
       "    </tr>\n",
       "    <tr>\n",
       "      <th>4</th>\n",
       "      <td>52393</td>\n",
       "      <td>2014-01-01</td>\n",
       "      <td>United Kingdom</td>\n",
       "      <td>2222</td>\n",
       "      <td>UK4</td>\n",
       "      <td>Female</td>\n",
       "      <td>9.0</td>\n",
       "      <td>39-40</td>\n",
       "      <td>7.0</td>\n",
       "      <td>159.0</td>\n",
       "      <td>0.0</td>\n",
       "      <td>159.0</td>\n",
       "      <td>0.0</td>\n",
       "      <td>40.00</td>\n",
       "    </tr>\n",
       "  </tbody>\n",
       "</table>\n",
       "</div>"
      ],
      "text/plain": [
       "   InvoiceNo       Date         Country  ProductID  Shop  Gender  Size (US)  \\\n",
       "0      52389 2014-01-01  United Kingdom       2152   UK2    Male       11.0   \n",
       "1      52390 2014-01-01   United States       2230  US15    Male       11.5   \n",
       "2      52391 2014-01-01          Canada       2160  CAN7    Male        9.5   \n",
       "3      52392 2014-01-01   United States       2234   US6  Female        9.5   \n",
       "4      52393 2014-01-01  United Kingdom       2222   UK4  Female        9.0   \n",
       "\n",
       "  Size (Europe)  Size (UK)  UnitPrice  Discount  SalePrice  Dif_Precio  \\\n",
       "0            44       10.5      159.0       0.0      159.0         0.0   \n",
       "1         44-45       11.0      199.0       0.2      159.2        39.8   \n",
       "2         42-43        9.0      149.0       0.2      119.2        29.8   \n",
       "3            40        7.5      159.0       0.0      159.0         0.0   \n",
       "4         39-40        7.0      159.0       0.0      159.0         0.0   \n",
       "\n",
       "   Size (LATAM)  \n",
       "0         48.89  \n",
       "1         51.11  \n",
       "2         42.22  \n",
       "3         42.22  \n",
       "4         40.00  "
      ]
     },
     "execution_count": 8,
     "metadata": {},
     "output_type": "execute_result"
    }
   ],
   "source": [
    "df1.insert(loc = len(df1.columns), column = 'Size (LATAM)', value = round(df1['Size (US)'] * (40/9),2))\n",
    "df1.head()"
   ]
  },
  {
   "attachments": {},
   "cell_type": "markdown",
   "metadata": {},
   "source": [
    "### 5. Visualización de datos"
   ]
  },
  {
   "attachments": {},
   "cell_type": "markdown",
   "metadata": {},
   "source": [
    "La proporción en ventas según el género favorece a los hombres, pues generaron ingresos  de #### que representa un #### respecto a las mujeres"
   ]
  },
  {
   "cell_type": "code",
   "execution_count": 9,
   "metadata": {},
   "outputs": [
    {
     "data": {
      "image/png": "[encoded data removed]",
      "text/plain": [
       "<Figure size 500x400 with 1 Axes>"
      ]
     },
     "metadata": {},
     "output_type": "display_data"
    }
   ],
   "source": [
    "# Adecuación de datos\n",
    "aux = df1.groupby(by = ['Gender']).sum(numeric_only = True)['UnitPrice']\n",
    "\n",
    "# Estilo del gráfico\n",
    "sns.set_theme(style = 'ticks', palette = 'tab20c', font = 'Arial')\n",
    "fig, ax = plt.subplots(figsize=(5, 4))\n",
    "\n",
    "# Tipo de gráfico\n",
    "sns.barplot(x = aux.index, y = aux.values)\n",
    "\n",
    "# Detalles adicionales\n",
    "plt.title(label = 'Productos vendidos por factura', loc = 'left', size = 11, fontstyle = 'italic', fontweight = 'bold')\n",
    "plt.xlabel(xlabel = None)\n",
    "plt.ylabel(ylabel = 'Frecuencia', size = 11)\n",
    "sns.despine(offset = 10, trim = False, bottom = False)"
   ]
  },
  {
   "attachments": {},
   "cell_type": "markdown",
   "metadata": {},
   "source": [
    "La cantidad de productos adquiridos en cada venta (factura) se caracteriza por incluir un solo par de zapatos. Los casos que incluyen más productos por factura son muy poco frecuentes."
   ]
  },
  {
   "cell_type": "code",
   "execution_count": 10,
   "metadata": {},
   "outputs": [
    {
     "data": {
      "image/png": "[encoded data removed]",
      "text/plain": [
       "<Figure size 500x400 with 1 Axes>"
      ]
     },
     "metadata": {},
     "output_type": "display_data"
    }
   ],
   "source": [
    "# Estilo del gráfico\n",
    "sns.set_theme(style = 'ticks', palette = 'tab20c', font = 'Arial', font_scale = 1)\n",
    "fig, ax = plt.subplots(figsize=(5, 4))\n",
    "\n",
    "# Tipo de gráfico\n",
    "sns.barplot(data = df1, x = df1['Gender'], y = df1['UnitPrice'], estimator = 'sum', errorbar = None)\n",
    "\n",
    "# Detalles adicionales\n",
    "plt.title(label = 'Productos vendidos por factura',\n",
    "          loc = 'left', size = 11,\n",
    "          fontstyle = 'italic', fontweight = 'bold')\n",
    "plt.xlabel(xlabel = None)\n",
    "plt.ylabel(ylabel = 'Frecuencia', size = 11)\n",
    "plt.tick_params(axis='both', labelsize = 11)\n",
    "sns.despine(offset = 10, trim = False, bottom = False)"
   ]
  },
  {
   "cell_type": "code",
   "execution_count": 11,
   "metadata": {},
   "outputs": [
    {
     "data": {
      "image/png": "[encoded data removed]",
      "text/plain": [
       "<Figure size 500x400 with 1 Axes>"
      ]
     },
     "metadata": {},
     "output_type": "display_data"
    }
   ],
   "source": [
    "# Adecuación de datos\n",
    "aux = df1['InvoiceNo'].value_counts().value_counts()\n",
    "\n",
    "# Gráfico \n",
    "sns.set_theme(style = 'ticks',palette = 'tab20c', font = 'Arial', font_scale = 1)\n",
    "fig, ax = plt.subplots(figsize=(5, 4))\n",
    "sns.barplot(x = aux.index, y = aux.values)\n",
    "plt.title(label = 'Productos vendidos por factura', loc = 'left', size = 12, fontstyle = 'italic', fontweight = 'bold')\n",
    "plt.xlabel(xlabel = 'Unidades vendidas', size = 11)\n",
    "plt.ylabel(ylabel = 'Cantidad de facturas', size = 11)\n",
    "plt.tick_params(axis='both', labelsize = 11)\n",
    "sns.despine(offset = 5, trim = False, bottom = False)"
   ]
  },
  {
   "attachments": {},
   "cell_type": "markdown",
   "metadata": {},
   "source": [
    "EEUU es el país que reporta más ingresos por calzados con un 39%, seguido por Alemania, luego Canadá y, en último lugar con un 12%, El Reino Unido."
   ]
  },
  {
   "cell_type": "code",
   "execution_count": 12,
   "metadata": {},
   "outputs": [
    {
     "data": {
      "image/png": "[encoded data removed]",
      "text/plain": [
       "<Figure size 500x400 with 1 Axes>"
      ]
     },
     "metadata": {},
     "output_type": "display_data"
    }
   ],
   "source": [
    "# Adecuación de datos\n",
    "aux = df1.groupby(by = ['Country']).sum(numeric_only = True)['UnitPrice']\n",
    "# Gráfico \n",
    "sns.set_theme(style = 'ticks',palette = 'tab20c', font = 'Arial', font_scale = 1)\n",
    "fig, ax = plt.subplots(figsize=(5, 4))\n",
    "plt.pie(aux.values, labels = aux.index, autopct = '%.1f%%')\n",
    "plt.title(label = 'Proporción de ingresos por país', loc = 'left', size = 11, fontstyle = 'italic', fontweight = 'bold')\n",
    "plt.show()"
   ]
  },
  {
   "cell_type": "markdown",
   "metadata": {},
   "source": [
    "Se puede notar que los zapatos de hombres proporcionan un ingreso más alto respecto que los de mujeres. Asimismo, los ingresos en EEUU y Alemnaia son las más altos independientemente del género."
   ]
  },
  {
   "cell_type": "code",
   "execution_count": 13,
   "metadata": {},
   "outputs": [
    {
     "data": {
      "image/png": "[encoded data removed]",
      "text/plain": [
       "<Figure size 1000x500 with 2 Axes>"
      ]
     },
     "metadata": {},
     "output_type": "display_data"
    }
   ],
   "source": [
    "sns.set_theme(style = 'ticks',palette = 'GnBu_r', font = 'Arial')\n",
    "bar_order = df1['Country'].value_counts(ascending = False).index.tolist()\n",
    "\n",
    "g = sns.catplot(data = df1, x = 'Country', y = 'UnitPrice', order = bar_order,\n",
    "            kind = 'bar', estimator = 'sum', col = 'Gender', errorbar = None)\n",
    "g.set_axis_labels(x_var = '', y_var = 'Ingresos [$]')\n",
    "g.set_titles('Tipo: {col_name}')\n",
    "plt.suptitle(t = 'Ingresos por país y género', y = 1.05, x = 0.15,\n",
    "             fontstyle = 'normal', fontweight = 'normal', size = 12)\n",
    "\n",
    "sns.despine(offset = 5, trim = False, bottom = False)\n",
    "plt.show()"
   ]
  },
  {
   "cell_type": "code",
   "execution_count": 14,
   "metadata": {},
   "outputs": [
    {
     "data": {
      "text/html": [
       "<div>\n",
       "<style scoped>\n",
       "    .dataframe tbody tr th:only-of-type {\n",
       "        vertical-align: middle;\n",
       "    }\n",
       "\n",
       "    .dataframe tbody tr th {\n",
       "        vertical-align: top;\n",
       "    }\n",
       "\n",
       "    .dataframe thead th {\n",
       "        text-align: right;\n",
       "    }\n",
       "</style>\n",
       "<table border=\"1\" class=\"dataframe\">\n",
       "  <thead>\n",
       "    <tr style=\"text-align: right;\">\n",
       "      <th></th>\n",
       "      <th>Country</th>\n",
       "      <th>Gender</th>\n",
       "      <th>Ingresos</th>\n",
       "    </tr>\n",
       "  </thead>\n",
       "  <tbody>\n",
       "    <tr>\n",
       "      <th>7</th>\n",
       "      <td>United States</td>\n",
       "      <td>Male</td>\n",
       "      <td>486305.4</td>\n",
       "    </tr>\n",
       "    <tr>\n",
       "      <th>6</th>\n",
       "      <td>United States</td>\n",
       "      <td>Female</td>\n",
       "      <td>359674.2</td>\n",
       "    </tr>\n",
       "    <tr>\n",
       "      <th>5</th>\n",
       "      <td>United Kingdom</td>\n",
       "      <td>Male</td>\n",
       "      <td>154008.9</td>\n",
       "    </tr>\n",
       "    <tr>\n",
       "      <th>4</th>\n",
       "      <td>United Kingdom</td>\n",
       "      <td>Female</td>\n",
       "      <td>98734.8</td>\n",
       "    </tr>\n",
       "    <tr>\n",
       "      <th>3</th>\n",
       "      <td>Germany</td>\n",
       "      <td>Male</td>\n",
       "      <td>381750.3</td>\n",
       "    </tr>\n",
       "    <tr>\n",
       "      <th>2</th>\n",
       "      <td>Germany</td>\n",
       "      <td>Female</td>\n",
       "      <td>248829.6</td>\n",
       "    </tr>\n",
       "    <tr>\n",
       "      <th>1</th>\n",
       "      <td>Canada</td>\n",
       "      <td>Male</td>\n",
       "      <td>260826.0</td>\n",
       "    </tr>\n",
       "    <tr>\n",
       "      <th>0</th>\n",
       "      <td>Canada</td>\n",
       "      <td>Female</td>\n",
       "      <td>164937.9</td>\n",
       "    </tr>\n",
       "  </tbody>\n",
       "</table>\n",
       "</div>"
      ],
      "text/plain": [
       "          Country  Gender  Ingresos\n",
       "7   United States    Male  486305.4\n",
       "6   United States  Female  359674.2\n",
       "5  United Kingdom    Male  154008.9\n",
       "4  United Kingdom  Female   98734.8\n",
       "3         Germany    Male  381750.3\n",
       "2         Germany  Female  248829.6\n",
       "1          Canada    Male  260826.0\n",
       "0          Canada  Female  164937.9"
      ]
     },
     "execution_count": 14,
     "metadata": {},
     "output_type": "execute_result"
    }
   ],
   "source": [
    "(df1.groupby(by = ['Country','Gender'])\n",
    "    .sum(numeric_only = True)['SalePrice']\n",
    "    .reset_index(name = 'Ingresos')\n",
    "    .sort_values(by = ['Country','Ingresos'], ascending = False))"
   ]
  },
  {
   "cell_type": "code",
   "execution_count": 15,
   "metadata": {},
   "outputs": [
    {
     "data": {
      "text/plain": [
       "[]"
      ]
     },
     "execution_count": 15,
     "metadata": {},
     "output_type": "execute_result"
    },
    {
     "data": {
      "image/png": "[encoded data removed]",
      "text/plain": [
       "<Figure size 600x400 with 1 Axes>"
      ]
     },
     "metadata": {},
     "output_type": "display_data"
    }
   ],
   "source": [
    "sns.set_theme(style = 'darkgrid',palette = 'GnBu_r', font = 'Arial')\n",
    "\n",
    "sns.catplot(data = df1, x = 'Gender', y = 'Size (LATAM)', kind = 'box', height = 4, aspect = 1.5)\n",
    "\n",
    "plt.title(label = 'Distribución de tallas (LATAM)', loc = 'left', size = 12, fontstyle = 'italic', fontweight = 'bold')\n",
    "plt.xlabel(xlabel = None)\n",
    "plt.ylabel(ylabel = 'Talla', size = 12)\n",
    "sns.despine(offset = 5, trim = False, bottom = False)\n",
    "plt.plot()"
   ]
  },
  {
   "cell_type": "code",
   "execution_count": 16,
   "metadata": {},
   "outputs": [
    {
     "data": {
      "text/plain": [
       "[]"
      ]
     },
     "execution_count": 16,
     "metadata": {},
     "output_type": "execute_result"
    },
    {
     "data": {
      "image/png": "[encoded data removed]",
      "text/plain": [
       "<Figure size 600x400 with 1 Axes>"
      ]
     },
     "metadata": {},
     "output_type": "display_data"
    }
   ],
   "source": [
    "sns.set_theme(style = 'darkgrid',palette = 'GnBu_r', font = 'Arial')\n",
    "\n",
    "sns.catplot(data = df1, x = 'Gender', y = 'Size (US)', kind = 'box', height = 4, aspect = 1.5)\n",
    "\n",
    "plt.title(label = 'Distribución de tallas (US)', loc = 'left', size = 12, fontstyle = 'italic', fontweight = 'bold')\n",
    "plt.xlabel(xlabel = None)\n",
    "plt.ylabel(ylabel = 'Talla', size = 12)\n",
    "sns.despine(offset = 5, trim = False, bottom = False)\n",
    "plt.plot()"
   ]
  },
  {
   "cell_type": "code",
   "execution_count": 17,
   "metadata": {},
   "outputs": [
    {
     "data": {
      "text/html": [
       "<div>\n",
       "<style scoped>\n",
       "    .dataframe tbody tr th:only-of-type {\n",
       "        vertical-align: middle;\n",
       "    }\n",
       "\n",
       "    .dataframe tbody tr th {\n",
       "        vertical-align: top;\n",
       "    }\n",
       "\n",
       "    .dataframe thead th {\n",
       "        text-align: right;\n",
       "    }\n",
       "</style>\n",
       "<table border=\"1\" class=\"dataframe\">\n",
       "  <thead>\n",
       "    <tr style=\"text-align: right;\">\n",
       "      <th></th>\n",
       "      <th>InvoiceNo</th>\n",
       "      <th>Date</th>\n",
       "      <th>Country</th>\n",
       "      <th>ProductID</th>\n",
       "      <th>Shop</th>\n",
       "      <th>Gender</th>\n",
       "      <th>Size (US)</th>\n",
       "      <th>Size (Europe)</th>\n",
       "      <th>Size (UK)</th>\n",
       "      <th>UnitPrice</th>\n",
       "      <th>Discount</th>\n",
       "      <th>SalePrice</th>\n",
       "      <th>Dif_Precio</th>\n",
       "      <th>Size (LATAM)</th>\n",
       "    </tr>\n",
       "  </thead>\n",
       "  <tbody>\n",
       "    <tr>\n",
       "      <th>0</th>\n",
       "      <td>52389</td>\n",
       "      <td>2014-01-01</td>\n",
       "      <td>United Kingdom</td>\n",
       "      <td>2152</td>\n",
       "      <td>UK2</td>\n",
       "      <td>Male</td>\n",
       "      <td>11.0</td>\n",
       "      <td>44</td>\n",
       "      <td>10.5</td>\n",
       "      <td>159.0</td>\n",
       "      <td>0.0</td>\n",
       "      <td>159.0</td>\n",
       "      <td>0.0</td>\n",
       "      <td>48.89</td>\n",
       "    </tr>\n",
       "    <tr>\n",
       "      <th>1</th>\n",
       "      <td>52390</td>\n",
       "      <td>2014-01-01</td>\n",
       "      <td>United States</td>\n",
       "      <td>2230</td>\n",
       "      <td>US15</td>\n",
       "      <td>Male</td>\n",
       "      <td>11.5</td>\n",
       "      <td>44-45</td>\n",
       "      <td>11.0</td>\n",
       "      <td>199.0</td>\n",
       "      <td>0.2</td>\n",
       "      <td>159.2</td>\n",
       "      <td>39.8</td>\n",
       "      <td>51.11</td>\n",
       "    </tr>\n",
       "    <tr>\n",
       "      <th>2</th>\n",
       "      <td>52391</td>\n",
       "      <td>2014-01-01</td>\n",
       "      <td>Canada</td>\n",
       "      <td>2160</td>\n",
       "      <td>CAN7</td>\n",
       "      <td>Male</td>\n",
       "      <td>9.5</td>\n",
       "      <td>42-43</td>\n",
       "      <td>9.0</td>\n",
       "      <td>149.0</td>\n",
       "      <td>0.2</td>\n",
       "      <td>119.2</td>\n",
       "      <td>29.8</td>\n",
       "      <td>42.22</td>\n",
       "    </tr>\n",
       "    <tr>\n",
       "      <th>3</th>\n",
       "      <td>52392</td>\n",
       "      <td>2014-01-01</td>\n",
       "      <td>United States</td>\n",
       "      <td>2234</td>\n",
       "      <td>US6</td>\n",
       "      <td>Female</td>\n",
       "      <td>9.5</td>\n",
       "      <td>40</td>\n",
       "      <td>7.5</td>\n",
       "      <td>159.0</td>\n",
       "      <td>0.0</td>\n",
       "      <td>159.0</td>\n",
       "      <td>0.0</td>\n",
       "      <td>42.22</td>\n",
       "    </tr>\n",
       "    <tr>\n",
       "      <th>4</th>\n",
       "      <td>52393</td>\n",
       "      <td>2014-01-01</td>\n",
       "      <td>United Kingdom</td>\n",
       "      <td>2222</td>\n",
       "      <td>UK4</td>\n",
       "      <td>Female</td>\n",
       "      <td>9.0</td>\n",
       "      <td>39-40</td>\n",
       "      <td>7.0</td>\n",
       "      <td>159.0</td>\n",
       "      <td>0.0</td>\n",
       "      <td>159.0</td>\n",
       "      <td>0.0</td>\n",
       "      <td>40.00</td>\n",
       "    </tr>\n",
       "  </tbody>\n",
       "</table>\n",
       "</div>"
      ],
      "text/plain": [
       "   InvoiceNo       Date         Country  ProductID  Shop  Gender  Size (US)  \\\n",
       "0      52389 2014-01-01  United Kingdom       2152   UK2    Male       11.0   \n",
       "1      52390 2014-01-01   United States       2230  US15    Male       11.5   \n",
       "2      52391 2014-01-01          Canada       2160  CAN7    Male        9.5   \n",
       "3      52392 2014-01-01   United States       2234   US6  Female        9.5   \n",
       "4      52393 2014-01-01  United Kingdom       2222   UK4  Female        9.0   \n",
       "\n",
       "  Size (Europe)  Size (UK)  UnitPrice  Discount  SalePrice  Dif_Precio  \\\n",
       "0            44       10.5      159.0       0.0      159.0         0.0   \n",
       "1         44-45       11.0      199.0       0.2      159.2        39.8   \n",
       "2         42-43        9.0      149.0       0.2      119.2        29.8   \n",
       "3            40        7.5      159.0       0.0      159.0         0.0   \n",
       "4         39-40        7.0      159.0       0.0      159.0         0.0   \n",
       "\n",
       "   Size (LATAM)  \n",
       "0         48.89  \n",
       "1         51.11  \n",
       "2         42.22  \n",
       "3         42.22  \n",
       "4         40.00  "
      ]
     },
     "execution_count": 17,
     "metadata": {},
     "output_type": "execute_result"
    }
   ],
   "source": [
    "df1.head()"
   ]
  },
  {
   "cell_type": "code",
   "execution_count": 18,
   "metadata": {},
   "outputs": [
    {
     "data": {
      "image/png": "[encoded data removed]",
      "text/plain": [
       "<Figure size 600x600 with 1 Axes>"
      ]
     },
     "metadata": {},
     "output_type": "display_data"
    }
   ],
   "source": [
    "# Estilo del gráfico\n",
    "#sns.set_theme()\n",
    "sns.set_theme(style = 'whitegrid', font = 'Arial', font_scale = 1)\n",
    "fig, ax = plt.subplots(figsize=(6, 6))\n",
    "\n",
    "# Tipo de gráfico\n",
    "sns.scatterplot(data = df1, x = 'Size (UK)', y = 'Size (US)', hue = 'Gender')\n",
    "\n",
    "# Detalles adicionales\n",
    "plt.title(label = 'Tamaños disponibles',\n",
    "          loc = 'left', size = 11,\n",
    "          fontstyle = 'italic', fontweight = 'bold')\n",
    "#plt.xlabel(xlabel = None)\n",
    "#plt.ylabel(ylabel = 'Frecuencia', size = 11)\n",
    "#plt.tick_params(axis='both', labelsize = 11)\n",
    "#sns.despine(offset = 10, trim = False, bottom = False)\n",
    "plt.show()"
   ]
  },
  {
   "attachments": {},
   "cell_type": "markdown",
   "metadata": {},
   "source": [
    "### 6. Preguntas de análisis"
   ]
  },
  {
   "attachments": {},
   "cell_type": "markdown",
   "metadata": {},
   "source": [
    "**¿Cuánto cuesta en promedio un zapato para hombre en Estados Unidos?**\n",
    "\n",
    "El precio nominal de un par de zapatos en EEUU es de 163.03 dólares, pero si se adquieren con descuento el precio promedio sería 143.58 dólares."
   ]
  },
  {
   "cell_type": "code",
   "execution_count": 19,
   "metadata": {},
   "outputs": [
    {
     "data": {
      "text/html": [
       "<div>\n",
       "<style scoped>\n",
       "    .dataframe tbody tr th:only-of-type {\n",
       "        vertical-align: middle;\n",
       "    }\n",
       "\n",
       "    .dataframe tbody tr th {\n",
       "        vertical-align: top;\n",
       "    }\n",
       "\n",
       "    .dataframe thead th {\n",
       "        text-align: right;\n",
       "    }\n",
       "</style>\n",
       "<table border=\"1\" class=\"dataframe\">\n",
       "  <thead>\n",
       "    <tr style=\"text-align: right;\">\n",
       "      <th></th>\n",
       "      <th></th>\n",
       "      <th>UnitPrice</th>\n",
       "      <th>Discount</th>\n",
       "      <th>SalePrice</th>\n",
       "    </tr>\n",
       "    <tr>\n",
       "      <th>Gender</th>\n",
       "      <th>Country</th>\n",
       "      <th></th>\n",
       "      <th></th>\n",
       "      <th></th>\n",
       "    </tr>\n",
       "  </thead>\n",
       "  <tbody>\n",
       "    <tr>\n",
       "      <th rowspan=\"4\" valign=\"top\">Female</th>\n",
       "      <th>Canada</th>\n",
       "      <td>164.755968</td>\n",
       "      <td>0.114854</td>\n",
       "      <td>145.833687</td>\n",
       "    </tr>\n",
       "    <tr>\n",
       "      <th>Germany</th>\n",
       "      <td>164.603448</td>\n",
       "      <td>0.131379</td>\n",
       "      <td>143.005517</td>\n",
       "    </tr>\n",
       "    <tr>\n",
       "      <th>United Kingdom</th>\n",
       "      <td>164.619469</td>\n",
       "      <td>0.117699</td>\n",
       "      <td>145.626549</td>\n",
       "    </tr>\n",
       "    <tr>\n",
       "      <th>United States</th>\n",
       "      <td>164.114046</td>\n",
       "      <td>0.124130</td>\n",
       "      <td>143.927251</td>\n",
       "    </tr>\n",
       "    <tr>\n",
       "      <th rowspan=\"4\" valign=\"top\">Male</th>\n",
       "      <th>Canada</th>\n",
       "      <td>164.650741</td>\n",
       "      <td>0.131796</td>\n",
       "      <td>143.232290</td>\n",
       "    </tr>\n",
       "    <tr>\n",
       "      <th>Germany</th>\n",
       "      <td>163.875566</td>\n",
       "      <td>0.123416</td>\n",
       "      <td>143.948077</td>\n",
       "    </tr>\n",
       "    <tr>\n",
       "      <th>United Kingdom</th>\n",
       "      <td>166.252125</td>\n",
       "      <td>0.125496</td>\n",
       "      <td>145.428612</td>\n",
       "    </tr>\n",
       "    <tr>\n",
       "      <th>United States</th>\n",
       "      <td>163.030115</td>\n",
       "      <td>0.120283</td>\n",
       "      <td>143.579982</td>\n",
       "    </tr>\n",
       "  </tbody>\n",
       "</table>\n",
       "</div>"
      ],
      "text/plain": [
       "                        UnitPrice  Discount   SalePrice\n",
       "Gender Country                                         \n",
       "Female Canada          164.755968  0.114854  145.833687\n",
       "       Germany         164.603448  0.131379  143.005517\n",
       "       United Kingdom  164.619469  0.117699  145.626549\n",
       "       United States   164.114046  0.124130  143.927251\n",
       "Male   Canada          164.650741  0.131796  143.232290\n",
       "       Germany         163.875566  0.123416  143.948077\n",
       "       United Kingdom  166.252125  0.125496  145.428612\n",
       "       United States   163.030115  0.120283  143.579982"
      ]
     },
     "execution_count": 19,
     "metadata": {},
     "output_type": "execute_result"
    }
   ],
   "source": [
    "(df1.groupby(by = ['Gender','Country'], sort = True)\n",
    " .mean(numeric_only = True)[['UnitPrice','Discount','SalePrice']])"
   ]
  },
  {
   "attachments": {},
   "cell_type": "markdown",
   "metadata": {},
   "source": [
    "**¿En qué país se venden los zapatos más caros?**\n",
    "\n",
    "Los zapatos más caros tienen un precio de 199 $. Este precio de venta, no tinene descuento y se puede encontrar en los cuatro paises del dataset, sin embargo, EEUU tiene más registros de ventas respecto a los demás paises."
   ]
  },
  {
   "cell_type": "code",
   "execution_count": 20,
   "metadata": {},
   "outputs": [
    {
     "data": {
      "text/plain": [
       "199.0"
      ]
     },
     "execution_count": 20,
     "metadata": {},
     "output_type": "execute_result"
    }
   ],
   "source": [
    "df1['UnitPrice'].max()"
   ]
  },
  {
   "cell_type": "code",
   "execution_count": 21,
   "metadata": {},
   "outputs": [
    {
     "data": {
      "text/plain": [
       "United States     432\n",
       "Germany           288\n",
       "Canada            252\n",
       "United Kingdom    171\n",
       "Name: Country, dtype: int64"
      ]
     },
     "execution_count": 21,
     "metadata": {},
     "output_type": "execute_result"
    }
   ],
   "source": [
    "df1.loc[df1['SalePrice'] == df1['UnitPrice'].max(), 'Country'].value_counts()"
   ]
  },
  {
   "cell_type": "code",
   "execution_count": 22,
   "metadata": {},
   "outputs": [
    {
     "data": {
      "text/plain": [
       "0.0    1143\n",
       "Name: Discount, dtype: int64"
      ]
     },
     "execution_count": 22,
     "metadata": {},
     "output_type": "execute_result"
    }
   ],
   "source": [
    "df1.loc[df1['SalePrice'] == df1['UnitPrice'].max(), 'Discount'].value_counts()"
   ]
  },
  {
   "cell_type": "code",
   "execution_count": 23,
   "metadata": {},
   "outputs": [
    {
     "data": {
      "text/html": [
       "<div>\n",
       "<style scoped>\n",
       "    .dataframe tbody tr th:only-of-type {\n",
       "        vertical-align: middle;\n",
       "    }\n",
       "\n",
       "    .dataframe tbody tr th {\n",
       "        vertical-align: top;\n",
       "    }\n",
       "\n",
       "    .dataframe thead th {\n",
       "        text-align: right;\n",
       "    }\n",
       "</style>\n",
       "<table border=\"1\" class=\"dataframe\">\n",
       "  <thead>\n",
       "    <tr style=\"text-align: right;\">\n",
       "      <th></th>\n",
       "      <th></th>\n",
       "      <th>SalePrice</th>\n",
       "    </tr>\n",
       "    <tr>\n",
       "      <th>Gender</th>\n",
       "      <th>Country</th>\n",
       "      <th></th>\n",
       "    </tr>\n",
       "  </thead>\n",
       "  <tbody>\n",
       "    <tr>\n",
       "      <th rowspan=\"4\" valign=\"top\">Female</th>\n",
       "      <th>Canada</th>\n",
       "      <td>199.0</td>\n",
       "    </tr>\n",
       "    <tr>\n",
       "      <th>Germany</th>\n",
       "      <td>199.0</td>\n",
       "    </tr>\n",
       "    <tr>\n",
       "      <th>United Kingdom</th>\n",
       "      <td>199.0</td>\n",
       "    </tr>\n",
       "    <tr>\n",
       "      <th>United States</th>\n",
       "      <td>199.0</td>\n",
       "    </tr>\n",
       "    <tr>\n",
       "      <th rowspan=\"4\" valign=\"top\">Male</th>\n",
       "      <th>Canada</th>\n",
       "      <td>199.0</td>\n",
       "    </tr>\n",
       "    <tr>\n",
       "      <th>Germany</th>\n",
       "      <td>199.0</td>\n",
       "    </tr>\n",
       "    <tr>\n",
       "      <th>United Kingdom</th>\n",
       "      <td>199.0</td>\n",
       "    </tr>\n",
       "    <tr>\n",
       "      <th>United States</th>\n",
       "      <td>199.0</td>\n",
       "    </tr>\n",
       "  </tbody>\n",
       "</table>\n",
       "</div>"
      ],
      "text/plain": [
       "                       SalePrice\n",
       "Gender Country                  \n",
       "Female Canada              199.0\n",
       "       Germany             199.0\n",
       "       United Kingdom      199.0\n",
       "       United States       199.0\n",
       "Male   Canada              199.0\n",
       "       Germany             199.0\n",
       "       United Kingdom      199.0\n",
       "       United States       199.0"
      ]
     },
     "execution_count": 23,
     "metadata": {},
     "output_type": "execute_result"
    }
   ],
   "source": [
    "(df1.groupby(by = ['Gender','Country'], sort = True)\n",
    " .max(numeric_only = True)[['SalePrice']])"
   ]
  },
  {
   "attachments": {},
   "cell_type": "markdown",
   "metadata": {},
   "source": [
    "**¿En qué tienda (Variable Shop) se venden los zapatos más baratos?**"
   ]
  },
  {
   "cell_type": "code",
   "execution_count": 24,
   "metadata": {},
   "outputs": [
    {
     "data": {
      "text/plain": [
       "129.0"
      ]
     },
     "execution_count": 24,
     "metadata": {},
     "output_type": "execute_result"
    }
   ],
   "source": [
    "df1['UnitPrice'].min()"
   ]
  },
  {
   "cell_type": "code",
   "execution_count": 25,
   "metadata": {},
   "outputs": [
    {
     "data": {
      "text/plain": [
       "Country        Shop\n",
       "Germany        GER2    255\n",
       "               GER1    204\n",
       "United States  US12    135\n",
       "Canada         CAN6    111\n",
       "United States  US13    111\n",
       "dtype: int64"
      ]
     },
     "execution_count": 25,
     "metadata": {},
     "output_type": "execute_result"
    }
   ],
   "source": [
    "df1.loc[df1['UnitPrice'] == df1['UnitPrice'].min(),['Country','Shop']].value_counts().head()"
   ]
  },
  {
   "attachments": {},
   "cell_type": "markdown",
   "metadata": {},
   "source": [
    "**¿En qué fecha se hizo el descuento más alto en el Reino Unido?**\n",
    "\n",
    "El descuento más alto para el Reino Unido se llevó a cabo entre el 26/01/2014 y 17/12/2016"
   ]
  },
  {
   "cell_type": "code",
   "execution_count": 26,
   "metadata": {},
   "outputs": [
    {
     "data": {
      "text/plain": [
       "(Date   2014-01-26\n",
       " dtype: datetime64[ns],\n",
       " Date   2016-12-17\n",
       " dtype: datetime64[ns])"
      ]
     },
     "execution_count": 26,
     "metadata": {},
     "output_type": "execute_result"
    }
   ],
   "source": [
    "aux = df1.loc[(df1['Discount'] == df1['Discount'].max()) & (df1['Country'] == 'United Kingdom'),['Date']]\n",
    "(aux.min(), aux.max())"
   ]
  },
  {
   "cell_type": "markdown",
   "metadata": {},
   "source": [
    "**¿De qué talla americana (Variable Size(US)) es el zapato femenino más grande?**\n",
    "\n",
    "El zapato femenino más grade para mujer es 12"
   ]
  },
  {
   "cell_type": "code",
   "execution_count": 27,
   "metadata": {},
   "outputs": [
    {
     "data": {
      "text/plain": [
       "Size (US)    12.0\n",
       "dtype: float64"
      ]
     },
     "execution_count": 27,
     "metadata": {},
     "output_type": "execute_result"
    }
   ],
   "source": [
    "df1.loc[(df1['Gender'] == 'Female'),['Size (US)']].max()"
   ]
  },
  {
   "cell_type": "markdown",
   "metadata": {},
   "source": [
    "**¿En qué país se han hecho más descuentos?**\n",
    "\n",
    "Se hicieron más decuentos en EEUU"
   ]
  },
  {
   "cell_type": "code",
   "execution_count": 28,
   "metadata": {},
   "outputs": [
    {
     "data": {
      "text/html": [
       "<div>\n",
       "<style scoped>\n",
       "    .dataframe tbody tr th:only-of-type {\n",
       "        vertical-align: middle;\n",
       "    }\n",
       "\n",
       "    .dataframe tbody tr th {\n",
       "        vertical-align: top;\n",
       "    }\n",
       "\n",
       "    .dataframe thead th {\n",
       "        text-align: right;\n",
       "    }\n",
       "</style>\n",
       "<table border=\"1\" class=\"dataframe\">\n",
       "  <thead>\n",
       "    <tr style=\"text-align: right;\">\n",
       "      <th></th>\n",
       "      <th>InvoiceNo</th>\n",
       "      <th>Date</th>\n",
       "      <th>Country</th>\n",
       "      <th>ProductID</th>\n",
       "      <th>Shop</th>\n",
       "      <th>Gender</th>\n",
       "      <th>Size (US)</th>\n",
       "      <th>Size (Europe)</th>\n",
       "      <th>Size (UK)</th>\n",
       "      <th>UnitPrice</th>\n",
       "      <th>Discount</th>\n",
       "      <th>SalePrice</th>\n",
       "      <th>Dif_Precio</th>\n",
       "      <th>Size (LATAM)</th>\n",
       "    </tr>\n",
       "  </thead>\n",
       "  <tbody>\n",
       "    <tr>\n",
       "      <th>0</th>\n",
       "      <td>52389</td>\n",
       "      <td>2014-01-01</td>\n",
       "      <td>United Kingdom</td>\n",
       "      <td>2152</td>\n",
       "      <td>UK2</td>\n",
       "      <td>Male</td>\n",
       "      <td>11.0</td>\n",
       "      <td>44</td>\n",
       "      <td>10.5</td>\n",
       "      <td>159.0</td>\n",
       "      <td>0.0</td>\n",
       "      <td>159.0</td>\n",
       "      <td>0.0</td>\n",
       "      <td>48.89</td>\n",
       "    </tr>\n",
       "    <tr>\n",
       "      <th>1</th>\n",
       "      <td>52390</td>\n",
       "      <td>2014-01-01</td>\n",
       "      <td>United States</td>\n",
       "      <td>2230</td>\n",
       "      <td>US15</td>\n",
       "      <td>Male</td>\n",
       "      <td>11.5</td>\n",
       "      <td>44-45</td>\n",
       "      <td>11.0</td>\n",
       "      <td>199.0</td>\n",
       "      <td>0.2</td>\n",
       "      <td>159.2</td>\n",
       "      <td>39.8</td>\n",
       "      <td>51.11</td>\n",
       "    </tr>\n",
       "    <tr>\n",
       "      <th>2</th>\n",
       "      <td>52391</td>\n",
       "      <td>2014-01-01</td>\n",
       "      <td>Canada</td>\n",
       "      <td>2160</td>\n",
       "      <td>CAN7</td>\n",
       "      <td>Male</td>\n",
       "      <td>9.5</td>\n",
       "      <td>42-43</td>\n",
       "      <td>9.0</td>\n",
       "      <td>149.0</td>\n",
       "      <td>0.2</td>\n",
       "      <td>119.2</td>\n",
       "      <td>29.8</td>\n",
       "      <td>42.22</td>\n",
       "    </tr>\n",
       "    <tr>\n",
       "      <th>3</th>\n",
       "      <td>52392</td>\n",
       "      <td>2014-01-01</td>\n",
       "      <td>United States</td>\n",
       "      <td>2234</td>\n",
       "      <td>US6</td>\n",
       "      <td>Female</td>\n",
       "      <td>9.5</td>\n",
       "      <td>40</td>\n",
       "      <td>7.5</td>\n",
       "      <td>159.0</td>\n",
       "      <td>0.0</td>\n",
       "      <td>159.0</td>\n",
       "      <td>0.0</td>\n",
       "      <td>42.22</td>\n",
       "    </tr>\n",
       "    <tr>\n",
       "      <th>4</th>\n",
       "      <td>52393</td>\n",
       "      <td>2014-01-01</td>\n",
       "      <td>United Kingdom</td>\n",
       "      <td>2222</td>\n",
       "      <td>UK4</td>\n",
       "      <td>Female</td>\n",
       "      <td>9.0</td>\n",
       "      <td>39-40</td>\n",
       "      <td>7.0</td>\n",
       "      <td>159.0</td>\n",
       "      <td>0.0</td>\n",
       "      <td>159.0</td>\n",
       "      <td>0.0</td>\n",
       "      <td>40.00</td>\n",
       "    </tr>\n",
       "  </tbody>\n",
       "</table>\n",
       "</div>"
      ],
      "text/plain": [
       "   InvoiceNo       Date         Country  ProductID  Shop  Gender  Size (US)  \\\n",
       "0      52389 2014-01-01  United Kingdom       2152   UK2    Male       11.0   \n",
       "1      52390 2014-01-01   United States       2230  US15    Male       11.5   \n",
       "2      52391 2014-01-01          Canada       2160  CAN7    Male        9.5   \n",
       "3      52392 2014-01-01   United States       2234   US6  Female        9.5   \n",
       "4      52393 2014-01-01  United Kingdom       2222   UK4  Female        9.0   \n",
       "\n",
       "  Size (Europe)  Size (UK)  UnitPrice  Discount  SalePrice  Dif_Precio  \\\n",
       "0            44       10.5      159.0       0.0      159.0         0.0   \n",
       "1         44-45       11.0      199.0       0.2      159.2        39.8   \n",
       "2         42-43        9.0      149.0       0.2      119.2        29.8   \n",
       "3            40        7.5      159.0       0.0      159.0         0.0   \n",
       "4         39-40        7.0      159.0       0.0      159.0         0.0   \n",
       "\n",
       "   Size (LATAM)  \n",
       "0         48.89  \n",
       "1         51.11  \n",
       "2         42.22  \n",
       "3         42.22  \n",
       "4         40.00  "
      ]
     },
     "execution_count": 28,
     "metadata": {},
     "output_type": "execute_result"
    }
   ],
   "source": [
    "df1.head()"
   ]
  },
  {
   "cell_type": "code",
   "execution_count": 29,
   "metadata": {},
   "outputs": [
    {
     "data": {
      "text/plain": [
       "Country\n",
       "United States     74834.58\n",
       "Germany           57727.89\n",
       "Canada            38768.55\n",
       "United Kingdom    22973.55\n",
       "Name: Discount_m, dtype: float64"
      ]
     },
     "execution_count": 29,
     "metadata": {},
     "output_type": "execute_result"
    }
   ],
   "source": [
    "# Creando una nueva columna\n",
    "df2 = df1.copy()\n",
    "df2['Discount_m'] = df2['SalePrice']*df2['Discount']\n",
    "df2.groupby(by = ['Country']).sum(numeric_only = True)['Discount_m'].sort_values(ascending = False)"
   ]
  },
  {
   "cell_type": "code",
   "execution_count": 30,
   "metadata": {},
   "outputs": [
    {
     "data": {
      "text/plain": [
       "74834.57999999993"
      ]
     },
     "execution_count": 30,
     "metadata": {},
     "output_type": "execute_result"
    }
   ],
   "source": [
    "# SIn crear una nueva columna\n",
    "aux = df1.loc[df1['Country'] == 'United States']\n",
    "sum(aux['SalePrice']*aux['Discount'])"
   ]
  },
  {
   "attachments": {},
   "cell_type": "markdown",
   "metadata": {},
   "source": [
    "**Basándose solo en el precio (Sale Price), ¿en qué país prefería comprar una mujer que calza talla 6.5 americana?**\n",
    "\n",
    "SI se toma la media como un decisor, es más recomendable comprar en EEUU. Si tomamos el valor mínimo, es mejor en Canadá."
   ]
  },
  {
   "cell_type": "code",
   "execution_count": 31,
   "metadata": {},
   "outputs": [
    {
     "data": {
      "text/plain": [
       "Country\n",
       "United States     133.945161\n",
       "Germany           139.825000\n",
       "Canada            142.388235\n",
       "United Kingdom    150.475000\n",
       "Name: SalePrice, dtype: float64"
      ]
     },
     "execution_count": 31,
     "metadata": {},
     "output_type": "execute_result"
    }
   ],
   "source": [
    "(df1.loc[(df1['Size (US)']== 6.5) & (df1['Gender'] == 'Female')]\n",
    " .groupby(by = ['Country'])\n",
    " .mean(numeric_only= True)['SalePrice']\n",
    " .sort_values(ascending = True))"
   ]
  },
  {
   "cell_type": "code",
   "execution_count": 32,
   "metadata": {},
   "outputs": [
    {
     "data": {
      "text/plain": [
       "Country\n",
       "Canada            64.5\n",
       "Germany           74.5\n",
       "United States     74.5\n",
       "United Kingdom    97.3\n",
       "Name: SalePrice, dtype: float64"
      ]
     },
     "execution_count": 32,
     "metadata": {},
     "output_type": "execute_result"
    }
   ],
   "source": [
    "(df1.loc[(df1['Size (US)']== 6.5) & (df1['Gender'] == 'Female')]\n",
    " .groupby(by = ['Country'])\n",
    " .min(numeric_only= True)['SalePrice']\n",
    " .sort_values(ascending = True))"
   ]
  },
  {
   "attachments": {},
   "cell_type": "markdown",
   "metadata": {},
   "source": [
    "**Gráficas de la evolución de ventas en cada país e interprete el mercado que tiene mejor perspectiva de ventas.**"
   ]
  },
  {
   "cell_type": "code",
   "execution_count": 33,
   "metadata": {},
   "outputs": [
    {
     "data": {
      "image/png": "[encoded data removed]",
      "text/plain": [
       "<Figure size 1000x600 with 1 Axes>"
      ]
     },
     "metadata": {},
     "output_type": "display_data"
    }
   ],
   "source": [
    "sns.set_theme(style = 'darkgrid')\n",
    "fig, ax = plt.subplots(figsize=(10, 6))\n",
    "\n",
    "df3 = df1.copy()\n",
    "for i in df3['Country'].unique().tolist():\n",
    "    aux = df3.copy().loc[df3['Country'] == i]\n",
    "    aux = aux.set_index('Date')\n",
    "    aux = aux.resample(rule = 'M').sum(numeric_only = True)\n",
    "    sns.lineplot(data = aux, x = 'Date', y = 'SalePrice', label = i,\n",
    "                 marker = \".\", linestyle = 'solid', markersize = 10)\n",
    "\n",
    "ax.legend()\n",
    "plt.title(label = 'Evolución de ventas', loc = 'left', size = 12, fontstyle = 'italic', fontweight = 'bold')\n",
    "plt.xlabel(xlabel = None)\n",
    "plt.ylabel(ylabel = 'Precio de venta', size = 12)\n",
    "plt.show()"
   ]
  },
  {
   "cell_type": "code",
   "execution_count": 34,
   "metadata": {},
   "outputs": [
    {
     "data": {
      "image/png": "[encoded data removed]",
      "text/plain": [
       "<Figure size 1000x600 with 1 Axes>"
      ]
     },
     "metadata": {},
     "output_type": "display_data"
    }
   ],
   "source": [
    "sns.set_theme(style = 'whitegrid')\n",
    "fig, ax = plt.subplots(figsize=(10, 6))\n",
    "\n",
    "df3 = df1.copy()\n",
    "for i in df3['Country'].unique().tolist():\n",
    "    aux = df3.copy().loc[df3['Country'] == i]\n",
    "    aux = aux.set_index('Date')\n",
    "    aux = aux.resample(rule = 'M').sum(numeric_only = True)\n",
    "    sns.lineplot(data = aux, x = 'Date', y = 'SalePrice', label = i,\n",
    "                 marker = \"o\", linestyle = 'dashed', markersize = 7)\n",
    "\n",
    "ax.legend()\n",
    "plt.title(label = 'Evolución de ventas', loc = 'left', size = 12, fontstyle = 'italic', fontweight = 'bold')\n",
    "plt.xlabel(xlabel = None)\n",
    "plt.ylabel(ylabel = 'Precio de venta', size = 12)\n",
    "plt.show()"
   ]
  },
  {
   "cell_type": "code",
   "execution_count": 35,
   "metadata": {},
   "outputs": [
    {
     "data": {
      "text/html": [
       "<div>\n",
       "<style scoped>\n",
       "    .dataframe tbody tr th:only-of-type {\n",
       "        vertical-align: middle;\n",
       "    }\n",
       "\n",
       "    .dataframe tbody tr th {\n",
       "        vertical-align: top;\n",
       "    }\n",
       "\n",
       "    .dataframe thead tr th {\n",
       "        text-align: left;\n",
       "    }\n",
       "\n",
       "    .dataframe thead tr:last-of-type th {\n",
       "        text-align: right;\n",
       "    }\n",
       "</style>\n",
       "<table border=\"1\" class=\"dataframe\">\n",
       "  <thead>\n",
       "    <tr>\n",
       "      <th></th>\n",
       "      <th></th>\n",
       "      <th colspan=\"4\" halign=\"left\">SalePrice</th>\n",
       "    </tr>\n",
       "    <tr>\n",
       "      <th></th>\n",
       "      <th>Country</th>\n",
       "      <th>Canada</th>\n",
       "      <th>Germany</th>\n",
       "      <th>United Kingdom</th>\n",
       "      <th>United States</th>\n",
       "    </tr>\n",
       "    <tr>\n",
       "      <th>year</th>\n",
       "      <th>month</th>\n",
       "      <th></th>\n",
       "      <th></th>\n",
       "      <th></th>\n",
       "      <th></th>\n",
       "    </tr>\n",
       "  </thead>\n",
       "  <tbody>\n",
       "    <tr>\n",
       "      <th rowspan=\"12\" valign=\"top\">2014</th>\n",
       "      <th>1</th>\n",
       "      <td>5895.7</td>\n",
       "      <td>6931.7</td>\n",
       "      <td>2924.9</td>\n",
       "      <td>15500.0</td>\n",
       "    </tr>\n",
       "    <tr>\n",
       "      <th>2</th>\n",
       "      <td>5358.4</td>\n",
       "      <td>5982.3</td>\n",
       "      <td>5122.5</td>\n",
       "      <td>13149.3</td>\n",
       "    </tr>\n",
       "    <tr>\n",
       "      <th>3</th>\n",
       "      <td>7481.1</td>\n",
       "      <td>6999.9</td>\n",
       "      <td>5065.8</td>\n",
       "      <td>13570.2</td>\n",
       "    </tr>\n",
       "    <tr>\n",
       "      <th>4</th>\n",
       "      <td>10273.6</td>\n",
       "      <td>10132.4</td>\n",
       "      <td>3348.1</td>\n",
       "      <td>13043.9</td>\n",
       "    </tr>\n",
       "    <tr>\n",
       "      <th>5</th>\n",
       "      <td>7682.2</td>\n",
       "      <td>10310.0</td>\n",
       "      <td>5195.1</td>\n",
       "      <td>11021.5</td>\n",
       "    </tr>\n",
       "    <tr>\n",
       "      <th>6</th>\n",
       "      <td>6870.8</td>\n",
       "      <td>10260.6</td>\n",
       "      <td>3667.6</td>\n",
       "      <td>12349.4</td>\n",
       "    </tr>\n",
       "    <tr>\n",
       "      <th>7</th>\n",
       "      <td>7946.3</td>\n",
       "      <td>8584.5</td>\n",
       "      <td>4027.6</td>\n",
       "      <td>11039.4</td>\n",
       "    </tr>\n",
       "    <tr>\n",
       "      <th>8</th>\n",
       "      <td>8095.1</td>\n",
       "      <td>9219.0</td>\n",
       "      <td>7301.9</td>\n",
       "      <td>9328.3</td>\n",
       "    </tr>\n",
       "    <tr>\n",
       "      <th>9</th>\n",
       "      <td>6810.4</td>\n",
       "      <td>8987.1</td>\n",
       "      <td>5024.5</td>\n",
       "      <td>14740.4</td>\n",
       "    </tr>\n",
       "    <tr>\n",
       "      <th>10</th>\n",
       "      <td>8765.5</td>\n",
       "      <td>10630.7</td>\n",
       "      <td>5945.4</td>\n",
       "      <td>14316.8</td>\n",
       "    </tr>\n",
       "    <tr>\n",
       "      <th>11</th>\n",
       "      <td>5733.0</td>\n",
       "      <td>5614.7</td>\n",
       "      <td>5153.1</td>\n",
       "      <td>9908.3</td>\n",
       "    </tr>\n",
       "    <tr>\n",
       "      <th>12</th>\n",
       "      <td>6774.5</td>\n",
       "      <td>8955.9</td>\n",
       "      <td>3803.6</td>\n",
       "      <td>11721.6</td>\n",
       "    </tr>\n",
       "    <tr>\n",
       "      <th rowspan=\"12\" valign=\"top\">2015</th>\n",
       "      <th>1</th>\n",
       "      <td>7806.3</td>\n",
       "      <td>17779.9</td>\n",
       "      <td>3630.0</td>\n",
       "      <td>15589.5</td>\n",
       "    </tr>\n",
       "    <tr>\n",
       "      <th>2</th>\n",
       "      <td>8810.9</td>\n",
       "      <td>13000.6</td>\n",
       "      <td>3295.8</td>\n",
       "      <td>19036.8</td>\n",
       "    </tr>\n",
       "    <tr>\n",
       "      <th>3</th>\n",
       "      <td>8777.3</td>\n",
       "      <td>17065.2</td>\n",
       "      <td>4133.8</td>\n",
       "      <td>18260.3</td>\n",
       "    </tr>\n",
       "    <tr>\n",
       "      <th>4</th>\n",
       "      <td>11201.1</td>\n",
       "      <td>12439.8</td>\n",
       "      <td>6066.0</td>\n",
       "      <td>16916.8</td>\n",
       "    </tr>\n",
       "    <tr>\n",
       "      <th>5</th>\n",
       "      <td>11654.7</td>\n",
       "      <td>15588.3</td>\n",
       "      <td>5633.9</td>\n",
       "      <td>24107.7</td>\n",
       "    </tr>\n",
       "    <tr>\n",
       "      <th>6</th>\n",
       "      <td>14441.3</td>\n",
       "      <td>21049.7</td>\n",
       "      <td>4876.1</td>\n",
       "      <td>28335.3</td>\n",
       "    </tr>\n",
       "    <tr>\n",
       "      <th>7</th>\n",
       "      <td>11866.5</td>\n",
       "      <td>20813.8</td>\n",
       "      <td>3622.4</td>\n",
       "      <td>28760.9</td>\n",
       "    </tr>\n",
       "    <tr>\n",
       "      <th>8</th>\n",
       "      <td>15707.0</td>\n",
       "      <td>17901.4</td>\n",
       "      <td>5664.1</td>\n",
       "      <td>25484.0</td>\n",
       "    </tr>\n",
       "    <tr>\n",
       "      <th>9</th>\n",
       "      <td>10669.4</td>\n",
       "      <td>20410.9</td>\n",
       "      <td>6476.7</td>\n",
       "      <td>26430.7</td>\n",
       "    </tr>\n",
       "    <tr>\n",
       "      <th>10</th>\n",
       "      <td>13379.6</td>\n",
       "      <td>21431.6</td>\n",
       "      <td>7813.6</td>\n",
       "      <td>26586.0</td>\n",
       "    </tr>\n",
       "    <tr>\n",
       "      <th>11</th>\n",
       "      <td>11514.4</td>\n",
       "      <td>19941.2</td>\n",
       "      <td>6746.4</td>\n",
       "      <td>26349.4</td>\n",
       "    </tr>\n",
       "    <tr>\n",
       "      <th>12</th>\n",
       "      <td>15810.4</td>\n",
       "      <td>20893.0</td>\n",
       "      <td>6222.0</td>\n",
       "      <td>24221.7</td>\n",
       "    </tr>\n",
       "    <tr>\n",
       "      <th rowspan=\"12\" valign=\"top\">2016</th>\n",
       "      <th>1</th>\n",
       "      <td>13341.3</td>\n",
       "      <td>23900.6</td>\n",
       "      <td>12106.5</td>\n",
       "      <td>27586.4</td>\n",
       "    </tr>\n",
       "    <tr>\n",
       "      <th>2</th>\n",
       "      <td>17887.7</td>\n",
       "      <td>20895.4</td>\n",
       "      <td>6983.0</td>\n",
       "      <td>32053.5</td>\n",
       "    </tr>\n",
       "    <tr>\n",
       "      <th>3</th>\n",
       "      <td>13954.7</td>\n",
       "      <td>18835.7</td>\n",
       "      <td>12856.1</td>\n",
       "      <td>29948.0</td>\n",
       "    </tr>\n",
       "    <tr>\n",
       "      <th>4</th>\n",
       "      <td>20308.3</td>\n",
       "      <td>26267.7</td>\n",
       "      <td>13819.7</td>\n",
       "      <td>27510.3</td>\n",
       "    </tr>\n",
       "    <tr>\n",
       "      <th>5</th>\n",
       "      <td>16199.0</td>\n",
       "      <td>23689.8</td>\n",
       "      <td>10678.4</td>\n",
       "      <td>38927.5</td>\n",
       "    </tr>\n",
       "    <tr>\n",
       "      <th>6</th>\n",
       "      <td>18968.3</td>\n",
       "      <td>30719.1</td>\n",
       "      <td>11306.9</td>\n",
       "      <td>38204.0</td>\n",
       "    </tr>\n",
       "    <tr>\n",
       "      <th>7</th>\n",
       "      <td>16983.7</td>\n",
       "      <td>34568.1</td>\n",
       "      <td>12081.0</td>\n",
       "      <td>42768.8</td>\n",
       "    </tr>\n",
       "    <tr>\n",
       "      <th>8</th>\n",
       "      <td>20432.9</td>\n",
       "      <td>25953.9</td>\n",
       "      <td>14110.3</td>\n",
       "      <td>40129.3</td>\n",
       "    </tr>\n",
       "    <tr>\n",
       "      <th>9</th>\n",
       "      <td>18128.0</td>\n",
       "      <td>29998.9</td>\n",
       "      <td>12234.4</td>\n",
       "      <td>38911.8</td>\n",
       "    </tr>\n",
       "    <tr>\n",
       "      <th>10</th>\n",
       "      <td>15212.9</td>\n",
       "      <td>29883.7</td>\n",
       "      <td>9415.4</td>\n",
       "      <td>46003.6</td>\n",
       "    </tr>\n",
       "    <tr>\n",
       "      <th>11</th>\n",
       "      <td>11647.1</td>\n",
       "      <td>24125.5</td>\n",
       "      <td>9011.2</td>\n",
       "      <td>29620.2</td>\n",
       "    </tr>\n",
       "    <tr>\n",
       "      <th>12</th>\n",
       "      <td>13374.5</td>\n",
       "      <td>20817.3</td>\n",
       "      <td>7379.9</td>\n",
       "      <td>24548.0</td>\n",
       "    </tr>\n",
       "  </tbody>\n",
       "</table>\n",
       "</div>"
      ],
      "text/plain": [
       "           SalePrice                                      \n",
       "Country       Canada  Germany United Kingdom United States\n",
       "year month                                                \n",
       "2014 1        5895.7   6931.7         2924.9       15500.0\n",
       "     2        5358.4   5982.3         5122.5       13149.3\n",
       "     3        7481.1   6999.9         5065.8       13570.2\n",
       "     4       10273.6  10132.4         3348.1       13043.9\n",
       "     5        7682.2  10310.0         5195.1       11021.5\n",
       "     6        6870.8  10260.6         3667.6       12349.4\n",
       "     7        7946.3   8584.5         4027.6       11039.4\n",
       "     8        8095.1   9219.0         7301.9        9328.3\n",
       "     9        6810.4   8987.1         5024.5       14740.4\n",
       "     10       8765.5  10630.7         5945.4       14316.8\n",
       "     11       5733.0   5614.7         5153.1        9908.3\n",
       "     12       6774.5   8955.9         3803.6       11721.6\n",
       "2015 1        7806.3  17779.9         3630.0       15589.5\n",
       "     2        8810.9  13000.6         3295.8       19036.8\n",
       "     3        8777.3  17065.2         4133.8       18260.3\n",
       "     4       11201.1  12439.8         6066.0       16916.8\n",
       "     5       11654.7  15588.3         5633.9       24107.7\n",
       "     6       14441.3  21049.7         4876.1       28335.3\n",
       "     7       11866.5  20813.8         3622.4       28760.9\n",
       "     8       15707.0  17901.4         5664.1       25484.0\n",
       "     9       10669.4  20410.9         6476.7       26430.7\n",
       "     10      13379.6  21431.6         7813.6       26586.0\n",
       "     11      11514.4  19941.2         6746.4       26349.4\n",
       "     12      15810.4  20893.0         6222.0       24221.7\n",
       "2016 1       13341.3  23900.6        12106.5       27586.4\n",
       "     2       17887.7  20895.4         6983.0       32053.5\n",
       "     3       13954.7  18835.7        12856.1       29948.0\n",
       "     4       20308.3  26267.7        13819.7       27510.3\n",
       "     5       16199.0  23689.8        10678.4       38927.5\n",
       "     6       18968.3  30719.1        11306.9       38204.0\n",
       "     7       16983.7  34568.1        12081.0       42768.8\n",
       "     8       20432.9  25953.9        14110.3       40129.3\n",
       "     9       18128.0  29998.9        12234.4       38911.8\n",
       "     10      15212.9  29883.7         9415.4       46003.6\n",
       "     11      11647.1  24125.5         9011.2       29620.2\n",
       "     12      13374.5  20817.3         7379.9       24548.0"
      ]
     },
     "execution_count": 35,
     "metadata": {},
     "output_type": "execute_result"
    }
   ],
   "source": [
    "df3 = df1.copy()\n",
    "df3['year'] = pd.DatetimeIndex(df1['Date']).year\n",
    "df3['month'] = pd.DatetimeIndex(df1['Date']).month\n",
    "\n",
    "df3 = pd.pivot_table(df3, index = ['year','month'],\n",
    "                       values = ['SalePrice'],\n",
    "                       columns = ['Country'],\n",
    "                       aggfunc = np.sum)\n",
    "df3"
   ]
  }
 ],
 "metadata": {
  "kernelspec": {
   "display_name": "DS-Env",
   "language": "python",
   "name": "python3"
  },
  "language_info": {
   "codemirror_mode": {
    "name": "ipython",
    "version": 3
   },
   "file_extension": ".py",
   "mimetype": "text/x-python",
   "name": "python",
   "nbconvert_exporter": "python",
   "pygments_lexer": "ipython3",
   "version": "3.9.16"
  },
  "orig_nbformat": 4
 },
 "nbformat": 4,
 "nbformat_minor": 2
}
